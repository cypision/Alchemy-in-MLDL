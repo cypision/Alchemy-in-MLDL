{
 "cells": [
  {
   "cell_type": "markdown",
   "metadata": {},
   "source": [
    "Keras 를 활용해서, kaggle 의 유명한 예제인 Fraud_Detection 을 해보자.\n"
   ]
  },
  {
   "cell_type": "markdown",
   "metadata": {},
   "source": [
    "[참고주소 Medium](https://medium.com/@curiousily/credit-card-fraud-detection-using-autoencoders-in-keras-tensorflow-for-hackers-part-vii-20e0c85301bd)  \n",
    "[Venelin Valkov github original](https://github.com/curiousily/Credit-Card-Fraud-Detection-using-Autoencoders-in-Keras/blob/master/fraud_detection.ipynb)"
   ]
  },
  {
   "cell_type": "code",
   "execution_count": 1,
   "metadata": {},
   "outputs": [],
   "source": [
    "import pandas as pd\n",
    "import numpy as np\n",
    "import pickle\n",
    "import matplotlib.pyplot as plt\n",
    "from scipy import stats"
   ]
  },
  {
   "cell_type": "code",
   "execution_count": 2,
   "metadata": {},
   "outputs": [
    {
     "name": "stderr",
     "output_type": "stream",
     "text": [
      "Using TensorFlow backend.\n"
     ]
    }
   ],
   "source": [
    "## local PC 에서, gpu 메모리를 다른 프로세서가 선점하고 있을때, 다시 설정해주는 코드임\n",
    "import tensorflow as tf\n",
    "from keras.backend import tensorflow_backend as K\n",
    "config = tf.ConfigProto()\n",
    "config.gpu_options.allow_growth = True\n",
    "K.set_session(tf.Session(config=config))"
   ]
  },
  {
   "cell_type": "code",
   "execution_count": 3,
   "metadata": {},
   "outputs": [],
   "source": [
    "import seaborn as sns\n",
    "from pylab import rcParams\n",
    "from sklearn.model_selection import train_test_split\n",
    "from keras.models import Model, load_model\n",
    "from keras.layers import Input, Dense\n",
    "from keras.callbacks import ModelCheckpoint, TensorBoard\n",
    "from keras import regularizers\n",
    "%matplotlib inline\n",
    "sns.set(style='whitegrid', palette='muted', font_scale=1.5)\n",
    "rcParams['figure.figsize'] = 14, 8\n",
    "RANDOM_SEED = 42\n",
    "LABELS = [\"Normal\", \"Fraud\"]"
   ]
  },
  {
   "cell_type": "code",
   "execution_count": 4,
   "metadata": {},
   "outputs": [],
   "source": [
    "df = pd.read_csv(\"D:/★2020_ML_DL_Project/Alchemy/dataset/creditcard.csv\")"
   ]
  },
  {
   "cell_type": "code",
   "execution_count": 5,
   "metadata": {},
   "outputs": [
    {
     "data": {
      "text/plain": [
       "(284807, 31)"
      ]
     },
     "execution_count": 5,
     "metadata": {},
     "output_type": "execute_result"
    }
   ],
   "source": [
    "df.shape"
   ]
  },
  {
   "cell_type": "markdown",
   "metadata": {},
   "source": [
    "##### null 값 체크"
   ]
  },
  {
   "cell_type": "code",
   "execution_count": 6,
   "metadata": {},
   "outputs": [
    {
     "data": {
      "text/plain": [
       "False"
      ]
     },
     "execution_count": 6,
     "metadata": {},
     "output_type": "execute_result"
    }
   ],
   "source": [
    "df.columns.isnull().any()"
   ]
  },
  {
   "cell_type": "code",
   "execution_count": 7,
   "metadata": {},
   "outputs": [
    {
     "data": {
      "text/plain": [
       "False"
      ]
     },
     "execution_count": 7,
     "metadata": {},
     "output_type": "execute_result"
    }
   ],
   "source": [
    "df.isnull().values.any()"
   ]
  },
  {
   "cell_type": "code",
   "execution_count": 8,
   "metadata": {},
   "outputs": [
    {
     "data": {
      "image/png": "[encoded data removed]",
      "text/plain": [
       "<Figure size 1008x576 with 1 Axes>"
      ]
     },
     "metadata": {},
     "output_type": "display_data"
    }
   ],
   "source": [
    "count_classes = pd.value_counts(df['Class'], sort = True)\n",
    "count_classes.plot(kind = 'bar', rot=0)\n",
    "plt.title(\"Transaction class distribution\")\n",
    "plt.xticks(range(2), LABELS)\n",
    "plt.xlabel(\"Class\")\n",
    "plt.ylabel(\"Frequency\");"
   ]
  },
  {
   "cell_type": "markdown",
   "metadata": {},
   "source": [
    "전형적인 불균형 imbalanced data 양상을 보이고 있다.\n",
    "99.9 % vs 0.1 % 임"
   ]
  },
  {
   "cell_type": "code",
   "execution_count": 9,
   "metadata": {},
   "outputs": [
    {
     "name": "stdout",
     "output_type": "stream",
     "text": [
      "0    284315\n",
      "1       492\n",
      "Name: Class, dtype: int64\n",
      "0    99.827251\n",
      "1     0.172749\n",
      "Name: Class, dtype: float64\n"
     ]
    }
   ],
   "source": [
    "print(df.Class.value_counts())\n",
    "print((df.Class.value_counts()/df.Class.count())*100)"
   ]
  },
  {
   "cell_type": "code",
   "execution_count": 10,
   "metadata": {},
   "outputs": [
    {
     "data": {
      "text/html": [
       "<div>\n",
       "<style scoped>\n",
       "    .dataframe tbody tr th:only-of-type {\n",
       "        vertical-align: middle;\n",
       "    }\n",
       "\n",
       "    .dataframe tbody tr th {\n",
       "        vertical-align: top;\n",
       "    }\n",
       "\n",
       "    .dataframe thead th {\n",
       "        text-align: right;\n",
       "    }\n",
       "</style>\n",
       "<table border=\"1\" class=\"dataframe\">\n",
       "  <thead>\n",
       "    <tr style=\"text-align: right;\">\n",
       "      <th></th>\n",
       "      <th>Amount</th>\n",
       "      <th>Amount</th>\n",
       "    </tr>\n",
       "  </thead>\n",
       "  <tbody>\n",
       "    <tr>\n",
       "      <th>count</th>\n",
       "      <td>492.000000</td>\n",
       "      <td>284315.000000</td>\n",
       "    </tr>\n",
       "    <tr>\n",
       "      <th>mean</th>\n",
       "      <td>122.211321</td>\n",
       "      <td>88.291022</td>\n",
       "    </tr>\n",
       "    <tr>\n",
       "      <th>std</th>\n",
       "      <td>256.683288</td>\n",
       "      <td>250.105092</td>\n",
       "    </tr>\n",
       "    <tr>\n",
       "      <th>min</th>\n",
       "      <td>0.000000</td>\n",
       "      <td>0.000000</td>\n",
       "    </tr>\n",
       "    <tr>\n",
       "      <th>25%</th>\n",
       "      <td>1.000000</td>\n",
       "      <td>5.650000</td>\n",
       "    </tr>\n",
       "    <tr>\n",
       "      <th>50%</th>\n",
       "      <td>9.250000</td>\n",
       "      <td>22.000000</td>\n",
       "    </tr>\n",
       "    <tr>\n",
       "      <th>75%</th>\n",
       "      <td>105.890000</td>\n",
       "      <td>77.050000</td>\n",
       "    </tr>\n",
       "    <tr>\n",
       "      <th>max</th>\n",
       "      <td>2125.870000</td>\n",
       "      <td>25691.160000</td>\n",
       "    </tr>\n",
       "  </tbody>\n",
       "</table>\n",
       "</div>"
      ],
      "text/plain": [
       "            Amount         Amount\n",
       "count   492.000000  284315.000000\n",
       "mean    122.211321      88.291022\n",
       "std     256.683288     250.105092\n",
       "min       0.000000       0.000000\n",
       "25%       1.000000       5.650000\n",
       "50%       9.250000      22.000000\n",
       "75%     105.890000      77.050000\n",
       "max    2125.870000   25691.160000"
      ]
     },
     "execution_count": 10,
     "metadata": {},
     "output_type": "execute_result"
    }
   ],
   "source": [
    "frauds = df[df.Class == 1]\n",
    "normal = df[df.Class == 0]\n",
    "\n",
    "pd.concat([frauds.Amount.describe(),normal.Amount.describe()],axis=1,names=['fraud','normal'])"
   ]
  },
  {
   "cell_type": "markdown",
   "metadata": {},
   "source": [
    "데이터는 게다가, 모두 float64 (숫자형데이터)이며, 그중 특이하게 Time 데이터가 있다."
   ]
  },
  {
   "cell_type": "code",
   "execution_count": 11,
   "metadata": {},
   "outputs": [
    {
     "data": {
      "text/plain": [
       "Time      float64\n",
       "V1        float64\n",
       "V2        float64\n",
       "V3        float64\n",
       "V4        float64\n",
       "V5        float64\n",
       "V6        float64\n",
       "V7        float64\n",
       "V8        float64\n",
       "V9        float64\n",
       "V10       float64\n",
       "V11       float64\n",
       "V12       float64\n",
       "V13       float64\n",
       "V14       float64\n",
       "V15       float64\n",
       "V16       float64\n",
       "V17       float64\n",
       "V18       float64\n",
       "V19       float64\n",
       "V20       float64\n",
       "V21       float64\n",
       "V22       float64\n",
       "V23       float64\n",
       "V24       float64\n",
       "V25       float64\n",
       "V26       float64\n",
       "V27       float64\n",
       "V28       float64\n",
       "Amount    float64\n",
       "Class       int64\n",
       "dtype: object"
      ]
     },
     "execution_count": 11,
     "metadata": {},
     "output_type": "execute_result"
    }
   ],
   "source": [
    "df.dtypes"
   ]
  },
  {
   "cell_type": "code",
   "execution_count": 12,
   "metadata": {},
   "outputs": [
    {
     "data": {
      "text/plain": [
       "284802    172786.0\n",
       "284803    172787.0\n",
       "284804    172788.0\n",
       "284805    172788.0\n",
       "284806    172792.0\n",
       "Name: Time, dtype: float64"
      ]
     },
     "execution_count": 12,
     "metadata": {},
     "output_type": "execute_result"
    }
   ],
   "source": [
    "df.Time.tail()"
   ]
  },
  {
   "cell_type": "markdown",
   "metadata": {},
   "source": [
    "데이터가 특이해서 찾아보니, 변수 설명이 있었다.\n",
    "+ Time : Number of seconds elapsed between this transaction and the first transaction in the dataset\n",
    "> 이 트랜잭션과 데이터 세트의 첫 번째 트랜잭션 사이에 경과된 시간(초)\n",
    "+ (v1-v28) : may be result of a PCA Dimensionality reduction to protect user identities and sensitive features(v1-v28)"
   ]
  },
  {
   "cell_type": "code",
   "execution_count": 13,
   "metadata": {},
   "outputs": [
    {
     "data": {
      "image/png": "[encoded data removed]",
      "text/plain": [
       "<Figure size 1008x576 with 2 Axes>"
      ]
     },
     "metadata": {},
     "output_type": "display_data"
    }
   ],
   "source": [
    "f, (ax1, ax2) = plt.subplots(2, 1, sharex=True)\n",
    "f.suptitle('Amount per transaction by class')\n",
    "\n",
    "bins = 50\n",
    "\n",
    "ax1.hist(frauds.Amount, bins = bins)\n",
    "ax1.set_title('Fraud')\n",
    "\n",
    "ax2.hist(normal.Amount, bins = bins)\n",
    "ax2.set_title('Normal')\n",
    "\n",
    "plt.xlabel('Amount ($)')\n",
    "plt.ylabel('Number of Transactions')\n",
    "plt.xlim((0, 20000))\n",
    "plt.yscale('log')\n",
    "plt.show();"
   ]
  },
  {
   "cell_type": "markdown",
   "metadata": {},
   "source": [
    "Fraud 그룹이 발생한 금액대는 대부분 1000 미만의 금액대인것이 보인다."
   ]
  },
  {
   "cell_type": "code",
   "execution_count": 14,
   "metadata": {},
   "outputs": [
    {
     "data": {
      "text/plain": [
       "(0, 1000)"
      ]
     },
     "execution_count": 14,
     "metadata": {},
     "output_type": "execute_result"
    },
    {
     "data": {
      "image/png": "[encoded data removed]",
      "text/plain": [
       "<Figure size 1008x576 with 1 Axes>"
      ]
     },
     "metadata": {},
     "output_type": "display_data"
    }
   ],
   "source": [
    "ax=frauds.Amount.plot(kind='kde')\n",
    "ax.set_xlim(0,1000)"
   ]
  },
  {
   "cell_type": "markdown",
   "metadata": {},
   "source": [
    "시각화하니, Fraud 건들은 주로 1000건 이하, 특히 400건 이하에서 이루어지고 있음을 알 수 있다."
   ]
  },
  {
   "cell_type": "code",
   "execution_count": 15,
   "metadata": {},
   "outputs": [
    {
     "data": {
      "text/plain": [
       "count     492.0000\n",
       "mean      122.2113\n",
       "std       256.6833\n",
       "min         0.0000\n",
       "25%         1.0000\n",
       "50%         9.2500\n",
       "75%       105.8900\n",
       "max      2125.8700\n",
       "Name: Amount, dtype: object"
      ]
     },
     "execution_count": 15,
     "metadata": {},
     "output_type": "execute_result"
    }
   ],
   "source": [
    "f1 = lambda x : \"{:.4f}\".format(x)\n",
    "frauds.Amount.describe().apply(f1)"
   ]
  },
  {
   "cell_type": "code",
   "execution_count": 16,
   "metadata": {},
   "outputs": [
    {
     "data": {
      "text/plain": [
       "938.0828000000004"
      ]
     },
     "execution_count": 16,
     "metadata": {},
     "output_type": "execute_result"
    }
   ],
   "source": [
    "frauds.Amount.quantile(0.98)"
   ]
  },
  {
   "cell_type": "code",
   "execution_count": 17,
   "metadata": {},
   "outputs": [
    {
     "data": {
      "text/plain": [
       "count    284315.0000\n",
       "mean         88.2910\n",
       "std         250.1051\n",
       "min           0.0000\n",
       "25%           5.6500\n",
       "50%          22.0000\n",
       "75%          77.0500\n",
       "max       25691.1600\n",
       "Name: Amount, dtype: object"
      ]
     },
     "execution_count": 17,
     "metadata": {},
     "output_type": "execute_result"
    }
   ],
   "source": [
    "normal.Amount.describe().apply(f1)"
   ]
  },
  {
   "cell_type": "code",
   "execution_count": 18,
   "metadata": {},
   "outputs": [
    {
     "name": "stdout",
     "output_type": "stream",
     "text": [
      "1016.9663999999966\n",
      "3000.0\n"
     ]
    }
   ],
   "source": [
    "print(normal.Amount.quantile(0.99)) ## 상위 1% 구간은 1016.966 이다\n",
    "print(normal.Amount.quantile(0.999))"
   ]
  },
  {
   "cell_type": "markdown",
   "metadata": {},
   "source": [
    "normal 그룹 vs Fraud 그룹 둘다 std 는 250 가량인데, 평균과 중위값이 차이가 있다.\n",
    "> fraud : mean/중위값  = 122 /9.25  \n",
    "> normal : mean/중위값 = 88 / 22\n",
    "\n",
    "둘다 중위값에 비해, 평균값이 크다 -> 분포가 왼쪽 Skewed 가 있다. 오른쪽 꼬리 모양\n",
    "fraud 가 좀더 편향값이 심하다. 이를 hist 가 아닌 kde 로 재확인해보면,"
   ]
  },
  {
   "cell_type": "code",
   "execution_count": 19,
   "metadata": {},
   "outputs": [
    {
     "data": {
      "text/plain": [
       "<matplotlib.legend.Legend at 0x221bad90c88>"
      ]
     },
     "execution_count": 19,
     "metadata": {},
     "output_type": "execute_result"
    },
    {
     "data": {
      "image/png": "[encoded data removed]",
      "text/plain": [
       "<Figure size 504x360 with 1 Axes>"
      ]
     },
     "metadata": {},
     "output_type": "display_data"
    }
   ],
   "source": [
    "plt.figure(figsize=(7,5))\n",
    "df.groupby(by=['Class']).Amount.plot(kind='kde',xlim=(0,2000))\n",
    "plt.legend()"
   ]
  },
  {
   "cell_type": "markdown",
   "metadata": {},
   "source": [
    "Amount 가 1500 이상이 차지하는 비율을 확인해보면, 1350  row 임. 이중 Fraud 갯수는 3 개 이므로, 이상치로 판단 제거한다. "
   ]
  },
  {
   "cell_type": "code",
   "execution_count": 20,
   "metadata": {},
   "outputs": [
    {
     "name": "stdout",
     "output_type": "stream",
     "text": [
      "(1350, 31)\n",
      "0    1347\n",
      "1       3\n",
      "Name: Class, dtype: int64\n",
      "0.2222222222222222\n"
     ]
    }
   ],
   "source": [
    "print(df.loc[df.Amount >= 1500,:].shape)\n",
    "print(df.loc[df.Amount >= 1500,'Class'].value_counts())\n",
    "print(df.loc[df.Amount >= 1500,'Class'].value_counts().iloc[1]/(df.loc[df.Amount >= 1500,:].shape[0])*100)"
   ]
  },
  {
   "cell_type": "code",
   "execution_count": 21,
   "metadata": {},
   "outputs": [],
   "source": [
    "df01 = df.loc[df.Amount < 1500,:]"
   ]
  },
  {
   "cell_type": "markdown",
   "metadata": {},
   "source": [
    "df -> df01 로 이상치 제거한 상태에서, 다시 시작"
   ]
  },
  {
   "cell_type": "code",
   "execution_count": 22,
   "metadata": {},
   "outputs": [],
   "source": [
    "from sklearn.preprocessing import StandardScaler\n",
    "data = df01.drop(['Time'], axis=1)\n",
    "data['Amount'] = StandardScaler().fit_transform(data['Amount'].values.reshape(-1, 1))"
   ]
  },
  {
   "cell_type": "code",
   "execution_count": 23,
   "metadata": {},
   "outputs": [
    {
     "data": {
      "text/plain": [
       "0    0.473716\n",
       "1   -0.482156\n",
       "2    1.963764\n",
       "3    0.303789\n",
       "4   -0.044327\n",
       "Name: Amount, dtype: float64"
      ]
     },
     "execution_count": 23,
     "metadata": {},
     "output_type": "execute_result"
    }
   ],
   "source": [
    "data['Amount'].head()"
   ]
  },
  {
   "cell_type": "markdown",
   "metadata": {},
   "source": [
    "우리의 목적은 이상거래 탐지인데 여기선, 모델을 정상거래만으로 이루어진걸로 train 시키고, 테스트 세트(20%)에 올바른 클래스를 잡아두면 우리 모델의 성능을 평가할 수 있다. "
   ]
  },
  {
   "cell_type": "code",
   "execution_count": 24,
   "metadata": {},
   "outputs": [],
   "source": [
    "X_train, X_test = train_test_split(data, test_size=0.2, random_state=RANDOM_SEED)\n",
    "X_train = X_train[X_train.Class == 0]\n",
    "X_train = X_train.drop(['Class'], axis=1)"
   ]
  },
  {
   "cell_type": "code",
   "execution_count": 25,
   "metadata": {},
   "outputs": [
    {
     "name": "stdout",
     "output_type": "stream",
     "text": [
      "X_train.shape (226381, 29)\n"
     ]
    }
   ],
   "source": [
    "## 모두 정상거래인 data\n",
    "print(\"X_train.shape\",X_train.shape)"
   ]
  },
  {
   "cell_type": "code",
   "execution_count": 26,
   "metadata": {},
   "outputs": [
    {
     "data": {
      "text/plain": [
       "pandas.core.frame.DataFrame"
      ]
     },
     "execution_count": 26,
     "metadata": {},
     "output_type": "execute_result"
    }
   ],
   "source": [
    "type(X_train)"
   ]
  },
  {
   "cell_type": "code",
   "execution_count": 27,
   "metadata": {},
   "outputs": [],
   "source": [
    "y_test = X_test['Class']\n",
    "X_test = X_test.drop(['Class'], axis=1)"
   ]
  },
  {
   "cell_type": "code",
   "execution_count": 28,
   "metadata": {},
   "outputs": [
    {
     "name": "stdout",
     "output_type": "stream",
     "text": [
      "0    56587\n",
      "1      105\n",
      "Name: Class, dtype: int64\n",
      "0    99.814789\n",
      "1     0.185211\n",
      "Name: Class, dtype: float64\n"
     ]
    }
   ],
   "source": [
    "## 20% 의 테스트셋에는, 비정상 거래가 들어있다. 대략 0.2 % 가량의 불균형을 보이고 있다\n",
    "print(y_test.value_counts()) \n",
    "print(y_test.value_counts()/y_test.count()*100)"
   ]
  },
  {
   "cell_type": "code",
   "execution_count": 29,
   "metadata": {},
   "outputs": [],
   "source": [
    "X_train = X_train.values ## array type 으로 바꾼다. keras DL 에서는 Dataframe을 사용할수 없기때문\n",
    "X_test = X_test.values"
   ]
  },
  {
   "cell_type": "code",
   "execution_count": 30,
   "metadata": {},
   "outputs": [
    {
     "data": {
      "text/plain": [
       "array([ 1.0497864 ,  0.13341122,  1.48434448,  2.74270707, -0.83528583,\n",
       "        0.16557882, -0.504702  ,  0.15437609,  0.10466168,  0.47498457,\n",
       "       -0.95249838,  0.17203493,  0.0535732 , -0.40718252, -0.29895828,\n",
       "        0.62560213, -0.41437543, -0.19339594, -0.8548623 , -0.08279022,\n",
       "       -0.06251716, -0.11457316,  0.01110139,  0.3892984 ,  0.28355026,\n",
       "       -0.04787002,  0.03551502,  0.04264667, -0.24222819])"
      ]
     },
     "execution_count": 30,
     "metadata": {},
     "output_type": "execute_result"
    }
   ],
   "source": [
    "## 0번째 행의 값을 보면 알수 있듯이 PCA로 일단, 어느정도 scaling 이 되어있다고 보고, 원저자는 따로 scale 변환을 안한것 같다.\n",
    "X_train[0]"
   ]
  },
  {
   "cell_type": "code",
   "execution_count": 31,
   "metadata": {},
   "outputs": [
    {
     "name": "stdout",
     "output_type": "stream",
     "text": [
      "<class 'numpy.ndarray'> (226381, 29)\n"
     ]
    }
   ],
   "source": [
    "print(type(X_train),X_train.shape)"
   ]
  },
  {
   "cell_type": "markdown",
   "metadata": {},
   "source": [
    "Keras 모델 만들기 - Autoencoder 모델은 여기선, fully connected layers 로 14-7-7-14 를 이용한다."
   ]
  },
  {
   "cell_type": "markdown",
   "metadata": {},
   "source": [
    "#### 함수형 API 로 네트워크 층 만들기  \n",
    "================__Start__================"
   ]
  },
  {
   "cell_type": "code",
   "execution_count": 32,
   "metadata": {},
   "outputs": [
    {
     "name": "stdout",
     "output_type": "stream",
     "text": [
      "WARNING:tensorflow:From C:\\ProgramData\\Anaconda3\\envs\\test\\lib\\site-packages\\tensorflow\\python\\framework\\op_def_library.py:263: colocate_with (from tensorflow.python.framework.ops) is deprecated and will be removed in a future version.\n",
      "Instructions for updating:\n",
      "Colocations handled automatically by placer.\n"
     ]
    }
   ],
   "source": [
    "input_dim = X_train.shape[1]\n",
    "## input_layer\n",
    "input_layer = Input(shape=(input_dim, ))\n",
    "## Dense_layer first Encoder - 14\n",
    "encoding_dim = 14\n",
    "encoder = Dense(encoding_dim, activation=\"tanh\", activity_regularizer=regularizers.l1(10e-5))(input_layer)\n",
    "## Dense_layer Second Encoder - 7\n",
    "encoder = Dense(int(encoding_dim / 2), activation=\"relu\")(encoder)\n",
    "## Dense_layer First Decoder - 7\n",
    "decoder = Dense(int(encoding_dim / 2), activation='tanh')(encoder)\n",
    "## Dense_layer Second Decoder - 14\n",
    "decoder = Dense(input_dim, activation='relu')(decoder)\n",
    "autoencoder = Model(inputs=input_layer, outputs=decoder)"
   ]
  },
  {
   "cell_type": "markdown",
   "metadata": {},
   "source": [
    "※ activity_regularizer : keras dense layer의 옵션  \n",
    "[activity_regularizer](https://keras.io/regularizers/)"
   ]
  },
  {
   "cell_type": "markdown",
   "metadata": {},
   "source": [
    "#### 함수형 API 로 네트워크 층 만들기  \n",
    "================__End__================"
   ]
  },
  {
   "cell_type": "markdown",
   "metadata": {},
   "source": [
    "100 epoch 사용 : 226381 * 100 의 데이터를Train 하는데 사용  \n",
    "batch_size 32 : 32개씩 묶어서, 1번의 계산을 함. 따라서 1 epoch마다, (226381%%32) 만큼 가중치 갱신이 일어난다."
   ]
  },
  {
   "cell_type": "code",
   "execution_count": 33,
   "metadata": {},
   "outputs": [],
   "source": [
    "nb_epoch = 100\n",
    "batch_size = 32\n",
    "autoencoder.compile(optimizer='adam',loss='mean_squared_error',metrics=['accuracy'])"
   ]
  },
  {
   "cell_type": "code",
   "execution_count": 34,
   "metadata": {},
   "outputs": [
    {
     "name": "stdout",
     "output_type": "stream",
     "text": [
      "_________________________________________________________________\n",
      "Layer (type)                 Output Shape              Param #   \n",
      "=================================================================\n",
      "input_1 (InputLayer)         (None, 29)                0         \n",
      "_________________________________________________________________\n",
      "dense_1 (Dense)              (None, 14)                420       \n",
      "_________________________________________________________________\n",
      "dense_2 (Dense)              (None, 7)                 105       \n",
      "_________________________________________________________________\n",
      "dense_3 (Dense)              (None, 7)                 56        \n",
      "_________________________________________________________________\n",
      "dense_4 (Dense)              (None, 29)                232       \n",
      "=================================================================\n",
      "Total params: 813\n",
      "Trainable params: 813\n",
      "Non-trainable params: 0\n",
      "_________________________________________________________________\n"
     ]
    }
   ],
   "source": [
    "autoencoder.summary()"
   ]
  },
  {
   "cell_type": "markdown",
   "metadata": {},
   "source": [
    "Train 상황을 지켜보기 위해, 하기 모듈을 불러와서, 사용한다.  \n",
    "from keras.callbacks import ModelCheckpoint, TensorBoard"
   ]
  },
  {
   "cell_type": "markdown",
   "metadata": {},
   "source": [
    "[keras callback 함수 설명](https://keras.io/ko/callbacks/)"
   ]
  },
  {
   "cell_type": "code",
   "execution_count": 35,
   "metadata": {},
   "outputs": [],
   "source": [
    "## 각 iter 마다, 손실함수 값을 기록함.\n",
    "checkpointer = ModelCheckpoint(filepath=\"D:/★2020_ML_DL_Project/Alchemy/DL_Area/model.h5\",\n",
    "                               verbose=0,\n",
    "                               save_best_only=True)\n",
    "## 서플로우가 제공하는 시각화 도구입니다.\n",
    "## 이 콜백은 TensorBoard에 로그를 기록하여 학습과 테스트 측정 항목에 대한 동적 그래프나 모델 내 다양한 레이어에 대한 활성화 히스토그램을 시각화 할 수 있도록 합니다.\n",
    "tensorboard = TensorBoard(log_dir='./logs',\n",
    "                          histogram_freq=0,\n",
    "                          write_graph=True,\n",
    "                          write_images=True)"
   ]
  },
  {
   "cell_type": "code",
   "execution_count": 36,
   "metadata": {},
   "outputs": [
    {
     "name": "stdout",
     "output_type": "stream",
     "text": [
      "WARNING:tensorflow:From C:\\ProgramData\\Anaconda3\\envs\\test\\lib\\site-packages\\tensorflow\\python\\ops\\math_ops.py:3066: to_int32 (from tensorflow.python.ops.math_ops) is deprecated and will be removed in a future version.\n",
      "Instructions for updating:\n",
      "Use tf.cast instead.\n",
      "Train on 226381 samples, validate on 56692 samples\n",
      "Epoch 1/100\n",
      "226381/226381 [==============================] - 17s 75us/step - loss: 0.7507 - acc: 0.5925 - val_loss: 0.7385 - val_acc: 0.6488\n",
      "Epoch 2/100\n",
      "226381/226381 [==============================] - 16s 73us/step - loss: 0.6889 - acc: 0.6550 - val_loss: 0.7243 - val_acc: 0.6511\n",
      "Epoch 3/100\n",
      "226381/226381 [==============================] - 16s 72us/step - loss: 0.6814 - acc: 0.6553 - val_loss: 0.7223 - val_acc: 0.6576\n",
      "Epoch 4/100\n",
      "226381/226381 [==============================] - 17s 74us/step - loss: 0.6792 - acc: 0.6566 - val_loss: 0.7190 - val_acc: 0.6548\n",
      "Epoch 5/100\n",
      "226381/226381 [==============================] - 17s 73us/step - loss: 0.6780 - acc: 0.6578 - val_loss: 0.7193 - val_acc: 0.6566\n",
      "Epoch 6/100\n",
      "226381/226381 [==============================] - 16s 73us/step - loss: 0.6772 - acc: 0.6586 - val_loss: 0.7186 - val_acc: 0.6535\n",
      "Epoch 7/100\n",
      "226381/226381 [==============================] - 16s 73us/step - loss: 0.6767 - acc: 0.6584 - val_loss: 0.7167 - val_acc: 0.6551\n",
      "Epoch 8/100\n",
      "226381/226381 [==============================] - 16s 72us/step - loss: 0.6764 - acc: 0.6588 - val_loss: 0.7177 - val_acc: 0.6535\n",
      "Epoch 9/100\n",
      "226381/226381 [==============================] - 16s 72us/step - loss: 0.6761 - acc: 0.6588 - val_loss: 0.7174 - val_acc: 0.6568\n",
      "Epoch 10/100\n",
      "226381/226381 [==============================] - 17s 73us/step - loss: 0.6759 - acc: 0.6586 - val_loss: 0.7171 - val_acc: 0.6542\n",
      "Epoch 11/100\n",
      "226381/226381 [==============================] - 17s 74us/step - loss: 0.6755 - acc: 0.6585 - val_loss: 0.7180 - val_acc: 0.6543\n",
      "Epoch 12/100\n",
      "226381/226381 [==============================] - 16s 72us/step - loss: 0.6751 - acc: 0.6599 - val_loss: 0.7183 - val_acc: 0.6566\n",
      "Epoch 13/100\n",
      "226381/226381 [==============================] - 16s 71us/step - loss: 0.6745 - acc: 0.6624 - val_loss: 0.7155 - val_acc: 0.6616\n",
      "Epoch 14/100\n",
      "226381/226381 [==============================] - 16s 72us/step - loss: 0.6738 - acc: 0.6670 - val_loss: 0.7164 - val_acc: 0.6671\n",
      "Epoch 15/100\n",
      "226381/226381 [==============================] - 16s 72us/step - loss: 0.6733 - acc: 0.6670 - val_loss: 0.7165 - val_acc: 0.6596\n",
      "Epoch 16/100\n",
      "226381/226381 [==============================] - 16s 71us/step - loss: 0.6724 - acc: 0.6681 - val_loss: 0.7127 - val_acc: 0.6695\n",
      "Epoch 17/100\n",
      "226381/226381 [==============================] - 16s 71us/step - loss: 0.6721 - acc: 0.6687 - val_loss: 0.7125 - val_acc: 0.6658\n",
      "Epoch 18/100\n",
      "226381/226381 [==============================] - 16s 73us/step - loss: 0.6719 - acc: 0.6686 - val_loss: 0.7160 - val_acc: 0.6576\n",
      "Epoch 19/100\n",
      "226381/226381 [==============================] - 16s 72us/step - loss: 0.6716 - acc: 0.6703 - val_loss: 0.7119 - val_acc: 0.6721\n",
      "Epoch 20/100\n",
      "226381/226381 [==============================] - 16s 72us/step - loss: 0.6711 - acc: 0.6731 - val_loss: 0.7110 - val_acc: 0.6698\n",
      "Epoch 21/100\n",
      "226381/226381 [==============================] - 16s 71us/step - loss: 0.6707 - acc: 0.6764 - val_loss: 0.7159 - val_acc: 0.6751\n",
      "Epoch 22/100\n",
      "226381/226381 [==============================] - 16s 72us/step - loss: 0.6706 - acc: 0.6774 - val_loss: 0.7112 - val_acc: 0.6765\n",
      "Epoch 23/100\n",
      "226381/226381 [==============================] - 16s 73us/step - loss: 0.6704 - acc: 0.6778 - val_loss: 0.7116 - val_acc: 0.6781\n",
      "Epoch 24/100\n",
      "226381/226381 [==============================] - 16s 72us/step - loss: 0.6701 - acc: 0.6775 - val_loss: 0.7129 - val_acc: 0.6701\n",
      "Epoch 25/100\n",
      "226381/226381 [==============================] - 16s 72us/step - loss: 0.6702 - acc: 0.6779 - val_loss: 0.7127 - val_acc: 0.6717\n",
      "Epoch 26/100\n",
      "226381/226381 [==============================] - 16s 72us/step - loss: 0.6701 - acc: 0.6784 - val_loss: 0.7117 - val_acc: 0.6783\n",
      "Epoch 27/100\n",
      "226381/226381 [==============================] - 16s 71us/step - loss: 0.6701 - acc: 0.6792 - val_loss: 0.7111 - val_acc: 0.6791\n",
      "Epoch 28/100\n",
      "226381/226381 [==============================] - 16s 71us/step - loss: 0.6699 - acc: 0.6792 - val_loss: 0.7124 - val_acc: 0.6792\n",
      "Epoch 29/100\n",
      "226381/226381 [==============================] - 16s 72us/step - loss: 0.6698 - acc: 0.6796 - val_loss: 0.7105 - val_acc: 0.6765\n",
      "Epoch 30/100\n",
      "226381/226381 [==============================] - 16s 72us/step - loss: 0.6698 - acc: 0.6786 - val_loss: 0.7123 - val_acc: 0.6699\n",
      "Epoch 31/100\n",
      "226381/226381 [==============================] - 16s 71us/step - loss: 0.6698 - acc: 0.6793 - val_loss: 0.7132 - val_acc: 0.6769\n",
      "Epoch 32/100\n",
      "226381/226381 [==============================] - 16s 71us/step - loss: 0.6696 - acc: 0.6796 - val_loss: 0.7128 - val_acc: 0.6736\n",
      "Epoch 33/100\n",
      "226381/226381 [==============================] - 16s 72us/step - loss: 0.6697 - acc: 0.6801 - val_loss: 0.7109 - val_acc: 0.6752\n",
      "Epoch 34/100\n",
      "226381/226381 [==============================] - 16s 71us/step - loss: 0.6699 - acc: 0.6793 - val_loss: 0.7119 - val_acc: 0.6808\n",
      "Epoch 35/100\n",
      "226381/226381 [==============================] - 16s 71us/step - loss: 0.6696 - acc: 0.6796 - val_loss: 0.7110 - val_acc: 0.6777\n",
      "Epoch 36/100\n",
      "226381/226381 [==============================] - 16s 71us/step - loss: 0.6696 - acc: 0.6802 - val_loss: 0.7101 - val_acc: 0.6789\n",
      "Epoch 37/100\n",
      "226381/226381 [==============================] - 16s 72us/step - loss: 0.6695 - acc: 0.6795 - val_loss: 0.7119 - val_acc: 0.6763\n",
      "Epoch 38/100\n",
      "226381/226381 [==============================] - 16s 72us/step - loss: 0.6697 - acc: 0.6794 - val_loss: 0.7105 - val_acc: 0.6757\n",
      "Epoch 39/100\n",
      "226381/226381 [==============================] - 16s 71us/step - loss: 0.6696 - acc: 0.6797 - val_loss: 0.7108 - val_acc: 0.6828\n",
      "Epoch 40/100\n",
      "226381/226381 [==============================] - 17s 74us/step - loss: 0.6694 - acc: 0.6797 - val_loss: 0.7109 - val_acc: 0.6786\n",
      "Epoch 41/100\n",
      "226381/226381 [==============================] - 17s 74us/step - loss: 0.6695 - acc: 0.6800 - val_loss: 0.7109 - val_acc: 0.6792\n",
      "Epoch 42/100\n",
      "226381/226381 [==============================] - 16s 71us/step - loss: 0.6694 - acc: 0.6801 - val_loss: 0.7105 - val_acc: 0.6811\n",
      "Epoch 43/100\n",
      "226381/226381 [==============================] - 16s 71us/step - loss: 0.6694 - acc: 0.6807 - val_loss: 0.7101 - val_acc: 0.6777\n",
      "Epoch 44/100\n",
      "226381/226381 [==============================] - 16s 72us/step - loss: 0.6693 - acc: 0.6810 - val_loss: 0.7114 - val_acc: 0.6817\n",
      "Epoch 45/100\n",
      "226381/226381 [==============================] - 16s 71us/step - loss: 0.6694 - acc: 0.6804 - val_loss: 0.7120 - val_acc: 0.6803\n",
      "Epoch 46/100\n",
      "226381/226381 [==============================] - 16s 71us/step - loss: 0.6693 - acc: 0.6806 - val_loss: 0.7097 - val_acc: 0.6808\n",
      "Epoch 47/100\n",
      "226381/226381 [==============================] - 16s 72us/step - loss: 0.6692 - acc: 0.6801 - val_loss: 0.7107 - val_acc: 0.6797\n",
      "Epoch 48/100\n",
      "226381/226381 [==============================] - 16s 72us/step - loss: 0.6694 - acc: 0.6806 - val_loss: 0.7115 - val_acc: 0.6732\n",
      "Epoch 49/100\n",
      "226381/226381 [==============================] - 16s 71us/step - loss: 0.6693 - acc: 0.6804 - val_loss: 0.7104 - val_acc: 0.6808\n",
      "Epoch 50/100\n",
      "226381/226381 [==============================] - 16s 71us/step - loss: 0.6694 - acc: 0.6810 - val_loss: 0.7099 - val_acc: 0.6764\n",
      "Epoch 51/100\n",
      "226381/226381 [==============================] - 16s 71us/step - loss: 0.6694 - acc: 0.6808 - val_loss: 0.7106 - val_acc: 0.6797\n",
      "Epoch 52/100\n",
      "226381/226381 [==============================] - 16s 72us/step - loss: 0.6693 - acc: 0.6802 - val_loss: 0.7121 - val_acc: 0.6748\n",
      "Epoch 53/100\n",
      "226381/226381 [==============================] - 16s 71us/step - loss: 0.6693 - acc: 0.6804 - val_loss: 0.7122 - val_acc: 0.6763\n",
      "Epoch 54/100\n",
      "226381/226381 [==============================] - 16s 72us/step - loss: 0.6692 - acc: 0.6806 - val_loss: 0.7105 - val_acc: 0.6825\n",
      "Epoch 55/100\n",
      "226381/226381 [==============================] - 17s 73us/step - loss: 0.6691 - acc: 0.6810 - val_loss: 0.7116 - val_acc: 0.6767\n",
      "Epoch 56/100\n",
      "226381/226381 [==============================] - 16s 72us/step - loss: 0.6692 - acc: 0.6802 - val_loss: 0.7204 - val_acc: 0.6665\n",
      "Epoch 57/100\n",
      "226381/226381 [==============================] - 17s 73us/step - loss: 0.6691 - acc: 0.6805 - val_loss: 0.7102 - val_acc: 0.6775\n",
      "Epoch 58/100\n",
      "226381/226381 [==============================] - 16s 72us/step - loss: 0.6691 - acc: 0.6811 - val_loss: 0.7162 - val_acc: 0.6724\n",
      "Epoch 59/100\n",
      "226381/226381 [==============================] - 16s 72us/step - loss: 0.6689 - acc: 0.6812 - val_loss: 0.7095 - val_acc: 0.6809\n",
      "Epoch 60/100\n",
      "226381/226381 [==============================] - 16s 71us/step - loss: 0.6689 - acc: 0.6813 - val_loss: 0.7096 - val_acc: 0.6760\n",
      "Epoch 61/100\n",
      "226381/226381 [==============================] - 16s 72us/step - loss: 0.6690 - acc: 0.6806 - val_loss: 0.7102 - val_acc: 0.6788\n",
      "Epoch 62/100\n",
      "226381/226381 [==============================] - 16s 72us/step - loss: 0.6688 - acc: 0.6806 - val_loss: 0.7110 - val_acc: 0.6796\n",
      "Epoch 63/100\n",
      "226381/226381 [==============================] - 16s 72us/step - loss: 0.6690 - acc: 0.6810 - val_loss: 0.7094 - val_acc: 0.6840\n",
      "Epoch 64/100\n",
      "226381/226381 [==============================] - 16s 71us/step - loss: 0.6690 - acc: 0.6809 - val_loss: 0.7119 - val_acc: 0.6777\n",
      "Epoch 65/100\n",
      "226381/226381 [==============================] - 16s 73us/step - loss: 0.6689 - acc: 0.6812 - val_loss: 0.7106 - val_acc: 0.6792\n",
      "Epoch 66/100\n",
      "226381/226381 [==============================] - 16s 73us/step - loss: 0.6688 - acc: 0.6805 - val_loss: 0.7114 - val_acc: 0.6733\n",
      "Epoch 67/100\n",
      "226381/226381 [==============================] - 16s 72us/step - loss: 0.6688 - acc: 0.6808 - val_loss: 0.7148 - val_acc: 0.6807\n",
      "Epoch 68/100\n",
      "226381/226381 [==============================] - 16s 71us/step - loss: 0.6688 - acc: 0.6807 - val_loss: 0.7088 - val_acc: 0.6804\n",
      "Epoch 69/100\n",
      "226381/226381 [==============================] - 16s 72us/step - loss: 0.6686 - acc: 0.6810 - val_loss: 0.7101 - val_acc: 0.6838\n",
      "Epoch 70/100\n",
      "226381/226381 [==============================] - 16s 72us/step - loss: 0.6688 - acc: 0.6813 - val_loss: 0.7091 - val_acc: 0.6806\n",
      "Epoch 71/100\n",
      "226381/226381 [==============================] - 16s 72us/step - loss: 0.6688 - acc: 0.6808 - val_loss: 0.7103 - val_acc: 0.6791\n",
      "Epoch 72/100\n",
      "226381/226381 [==============================] - 16s 71us/step - loss: 0.6689 - acc: 0.6812 - val_loss: 0.7091 - val_acc: 0.6798\n",
      "Epoch 73/100\n",
      "226381/226381 [==============================] - 16s 72us/step - loss: 0.6687 - acc: 0.6810 - val_loss: 0.7089 - val_acc: 0.6820\n",
      "Epoch 74/100\n",
      "226381/226381 [==============================] - 17s 77us/step - loss: 0.6687 - acc: 0.6807 - val_loss: 0.7112 - val_acc: 0.6842\n",
      "Epoch 75/100\n",
      "226381/226381 [==============================] - 16s 72us/step - loss: 0.6685 - acc: 0.6811 - val_loss: 0.7099 - val_acc: 0.6804\n",
      "Epoch 76/100\n",
      "226381/226381 [==============================] - 16s 72us/step - loss: 0.6687 - acc: 0.6814 - val_loss: 0.7096 - val_acc: 0.6790\n",
      "Epoch 77/100\n",
      "226381/226381 [==============================] - 17s 73us/step - loss: 0.6686 - acc: 0.6808 - val_loss: 0.7108 - val_acc: 0.6785\n",
      "Epoch 78/100\n",
      "226381/226381 [==============================] - 16s 72us/step - loss: 0.6685 - acc: 0.6813 - val_loss: 0.7086 - val_acc: 0.6801\n",
      "Epoch 79/100\n",
      "226381/226381 [==============================] - 16s 72us/step - loss: 0.6685 - acc: 0.6815 - val_loss: 0.7109 - val_acc: 0.6771\n",
      "Epoch 80/100\n",
      "226381/226381 [==============================] - 16s 72us/step - loss: 0.6685 - acc: 0.6818 - val_loss: 0.7085 - val_acc: 0.6831\n",
      "Epoch 81/100\n",
      "226381/226381 [==============================] - 16s 73us/step - loss: 0.6685 - acc: 0.6822 - val_loss: 0.7120 - val_acc: 0.6753\n",
      "Epoch 82/100\n",
      "226381/226381 [==============================] - 16s 72us/step - loss: 0.6684 - acc: 0.6812 - val_loss: 0.7111 - val_acc: 0.6746\n",
      "Epoch 83/100\n",
      "226381/226381 [==============================] - 16s 72us/step - loss: 0.6688 - acc: 0.6815 - val_loss: 0.7147 - val_acc: 0.6695\n",
      "Epoch 84/100\n",
      "226381/226381 [==============================] - 16s 72us/step - loss: 0.6684 - acc: 0.6818 - val_loss: 0.7086 - val_acc: 0.6844\n",
      "Epoch 85/100\n",
      "226381/226381 [==============================] - 16s 72us/step - loss: 0.6686 - acc: 0.6814 - val_loss: 0.7105 - val_acc: 0.6826\n",
      "Epoch 86/100\n",
      "226381/226381 [==============================] - 16s 72us/step - loss: 0.6684 - acc: 0.6816 - val_loss: 0.7106 - val_acc: 0.6779\n",
      "Epoch 87/100\n",
      "226381/226381 [==============================] - 16s 72us/step - loss: 0.6685 - acc: 0.6820 - val_loss: 0.7119 - val_acc: 0.6801\n",
      "Epoch 88/100\n",
      "226381/226381 [==============================] - 17s 73us/step - loss: 0.6683 - acc: 0.6825 - val_loss: 0.7098 - val_acc: 0.6791\n",
      "Epoch 89/100\n",
      "226381/226381 [==============================] - 17s 73us/step - loss: 0.6684 - acc: 0.6813 - val_loss: 0.7085 - val_acc: 0.6831\n",
      "Epoch 90/100\n",
      "226381/226381 [==============================] - 16s 72us/step - loss: 0.6686 - acc: 0.6810 - val_loss: 0.7099 - val_acc: 0.6746\n",
      "Epoch 91/100\n",
      "226381/226381 [==============================] - 16s 72us/step - loss: 0.6686 - acc: 0.6825 - val_loss: 0.7133 - val_acc: 0.6712\n",
      "Epoch 92/100\n",
      "226381/226381 [==============================] - 17s 73us/step - loss: 0.6683 - acc: 0.6816 - val_loss: 0.7090 - val_acc: 0.6767\n",
      "Epoch 93/100\n",
      "226381/226381 [==============================] - 16s 72us/step - loss: 0.6684 - acc: 0.6822 - val_loss: 0.7105 - val_acc: 0.6821\n",
      "Epoch 94/100\n",
      "226381/226381 [==============================] - 16s 72us/step - loss: 0.6683 - acc: 0.6828 - val_loss: 0.7089 - val_acc: 0.6769\n",
      "Epoch 95/100\n",
      "226381/226381 [==============================] - 16s 72us/step - loss: 0.6683 - acc: 0.6821 - val_loss: 0.7100 - val_acc: 0.6776\n",
      "Epoch 96/100\n",
      "226381/226381 [==============================] - 16s 73us/step - loss: 0.6684 - acc: 0.6827 - val_loss: 0.7115 - val_acc: 0.6818\n",
      "Epoch 97/100\n",
      "226381/226381 [==============================] - 16s 72us/step - loss: 0.6681 - acc: 0.6829 - val_loss: 0.7086 - val_acc: 0.6828\n",
      "Epoch 98/100\n",
      "226381/226381 [==============================] - 16s 71us/step - loss: 0.6683 - acc: 0.6827 - val_loss: 0.7103 - val_acc: 0.6775\n",
      "Epoch 99/100\n",
      "226381/226381 [==============================] - 16s 73us/step - loss: 0.6682 - acc: 0.6829 - val_loss: 0.7104 - val_acc: 0.6784\n",
      "Epoch 100/100\n",
      "226381/226381 [==============================] - 16s 72us/step - loss: 0.6683 - acc: 0.6827 - val_loss: 0.7080 - val_acc: 0.6866\n"
     ]
    }
   ],
   "source": [
    "history = autoencoder.fit(X_train, X_train,epochs=nb_epoch,batch_size=batch_size,\n",
    "                          shuffle=True,validation_data=(X_test, X_test),verbose=1,\n",
    "                          callbacks=[checkpointer, tensorboard]).history"
   ]
  },
  {
   "cell_type": "markdown",
   "metadata": {},
   "source": [
    "GPU 가 아닌 상황에서는 꽤나 오래걸린다....callab 으로 할껄 그랬다....로컬PC GPU 는 3G 인데...느리네...10분이상 소요  \n",
    "val_acc 가 0.7 이상으로 올라가지 않는모습으로 봐서, Callback 함수에서, Early Stopping 을 사용하면 더 좋을 것 같다.  \n",
    "__EarlyStopping__  \n",
    "from keras.callbacks import EarlyStopping  \n",
    "keras.callbacks.EarlyStopping(monitor='val_acc', min_delta=0.01, patience=5, verbose=0, mode='max', baseline=None, restore_best_weights=True)"
   ]
  },
  {
   "cell_type": "code",
   "execution_count": null,
   "metadata": {},
   "outputs": [],
   "source": [
    "autoencoder_result = load_model('D:/★2020_ML_DL_Project/Alchemy/DL_Area/model.h5')"
   ]
  },
  {
   "cell_type": "code",
   "execution_count": null,
   "metadata": {},
   "outputs": [],
   "source": [
    "plt.plot(history['loss'])\n",
    "plt.plot(history['val_loss'])\n",
    "plt.title('model loss')\n",
    "plt.ylabel('loss')\n",
    "plt.xlabel('epoch')\n",
    "plt.legend(['train', 'test'], loc='upper right');"
   ]
  },
  {
   "cell_type": "markdown",
   "metadata": {},
   "source": [
    "loss 값이 10 회 쯤에서, 떨어지고, 70회쯤에서도 감소한걸 볼 수 있다.  \n",
    "좀더 상세히 알아보기 위해 , val_data 로 사용했던, X_test 에러값을 살펴보자"
   ]
  },
  {
   "cell_type": "code",
   "execution_count": null,
   "metadata": {},
   "outputs": [],
   "source": [
    "print(X_test.shape)\n",
    "X_test[0:3,0:5]"
   ]
  },
  {
   "cell_type": "code",
   "execution_count": null,
   "metadata": {},
   "outputs": [],
   "source": [
    "predictions = autoencoder.predict(X_test)"
   ]
  },
  {
   "cell_type": "code",
   "execution_count": null,
   "metadata": {},
   "outputs": [],
   "source": [
    "## 학습이 오래걸리지, 실제 추론 계산은 얼마 안걸림. 좀더 상세히 알아보기 위해\n",
    "predictions.shape"
   ]
  },
  {
   "cell_type": "code",
   "execution_count": null,
   "metadata": {},
   "outputs": [],
   "source": [
    "mse = np.mean(np.power(X_test - predictions, 2), axis=1)\n",
    "# mse = np.mean(np.sqrt(np.power(X_test - predictions, 2)), axis=1)"
   ]
  },
  {
   "cell_type": "code",
   "execution_count": null,
   "metadata": {},
   "outputs": [],
   "source": [
    "error_df = pd.DataFrame({'reconstruction_error': mse,'true_class': y_test})"
   ]
  },
  {
   "cell_type": "code",
   "execution_count": null,
   "metadata": {},
   "outputs": [],
   "source": [
    "error_df.describe()"
   ]
  },
  {
   "cell_type": "code",
   "execution_count": null,
   "metadata": {},
   "outputs": [],
   "source": [
    "from sklearn.metrics import (recall_score,confusion_matrix,classification_report,roc_curve,roc_auc_score,precision_recall_curve,auc,recall_score,\n",
    "                             precision_recall_fscore_support)"
   ]
  },
  {
   "cell_type": "code",
   "execution_count": null,
   "metadata": {},
   "outputs": [],
   "source": [
    "error_df.head(3)"
   ]
  },
  {
   "cell_type": "code",
   "execution_count": null,
   "metadata": {},
   "outputs": [],
   "source": [
    "error_df[error_df.true_class==1].head(3)"
   ]
  },
  {
   "cell_type": "markdown",
   "metadata": {},
   "source": [
    "#### auto_encoder 로 classfy 하는 핵심 아이디어 by cypision 생각  \n",
    "error_df 의 컨셉은 짐작해보건데, 에러값들은 기본적으로, threshold 이다. 그러니깐, 가장 적절한 threshold 값을 찾고, 이를 통해서, 측정하려는 의도로 보인다.  \n",
    "지금 keras로 오로지 정상거래 class=0 인것만, train 을 시켰으니, 만약 학습이 완벽하다면,  \n",
    "class 1에 대해서는 에러값이 class=0 일때보다 훨씬, 두드러지게 클 것이다.  \n",
    "그래서, mse = np.mean(np.power(X_test - predictions, 2), axis=1) 에 대해서 , sqrt 도 안한것 같다. 나름 좋은 아이디어로 보인다. 참신하다. 진짜."
   ]
  },
  {
   "cell_type": "code",
   "execution_count": null,
   "metadata": {},
   "outputs": [],
   "source": [
    "## y_score 자리에는 labe 값 뿐아니라, estimate probability 값도 올 수 있다.\n",
    "fpr, tpr, thresholds = metrics.roc_curve(y_true=error_df.true_class, y_score=error_df.reconstruction_error)\n",
    "roc_auc = auc(fpr, tpr)"
   ]
  },
  {
   "cell_type": "code",
   "execution_count": null,
   "metadata": {},
   "outputs": [],
   "source": [
    "len(thresholds)\n",
    "print(fpr[0:3],tpr[0:3],thresholds[0:3])"
   ]
  },
  {
   "cell_type": "code",
   "execution_count": null,
   "metadata": {},
   "outputs": [],
   "source": [
    "plt.title('Receiver Operating Characteristic')\n",
    "plt.plot(fpr, tpr, label='AUC = %0.4f'% roc_auc)\n",
    "plt.legend(loc='lower right')\n",
    "plt.plot([0,1],[0,1],'r--')\n",
    "plt.xlim([-0.001, 1])\n",
    "plt.ylim([0, 1.001])\n",
    "plt.ylabel('True Positive Rate')\n",
    "plt.xlabel('False Positive Rate')\n",
    "plt.show();"
   ]
  },
  {
   "cell_type": "markdown",
   "metadata": {},
   "source": [
    "While our results look pretty good, we have to keep in mind of the nature of our dataset. ROC doesn't look very useful for us. Onward...  \n",
    "근데 이 커브 곡선으로 진짜, 모델성능이 좋은지도...그리고, threshold값을 뭘로 해야 하는지도 잘 모르겠다."
   ]
  },
  {
   "cell_type": "code",
   "execution_count": null,
   "metadata": {},
   "outputs": [],
   "source": [
    "precision, recall, th = precision_recall_curve(error_df.true_class, error_df.reconstruction_error)\n",
    "plt.plot(recall, precision, 'b', label='Precision-Recall curve')\n",
    "plt.title('Recall vs Precision')\n",
    "plt.xlabel('Recall')\n",
    "plt.ylabel('Precision')\n",
    "plt.show()"
   ]
  },
  {
   "cell_type": "code",
   "execution_count": null,
   "metadata": {},
   "outputs": [],
   "source": [
    "print(precision.shape)\n",
    "print(len(precision),len(recall),len(th)) ## th 결과값이 하나 더 적다"
   ]
  },
  {
   "cell_type": "markdown",
   "metadata": {},
   "source": [
    "[precision_recall_curve](https://scikit-learn.org/stable/modules/generated/sklearn.metrics.precision_recall_curve.html)"
   ]
  },
  {
   "cell_type": "code",
   "execution_count": null,
   "metadata": {},
   "outputs": [],
   "source": [
    "plt.plot(th, precision[1:], 'b', label='Threshold-Precision curve')\n",
    "plt.title('Precision for different threshold values')\n",
    "plt.xlabel('Threshold')\n",
    "plt.ylabel('Precision')\n",
    "plt.show()"
   ]
  },
  {
   "cell_type": "code",
   "execution_count": null,
   "metadata": {},
   "outputs": [],
   "source": [
    "plt.plot(th, recall[1:], 'b', label='Threshold-Recall curve')\n",
    "plt.title('Recall for different threshold values')\n",
    "plt.xlabel('Threshold')\n",
    "plt.ylabel('Recall')\n",
    "plt.show()"
   ]
  },
  {
   "cell_type": "markdown",
   "metadata": {},
   "source": [
    "내가 볼때는 대략 threshold 값이 60 일때,  \n",
    "Precision : 0.74 대략...  \n",
    "Recall : 0.21 대랙 으로..제일 좋은 시점이 아닌가 싶다. 원저자는 threshold = 2.9 로 했다."
   ]
  },
  {
   "cell_type": "code",
   "execution_count": null,
   "metadata": {},
   "outputs": [],
   "source": [
    "threshold_00 = 2.9\n",
    "threshold_01 = 60.0"
   ]
  },
  {
   "cell_type": "code",
   "execution_count": null,
   "metadata": {},
   "outputs": [],
   "source": [
    "groups = error_df.groupby('true_class')\n",
    "fig, ax = plt.subplots()\n",
    "\n",
    "for name, group in groups:\n",
    "    ax.plot(group.index, group.reconstruction_error, marker='o', ms=3.5, linestyle='',\n",
    "            label= \"Fraud\" if name == 1 else \"Normal\")\n",
    "ax.hlines(threshold_00, ax.get_xlim()[0], ax.get_xlim()[1], colors=\"r\", zorder=100, label='Threshold_00')\n",
    "ax.hlines(threshold_01, ax.get_xlim()[0], ax.get_xlim()[1], colors=\"g\", zorder=100, label='Threshold_01')\n",
    "ax.legend()\n",
    "plt.title(\"Reconstruction error for different classes\")\n",
    "plt.ylabel(\"Reconstruction error\")\n",
    "plt.xlabel(\"Data point index\")\n",
    "plt.show();"
   ]
  },
  {
   "cell_type": "code",
   "execution_count": null,
   "metadata": {},
   "outputs": [],
   "source": [
    "y_pred = [1 if e > threshold_00 else 0 for e in error_df.reconstruction_error.values]\n",
    "conf_matrix = confusion_matrix(error_df.true_class, y_pred)\n",
    "target_names = ['normal','fraud']\n",
    "print(classification_report(error_df.true_class,y_pred,target_names=target_names))"
   ]
  },
  {
   "cell_type": "code",
   "execution_count": null,
   "metadata": {},
   "outputs": [],
   "source": [
    "y_pred = [1 if e > threshold_01 else 0 for e in error_df.reconstruction_error.values]\n",
    "conf_matrix = confusion_matrix(error_df.true_class, y_pred)\n",
    "target_names = ['normal','fraud']\n",
    "print(classification_report(error_df.true_class,y_pred,target_names=target_names))"
   ]
  },
  {
   "cell_type": "markdown",
   "metadata": {},
   "source": [
    "threshold 값을 표현되었지만, 사실 이 값은 reconstruction_error 이다. sqrt 하지 않은 mse 이다. 이 기준값을 threshold 로 하는건데...\n",
    "(threshold_00 : 원 저자의 threshold vs threshold_01 : cypision(본인) 의 threshold)  \n",
    "솔직히 왜 원저자는 2.9 로 했는지 모르겠다. 실제 그래프도 내가 실습한거와 비슷한 모양인데. 뭔가 이유가 있을것 같은데..나는 모르겠다.  \n",
    "일단, 내가 잡은 에러값기준, 60 이 좀더, fraud 기준으로 f1-score 가 더 좋다. 여기까지만이다."
   ]
  },
  {
   "cell_type": "markdown",
   "metadata": {},
   "source": [
    "하기는 Keras 의 Sequantial 클래스를 이용하여 모델을 구성한것임 - 참고용"
   ]
  },
  {
   "cell_type": "markdown",
   "metadata": {},
   "source": [
    "#### Sequatial Class 로 네트워크 층 만들기  \n",
    "================__Start__================"
   ]
  },
  {
   "cell_type": "code",
   "execution_count": null,
   "metadata": {},
   "outputs": [],
   "source": [
    "from keras import models\n",
    "from keras import layers\n",
    "\n",
    "input_dim = X_train.shape[1]\n",
    "## input_layer\n",
    "model_S = models.Sequential()\n",
    "## Dense_layer first Encoder - 14\n",
    "model_S.add(layers.Dense(14,activation=\"tanh\",activity_regularizer=regularizers.l1(10e-5)))\n",
    "## Dense_layer Second Encoder - 7\n",
    "model_S.add(layers.Dense(7,activation=\"relu\"))\n",
    "## Dense_layer First Decoder - 7\n",
    "model_S.add(layers.Dense(7,activation='tanh'))\n",
    "## Dense_layer Second Decoder - 14\n",
    "model_S.add(layers.Dense(14,activation='relu'))"
   ]
  },
  {
   "cell_type": "markdown",
   "metadata": {},
   "source": [
    "#### Sequatial Class 로 네트워크 층 만들기  \n",
    "================__End__================"
   ]
  },
  {
   "cell_type": "markdown",
   "metadata": {},
   "source": [
    "#### summary\n",
    "> normal 데이터만을 학습하고, 이를 최적화 시킨다.\n",
    "> 이제 encoder1-encoder2-decoder1-decoder1  구성으로 loss 함수를 MSE 로 한다. \n",
    "> (autoencoder.compile(optimizer='adam',loss='mean_squared_error',metrics=['accuracy']))  \n",
    "> test 데이터나, 실제 데이터가 들어오게 되면, 에러값이 정상데이터보다 훨씬 커지게 출력된다.\n",
    "> precision, recall 값 들을 시각화하여, 최대로 하는 적절한 에러값을 찾고, 이를 threshold 값으로 정한다. \n",
    "> 정해진 threshold 값을 기준으로 classfication 한다. "
   ]
  },
  {
   "cell_type": "markdown",
   "metadata": {},
   "source": [
    "※ [통상 auto encoder의 계층모습 : encoder - Latent vector - decoder]  "
   ]
  }
 ],
 "metadata": {
  "kernelspec": {
   "display_name": "Python 3",
   "language": "python",
   "name": "python3"
  },
  "language_info": {
   "codemirror_mode": {
    "name": "ipython",
    "version": 3
   },
   "file_extension": ".py",
   "mimetype": "text/x-python",
   "name": "python",
   "nbconvert_exporter": "python",
   "pygments_lexer": "ipython3",
   "version": "3.7.7"
  }
 },
 "nbformat": 4,
 "nbformat_minor": 4
}
