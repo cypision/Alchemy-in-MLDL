{
 "cells": [
  {
   "cell_type": "markdown",
   "metadata": {},
   "source": [
    "---\n",
    "title:  \"Association Rule using python\"\n",
    "excerpt: \"python 으로 하는 연관성분석\"\n",
    "\n",
    "categories:\n",
    "  - Machine-Learning\n",
    "tags:\n",
    "  - Recomandation\n",
    "  - association rule\n",
    "  - 장바구니 분석\n",
    "  - 연관성 분석\n",
    "last_modified_at: 2020-04-18T21:15:00-05:00\n",
    "---"
   ]
  },
  {
   "cell_type": "markdown",
   "metadata": {},
   "source": [
    "연관성분석은 흔히, '장바구니'분석으로 많이 알려져있다.  \n",
    "associtaion_rule, A Priori Algorithm 으로 불리기도 한다.\n",
    "\n",
    "[참고자료1 - 한국blog](https://ratsgo.github.io/machine%20learning/2017/04/08/apriori/)  \n",
    "[참고자료2 - Medium](https://medium.com/analytics-vidhya/association-analysis-in-python-2b955d0180c)  \n",
    "\n",
    "컨셉은, 고객들이 사간 장바구니 LIST 가 있다고 할때, 물건A를 샀을때, 함께 살 확률이 높은 물건은 무엇인가? B? C? 이런 의문을 검증하는 것이다."
   ]
  },
  {
   "cell_type": "markdown",
   "metadata": {},
   "source": [
    "여기서 알아둘어야 할 것은 연관성분석을 할때, 이른바 Rule를 찾을대, 여러 방식이 있는데   \n",
    "그중, 빈발항목들에 대해서, 연관성 규칙을 찾는것이 본 posting에서 다루는 것이고, 이것이 가장 Basic 이라 할 수 있다.  \n",
    "\n",
    "1) 모든 가능한 항목집합의 개수(M)를 줄이는 전략 ▶ Apriori algorithm  \n",
    "2) Transaction 개수(N)을 줄이는 전략 ▶ DHP algorithm  \n",
    "3) 비교하는 수(W)를 줄이는 전략 ▶ FP-growth algorithm  \n",
    "\n",
    "출처: https://rfriend.tistory.com/192 [R, Python 분석과 프로그래밍의 친구 (by R Friend)]"
   ]
  },
  {
   "cell_type": "markdown",
   "metadata": {},
   "source": [
    "필수적인 용어를 미리 알아보자  \n",
    "* `support` : rule의 조건이 일어날 확률. A면 B 이다, 되기 위한 조건 A 가 일어날 확률을 일컫는다.  \n",
    "여기서 A 는 표현은 A 사건이라 했지만, A,B 2개(AnB), A,B,C 3개가 될 수도 있는것이다.  \n",
    "The support of X with respect to T is defined as the proportion of transactions t in the dataset which contains the itemset X. -> [wikipedia](https://en.wikipedia.org/wiki/Association_rule_learning#Support)"
   ]
  },
  {
   "cell_type": "markdown",
   "metadata": {},
   "source": [
    "![img](../dataset/association_rule/asso_01.PNG)"
   ]
  },
  {
   "cell_type": "markdown",
   "metadata": {},
   "source": [
    "* `confindence` : rule의 조건이 일어났을대, 결과가 일어날 확률. P(A,B) => P(A ∩ B)  \n",
    "즉 __confidence는 P(B|A) 조건부 확률__이다.  \n",
    "P(A ∩ B) = P(A)* P(B|A)  \n",
    "\n",
    "item 집합간의 연관성 강도를 측정하는데, 사용된다고 보면 된다."
   ]
  },
  {
   "cell_type": "markdown",
   "metadata": {},
   "source": [
    "![img](../dataset/association_rule/asso_02.PNG)"
   ]
  },
  {
   "cell_type": "markdown",
   "metadata": {},
   "source": [
    "* `lift` : 조건과 결과가 각각 독립적이라고 가정했을때, 보다 얼마나 더 좋은가?  \n",
    "\n",
    "다만, 위에서 언급한 모든 A,B 의 표현이 개별 item 으로만 소개가 되었는데, 실전에서는 헷갈리지 말아야 하는 것이  \n",
    "P(A n (BnC)) , P(A n (BnCnD)), P((AnB) n (CnD)) 이런 조합으로도 계산이 이루어지고 있음을 알아야 한다."
   ]
  },
  {
   "cell_type": "markdown",
   "metadata": {},
   "source": [
    "![img](../dataset/association_rule/asso_03.PNG)"
   ]
  },
  {
   "cell_type": "markdown",
   "metadata": {},
   "source": [
    "# 연관성 분석 수행하기 (연관성있는 Rule 찾기)\n",
    "### 최소 지지도 정하기"
   ]
  },
  {
   "cell_type": "markdown",
   "metadata": {},
   "source": [
    "규칙을 생성할때, 주의할 점은, 기본적으로 무수히 많은 제품이 있고, 많은 조합이 생길수 있다. 그렇다면, 이 모든 조합을 계산한다는 것은 사실상 불가능한 일일 것이다.  \n",
    "(모든 case 를 가정하면, 2개 묶음만 생각하더라도, n*(n-1) 이며, 3개는 n(n-1)(n-2)로  된다.  \n",
    "그렇기 때문에, 항상 최소 지지도(확률)을 설정하고 rule 탐색 과정으로 들어가야 한다.  \n",
    "\n",
    "최소 지지도를 구할때, P(특정 s item)의 값이 최소 지지도를 넘지 못한다면, 그 이후, s item 이 들어간 조합은 고려할 필요가 없다.   \n",
    "왜냐하면, s 가 있는 조합은 어떤 조합이 되는지 교집합의 확률이 s 만의 확률(지지도)를 넘지 못하기 때문이다. \n",
    "\n",
    "아래 그림을 보면, 좀 더 이해하기 쉬울 것이다.  아래 그림은 최소 지지도를 0.5 = (2/4) 로 한 경우이다.  \n",
    "통상 Transaction을 전체로 최소지지도를 2로표현하기도 한다."
   ]
  },
  {
   "cell_type": "markdown",
   "metadata": {},
   "source": [
    "![img](../dataset/association_rule/fequent.PNG)"
   ]
  },
  {
   "cell_type": "markdown",
   "metadata": {},
   "source": [
    "### 최소지지도가 넘는 조합들에 대하여, confidence 와 lift 를 구하고, lift 순서데로, 연관성Rule 이 가장 높은 것을 찾는다."
   ]
  },
  {
   "cell_type": "code",
   "execution_count": 1,
   "metadata": {},
   "outputs": [
    {
     "data": {
      "text/plain": [
       "2.5"
      ]
     },
     "execution_count": 1,
     "metadata": {},
     "output_type": "execute_result"
    }
   ],
   "source": [
    "0.2/0.08"
   ]
  },
  {
   "cell_type": "markdown",
   "metadata": {},
   "source": [
    "### 실습해보기 01 이론처럼 구현한다. 02에서는 library 활용\n",
    "실습코드 활용주소(https://frhyme.github.io/associative_mining/)"
   ]
  },
  {
   "cell_type": "code",
   "execution_count": 2,
   "metadata": {},
   "outputs": [],
   "source": [
    "import pandas as pd\n",
    "import numpy as np\n",
    "import itertools ## 조합만들때, 필요하다."
   ]
  },
  {
   "cell_type": "code",
   "execution_count": 3,
   "metadata": {},
   "outputs": [],
   "source": [
    "mdf = pd.read_csv('D:/★2020_ML_DL_Project/Alchemy/dataset/marketbasket.csv',encoding='UTF8',header='infer')"
   ]
  },
  {
   "cell_type": "code",
   "execution_count": 4,
   "metadata": {},
   "outputs": [
    {
     "name": "stdout",
     "output_type": "stream",
     "text": [
      "(1361, 255)\n",
      "Index([' Hair Conditioner', ' Lemons', ' Standard coffee',\n",
      "       ' Frozen Chicken Wings', ' 98pct. Fat Free Hamburger', ' Sugar Cookies',\n",
      "       ' Onions', ' Deli Ham', ' Dishwasher Detergent', ' Beets',\n",
      "       ...\n",
      "       ' Lollipops', ' Plain White Bread', ' Blueberry Yogurt',\n",
      "       ' Frozen Chicken Thighs', ' Mixed Vegetables', ' Souring Pads',\n",
      "       ' Tuna Spread', ' Toilet Paper', ' White Wine', ' Columbian Coffee'],\n",
      "      dtype='object', length=255)\n"
     ]
    },
    {
     "data": {
      "text/html": [
       "<div>\n",
       "<style scoped>\n",
       "    .dataframe tbody tr th:only-of-type {\n",
       "        vertical-align: middle;\n",
       "    }\n",
       "\n",
       "    .dataframe tbody tr th {\n",
       "        vertical-align: top;\n",
       "    }\n",
       "\n",
       "    .dataframe thead th {\n",
       "        text-align: right;\n",
       "    }\n",
       "</style>\n",
       "<table border=\"1\" class=\"dataframe\">\n",
       "  <thead>\n",
       "    <tr style=\"text-align: right;\">\n",
       "      <th></th>\n",
       "      <th>Hair Conditioner</th>\n",
       "      <th>Lemons</th>\n",
       "      <th>Standard coffee</th>\n",
       "      <th>Frozen Chicken Wings</th>\n",
       "      <th>98pct. Fat Free Hamburger</th>\n",
       "      <th>Sugar Cookies</th>\n",
       "      <th>Onions</th>\n",
       "      <th>Deli Ham</th>\n",
       "      <th>Dishwasher Detergent</th>\n",
       "      <th>Beets</th>\n",
       "      <th>...</th>\n",
       "      <th>Lollipops</th>\n",
       "      <th>Plain White Bread</th>\n",
       "      <th>Blueberry Yogurt</th>\n",
       "      <th>Frozen Chicken Thighs</th>\n",
       "      <th>Mixed Vegetables</th>\n",
       "      <th>Souring Pads</th>\n",
       "      <th>Tuna Spread</th>\n",
       "      <th>Toilet Paper</th>\n",
       "      <th>White Wine</th>\n",
       "      <th>Columbian Coffee</th>\n",
       "    </tr>\n",
       "  </thead>\n",
       "  <tbody>\n",
       "    <tr>\n",
       "      <th>0</th>\n",
       "      <td>0</td>\n",
       "      <td>0</td>\n",
       "      <td>0</td>\n",
       "      <td>0</td>\n",
       "      <td>0</td>\n",
       "      <td>0</td>\n",
       "      <td>0</td>\n",
       "      <td>0</td>\n",
       "      <td>0</td>\n",
       "      <td>0</td>\n",
       "      <td>...</td>\n",
       "      <td>0</td>\n",
       "      <td>0</td>\n",
       "      <td>0</td>\n",
       "      <td>0</td>\n",
       "      <td>0</td>\n",
       "      <td>0</td>\n",
       "      <td>0</td>\n",
       "      <td>0</td>\n",
       "      <td>0</td>\n",
       "      <td>0</td>\n",
       "    </tr>\n",
       "    <tr>\n",
       "      <th>1</th>\n",
       "      <td>0</td>\n",
       "      <td>0</td>\n",
       "      <td>0</td>\n",
       "      <td>0</td>\n",
       "      <td>0</td>\n",
       "      <td>0</td>\n",
       "      <td>0</td>\n",
       "      <td>0</td>\n",
       "      <td>0</td>\n",
       "      <td>0</td>\n",
       "      <td>...</td>\n",
       "      <td>0</td>\n",
       "      <td>0</td>\n",
       "      <td>0</td>\n",
       "      <td>0</td>\n",
       "      <td>0</td>\n",
       "      <td>0</td>\n",
       "      <td>0</td>\n",
       "      <td>0</td>\n",
       "      <td>0</td>\n",
       "      <td>0</td>\n",
       "    </tr>\n",
       "    <tr>\n",
       "      <th>2</th>\n",
       "      <td>0</td>\n",
       "      <td>0</td>\n",
       "      <td>0</td>\n",
       "      <td>0</td>\n",
       "      <td>0</td>\n",
       "      <td>0</td>\n",
       "      <td>0</td>\n",
       "      <td>0</td>\n",
       "      <td>0</td>\n",
       "      <td>0</td>\n",
       "      <td>...</td>\n",
       "      <td>0</td>\n",
       "      <td>0</td>\n",
       "      <td>0</td>\n",
       "      <td>0</td>\n",
       "      <td>0</td>\n",
       "      <td>0</td>\n",
       "      <td>0</td>\n",
       "      <td>0</td>\n",
       "      <td>0</td>\n",
       "      <td>0</td>\n",
       "    </tr>\n",
       "    <tr>\n",
       "      <th>3</th>\n",
       "      <td>0</td>\n",
       "      <td>0</td>\n",
       "      <td>0</td>\n",
       "      <td>0</td>\n",
       "      <td>0</td>\n",
       "      <td>0</td>\n",
       "      <td>0</td>\n",
       "      <td>0</td>\n",
       "      <td>0</td>\n",
       "      <td>0</td>\n",
       "      <td>...</td>\n",
       "      <td>0</td>\n",
       "      <td>0</td>\n",
       "      <td>0</td>\n",
       "      <td>0</td>\n",
       "      <td>0</td>\n",
       "      <td>0</td>\n",
       "      <td>0</td>\n",
       "      <td>0</td>\n",
       "      <td>0</td>\n",
       "      <td>0</td>\n",
       "    </tr>\n",
       "    <tr>\n",
       "      <th>4</th>\n",
       "      <td>0</td>\n",
       "      <td>0</td>\n",
       "      <td>0</td>\n",
       "      <td>0</td>\n",
       "      <td>0</td>\n",
       "      <td>0</td>\n",
       "      <td>0</td>\n",
       "      <td>0</td>\n",
       "      <td>0</td>\n",
       "      <td>0</td>\n",
       "      <td>...</td>\n",
       "      <td>0</td>\n",
       "      <td>0</td>\n",
       "      <td>0</td>\n",
       "      <td>0</td>\n",
       "      <td>0</td>\n",
       "      <td>0</td>\n",
       "      <td>0</td>\n",
       "      <td>0</td>\n",
       "      <td>0</td>\n",
       "      <td>0</td>\n",
       "    </tr>\n",
       "  </tbody>\n",
       "</table>\n",
       "<p>5 rows × 255 columns</p>\n",
       "</div>"
      ],
      "text/plain": [
       "    Hair Conditioner   Lemons   Standard coffee   Frozen Chicken Wings  \\\n",
       "0                  0        0                 0                      0   \n",
       "1                  0        0                 0                      0   \n",
       "2                  0        0                 0                      0   \n",
       "3                  0        0                 0                      0   \n",
       "4                  0        0                 0                      0   \n",
       "\n",
       "    98pct. Fat Free Hamburger   Sugar Cookies   Onions   Deli Ham  \\\n",
       "0                           0               0        0          0   \n",
       "1                           0               0        0          0   \n",
       "2                           0               0        0          0   \n",
       "3                           0               0        0          0   \n",
       "4                           0               0        0          0   \n",
       "\n",
       "    Dishwasher Detergent   Beets  ...   Lollipops   Plain White Bread  \\\n",
       "0                      0       0  ...           0                   0   \n",
       "1                      0       0  ...           0                   0   \n",
       "2                      0       0  ...           0                   0   \n",
       "3                      0       0  ...           0                   0   \n",
       "4                      0       0  ...           0                   0   \n",
       "\n",
       "    Blueberry Yogurt   Frozen Chicken Thighs   Mixed Vegetables  \\\n",
       "0                  0                       0                  0   \n",
       "1                  0                       0                  0   \n",
       "2                  0                       0                  0   \n",
       "3                  0                       0                  0   \n",
       "4                  0                       0                  0   \n",
       "\n",
       "    Souring Pads   Tuna Spread   Toilet Paper   White Wine   Columbian Coffee  \n",
       "0              0             0              0            0                  0  \n",
       "1              0             0              0            0                  0  \n",
       "2              0             0              0            0                  0  \n",
       "3              0             0              0            0                  0  \n",
       "4              0             0              0            0                  0  \n",
       "\n",
       "[5 rows x 255 columns]"
      ]
     },
     "execution_count": 4,
     "metadata": {},
     "output_type": "execute_result"
    }
   ],
   "source": [
    "print(mdf.shape) ## 트랜잭션 수는 1361 건이다.\n",
    "print(mdf.columns) ## 품목이 255건이나 된다.\n",
    "mdf.head()"
   ]
  },
  {
   "cell_type": "code",
   "execution_count": 5,
   "metadata": {},
   "outputs": [],
   "source": [
    "new_columns = mdf.columns.str.strip().to_list()"
   ]
  },
  {
   "cell_type": "code",
   "execution_count": 6,
   "metadata": {},
   "outputs": [],
   "source": [
    "mdf.columns = new_columns"
   ]
  },
  {
   "cell_type": "code",
   "execution_count": 7,
   "metadata": {},
   "outputs": [
    {
     "data": {
      "text/html": [
       "<div>\n",
       "<style scoped>\n",
       "    .dataframe tbody tr th:only-of-type {\n",
       "        vertical-align: middle;\n",
       "    }\n",
       "\n",
       "    .dataframe tbody tr th {\n",
       "        vertical-align: top;\n",
       "    }\n",
       "\n",
       "    .dataframe thead th {\n",
       "        text-align: right;\n",
       "    }\n",
       "</style>\n",
       "<table border=\"1\" class=\"dataframe\">\n",
       "  <thead>\n",
       "    <tr style=\"text-align: right;\">\n",
       "      <th></th>\n",
       "      <th>Hair Conditioner</th>\n",
       "      <th>Lemons</th>\n",
       "      <th>Standard coffee</th>\n",
       "      <th>Frozen Chicken Wings</th>\n",
       "      <th>98pct. Fat Free Hamburger</th>\n",
       "      <th>Sugar Cookies</th>\n",
       "      <th>Onions</th>\n",
       "      <th>Deli Ham</th>\n",
       "      <th>Dishwasher Detergent</th>\n",
       "      <th>Beets</th>\n",
       "      <th>...</th>\n",
       "      <th>Lollipops</th>\n",
       "      <th>Plain White Bread</th>\n",
       "      <th>Blueberry Yogurt</th>\n",
       "      <th>Frozen Chicken Thighs</th>\n",
       "      <th>Mixed Vegetables</th>\n",
       "      <th>Souring Pads</th>\n",
       "      <th>Tuna Spread</th>\n",
       "      <th>Toilet Paper</th>\n",
       "      <th>White Wine</th>\n",
       "      <th>Columbian Coffee</th>\n",
       "    </tr>\n",
       "  </thead>\n",
       "  <tbody>\n",
       "    <tr>\n",
       "      <th>0</th>\n",
       "      <td>0</td>\n",
       "      <td>0</td>\n",
       "      <td>0</td>\n",
       "      <td>0</td>\n",
       "      <td>0</td>\n",
       "      <td>0</td>\n",
       "      <td>0</td>\n",
       "      <td>0</td>\n",
       "      <td>0</td>\n",
       "      <td>0</td>\n",
       "      <td>...</td>\n",
       "      <td>0</td>\n",
       "      <td>0</td>\n",
       "      <td>0</td>\n",
       "      <td>0</td>\n",
       "      <td>0</td>\n",
       "      <td>0</td>\n",
       "      <td>0</td>\n",
       "      <td>0</td>\n",
       "      <td>0</td>\n",
       "      <td>0</td>\n",
       "    </tr>\n",
       "    <tr>\n",
       "      <th>1</th>\n",
       "      <td>0</td>\n",
       "      <td>0</td>\n",
       "      <td>0</td>\n",
       "      <td>0</td>\n",
       "      <td>0</td>\n",
       "      <td>0</td>\n",
       "      <td>0</td>\n",
       "      <td>0</td>\n",
       "      <td>0</td>\n",
       "      <td>0</td>\n",
       "      <td>...</td>\n",
       "      <td>0</td>\n",
       "      <td>0</td>\n",
       "      <td>0</td>\n",
       "      <td>0</td>\n",
       "      <td>0</td>\n",
       "      <td>0</td>\n",
       "      <td>0</td>\n",
       "      <td>0</td>\n",
       "      <td>0</td>\n",
       "      <td>0</td>\n",
       "    </tr>\n",
       "  </tbody>\n",
       "</table>\n",
       "<p>2 rows × 255 columns</p>\n",
       "</div>"
      ],
      "text/plain": [
       "   Hair Conditioner  Lemons  Standard coffee  Frozen Chicken Wings  \\\n",
       "0                 0       0                0                     0   \n",
       "1                 0       0                0                     0   \n",
       "\n",
       "   98pct. Fat Free Hamburger  Sugar Cookies  Onions  Deli Ham  \\\n",
       "0                          0              0       0         0   \n",
       "1                          0              0       0         0   \n",
       "\n",
       "   Dishwasher Detergent  Beets  ...  Lollipops  Plain White Bread  \\\n",
       "0                     0      0  ...          0                  0   \n",
       "1                     0      0  ...          0                  0   \n",
       "\n",
       "   Blueberry Yogurt  Frozen Chicken Thighs  Mixed Vegetables  Souring Pads  \\\n",
       "0                 0                      0                 0             0   \n",
       "1                 0                      0                 0             0   \n",
       "\n",
       "   Tuna Spread  Toilet Paper  White Wine  Columbian Coffee  \n",
       "0            0             0           0                 0  \n",
       "1            0             0           0                 0  \n",
       "\n",
       "[2 rows x 255 columns]"
      ]
     },
     "execution_count": 7,
     "metadata": {},
     "output_type": "execute_result"
    }
   ],
   "source": [
    "mdf.head(2)"
   ]
  },
  {
   "cell_type": "markdown",
   "metadata": {},
   "source": [
    "이론에 충실하게, 직접 코딩을 참고자료에서, 했길래 그대로 차용했다.  \n",
    "### support 함수 + 최소지지도 만족하는 조합 찾는 함수 만들기"
   ]
  },
  {
   "cell_type": "code",
   "execution_count": 8,
   "metadata": {},
   "outputs": [],
   "source": [
    "def support(df, item_lst):\n",
    "    return (df[list(item_lst)].sum(axis=1)==len(item_lst)).mean() ## columns 의 single col를 list형변환 이후, \n",
    "    ## df[list(item_lst)] -> item_lst(list type)을 다시 한번 list로 형변환해서, [[]] 으로 받음."
   ]
  },
  {
   "cell_type": "code",
   "execution_count": 9,
   "metadata": {},
   "outputs": [
    {
     "name": "stdout",
     "output_type": "stream",
     "text": [
      "0.030124908155767818\n"
     ]
    }
   ],
   "source": [
    "rslt = support(mdf, ['Lemons'])\n",
    "print(rslt)"
   ]
  },
  {
   "cell_type": "markdown",
   "metadata": {},
   "source": [
    "상기 함수는 원본인데, 특별한 거 없이, 각 item이 전체 트랜색션에서, 발생하는 확률P(A) 를 구해서, float64 형태의 값으로 돌려준다.  \n",
    "의미는 같게해서, 재정의해서 사용하면,"
   ]
  },
  {
   "cell_type": "code",
   "execution_count": 10,
   "metadata": {},
   "outputs": [
    {
     "name": "stdout",
     "output_type": "stream",
     "text": [
      "0\n",
      "0\n"
     ]
    }
   ],
   "source": [
    "print(mdf.isnull().any().sum()) ## 우선, 각 컬럼별 null 값은 없다.\n",
    "print(mdf[mdf > 1].any().sum()) ## 데이터셋에서는 1 이상의 값을 가지는 value 값도 없다."
   ]
  },
  {
   "cell_type": "code",
   "execution_count": 11,
   "metadata": {},
   "outputs": [],
   "source": [
    "def support_me(df, items_lst): ## dataframe 형태에서만, sum(axis=1) 이 가능하기에, single item 처음부터 parmeter를 list 형태로만 받는다.\n",
    "    items_lst = items_lst if isinstance(items_lst,list) else list(items_lst)\n",
    "    a = np.sum(mdf.loc[:,items_lst].sum(axis=1)==len(items_lst)) ## 해당 item 집합이 발생한 확률. 1개 조합일때는 1개의 빈도수가 되고, 2개 이상일때는 해당 조합의 교집합 빈도수가 된다..\n",
    "    b = df.loc[:,items_lst].shape[0] ## 전체 transaction 수\n",
    "    return a/b   "
   ]
  },
  {
   "cell_type": "code",
   "execution_count": 12,
   "metadata": {},
   "outputs": [
    {
     "name": "stdout",
     "output_type": "stream",
     "text": [
      "love\n"
     ]
    }
   ],
   "source": [
    "q = list('ABCDE')\n",
    "# print(q.__class__)\n",
    "if isinstance(q,list):\n",
    "    print('love')"
   ]
  },
  {
   "cell_type": "code",
   "execution_count": 13,
   "metadata": {},
   "outputs": [
    {
     "name": "stdout",
     "output_type": "stream",
     "text": [
      "0.01689933872152829 0.030124908155767818\n"
     ]
    }
   ],
   "source": [
    "rslt01 = support_me(mdf, ('Lemons','Onions')) ## 'Lemons','Onions'\n",
    "rslt02 = support_me(mdf, ['Lemons']) ## 'Lemons','Onions'\n",
    "print(rslt01,rslt02)"
   ]
  },
  {
   "cell_type": "markdown",
   "metadata": {},
   "source": [
    "이해하기 쉽게 여기서는 support_me 함수를 사용한다."
   ]
  },
  {
   "cell_type": "code",
   "execution_count": 14,
   "metadata": {},
   "outputs": [
    {
     "name": "stdout",
     "output_type": "stream",
     "text": [
      "['A', 'B', 'C', 'D', 'E']\n",
      "[('A', 'B', 'C'), ('A', 'B', 'D'), ('A', 'B', 'E'), ('A', 'C', 'D'), ('A', 'C', 'E'), ('A', 'D', 'E'), ('B', 'C', 'D'), ('B', 'C', 'E'), ('B', 'D', 'E'), ('C', 'D', 'E')]\n",
      "<class 'tuple'>\n",
      "[]\n"
     ]
    }
   ],
   "source": [
    "aa = list('ABCDE')\n",
    "print(aa)\n",
    "print(list(itertools.combinations(aa, 3)))\n",
    "print(type(list(itertools.combinations(aa, 3))[0]))\n",
    "print(list(itertools.combinations(aa, 6))) ## 가능조합이 넘어선 parameter가 입력되면, 빈 list를 던진다."
   ]
  },
  {
   "cell_type": "code",
   "execution_count": 15,
   "metadata": {},
   "outputs": [],
   "source": [
    "## 모든 조합에 대해서, 최소 지지도 값을 넘는 조합 만들기\n",
    "def make_all_set_over_support(df, support_threshold):\n",
    "    items = []\n",
    "    single_items = [col for col in df.columns if support_me(df, [col]) > support_threshold] # size 1 items original,threshold 값을 넘는 것만 1차로 추리고\n",
    "    \n",
    "    size = 2 ## 2개 조합부터 시작해서~\n",
    "    while True:\n",
    "        new_items = []\n",
    "        for item_cand in itertools.combinations(single_items, size): ## 각 item집합에서, 2개,3개~ combination 조합 값을 가져온다.\n",
    "#             print(item_cand,df.loc[:,item].sum()/df.loc[:,item].count())\n",
    "            if support_me(df, item_cand) > support_threshold:\n",
    "                new_items.append(list(item_cand))\n",
    "        if len(new_items)==0: ## 가능조합이 넘어선 parameter가 입력되면, 빈 list를 던진다.\n",
    "            break\n",
    "        else:\n",
    "            items+=new_items\n",
    "            size+=1 ## 1개씩 계속 올린다.\n",
    "    items += [ [s] for s in single_items]# 마지막에, single_items 값들을 각각 list로 변화시켜서 기존 2개이상 조합들을 구한 값에 합친다.\n",
    "    return items"
   ]
  },
  {
   "cell_type": "code",
   "execution_count": 188,
   "metadata": {},
   "outputs": [],
   "source": [
    "over_support_lst = make_all_set_over_support(mdf, 0.07)# 0.05로 하면 두 개짜리도 가능하며, 0.07 일 경우는 1개짜리 조합밖에 없음."
   ]
  },
  {
   "cell_type": "code",
   "execution_count": 189,
   "metadata": {},
   "outputs": [
    {
     "data": {
      "text/plain": [
       "[['98pct. Fat Free Hamburger'],\n",
       " ['Onions'],\n",
       " ['Potato Chips'],\n",
       " ['Hot Dogs'],\n",
       " ['2pct. Milk'],\n",
       " ['Eggs'],\n",
       " ['White Bread'],\n",
       " ['Cola'],\n",
       " ['Toothpaste'],\n",
       " ['Hamburger Buns'],\n",
       " ['Wheat Bread'],\n",
       " ['Sweet Relish'],\n",
       " ['Toilet Paper']]"
      ]
     },
     "execution_count": 189,
     "metadata": {},
     "output_type": "execute_result"
    }
   ],
   "source": [
    "over_support_lst"
   ]
  },
  {
   "cell_type": "markdown",
   "metadata": {},
   "source": [
    "### confidence 함수 만들기"
   ]
  },
  {
   "cell_type": "code",
   "execution_count": 18,
   "metadata": {},
   "outputs": [],
   "source": [
    "def make_confidence_lst(df, item_set_over_support, confidence_threshold): ## confidence_threshold\n",
    "    r_lst = []\n",
    "    for item1 in item_set_over_support: ## 2중 for 문\n",
    "        for item2 in item_set_over_support:\n",
    "            if len(set(item1).intersection(set(item2)))==0: ## 2집합의 교집합이 없으면, 신뢰도 값(=조건부확률값) 계산을 진행한다. 다른말로, 상호배반성이 없으면~\n",
    "                conf = support_me(df, set(item1).union(set(item2)))/ support_me(df, item1) ## item1이 조건부 집합\n",
    "                if conf > confidence_threshold:\n",
    "                    r_lst.append((item1, item2, conf))\n",
    "            else:\n",
    "                continue\n",
    "    return sorted(r_lst, key=lambda x: x[2], reverse=True)"
   ]
  },
  {
   "cell_type": "markdown",
   "metadata": {},
   "source": [
    "`len(set(item1).intersection(set(item2)))==0` 상기 함수에서, 이 부분을 주목해야 한다.   \n",
    "\n",
    "**confidence 는 조건절이 일어났을때, 결과절의 확률을 구하는 P(A|B) [B조건이 일어났을때, A결과절 확률]**  \n",
    "\n",
    "정의한 함수식을 해석하면, P((AnB)|(BnC)) 의 상황에서는 else 절로 빠지고 confidence 계산을 하지 않는다. B 가 교집합이기 때문이다.  \n",
    "이렇게 함수를 정의한 이유는, 연관성분석이 `상호배반성(mutually exclusive)`를 가정하기 때문이다.  \n",
    "\n",
    "예컨대 ‘달걀을 구매하는 사람들은 라면도 함께 산다’를 보자. 여기에서 ‘달걀 구매’가 조건절, ‘라면 구매’가 결과절이며 각각의 아이템 집합은 ‘달걀’, ‘라면’이 된다.  \n",
    "단 여기에서 조건절 아이템 집합과 결과절 아이템 집합은 말 그대로 집합, 여러개 아이템이 들어가도 되지만 상호배반(mutually exclusive)이어야 된다는 것으로,  \n",
    "다시 말해 조건절에 달걀이 들어가 있다면 결과절에는 달걀이 포함되어서는 안된다는 뜻이다."
   ]
  },
  {
   "cell_type": "markdown",
   "metadata": {},
   "source": [
    "### lift 함수 만들기"
   ]
  },
  {
   "cell_type": "code",
   "execution_count": 19,
   "metadata": {},
   "outputs": [],
   "source": [
    "def make_lift_lst(df, item_set_over_support, lift_threhsold):\n",
    "    r_lst = []\n",
    "    for item1 in item_set_over_support:  ## 2중 for 문\n",
    "        for item2 in item_set_over_support: \n",
    "            if len(set(item1).intersection(set(item2)))==0: ## 2집합의 교집합이 없으면, 신뢰도 값(=조건부확률값) 계산을 진행한다. 다른말로, 상호배반성이 없으면~\n",
    "                lift = support_me(df, list(set(item1).union(set(item2)))) ## 최초 수식에서, P(AnB)에 대응되는 개념\n",
    "                lift /= support(df, item1) ## 최초 수식에서, P(A)에 대응되는 개념\n",
    "                lift /= support(df, item2) ## 최초 수식에서, P(B)에 대응되는 개념\n",
    "                if lift > lift_threhsold:\n",
    "                    r_lst.append((item1, item2, lift))\n",
    "            else:\n",
    "                continue\n",
    "    return sorted(r_lst, key=lambda x: x[2], reverse=True)"
   ]
  },
  {
   "cell_type": "markdown",
   "metadata": {},
   "source": [
    "### 실행해보기"
   ]
  },
  {
   "cell_type": "code",
   "execution_count": 20,
   "metadata": {},
   "outputs": [
    {
     "name": "stdout",
     "output_type": "stream",
     "text": [
      "over support list\n",
      "[['98pct. Fat Free Hamburger'], ['Onions'], ['Potato Chips'], ['Hot Dogs'], ['2pct. Milk'], ['Eggs'], ['White Bread'], ['Cola'], ['Toothpaste'], ['Hamburger Buns'], ['Wheat Bread'], ['Sweet Relish'], ['Toilet Paper']]\n",
      "-----------------\n",
      "over confidence list\n",
      "['Hamburger Buns'] => ['98pct. Fat Free Hamburger']: 0.6804123711340206\n",
      "['Toothpaste'] => ['White Bread']: 0.6018518518518519\n",
      "['Toothpaste'] => ['Eggs']: 0.5648148148148148\n",
      "['Wheat Bread'] => ['White Bread']: 0.5619047619047619\n",
      "['Wheat Bread'] => ['2pct. Milk']: 0.5523809523809524\n",
      "['Sweet Relish'] => ['Hot Dogs']: 0.5517241379310344\n",
      "['Toothpaste'] => ['2pct. Milk']: 0.5462962962962963\n",
      "['Onions'] => ['White Bread']: 0.5321100917431193\n",
      "-----------------\n",
      "over lift list\n",
      "['Hamburger Buns'] => ['98pct. Fat Free Hamburger']: 7.291663284357497\n",
      "['98pct. Fat Free Hamburger'] => ['Hamburger Buns']: 7.291663284357496\n",
      "['Hot Dogs'] => ['Sweet Relish']: 5.9594964422550625\n",
      "['Sweet Relish'] => ['Hot Dogs']: 5.959496442255062\n",
      "['Toothpaste'] => ['Wheat Bread']: 5.640828924162257\n",
      "['Wheat Bread'] => ['Toothpaste']: 5.640828924162257\n",
      "-----------------\n"
     ]
    }
   ],
   "source": [
    "print(\"over support list\")\n",
    "print(over_support_lst)\n",
    "print(\"-----------------\")\n",
    "print(\"over confidence list\")\n",
    "for a, b, conf in  make_confidence_lst(mdf, over_support_lst, 0.53): ## threshold 는 참조자료를 그대로 차용했다.\n",
    "    print(\"{} => {}: {}\".format(a, b, conf))\n",
    "print(\"-----------------\")\n",
    "print(\"over lift list\")\n",
    "for a, b, lift in  make_lift_lst(mdf, over_support_lst, 5.6): ## threshold 는 참조자료를 그대로 차용했다.\n",
    "    print(\"{} => {}: {}\".format(a, b, lift))\n",
    "print(\"-----------------\")"
   ]
  },
  {
   "cell_type": "markdown",
   "metadata": {},
   "source": [
    "# python 정식 library로 해보기  \n",
    "참고 blog (https://medium.com/analytics-vidhya/association-analysis-in-python-2b955d0180c)"
   ]
  },
  {
   "cell_type": "markdown",
   "metadata": {},
   "source": [
    "mdf 데이터를 사용하기 전에, 참고 Blog에서 활용한 데이터를 가지고 연습한 이후, 해본다."
   ]
  },
  {
   "cell_type": "code",
   "execution_count": 21,
   "metadata": {},
   "outputs": [],
   "source": [
    "from mlxtend.frequent_patterns import apriori, association_rules\n",
    "import matplotlib.pyplot as plt\n",
    "%matplotlib inline"
   ]
  },
  {
   "cell_type": "code",
   "execution_count": 22,
   "metadata": {},
   "outputs": [],
   "source": [
    "df = pd.read_csv('D:/★2020_ML_DL_Project/Alchemy/dataset/retail_dataset.csv',encoding='UTF8',header='infer')"
   ]
  },
  {
   "cell_type": "code",
   "execution_count": 23,
   "metadata": {},
   "outputs": [
    {
     "data": {
      "text/html": [
       "<div>\n",
       "<style scoped>\n",
       "    .dataframe tbody tr th:only-of-type {\n",
       "        vertical-align: middle;\n",
       "    }\n",
       "\n",
       "    .dataframe tbody tr th {\n",
       "        vertical-align: top;\n",
       "    }\n",
       "\n",
       "    .dataframe thead th {\n",
       "        text-align: right;\n",
       "    }\n",
       "</style>\n",
       "<table border=\"1\" class=\"dataframe\">\n",
       "  <thead>\n",
       "    <tr style=\"text-align: right;\">\n",
       "      <th></th>\n",
       "      <th>item00</th>\n",
       "      <th>item01</th>\n",
       "      <th>item02</th>\n",
       "      <th>item03</th>\n",
       "      <th>item04</th>\n",
       "      <th>item05</th>\n",
       "      <th>item06</th>\n",
       "    </tr>\n",
       "  </thead>\n",
       "  <tbody>\n",
       "    <tr>\n",
       "      <th>0</th>\n",
       "      <td>Bread</td>\n",
       "      <td>Wine</td>\n",
       "      <td>Eggs</td>\n",
       "      <td>Meat</td>\n",
       "      <td>Cheese</td>\n",
       "      <td>Pencil</td>\n",
       "      <td>Diaper</td>\n",
       "    </tr>\n",
       "    <tr>\n",
       "      <th>1</th>\n",
       "      <td>Bread</td>\n",
       "      <td>Cheese</td>\n",
       "      <td>Meat</td>\n",
       "      <td>Diaper</td>\n",
       "      <td>Wine</td>\n",
       "      <td>Milk</td>\n",
       "      <td>Pencil</td>\n",
       "    </tr>\n",
       "    <tr>\n",
       "      <th>2</th>\n",
       "      <td>Cheese</td>\n",
       "      <td>Meat</td>\n",
       "      <td>Eggs</td>\n",
       "      <td>Milk</td>\n",
       "      <td>Wine</td>\n",
       "      <td>NaN</td>\n",
       "      <td>NaN</td>\n",
       "    </tr>\n",
       "    <tr>\n",
       "      <th>3</th>\n",
       "      <td>Cheese</td>\n",
       "      <td>Meat</td>\n",
       "      <td>Eggs</td>\n",
       "      <td>Milk</td>\n",
       "      <td>Wine</td>\n",
       "      <td>NaN</td>\n",
       "      <td>NaN</td>\n",
       "    </tr>\n",
       "    <tr>\n",
       "      <th>4</th>\n",
       "      <td>Meat</td>\n",
       "      <td>Pencil</td>\n",
       "      <td>Wine</td>\n",
       "      <td>NaN</td>\n",
       "      <td>NaN</td>\n",
       "      <td>NaN</td>\n",
       "      <td>NaN</td>\n",
       "    </tr>\n",
       "  </tbody>\n",
       "</table>\n",
       "</div>"
      ],
      "text/plain": [
       "   item00  item01 item02  item03  item04  item05  item06\n",
       "0   Bread    Wine   Eggs    Meat  Cheese  Pencil  Diaper\n",
       "1   Bread  Cheese   Meat  Diaper    Wine    Milk  Pencil\n",
       "2  Cheese    Meat   Eggs    Milk    Wine     NaN     NaN\n",
       "3  Cheese    Meat   Eggs    Milk    Wine     NaN     NaN\n",
       "4    Meat  Pencil   Wine     NaN     NaN     NaN     NaN"
      ]
     },
     "execution_count": 23,
     "metadata": {},
     "output_type": "execute_result"
    }
   ],
   "source": [
    "df.columns = ['item00','item01','item02','item03','item04','item05','item06']\n",
    "df.head()"
   ]
  },
  {
   "cell_type": "code",
   "execution_count": 50,
   "metadata": {},
   "outputs": [],
   "source": [
    "## 전체 item 집합 확인하기\n",
    "total_item = None\n",
    "for col in df.columns:\n",
    "    it = df[col].unique()\n",
    "    if total_item is None:\n",
    "        total_item = set(it)\n",
    "    else:\n",
    "        total_item.union(set(it))\n",
    "total_item_lst = list(total_item)"
   ]
  },
  {
   "cell_type": "code",
   "execution_count": 52,
   "metadata": {},
   "outputs": [
    {
     "data": {
      "text/plain": [
       "['Wine',\n",
       " 'Meat',\n",
       " 'Eggs',\n",
       " 'Bagel',\n",
       " 'Bread',\n",
       " 'Milk',\n",
       " 'Pencil',\n",
       " 'Diaper',\n",
       " 'Cheese']"
      ]
     },
     "execution_count": 52,
     "metadata": {},
     "output_type": "execute_result"
    }
   ],
   "source": [
    "total_item_lst"
   ]
  },
  {
   "cell_type": "code",
   "execution_count": 53,
   "metadata": {},
   "outputs": [
    {
     "name": "stdout",
     "output_type": "stream",
     "text": [
      "9 <class 'list'> \n",
      " ['Wine', 'Meat', 'Eggs', 'Bagel', 'Bread', 'Milk', 'Pencil', 'Diaper', 'Cheese']\n"
     ]
    }
   ],
   "source": [
    "print(len(total_item_lst),type(total_item_lst),'\\n',total_item_lst)"
   ]
  },
  {
   "cell_type": "markdown",
   "metadata": {},
   "source": [
    "필자는 여기서, 참조Blog에서 제시한 custom함수보다, 좀 다르게 ohe 를 구성해보았다.  \n",
    "우선 melt 함수를 활용하려고 하며, 이를 위해선 transaction 에 해당하는 row_index를 컬럼으로 끄집어낸다."
   ]
  },
  {
   "cell_type": "code",
   "execution_count": 88,
   "metadata": {},
   "outputs": [
    {
     "data": {
      "text/plain": [
       "LabelBinarizer(neg_label=0, pos_label=1, sparse_output=False)"
      ]
     },
     "execution_count": 88,
     "metadata": {},
     "output_type": "execute_result"
    }
   ],
   "source": [
    "from sklearn import preprocessing as pre\n",
    "lb = pre.LabelBinarizer()\n",
    "lb.fit(total_item_lst)\n",
    "# ohe = pre. OneHotEncoder(handle_unknown='ignore',sparse=False)\n",
    "# ohe.fit([total_item_lst])"
   ]
  },
  {
   "cell_type": "code",
   "execution_count": 125,
   "metadata": {},
   "outputs": [
    {
     "data": {
      "text/plain": [
       "array(['Bagel', 'Bread', 'Cheese', 'Diaper', 'Eggs', 'Meat', 'Milk',\n",
       "       'Pencil', 'Wine'], dtype='<U6')"
      ]
     },
     "execution_count": 125,
     "metadata": {},
     "output_type": "execute_result"
    }
   ],
   "source": [
    "lb.classes_"
   ]
  },
  {
   "cell_type": "code",
   "execution_count": 126,
   "metadata": {},
   "outputs": [
    {
     "data": {
      "text/plain": [
       "array([0, 1, 0, 0, 0, 0, 0, 0, 0])"
      ]
     },
     "execution_count": 126,
     "metadata": {},
     "output_type": "execute_result"
    }
   ],
   "source": [
    "lb.transform(['Bread'])[0] ## 항상 2차원을 return 한다."
   ]
  },
  {
   "cell_type": "code",
   "execution_count": 127,
   "metadata": {},
   "outputs": [
    {
     "name": "stdout",
     "output_type": "stream",
     "text": [
      "(315, 9)\n"
     ]
    },
    {
     "data": {
      "text/html": [
       "<div>\n",
       "<style scoped>\n",
       "    .dataframe tbody tr th:only-of-type {\n",
       "        vertical-align: middle;\n",
       "    }\n",
       "\n",
       "    .dataframe tbody tr th {\n",
       "        vertical-align: top;\n",
       "    }\n",
       "\n",
       "    .dataframe thead th {\n",
       "        text-align: right;\n",
       "    }\n",
       "</style>\n",
       "<table border=\"1\" class=\"dataframe\">\n",
       "  <thead>\n",
       "    <tr style=\"text-align: right;\">\n",
       "      <th></th>\n",
       "      <th>Bagel</th>\n",
       "      <th>Bread</th>\n",
       "      <th>Cheese</th>\n",
       "      <th>Diaper</th>\n",
       "      <th>Eggs</th>\n",
       "      <th>Meat</th>\n",
       "      <th>Milk</th>\n",
       "      <th>Pencil</th>\n",
       "      <th>Wine</th>\n",
       "    </tr>\n",
       "  </thead>\n",
       "  <tbody>\n",
       "    <tr>\n",
       "      <th>0</th>\n",
       "      <td>0.0</td>\n",
       "      <td>0.0</td>\n",
       "      <td>0.0</td>\n",
       "      <td>0.0</td>\n",
       "      <td>0.0</td>\n",
       "      <td>0.0</td>\n",
       "      <td>0.0</td>\n",
       "      <td>0.0</td>\n",
       "      <td>0.0</td>\n",
       "    </tr>\n",
       "    <tr>\n",
       "      <th>1</th>\n",
       "      <td>0.0</td>\n",
       "      <td>0.0</td>\n",
       "      <td>0.0</td>\n",
       "      <td>0.0</td>\n",
       "      <td>0.0</td>\n",
       "      <td>0.0</td>\n",
       "      <td>0.0</td>\n",
       "      <td>0.0</td>\n",
       "      <td>0.0</td>\n",
       "    </tr>\n",
       "  </tbody>\n",
       "</table>\n",
       "</div>"
      ],
      "text/plain": [
       "   Bagel  Bread  Cheese  Diaper  Eggs  Meat  Milk  Pencil  Wine\n",
       "0    0.0    0.0     0.0     0.0   0.0   0.0   0.0     0.0   0.0\n",
       "1    0.0    0.0     0.0     0.0   0.0   0.0   0.0     0.0   0.0"
      ]
     },
     "execution_count": 127,
     "metadata": {},
     "output_type": "execute_result"
    }
   ],
   "source": [
    "## 변경된 결과 저장 껍데기\n",
    "df01 = np.zeros((df.shape[0],len(total_item_lst)))\n",
    "df01 = pd.DataFrame(data=df01,columns=lb.classes_)\n",
    "print(df01.shape)\n",
    "df01.head(2)"
   ]
  },
  {
   "cell_type": "code",
   "execution_count": 128,
   "metadata": {},
   "outputs": [
    {
     "data": {
      "text/plain": [
       "array([0, 0, 0, 0, 0, 1, 0, 0, 0])"
      ]
     },
     "execution_count": 128,
     "metadata": {},
     "output_type": "execute_result"
    }
   ],
   "source": [
    "x[~pd.isnull(x)]"
   ]
  },
  {
   "cell_type": "code",
   "execution_count": 129,
   "metadata": {},
   "outputs": [],
   "source": [
    "for index, row in df.iterrows():\n",
    "    by_row = df.iloc[index].values    \n",
    "    by_row = by_row[~pd.isnull(by_row)] ## nan 값은 lb 에서,변환 에러를 일으키기 때문에 제거한다.\n",
    "    ohe_rslt = np.zeros(len(total_item_lst))\n",
    "    for item in by_row:\n",
    "        x = lb.transform([item])[0] ## LabelBinarizer 의 경우, ## 항상 2차원을 return 한다.\n",
    "        ohe_rslt += x\n",
    "#     print(ohe_rslt)\n",
    "    df01.iloc[index] = ohe_rslt"
   ]
  },
  {
   "cell_type": "markdown",
   "metadata": {},
   "source": [
    "**blog 원본 코드 start**"
   ]
  },
  {
   "cell_type": "code",
   "execution_count": 115,
   "metadata": {},
   "outputs": [],
   "source": [
    "items = (df['item00'].unique())\n",
    "items\n",
    "\n",
    "def custom(df):\n",
    "    encoded_vals = []\n",
    "    for index, row in df.iterrows():\n",
    "        labels = {}\n",
    "        uncommons = list(set(items) - set(row))\n",
    "        commons = list(set(items).intersection(row))\n",
    "        for uc in uncommons:\n",
    "            labels[uc] = 0\n",
    "        for com in commons:\n",
    "            labels[com] = 1\n",
    "        encoded_vals.append(labels)\n",
    "    encoded_vals[0]\n",
    "    ohe_df = pd.DataFrame(encoded_vals)\n",
    "    return ohe_df"
   ]
  },
  {
   "cell_type": "code",
   "execution_count": 116,
   "metadata": {},
   "outputs": [],
   "source": [
    "ohe_df = custom(df)"
   ]
  },
  {
   "cell_type": "markdown",
   "metadata": {},
   "source": [
    "**blog 원본 코드 End**"
   ]
  },
  {
   "cell_type": "markdown",
   "metadata": {},
   "source": [
    "필자가 만든것과 비교해보면,"
   ]
  },
  {
   "cell_type": "code",
   "execution_count": 130,
   "metadata": {},
   "outputs": [
    {
     "name": "stdout",
     "output_type": "stream",
     "text": [
      "before_ohe data shape : (315, 7)\n",
      "after_ohe data shape : (315, 9)\n",
      "after_ohe bymyself shape : (315, 9)\n"
     ]
    }
   ],
   "source": [
    "print(\"before_ohe data shape : {}\".format(df.shape))\n",
    "print(\"after_ohe data shape : {}\".format(ohe_df.shape))\n",
    "print(\"after_ohe bymyself shape : {}\".format(df01.shape))"
   ]
  },
  {
   "cell_type": "code",
   "execution_count": 131,
   "metadata": {},
   "outputs": [
    {
     "data": {
      "text/html": [
       "<div>\n",
       "<style scoped>\n",
       "    .dataframe tbody tr th:only-of-type {\n",
       "        vertical-align: middle;\n",
       "    }\n",
       "\n",
       "    .dataframe tbody tr th {\n",
       "        vertical-align: top;\n",
       "    }\n",
       "\n",
       "    .dataframe thead th {\n",
       "        text-align: right;\n",
       "    }\n",
       "</style>\n",
       "<table border=\"1\" class=\"dataframe\">\n",
       "  <thead>\n",
       "    <tr style=\"text-align: right;\">\n",
       "      <th></th>\n",
       "      <th>Bagel</th>\n",
       "      <th>Bread</th>\n",
       "      <th>Cheese</th>\n",
       "      <th>Diaper</th>\n",
       "      <th>Eggs</th>\n",
       "      <th>Meat</th>\n",
       "      <th>Milk</th>\n",
       "      <th>Pencil</th>\n",
       "      <th>Wine</th>\n",
       "    </tr>\n",
       "  </thead>\n",
       "  <tbody>\n",
       "    <tr>\n",
       "      <th>0</th>\n",
       "      <td>0</td>\n",
       "      <td>1</td>\n",
       "      <td>1</td>\n",
       "      <td>1</td>\n",
       "      <td>1</td>\n",
       "      <td>1</td>\n",
       "      <td>0</td>\n",
       "      <td>1</td>\n",
       "      <td>1</td>\n",
       "    </tr>\n",
       "    <tr>\n",
       "      <th>1</th>\n",
       "      <td>0</td>\n",
       "      <td>1</td>\n",
       "      <td>1</td>\n",
       "      <td>1</td>\n",
       "      <td>0</td>\n",
       "      <td>1</td>\n",
       "      <td>1</td>\n",
       "      <td>1</td>\n",
       "      <td>1</td>\n",
       "    </tr>\n",
       "    <tr>\n",
       "      <th>2</th>\n",
       "      <td>0</td>\n",
       "      <td>0</td>\n",
       "      <td>1</td>\n",
       "      <td>0</td>\n",
       "      <td>1</td>\n",
       "      <td>1</td>\n",
       "      <td>1</td>\n",
       "      <td>0</td>\n",
       "      <td>1</td>\n",
       "    </tr>\n",
       "    <tr>\n",
       "      <th>3</th>\n",
       "      <td>0</td>\n",
       "      <td>0</td>\n",
       "      <td>1</td>\n",
       "      <td>0</td>\n",
       "      <td>1</td>\n",
       "      <td>1</td>\n",
       "      <td>1</td>\n",
       "      <td>0</td>\n",
       "      <td>1</td>\n",
       "    </tr>\n",
       "    <tr>\n",
       "      <th>4</th>\n",
       "      <td>0</td>\n",
       "      <td>0</td>\n",
       "      <td>0</td>\n",
       "      <td>0</td>\n",
       "      <td>0</td>\n",
       "      <td>1</td>\n",
       "      <td>0</td>\n",
       "      <td>1</td>\n",
       "      <td>1</td>\n",
       "    </tr>\n",
       "  </tbody>\n",
       "</table>\n",
       "</div>"
      ],
      "text/plain": [
       "   Bagel  Bread  Cheese  Diaper  Eggs  Meat  Milk  Pencil  Wine\n",
       "0      0      1       1       1     1     1     0       1     1\n",
       "1      0      1       1       1     0     1     1       1     1\n",
       "2      0      0       1       0     1     1     1       0     1\n",
       "3      0      0       1       0     1     1     1       0     1\n",
       "4      0      0       0       0     0     1     0       1     1"
      ]
     },
     "execution_count": 131,
     "metadata": {},
     "output_type": "execute_result"
    }
   ],
   "source": [
    "ohe_df.head()"
   ]
  },
  {
   "cell_type": "code",
   "execution_count": 136,
   "metadata": {},
   "outputs": [
    {
     "data": {
      "text/html": [
       "<div>\n",
       "<style scoped>\n",
       "    .dataframe tbody tr th:only-of-type {\n",
       "        vertical-align: middle;\n",
       "    }\n",
       "\n",
       "    .dataframe tbody tr th {\n",
       "        vertical-align: top;\n",
       "    }\n",
       "\n",
       "    .dataframe thead th {\n",
       "        text-align: right;\n",
       "    }\n",
       "</style>\n",
       "<table border=\"1\" class=\"dataframe\">\n",
       "  <thead>\n",
       "    <tr style=\"text-align: right;\">\n",
       "      <th></th>\n",
       "      <th>Bagel</th>\n",
       "      <th>Bread</th>\n",
       "      <th>Cheese</th>\n",
       "      <th>Diaper</th>\n",
       "      <th>Eggs</th>\n",
       "      <th>Meat</th>\n",
       "      <th>Milk</th>\n",
       "      <th>Pencil</th>\n",
       "      <th>Wine</th>\n",
       "    </tr>\n",
       "  </thead>\n",
       "  <tbody>\n",
       "    <tr>\n",
       "      <th>0</th>\n",
       "      <td>0</td>\n",
       "      <td>1</td>\n",
       "      <td>1</td>\n",
       "      <td>1</td>\n",
       "      <td>1</td>\n",
       "      <td>1</td>\n",
       "      <td>0</td>\n",
       "      <td>1</td>\n",
       "      <td>1</td>\n",
       "    </tr>\n",
       "    <tr>\n",
       "      <th>1</th>\n",
       "      <td>0</td>\n",
       "      <td>1</td>\n",
       "      <td>1</td>\n",
       "      <td>1</td>\n",
       "      <td>0</td>\n",
       "      <td>1</td>\n",
       "      <td>1</td>\n",
       "      <td>1</td>\n",
       "      <td>1</td>\n",
       "    </tr>\n",
       "    <tr>\n",
       "      <th>2</th>\n",
       "      <td>0</td>\n",
       "      <td>0</td>\n",
       "      <td>1</td>\n",
       "      <td>0</td>\n",
       "      <td>1</td>\n",
       "      <td>1</td>\n",
       "      <td>1</td>\n",
       "      <td>0</td>\n",
       "      <td>1</td>\n",
       "    </tr>\n",
       "    <tr>\n",
       "      <th>3</th>\n",
       "      <td>0</td>\n",
       "      <td>0</td>\n",
       "      <td>1</td>\n",
       "      <td>0</td>\n",
       "      <td>1</td>\n",
       "      <td>1</td>\n",
       "      <td>1</td>\n",
       "      <td>0</td>\n",
       "      <td>1</td>\n",
       "    </tr>\n",
       "    <tr>\n",
       "      <th>4</th>\n",
       "      <td>0</td>\n",
       "      <td>0</td>\n",
       "      <td>0</td>\n",
       "      <td>0</td>\n",
       "      <td>0</td>\n",
       "      <td>1</td>\n",
       "      <td>0</td>\n",
       "      <td>1</td>\n",
       "      <td>1</td>\n",
       "    </tr>\n",
       "  </tbody>\n",
       "</table>\n",
       "</div>"
      ],
      "text/plain": [
       "   Bagel  Bread  Cheese  Diaper  Eggs  Meat  Milk  Pencil  Wine\n",
       "0      0      1       1       1     1     1     0       1     1\n",
       "1      0      1       1       1     0     1     1       1     1\n",
       "2      0      0       1       0     1     1     1       0     1\n",
       "3      0      0       1       0     1     1     1       0     1\n",
       "4      0      0       0       0     0     1     0       1     1"
      ]
     },
     "execution_count": 136,
     "metadata": {},
     "output_type": "execute_result"
    }
   ],
   "source": [
    "df01 = df01.astype(int)\n",
    "df01.head()"
   ]
  },
  {
   "cell_type": "markdown",
   "metadata": {},
   "source": [
    "## mlxtend.frequent_patterns  \n",
    "상기 library 에서는 apriori 와 association_rules 2가지가 있다.\n",
    "(http://rasbt.github.io/mlxtend/api_subpackages/mlxtend.frequent_patterns/#apriori)\n",
    "\n",
    "### __apriori__    \n",
    "\n",
    "__이 라이브러리의 목적은 최소지지도를 충족하는 집단을 만들어내는데 있다. 이후, 이를 가지고 Asscoiation rule 모듈에 적용한다.__\n",
    "\n",
    "apriori(df, min_support=0.5, use_colnames=False, max_len=None, verbose=0, low_memory=False)\n",
    "- min_support : float (default: 0.5)  \n",
    "  A float between 0 and 1 for minumum support of the itemsets returned. The support is computed as the fraction transactions_where_item(s)_occur / total_transactions.\n",
    "\n",
    "- use_colnames : bool (default: False)  \n",
    "  If True, uses the DataFrames' column names in the returned DataFrame instead of column indices.\n",
    "\n",
    "- max_len : int (default: None)  \n",
    "  Maximum length of the itemsets generated. If None (default) all possible itemsets lengths (under the apriori condition) are evaluated.\n",
    "\n",
    "- verbose : int (default: 0)  \n",
    "  Shows the number of iterations if >= 1 and low_memory is True.  \n",
    "  If=1 and low_memory is False, shows the number of combinations.\n",
    "  \n",
    "- low_memory : bool (default: False)  \n",
    "  If True, uses an iterator to search for combinations above min_support.  \n",
    "  Note that while low_memory=True should only be used for large dataset if memory resources are limited, because this implementation is approx. 3-6x slower than the default."
   ]
  },
  {
   "cell_type": "code",
   "execution_count": 137,
   "metadata": {},
   "outputs": [
    {
     "name": "stdout",
     "output_type": "stream",
     "text": [
      "Processing 4 combinations | Sampling itemset size 4 3\n"
     ]
    },
    {
     "data": {
      "text/html": [
       "<div>\n",
       "<style scoped>\n",
       "    .dataframe tbody tr th:only-of-type {\n",
       "        vertical-align: middle;\n",
       "    }\n",
       "\n",
       "    .dataframe tbody tr th {\n",
       "        vertical-align: top;\n",
       "    }\n",
       "\n",
       "    .dataframe thead th {\n",
       "        text-align: right;\n",
       "    }\n",
       "</style>\n",
       "<table border=\"1\" class=\"dataframe\">\n",
       "  <thead>\n",
       "    <tr style=\"text-align: right;\">\n",
       "      <th></th>\n",
       "      <th>support</th>\n",
       "      <th>itemsets</th>\n",
       "    </tr>\n",
       "  </thead>\n",
       "  <tbody>\n",
       "    <tr>\n",
       "      <th>0</th>\n",
       "      <td>0.425397</td>\n",
       "      <td>(Bagel)</td>\n",
       "    </tr>\n",
       "    <tr>\n",
       "      <th>1</th>\n",
       "      <td>0.504762</td>\n",
       "      <td>(Bread)</td>\n",
       "    </tr>\n",
       "    <tr>\n",
       "      <th>2</th>\n",
       "      <td>0.501587</td>\n",
       "      <td>(Cheese)</td>\n",
       "    </tr>\n",
       "    <tr>\n",
       "      <th>3</th>\n",
       "      <td>0.406349</td>\n",
       "      <td>(Diaper)</td>\n",
       "    </tr>\n",
       "    <tr>\n",
       "      <th>4</th>\n",
       "      <td>0.438095</td>\n",
       "      <td>(Eggs)</td>\n",
       "    </tr>\n",
       "    <tr>\n",
       "      <th>5</th>\n",
       "      <td>0.476190</td>\n",
       "      <td>(Meat)</td>\n",
       "    </tr>\n",
       "    <tr>\n",
       "      <th>6</th>\n",
       "      <td>0.501587</td>\n",
       "      <td>(Milk)</td>\n",
       "    </tr>\n",
       "  </tbody>\n",
       "</table>\n",
       "</div>"
      ],
      "text/plain": [
       "    support  itemsets\n",
       "0  0.425397   (Bagel)\n",
       "1  0.504762   (Bread)\n",
       "2  0.501587  (Cheese)\n",
       "3  0.406349  (Diaper)\n",
       "4  0.438095    (Eggs)\n",
       "5  0.476190    (Meat)\n",
       "6  0.501587    (Milk)"
      ]
     },
     "execution_count": 137,
     "metadata": {},
     "output_type": "execute_result"
    }
   ],
   "source": [
    "freq_items = apriori(df01, min_support=0.2, use_colnames=True, verbose=1)\n",
    "freq_items.head(7)"
   ]
  },
  {
   "cell_type": "markdown",
   "metadata": {},
   "source": [
    "### __association_rules__  \n",
    "association_rules(df, metric='confidence', min_threshold=0.8, support_only=False)  \n",
    "- df : pandas DataFrame  \n",
    "  pandas DataFrame of frequent itemsets with columns ['support', 'itemsets']\n",
    "- metric : string (default: 'confidence')  \n",
    "  Metric to evaluate if a rule is of interest. Automatically set to 'support' if support_only=True. Otherwise, supported metrics are 'support', 'confidence', 'lift',\n",
    "- min_threshold : float (default: 0.8)  \n",
    "  Minimal threshold for the evaluation metric, via the metric parameter, to decide whether a candidate rule is of interest.  \n",
    "- support_only : bool (default: False)  \n",
    "  Only computes the rule support and fills the other metric columns with NaNs. This is useful if:  \n",
    "  a) the input DataFrame is incomplete, e.g., does not contain support values for all rule antecedents and consequents  \n",
    "  b) you simply want to speed up the computation because you don't need the other metrics.  "
   ]
  },
  {
   "cell_type": "code",
   "execution_count": 140,
   "metadata": {},
   "outputs": [
    {
     "data": {
      "text/html": [
       "<div>\n",
       "<style scoped>\n",
       "    .dataframe tbody tr th:only-of-type {\n",
       "        vertical-align: middle;\n",
       "    }\n",
       "\n",
       "    .dataframe tbody tr th {\n",
       "        vertical-align: top;\n",
       "    }\n",
       "\n",
       "    .dataframe thead th {\n",
       "        text-align: right;\n",
       "    }\n",
       "</style>\n",
       "<table border=\"1\" class=\"dataframe\">\n",
       "  <thead>\n",
       "    <tr style=\"text-align: right;\">\n",
       "      <th></th>\n",
       "      <th>antecedents</th>\n",
       "      <th>consequents</th>\n",
       "      <th>antecedent support</th>\n",
       "      <th>consequent support</th>\n",
       "      <th>support</th>\n",
       "      <th>confidence</th>\n",
       "      <th>lift</th>\n",
       "      <th>leverage</th>\n",
       "      <th>conviction</th>\n",
       "    </tr>\n",
       "  </thead>\n",
       "  <tbody>\n",
       "    <tr>\n",
       "      <th>11</th>\n",
       "      <td>(Milk, Meat)</td>\n",
       "      <td>(Cheese)</td>\n",
       "      <td>0.244444</td>\n",
       "      <td>0.501587</td>\n",
       "      <td>0.203175</td>\n",
       "      <td>0.831169</td>\n",
       "      <td>1.657077</td>\n",
       "      <td>0.080564</td>\n",
       "      <td>2.952137</td>\n",
       "    </tr>\n",
       "    <tr>\n",
       "      <th>8</th>\n",
       "      <td>(Eggs, Meat)</td>\n",
       "      <td>(Cheese)</td>\n",
       "      <td>0.266667</td>\n",
       "      <td>0.501587</td>\n",
       "      <td>0.215873</td>\n",
       "      <td>0.809524</td>\n",
       "      <td>1.613924</td>\n",
       "      <td>0.082116</td>\n",
       "      <td>2.616667</td>\n",
       "    </tr>\n",
       "    <tr>\n",
       "      <th>9</th>\n",
       "      <td>(Cheese, Meat)</td>\n",
       "      <td>(Eggs)</td>\n",
       "      <td>0.323810</td>\n",
       "      <td>0.438095</td>\n",
       "      <td>0.215873</td>\n",
       "      <td>0.666667</td>\n",
       "      <td>1.521739</td>\n",
       "      <td>0.074014</td>\n",
       "      <td>1.685714</td>\n",
       "    </tr>\n",
       "    <tr>\n",
       "      <th>10</th>\n",
       "      <td>(Eggs, Cheese)</td>\n",
       "      <td>(Meat)</td>\n",
       "      <td>0.298413</td>\n",
       "      <td>0.476190</td>\n",
       "      <td>0.215873</td>\n",
       "      <td>0.723404</td>\n",
       "      <td>1.519149</td>\n",
       "      <td>0.073772</td>\n",
       "      <td>1.893773</td>\n",
       "    </tr>\n",
       "    <tr>\n",
       "      <th>13</th>\n",
       "      <td>(Cheese, Milk)</td>\n",
       "      <td>(Meat)</td>\n",
       "      <td>0.304762</td>\n",
       "      <td>0.476190</td>\n",
       "      <td>0.203175</td>\n",
       "      <td>0.666667</td>\n",
       "      <td>1.400000</td>\n",
       "      <td>0.058050</td>\n",
       "      <td>1.571429</td>\n",
       "    </tr>\n",
       "  </tbody>\n",
       "</table>\n",
       "</div>"
      ],
      "text/plain": [
       "       antecedents consequents  antecedent support  consequent support  \\\n",
       "11    (Milk, Meat)    (Cheese)            0.244444            0.501587   \n",
       "8     (Eggs, Meat)    (Cheese)            0.266667            0.501587   \n",
       "9   (Cheese, Meat)      (Eggs)            0.323810            0.438095   \n",
       "10  (Eggs, Cheese)      (Meat)            0.298413            0.476190   \n",
       "13  (Cheese, Milk)      (Meat)            0.304762            0.476190   \n",
       "\n",
       "     support  confidence      lift  leverage  conviction  \n",
       "11  0.203175    0.831169  1.657077  0.080564    2.952137  \n",
       "8   0.215873    0.809524  1.613924  0.082116    2.616667  \n",
       "9   0.215873    0.666667  1.521739  0.074014    1.685714  \n",
       "10  0.215873    0.723404  1.519149  0.073772    1.893773  \n",
       "13  0.203175    0.666667  1.400000  0.058050    1.571429  "
      ]
     },
     "execution_count": 140,
     "metadata": {},
     "output_type": "execute_result"
    }
   ],
   "source": [
    "rules = association_rules(freq_items, metric=\"confidence\", min_threshold=0.6)\n",
    "rules.sort_values(by='lift',ascending=False).head()"
   ]
  },
  {
   "cell_type": "code",
   "execution_count": 141,
   "metadata": {},
   "outputs": [
    {
     "data": {
      "image/png": "[encoded data removed]",
      "text/plain": [
       "<Figure size 432x288 with 1 Axes>"
      ]
     },
     "metadata": {
      "needs_background": "light"
     },
     "output_type": "display_data"
    }
   ],
   "source": [
    "plt.scatter(rules['support'], rules['confidence'], alpha=0.5)\n",
    "plt.xlabel('support')\n",
    "plt.ylabel('confidence')\n",
    "plt.title('Support vs Confidence')\n",
    "plt.show()"
   ]
  },
  {
   "cell_type": "code",
   "execution_count": 143,
   "metadata": {},
   "outputs": [
    {
     "data": {
      "image/png": "[encoded data removed]",
      "text/plain": [
       "<Figure size 432x288 with 1 Axes>"
      ]
     },
     "metadata": {
      "needs_background": "light"
     },
     "output_type": "display_data"
    }
   ],
   "source": [
    "plt.scatter(rules['support'], rules['lift'], alpha=0.5)\n",
    "plt.xlabel('support')\n",
    "plt.ylabel('lift')\n",
    "plt.title('Support vs Lift')\n",
    "plt.show()"
   ]
  },
  {
   "cell_type": "code",
   "execution_count": 144,
   "metadata": {},
   "outputs": [
    {
     "data": {
      "text/plain": [
       "[<matplotlib.lines.Line2D at 0x1992f27f0f0>,\n",
       " <matplotlib.lines.Line2D at 0x1992f1c0780>]"
      ]
     },
     "execution_count": 144,
     "metadata": {},
     "output_type": "execute_result"
    },
    {
     "data": {
      "image/png": "[encoded data removed]",
      "text/plain": [
       "<Figure size 432x288 with 1 Axes>"
      ]
     },
     "metadata": {
      "needs_background": "light"
     },
     "output_type": "display_data"
    }
   ],
   "source": [
    "fit = np.polyfit(rules['lift'], rules['confidence'], 1)\n",
    "fit_fn = np.poly1d(fit)\n",
    "plt.plot(rules['lift'], rules['confidence'], 'yo', rules['lift'],fit_fn(rules['lift']))"
   ]
  },
  {
   "cell_type": "markdown",
   "metadata": {},
   "source": [
    "## mdf 데이터를 가지고 활용해본다면,"
   ]
  },
  {
   "cell_type": "code",
   "execution_count": 145,
   "metadata": {},
   "outputs": [
    {
     "data": {
      "text/html": [
       "<div>\n",
       "<style scoped>\n",
       "    .dataframe tbody tr th:only-of-type {\n",
       "        vertical-align: middle;\n",
       "    }\n",
       "\n",
       "    .dataframe tbody tr th {\n",
       "        vertical-align: top;\n",
       "    }\n",
       "\n",
       "    .dataframe thead th {\n",
       "        text-align: right;\n",
       "    }\n",
       "</style>\n",
       "<table border=\"1\" class=\"dataframe\">\n",
       "  <thead>\n",
       "    <tr style=\"text-align: right;\">\n",
       "      <th></th>\n",
       "      <th>Hair Conditioner</th>\n",
       "      <th>Lemons</th>\n",
       "      <th>Standard coffee</th>\n",
       "      <th>Frozen Chicken Wings</th>\n",
       "      <th>98pct. Fat Free Hamburger</th>\n",
       "      <th>Sugar Cookies</th>\n",
       "      <th>Onions</th>\n",
       "      <th>Deli Ham</th>\n",
       "      <th>Dishwasher Detergent</th>\n",
       "      <th>Beets</th>\n",
       "      <th>...</th>\n",
       "      <th>Lollipops</th>\n",
       "      <th>Plain White Bread</th>\n",
       "      <th>Blueberry Yogurt</th>\n",
       "      <th>Frozen Chicken Thighs</th>\n",
       "      <th>Mixed Vegetables</th>\n",
       "      <th>Souring Pads</th>\n",
       "      <th>Tuna Spread</th>\n",
       "      <th>Toilet Paper</th>\n",
       "      <th>White Wine</th>\n",
       "      <th>Columbian Coffee</th>\n",
       "    </tr>\n",
       "  </thead>\n",
       "  <tbody>\n",
       "    <tr>\n",
       "      <th>0</th>\n",
       "      <td>0</td>\n",
       "      <td>0</td>\n",
       "      <td>0</td>\n",
       "      <td>0</td>\n",
       "      <td>0</td>\n",
       "      <td>0</td>\n",
       "      <td>0</td>\n",
       "      <td>0</td>\n",
       "      <td>0</td>\n",
       "      <td>0</td>\n",
       "      <td>...</td>\n",
       "      <td>0</td>\n",
       "      <td>0</td>\n",
       "      <td>0</td>\n",
       "      <td>0</td>\n",
       "      <td>0</td>\n",
       "      <td>0</td>\n",
       "      <td>0</td>\n",
       "      <td>0</td>\n",
       "      <td>0</td>\n",
       "      <td>0</td>\n",
       "    </tr>\n",
       "    <tr>\n",
       "      <th>1</th>\n",
       "      <td>0</td>\n",
       "      <td>0</td>\n",
       "      <td>0</td>\n",
       "      <td>0</td>\n",
       "      <td>0</td>\n",
       "      <td>0</td>\n",
       "      <td>0</td>\n",
       "      <td>0</td>\n",
       "      <td>0</td>\n",
       "      <td>0</td>\n",
       "      <td>...</td>\n",
       "      <td>0</td>\n",
       "      <td>0</td>\n",
       "      <td>0</td>\n",
       "      <td>0</td>\n",
       "      <td>0</td>\n",
       "      <td>0</td>\n",
       "      <td>0</td>\n",
       "      <td>0</td>\n",
       "      <td>0</td>\n",
       "      <td>0</td>\n",
       "    </tr>\n",
       "    <tr>\n",
       "      <th>2</th>\n",
       "      <td>0</td>\n",
       "      <td>0</td>\n",
       "      <td>0</td>\n",
       "      <td>0</td>\n",
       "      <td>0</td>\n",
       "      <td>0</td>\n",
       "      <td>0</td>\n",
       "      <td>0</td>\n",
       "      <td>0</td>\n",
       "      <td>0</td>\n",
       "      <td>...</td>\n",
       "      <td>0</td>\n",
       "      <td>0</td>\n",
       "      <td>0</td>\n",
       "      <td>0</td>\n",
       "      <td>0</td>\n",
       "      <td>0</td>\n",
       "      <td>0</td>\n",
       "      <td>0</td>\n",
       "      <td>0</td>\n",
       "      <td>0</td>\n",
       "    </tr>\n",
       "    <tr>\n",
       "      <th>3</th>\n",
       "      <td>0</td>\n",
       "      <td>0</td>\n",
       "      <td>0</td>\n",
       "      <td>0</td>\n",
       "      <td>0</td>\n",
       "      <td>0</td>\n",
       "      <td>0</td>\n",
       "      <td>0</td>\n",
       "      <td>0</td>\n",
       "      <td>0</td>\n",
       "      <td>...</td>\n",
       "      <td>0</td>\n",
       "      <td>0</td>\n",
       "      <td>0</td>\n",
       "      <td>0</td>\n",
       "      <td>0</td>\n",
       "      <td>0</td>\n",
       "      <td>0</td>\n",
       "      <td>0</td>\n",
       "      <td>0</td>\n",
       "      <td>0</td>\n",
       "    </tr>\n",
       "    <tr>\n",
       "      <th>4</th>\n",
       "      <td>0</td>\n",
       "      <td>0</td>\n",
       "      <td>0</td>\n",
       "      <td>0</td>\n",
       "      <td>0</td>\n",
       "      <td>0</td>\n",
       "      <td>0</td>\n",
       "      <td>0</td>\n",
       "      <td>0</td>\n",
       "      <td>0</td>\n",
       "      <td>...</td>\n",
       "      <td>0</td>\n",
       "      <td>0</td>\n",
       "      <td>0</td>\n",
       "      <td>0</td>\n",
       "      <td>0</td>\n",
       "      <td>0</td>\n",
       "      <td>0</td>\n",
       "      <td>0</td>\n",
       "      <td>0</td>\n",
       "      <td>0</td>\n",
       "    </tr>\n",
       "  </tbody>\n",
       "</table>\n",
       "<p>5 rows × 255 columns</p>\n",
       "</div>"
      ],
      "text/plain": [
       "   Hair Conditioner  Lemons  Standard coffee  Frozen Chicken Wings  \\\n",
       "0                 0       0                0                     0   \n",
       "1                 0       0                0                     0   \n",
       "2                 0       0                0                     0   \n",
       "3                 0       0                0                     0   \n",
       "4                 0       0                0                     0   \n",
       "\n",
       "   98pct. Fat Free Hamburger  Sugar Cookies  Onions  Deli Ham  \\\n",
       "0                          0              0       0         0   \n",
       "1                          0              0       0         0   \n",
       "2                          0              0       0         0   \n",
       "3                          0              0       0         0   \n",
       "4                          0              0       0         0   \n",
       "\n",
       "   Dishwasher Detergent  Beets  ...  Lollipops  Plain White Bread  \\\n",
       "0                     0      0  ...          0                  0   \n",
       "1                     0      0  ...          0                  0   \n",
       "2                     0      0  ...          0                  0   \n",
       "3                     0      0  ...          0                  0   \n",
       "4                     0      0  ...          0                  0   \n",
       "\n",
       "   Blueberry Yogurt  Frozen Chicken Thighs  Mixed Vegetables  Souring Pads  \\\n",
       "0                 0                      0                 0             0   \n",
       "1                 0                      0                 0             0   \n",
       "2                 0                      0                 0             0   \n",
       "3                 0                      0                 0             0   \n",
       "4                 0                      0                 0             0   \n",
       "\n",
       "   Tuna Spread  Toilet Paper  White Wine  Columbian Coffee  \n",
       "0            0             0           0                 0  \n",
       "1            0             0           0                 0  \n",
       "2            0             0           0                 0  \n",
       "3            0             0           0                 0  \n",
       "4            0             0           0                 0  \n",
       "\n",
       "[5 rows x 255 columns]"
      ]
     },
     "execution_count": 145,
     "metadata": {},
     "output_type": "execute_result"
    }
   ],
   "source": [
    "mdf.head()"
   ]
  },
  {
   "cell_type": "code",
   "execution_count": 206,
   "metadata": {},
   "outputs": [
    {
     "name": "stdout",
     "output_type": "stream",
     "text": [
      "Processing 3 combinations | Sampling itemset size 3e 2\n"
     ]
    },
    {
     "data": {
      "text/html": [
       "<div>\n",
       "<style scoped>\n",
       "    .dataframe tbody tr th:only-of-type {\n",
       "        vertical-align: middle;\n",
       "    }\n",
       "\n",
       "    .dataframe tbody tr th {\n",
       "        vertical-align: top;\n",
       "    }\n",
       "\n",
       "    .dataframe thead th {\n",
       "        text-align: right;\n",
       "    }\n",
       "</style>\n",
       "<table border=\"1\" class=\"dataframe\">\n",
       "  <thead>\n",
       "    <tr style=\"text-align: right;\">\n",
       "      <th></th>\n",
       "      <th>support</th>\n",
       "      <th>itemsets</th>\n",
       "    </tr>\n",
       "  </thead>\n",
       "  <tbody>\n",
       "    <tr>\n",
       "      <th>0</th>\n",
       "      <td>0.058780</td>\n",
       "      <td>(Hair Conditioner)</td>\n",
       "    </tr>\n",
       "    <tr>\n",
       "      <th>1</th>\n",
       "      <td>0.093314</td>\n",
       "      <td>(98pct. Fat Free Hamburger)</td>\n",
       "    </tr>\n",
       "    <tr>\n",
       "      <th>2</th>\n",
       "      <td>0.055107</td>\n",
       "      <td>(Sugar Cookies)</td>\n",
       "    </tr>\n",
       "    <tr>\n",
       "      <th>3</th>\n",
       "      <td>0.080088</td>\n",
       "      <td>(Onions)</td>\n",
       "    </tr>\n",
       "    <tr>\n",
       "      <th>4</th>\n",
       "      <td>0.097722</td>\n",
       "      <td>(Potato Chips)</td>\n",
       "    </tr>\n",
       "    <tr>\n",
       "      <th>5</th>\n",
       "      <td>0.051433</td>\n",
       "      <td>(Waffles)</td>\n",
       "    </tr>\n",
       "    <tr>\n",
       "      <th>6</th>\n",
       "      <td>0.055841</td>\n",
       "      <td>(Plums)</td>\n",
       "    </tr>\n",
       "    <tr>\n",
       "      <th>7</th>\n",
       "      <td>0.054372</td>\n",
       "      <td>(Mushrooms)</td>\n",
       "    </tr>\n",
       "    <tr>\n",
       "      <th>8</th>\n",
       "      <td>0.056576</td>\n",
       "      <td>(Orange Juice)</td>\n",
       "    </tr>\n",
       "    <tr>\n",
       "      <th>9</th>\n",
       "      <td>0.050698</td>\n",
       "      <td>(Sour Cream)</td>\n",
       "    </tr>\n",
       "    <tr>\n",
       "      <th>10</th>\n",
       "      <td>0.069067</td>\n",
       "      <td>(Pepperoni Pizza - Frozen)</td>\n",
       "    </tr>\n",
       "    <tr>\n",
       "      <th>11</th>\n",
       "      <td>0.092579</td>\n",
       "      <td>(Hot Dogs)</td>\n",
       "    </tr>\n",
       "    <tr>\n",
       "      <th>12</th>\n",
       "      <td>0.055841</td>\n",
       "      <td>(Frozen Shrimp)</td>\n",
       "    </tr>\n",
       "    <tr>\n",
       "      <th>13</th>\n",
       "      <td>0.060985</td>\n",
       "      <td>(Raisins)</td>\n",
       "    </tr>\n",
       "    <tr>\n",
       "      <th>14</th>\n",
       "      <td>0.057311</td>\n",
       "      <td>(Pancake Mix)</td>\n",
       "    </tr>\n",
       "    <tr>\n",
       "      <th>15</th>\n",
       "      <td>0.064658</td>\n",
       "      <td>(Bologna)</td>\n",
       "    </tr>\n",
       "    <tr>\n",
       "      <th>16</th>\n",
       "      <td>0.109478</td>\n",
       "      <td>(2pct. Milk)</td>\n",
       "    </tr>\n",
       "    <tr>\n",
       "      <th>17</th>\n",
       "      <td>0.063924</td>\n",
       "      <td>(Popcorn Salt)</td>\n",
       "    </tr>\n",
       "    <tr>\n",
       "      <th>18</th>\n",
       "      <td>0.066128</td>\n",
       "      <td>(Tomatoes)</td>\n",
       "    </tr>\n",
       "    <tr>\n",
       "      <th>19</th>\n",
       "      <td>0.122704</td>\n",
       "      <td>(Eggs)</td>\n",
       "    </tr>\n",
       "    <tr>\n",
       "      <th>20</th>\n",
       "      <td>0.119030</td>\n",
       "      <td>(White Bread)</td>\n",
       "    </tr>\n",
       "    <tr>\n",
       "      <th>21</th>\n",
       "      <td>0.077884</td>\n",
       "      <td>(Cola)</td>\n",
       "    </tr>\n",
       "    <tr>\n",
       "      <th>22</th>\n",
       "      <td>0.053637</td>\n",
       "      <td>(Apples)</td>\n",
       "    </tr>\n",
       "    <tr>\n",
       "      <th>23</th>\n",
       "      <td>0.059515</td>\n",
       "      <td>(Bananas)</td>\n",
       "    </tr>\n",
       "    <tr>\n",
       "      <th>24</th>\n",
       "      <td>0.054372</td>\n",
       "      <td>(Sandwich Bags)</td>\n",
       "    </tr>\n",
       "    <tr>\n",
       "      <th>25</th>\n",
       "      <td>0.052902</td>\n",
       "      <td>(C Cell Batteries)</td>\n",
       "    </tr>\n",
       "    <tr>\n",
       "      <th>26</th>\n",
       "      <td>0.058780</td>\n",
       "      <td>(Hot Dog Buns)</td>\n",
       "    </tr>\n",
       "    <tr>\n",
       "      <th>27</th>\n",
       "      <td>0.055841</td>\n",
       "      <td>(Oranges)</td>\n",
       "    </tr>\n",
       "    <tr>\n",
       "      <th>28</th>\n",
       "      <td>0.079353</td>\n",
       "      <td>(Toothpaste)</td>\n",
       "    </tr>\n",
       "    <tr>\n",
       "      <th>29</th>\n",
       "      <td>0.054372</td>\n",
       "      <td>(Canned Tuna)</td>\n",
       "    </tr>\n",
       "    <tr>\n",
       "      <th>30</th>\n",
       "      <td>0.071271</td>\n",
       "      <td>(Hamburger Buns)</td>\n",
       "    </tr>\n",
       "    <tr>\n",
       "      <th>31</th>\n",
       "      <td>0.058780</td>\n",
       "      <td>(French Fries)</td>\n",
       "    </tr>\n",
       "    <tr>\n",
       "      <th>32</th>\n",
       "      <td>0.062454</td>\n",
       "      <td>(Ramen Noodles)</td>\n",
       "    </tr>\n",
       "    <tr>\n",
       "      <th>33</th>\n",
       "      <td>0.067597</td>\n",
       "      <td>(Domestic Beer)</td>\n",
       "    </tr>\n",
       "    <tr>\n",
       "      <th>34</th>\n",
       "      <td>0.057311</td>\n",
       "      <td>(Garlic)</td>\n",
       "    </tr>\n",
       "    <tr>\n",
       "      <th>35</th>\n",
       "      <td>0.077149</td>\n",
       "      <td>(Wheat Bread)</td>\n",
       "    </tr>\n",
       "    <tr>\n",
       "      <th>36</th>\n",
       "      <td>0.085231</td>\n",
       "      <td>(Sweet Relish)</td>\n",
       "    </tr>\n",
       "    <tr>\n",
       "      <th>37</th>\n",
       "      <td>0.074210</td>\n",
       "      <td>(Toilet Paper)</td>\n",
       "    </tr>\n",
       "    <tr>\n",
       "      <th>38</th>\n",
       "      <td>0.051433</td>\n",
       "      <td>(Potato Chips, White Bread)</td>\n",
       "    </tr>\n",
       "    <tr>\n",
       "      <th>39</th>\n",
       "      <td>0.052168</td>\n",
       "      <td>(Eggs, 2pct. Milk)</td>\n",
       "    </tr>\n",
       "    <tr>\n",
       "      <th>40</th>\n",
       "      <td>0.051433</td>\n",
       "      <td>(2pct. Milk, White Bread)</td>\n",
       "    </tr>\n",
       "    <tr>\n",
       "      <th>41</th>\n",
       "      <td>0.055107</td>\n",
       "      <td>(Eggs, White Bread)</td>\n",
       "    </tr>\n",
       "  </tbody>\n",
       "</table>\n",
       "</div>"
      ],
      "text/plain": [
       "     support                     itemsets\n",
       "0   0.058780           (Hair Conditioner)\n",
       "1   0.093314  (98pct. Fat Free Hamburger)\n",
       "2   0.055107              (Sugar Cookies)\n",
       "3   0.080088                     (Onions)\n",
       "4   0.097722               (Potato Chips)\n",
       "5   0.051433                    (Waffles)\n",
       "6   0.055841                      (Plums)\n",
       "7   0.054372                  (Mushrooms)\n",
       "8   0.056576               (Orange Juice)\n",
       "9   0.050698                 (Sour Cream)\n",
       "10  0.069067   (Pepperoni Pizza - Frozen)\n",
       "11  0.092579                   (Hot Dogs)\n",
       "12  0.055841              (Frozen Shrimp)\n",
       "13  0.060985                    (Raisins)\n",
       "14  0.057311                (Pancake Mix)\n",
       "15  0.064658                    (Bologna)\n",
       "16  0.109478                 (2pct. Milk)\n",
       "17  0.063924               (Popcorn Salt)\n",
       "18  0.066128                   (Tomatoes)\n",
       "19  0.122704                       (Eggs)\n",
       "20  0.119030                (White Bread)\n",
       "21  0.077884                       (Cola)\n",
       "22  0.053637                     (Apples)\n",
       "23  0.059515                    (Bananas)\n",
       "24  0.054372              (Sandwich Bags)\n",
       "25  0.052902           (C Cell Batteries)\n",
       "26  0.058780               (Hot Dog Buns)\n",
       "27  0.055841                    (Oranges)\n",
       "28  0.079353                 (Toothpaste)\n",
       "29  0.054372                (Canned Tuna)\n",
       "30  0.071271             (Hamburger Buns)\n",
       "31  0.058780               (French Fries)\n",
       "32  0.062454              (Ramen Noodles)\n",
       "33  0.067597              (Domestic Beer)\n",
       "34  0.057311                     (Garlic)\n",
       "35  0.077149                (Wheat Bread)\n",
       "36  0.085231               (Sweet Relish)\n",
       "37  0.074210               (Toilet Paper)\n",
       "38  0.051433  (Potato Chips, White Bread)\n",
       "39  0.052168           (Eggs, 2pct. Milk)\n",
       "40  0.051433    (2pct. Milk, White Bread)\n",
       "41  0.055107          (Eggs, White Bread)"
      ]
     },
     "execution_count": 206,
     "metadata": {},
     "output_type": "execute_result"
    }
   ],
   "source": [
    "freq_items_01 = apriori(mdf, min_support=0.05, use_colnames=True, verbose=1)\n",
    "freq_items_01"
   ]
  },
  {
   "cell_type": "code",
   "execution_count": 207,
   "metadata": {},
   "outputs": [
    {
     "name": "stdout",
     "output_type": "stream",
     "text": [
      "(33, 2) (42, 2)\n"
     ]
    }
   ],
   "source": [
    "print(freq_items.shape,freq_items_01.shape)"
   ]
  },
  {
   "cell_type": "code",
   "execution_count": 208,
   "metadata": {},
   "outputs": [
    {
     "name": "stdout",
     "output_type": "stream",
     "text": [
      "13\n"
     ]
    }
   ],
   "source": [
    "print(len(over_support_lst))"
   ]
  },
  {
   "cell_type": "markdown",
   "metadata": {},
   "source": [
    "min_support_0.07 로 했더니, 빈번집합이, 1개 그룹것만 나온다. 일단, 위에서 쌩코딩으로 구한것과 같다.  \n",
    "다만, 하기 association_rules 에서는 결과같이 위에와 좀 다르다.  \n",
    "\n",
    "쌩코딩으로 조출한 threshold 5.6 이상인 조합 결과\n",
    "\n",
    "over lift list  \n",
    "['Hamburger Buns'] => ['98pct. Fat Free Hamburger']: 7.291663284357497  \n",
    "['98pct. Fat Free Hamburger'] => ['Hamburger Buns']: 7.291663284357496  \n",
    "['Hot Dogs'] => ['Sweet Relish']: 5.9594964422550625  \n",
    "['Sweet Relish'] => ['Hot Dogs']: 5.959496442255062  \n",
    "['Toothpaste'] => ['Wheat Bread']: 5.640828924162257  \n",
    "['Wheat Bread'] => ['Toothpaste']: 5.640828924162257  "
   ]
  },
  {
   "cell_type": "code",
   "execution_count": 209,
   "metadata": {},
   "outputs": [
    {
     "data": {
      "text/html": [
       "<div>\n",
       "<style scoped>\n",
       "    .dataframe tbody tr th:only-of-type {\n",
       "        vertical-align: middle;\n",
       "    }\n",
       "\n",
       "    .dataframe tbody tr th {\n",
       "        vertical-align: top;\n",
       "    }\n",
       "\n",
       "    .dataframe thead th {\n",
       "        text-align: right;\n",
       "    }\n",
       "</style>\n",
       "<table border=\"1\" class=\"dataframe\">\n",
       "  <thead>\n",
       "    <tr style=\"text-align: right;\">\n",
       "      <th></th>\n",
       "      <th>antecedents</th>\n",
       "      <th>consequents</th>\n",
       "      <th>antecedent support</th>\n",
       "      <th>consequent support</th>\n",
       "      <th>support</th>\n",
       "      <th>confidence</th>\n",
       "      <th>lift</th>\n",
       "      <th>leverage</th>\n",
       "      <th>conviction</th>\n",
       "    </tr>\n",
       "  </thead>\n",
       "  <tbody>\n",
       "    <tr>\n",
       "      <th>0</th>\n",
       "      <td>(Potato Chips)</td>\n",
       "      <td>(White Bread)</td>\n",
       "      <td>0.097722</td>\n",
       "      <td>0.119030</td>\n",
       "      <td>0.051433</td>\n",
       "      <td>0.526316</td>\n",
       "      <td>4.421702</td>\n",
       "      <td>0.039801</td>\n",
       "      <td>1.859825</td>\n",
       "    </tr>\n",
       "    <tr>\n",
       "      <th>1</th>\n",
       "      <td>(White Bread)</td>\n",
       "      <td>(Potato Chips)</td>\n",
       "      <td>0.119030</td>\n",
       "      <td>0.097722</td>\n",
       "      <td>0.051433</td>\n",
       "      <td>0.432099</td>\n",
       "      <td>4.421702</td>\n",
       "      <td>0.039801</td>\n",
       "      <td>1.588793</td>\n",
       "    </tr>\n",
       "    <tr>\n",
       "      <th>5</th>\n",
       "      <td>(White Bread)</td>\n",
       "      <td>(2pct. Milk)</td>\n",
       "      <td>0.119030</td>\n",
       "      <td>0.109478</td>\n",
       "      <td>0.051433</td>\n",
       "      <td>0.432099</td>\n",
       "      <td>3.946889</td>\n",
       "      <td>0.038402</td>\n",
       "      <td>1.568093</td>\n",
       "    </tr>\n",
       "    <tr>\n",
       "      <th>4</th>\n",
       "      <td>(2pct. Milk)</td>\n",
       "      <td>(White Bread)</td>\n",
       "      <td>0.109478</td>\n",
       "      <td>0.119030</td>\n",
       "      <td>0.051433</td>\n",
       "      <td>0.469799</td>\n",
       "      <td>3.946889</td>\n",
       "      <td>0.038402</td>\n",
       "      <td>1.661576</td>\n",
       "    </tr>\n",
       "    <tr>\n",
       "      <th>2</th>\n",
       "      <td>(Eggs)</td>\n",
       "      <td>(2pct. Milk)</td>\n",
       "      <td>0.122704</td>\n",
       "      <td>0.109478</td>\n",
       "      <td>0.052168</td>\n",
       "      <td>0.425150</td>\n",
       "      <td>3.883414</td>\n",
       "      <td>0.038734</td>\n",
       "      <td>1.549137</td>\n",
       "    </tr>\n",
       "  </tbody>\n",
       "</table>\n",
       "</div>"
      ],
      "text/plain": [
       "      antecedents     consequents  antecedent support  consequent support  \\\n",
       "0  (Potato Chips)   (White Bread)            0.097722            0.119030   \n",
       "1   (White Bread)  (Potato Chips)            0.119030            0.097722   \n",
       "5   (White Bread)    (2pct. Milk)            0.119030            0.109478   \n",
       "4    (2pct. Milk)   (White Bread)            0.109478            0.119030   \n",
       "2          (Eggs)    (2pct. Milk)            0.122704            0.109478   \n",
       "\n",
       "    support  confidence      lift  leverage  conviction  \n",
       "0  0.051433    0.526316  4.421702  0.039801    1.859825  \n",
       "1  0.051433    0.432099  4.421702  0.039801    1.588793  \n",
       "5  0.051433    0.432099  3.946889  0.038402    1.568093  \n",
       "4  0.051433    0.469799  3.946889  0.038402    1.661576  \n",
       "2  0.052168    0.425150  3.883414  0.038734    1.549137  "
      ]
     },
     "execution_count": 209,
     "metadata": {},
     "output_type": "execute_result"
    }
   ],
   "source": [
    "rules_01 = association_rules(freq_items_01, metric=\"lift\", min_threshold=0.0001) ## 0.53 / 5.6\n",
    "rules_01.sort_values(by='lift',ascending=False).head()"
   ]
  },
  {
   "cell_type": "code",
   "execution_count": 210,
   "metadata": {},
   "outputs": [
    {
     "data": {
      "text/html": [
       "<div>\n",
       "<style scoped>\n",
       "    .dataframe tbody tr th:only-of-type {\n",
       "        vertical-align: middle;\n",
       "    }\n",
       "\n",
       "    .dataframe tbody tr th {\n",
       "        vertical-align: top;\n",
       "    }\n",
       "\n",
       "    .dataframe thead th {\n",
       "        text-align: right;\n",
       "    }\n",
       "</style>\n",
       "<table border=\"1\" class=\"dataframe\">\n",
       "  <thead>\n",
       "    <tr style=\"text-align: right;\">\n",
       "      <th></th>\n",
       "      <th>antecedents</th>\n",
       "      <th>consequents</th>\n",
       "      <th>antecedent support</th>\n",
       "      <th>consequent support</th>\n",
       "      <th>support</th>\n",
       "      <th>confidence</th>\n",
       "      <th>lift</th>\n",
       "      <th>leverage</th>\n",
       "      <th>conviction</th>\n",
       "    </tr>\n",
       "  </thead>\n",
       "  <tbody>\n",
       "    <tr>\n",
       "      <th>0</th>\n",
       "      <td>(Potato Chips)</td>\n",
       "      <td>(White Bread)</td>\n",
       "      <td>0.097722</td>\n",
       "      <td>0.119030</td>\n",
       "      <td>0.051433</td>\n",
       "      <td>0.526316</td>\n",
       "      <td>4.421702</td>\n",
       "      <td>0.039801</td>\n",
       "      <td>1.859825</td>\n",
       "    </tr>\n",
       "    <tr>\n",
       "      <th>1</th>\n",
       "      <td>(White Bread)</td>\n",
       "      <td>(Potato Chips)</td>\n",
       "      <td>0.119030</td>\n",
       "      <td>0.097722</td>\n",
       "      <td>0.051433</td>\n",
       "      <td>0.432099</td>\n",
       "      <td>4.421702</td>\n",
       "      <td>0.039801</td>\n",
       "      <td>1.588793</td>\n",
       "    </tr>\n",
       "    <tr>\n",
       "      <th>2</th>\n",
       "      <td>(Eggs)</td>\n",
       "      <td>(2pct. Milk)</td>\n",
       "      <td>0.122704</td>\n",
       "      <td>0.109478</td>\n",
       "      <td>0.052168</td>\n",
       "      <td>0.425150</td>\n",
       "      <td>3.883414</td>\n",
       "      <td>0.038734</td>\n",
       "      <td>1.549137</td>\n",
       "    </tr>\n",
       "    <tr>\n",
       "      <th>3</th>\n",
       "      <td>(2pct. Milk)</td>\n",
       "      <td>(Eggs)</td>\n",
       "      <td>0.109478</td>\n",
       "      <td>0.122704</td>\n",
       "      <td>0.052168</td>\n",
       "      <td>0.476510</td>\n",
       "      <td>3.883414</td>\n",
       "      <td>0.038734</td>\n",
       "      <td>1.675861</td>\n",
       "    </tr>\n",
       "    <tr>\n",
       "      <th>4</th>\n",
       "      <td>(2pct. Milk)</td>\n",
       "      <td>(White Bread)</td>\n",
       "      <td>0.109478</td>\n",
       "      <td>0.119030</td>\n",
       "      <td>0.051433</td>\n",
       "      <td>0.469799</td>\n",
       "      <td>3.946889</td>\n",
       "      <td>0.038402</td>\n",
       "      <td>1.661576</td>\n",
       "    </tr>\n",
       "    <tr>\n",
       "      <th>5</th>\n",
       "      <td>(White Bread)</td>\n",
       "      <td>(2pct. Milk)</td>\n",
       "      <td>0.119030</td>\n",
       "      <td>0.109478</td>\n",
       "      <td>0.051433</td>\n",
       "      <td>0.432099</td>\n",
       "      <td>3.946889</td>\n",
       "      <td>0.038402</td>\n",
       "      <td>1.568093</td>\n",
       "    </tr>\n",
       "    <tr>\n",
       "      <th>6</th>\n",
       "      <td>(Eggs)</td>\n",
       "      <td>(White Bread)</td>\n",
       "      <td>0.122704</td>\n",
       "      <td>0.119030</td>\n",
       "      <td>0.055107</td>\n",
       "      <td>0.449102</td>\n",
       "      <td>3.773010</td>\n",
       "      <td>0.040501</td>\n",
       "      <td>1.599152</td>\n",
       "    </tr>\n",
       "    <tr>\n",
       "      <th>7</th>\n",
       "      <td>(White Bread)</td>\n",
       "      <td>(Eggs)</td>\n",
       "      <td>0.119030</td>\n",
       "      <td>0.122704</td>\n",
       "      <td>0.055107</td>\n",
       "      <td>0.462963</td>\n",
       "      <td>3.773010</td>\n",
       "      <td>0.040501</td>\n",
       "      <td>1.633586</td>\n",
       "    </tr>\n",
       "  </tbody>\n",
       "</table>\n",
       "</div>"
      ],
      "text/plain": [
       "      antecedents     consequents  antecedent support  consequent support  \\\n",
       "0  (Potato Chips)   (White Bread)            0.097722            0.119030   \n",
       "1   (White Bread)  (Potato Chips)            0.119030            0.097722   \n",
       "2          (Eggs)    (2pct. Milk)            0.122704            0.109478   \n",
       "3    (2pct. Milk)          (Eggs)            0.109478            0.122704   \n",
       "4    (2pct. Milk)   (White Bread)            0.109478            0.119030   \n",
       "5   (White Bread)    (2pct. Milk)            0.119030            0.109478   \n",
       "6          (Eggs)   (White Bread)            0.122704            0.119030   \n",
       "7   (White Bread)          (Eggs)            0.119030            0.122704   \n",
       "\n",
       "    support  confidence      lift  leverage  conviction  \n",
       "0  0.051433    0.526316  4.421702  0.039801    1.859825  \n",
       "1  0.051433    0.432099  4.421702  0.039801    1.588793  \n",
       "2  0.052168    0.425150  3.883414  0.038734    1.549137  \n",
       "3  0.052168    0.476510  3.883414  0.038734    1.675861  \n",
       "4  0.051433    0.469799  3.946889  0.038402    1.661576  \n",
       "5  0.051433    0.432099  3.946889  0.038402    1.568093  \n",
       "6  0.055107    0.449102  3.773010  0.040501    1.599152  \n",
       "7  0.055107    0.462963  3.773010  0.040501    1.633586  "
      ]
     },
     "execution_count": 210,
     "metadata": {},
     "output_type": "execute_result"
    }
   ],
   "source": [
    "rules_01"
   ]
  },
  {
   "cell_type": "markdown",
   "metadata": {},
   "source": [
    "lift 를 구할때, 아예 도출이 되지 않는다....이유는 정확히는 모르겠지만, freq_items_01 집합은 최소 2개 조합이 나온 상태에서 값을 구할 수 있는 것으로 보인다.  \n",
    "최소지지도 그룹에서, 2개 조합이 4개가 나오니, 순서를 고려하여, 최종적으로 lift가 8개 도출되었다(4*2)  \n",
    "기본적으로  association_rules 은 빈번 그룹이 나오게 되었을때, 1개 그룹으로는 구하지 않는 것으로 보인다.  \n",
    "rules_02 = association_rules(freq_items_01, metric=\"lift\", min_threshold=5.6) 하면, 나오는게 없다. nothing 이다."
   ]
  },
  {
   "cell_type": "code",
   "execution_count": 213,
   "metadata": {},
   "outputs": [],
   "source": [
    "rules_02 = association_rules(freq_items_01, metric=\"lift\", min_threshold=5.6) "
   ]
  },
  {
   "cell_type": "code",
   "execution_count": 214,
   "metadata": {},
   "outputs": [
    {
     "data": {
      "text/html": [
       "<div>\n",
       "<style scoped>\n",
       "    .dataframe tbody tr th:only-of-type {\n",
       "        vertical-align: middle;\n",
       "    }\n",
       "\n",
       "    .dataframe tbody tr th {\n",
       "        vertical-align: top;\n",
       "    }\n",
       "\n",
       "    .dataframe thead th {\n",
       "        text-align: right;\n",
       "    }\n",
       "</style>\n",
       "<table border=\"1\" class=\"dataframe\">\n",
       "  <thead>\n",
       "    <tr style=\"text-align: right;\">\n",
       "      <th></th>\n",
       "      <th>antecedents</th>\n",
       "      <th>consequents</th>\n",
       "      <th>antecedent support</th>\n",
       "      <th>consequent support</th>\n",
       "      <th>support</th>\n",
       "      <th>confidence</th>\n",
       "      <th>lift</th>\n",
       "      <th>leverage</th>\n",
       "      <th>conviction</th>\n",
       "    </tr>\n",
       "  </thead>\n",
       "  <tbody>\n",
       "  </tbody>\n",
       "</table>\n",
       "</div>"
      ],
      "text/plain": [
       "Empty DataFrame\n",
       "Columns: [antecedents, consequents, antecedent support, consequent support, support, confidence, lift, leverage, conviction]\n",
       "Index: []"
      ]
     },
     "execution_count": 214,
     "metadata": {},
     "output_type": "execute_result"
    }
   ],
   "source": [
    "rules_02"
   ]
  },
  {
   "cell_type": "code",
   "execution_count": null,
   "metadata": {},
   "outputs": [],
   "source": []
  }
 ],
 "metadata": {
  "kernelspec": {
   "display_name": "Python 3",
   "language": "python",
   "name": "python3"
  },
  "language_info": {
   "codemirror_mode": {
    "name": "ipython",
    "version": 3
   },
   "file_extension": ".py",
   "mimetype": "text/x-python",
   "name": "python",
   "nbconvert_exporter": "python",
   "pygments_lexer": "ipython3",
   "version": "3.7.3"
  }
 },
 "nbformat": 4,
 "nbformat_minor": 4
}
