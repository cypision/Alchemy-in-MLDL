{
 "cells": [
  {
   "cell_type": "markdown",
   "metadata": {},
   "source": [
    "---\n",
    "title:  \"Principal Component Analysis Using Python\"\n",
    "excerpt: \"python 으로 하는 주성분 분석(PCA)\"\n",
    "\n",
    "categories:\n",
    "  - Machine-Learning\n",
    "tags:\n",
    "  - PCA\n",
    "  - EigenDecomposition\n",
    "  - Dimension reduction\n",
    "  - Feature extraction\n",
    "last_modified_at: 2020-04-26T21:15:00-05:00\n",
    "---"
   ]
  },
  {
   "cell_type": "markdown",
   "metadata": {},
   "source": [
    "## Principal component analysis  \n",
    "### reference  \n",
    "- 코드관련 : StatQuest youtube - \"PCA in Python\" 을 참고하여 진행했다\n",
    "- 포아송분포관련 blog : https://blog.naver.com/PostView.nhn?blogId=mykepzzang&logNo=220840724901"
   ]
  },
  {
   "cell_type": "markdown",
   "metadata": {},
   "source": [
    "## Loding Library"
   ]
  },
  {
   "cell_type": "code",
   "execution_count": 1,
   "metadata": {},
   "outputs": [],
   "source": [
    "import pandas as pd\n",
    "import numpy as np\n",
    "import random as rd\n",
    "from sklearn.decomposition import PCA\n",
    "from sklearn import preprocessing\n",
    "import matplotlib.pyplot as plt # NOTE: This was tested with matplotlib v. 2.1.0"
   ]
  },
  {
   "cell_type": "markdown",
   "metadata": {},
   "source": [
    "## Data Generation Code"
   ]
  },
  {
   "cell_type": "code",
   "execution_count": 2,
   "metadata": {},
   "outputs": [],
   "source": [
    "## In this example, the data is in a data frame called data.\n",
    "## Columns are individual samples (i.e. cells)\n",
    "## Rows are measurements taken for all the samples (i.e. genes)\n",
    "## Just for the sake of the example, we'll use made up data...\n",
    "genes = ['gene' + str(i) for i in range(1,101)]\n",
    " \n",
    "wt = ['wt' + str(i) for i in range(1,6)]\n",
    "ko = ['ko' + str(i) for i in range(1,6)]\n",
    " \n",
    "data = pd.DataFrame(columns=[*wt, *ko], index=genes)\n",
    " \n",
    "for gene in data.index:\n",
    "    data.loc[gene,'wt1':'wt5'] = np.random.poisson(lam=rd.randrange(10,1000), size=5)\n",
    "    data.loc[gene,'ko1':'ko5'] = np.random.poisson(lam=rd.randrange(10,1000), size=5)"
   ]
  },
  {
   "cell_type": "markdown",
   "metadata": {},
   "source": [
    "## Special Poisson Distribution\n",
    "random.poisson 은 lam 다 값을 통하여, 랜덤하게 값을 뽑는데, 이때 lambda의 범위를 10 ~ 1000 으로 한다.  \n",
    "이걸 활용하여, 이 lambda 값을 활용하여, 포아송 분포에서, 랜덤하게 5(size=5)개를 추출한다. "
   ]
  },
  {
   "cell_type": "code",
   "execution_count": 3,
   "metadata": {},
   "outputs": [],
   "source": [
    "# ![img](../dataset/PCA/1280px-Poisson_pmf.svg.PNG)"
   ]
  },
  {
   "cell_type": "code",
   "execution_count": 4,
   "metadata": {},
   "outputs": [],
   "source": [
    "import seaborn as sns\n",
    "sns.set(style=\"darkgrid\", palette=\"muted\", color_codes=True)\n",
    "%matplotlib inline"
   ]
  },
  {
   "cell_type": "markdown",
   "metadata": {},
   "source": [
    "#### 포아송분포 정의  \n",
    "1) 모수 : 모집단의 특성을 나타내는 수치  ex> 한 시간동안 사무실에 걸려온 전화의 수, 일주일동안 기병들이 낙마하는 횟수  \n",
    "2) 포아송분포의 모수 : \"단위시간 또는 단위공간에서 평균발생횟수\"  \n",
    "\n",
    "정의하면, __\"단위 시간, 단위 공간에 어떤 사건이 몇 번 발생할 것인가를 표현하는 이산 확률분포\"__"
   ]
  },
  {
   "cell_type": "code",
   "execution_count": 5,
   "metadata": {},
   "outputs": [
    {
     "data": {
      "image/png": "[encoded data removed]",
      "text/plain": [
       "<Figure size 504x360 with 4 Axes>"
      ]
     },
     "metadata": {
      "needs_background": "light"
     },
     "output_type": "display_data"
    }
   ],
   "source": [
    "# Set up the matplotlib figure\n",
    "f, axes = plt.subplots(2, 2, figsize=(7, 5), sharex=True)\n",
    "sns.despine(left=True)\n",
    "\n",
    "ax1=sns.distplot(np.random.poisson(lam=1, size=100), color=\"b\", kde=True, ax=axes[0, 0],label=\"lambda:1\")\n",
    "ax1.legend()\n",
    "ax2=sns.distplot(np.random.poisson(lam=5, size=100), color=\"r\", kde=True, ax=axes[0, 1],label=\"lambda:5\")\n",
    "ax2.legend()\n",
    "ax3=sns.distplot(np.random.poisson(lam=10, size=100), color=\"g\", kde=True, ax=axes[1, 0],label=\"lambda:10\")\n",
    "ax3.legend()\n",
    "ax4=sns.distplot(np.random.poisson(lam=20, size=100), color=\"m\", kde=True, ax=axes[1, 1],label=\"lambda:20\")\n",
    "ax4.legend()\n",
    "\n",
    "plt.setp(axes, yticks=[])\n",
    "plt.tight_layout()"
   ]
  },
  {
   "cell_type": "code",
   "execution_count": 6,
   "metadata": {},
   "outputs": [
    {
     "name": "stdout",
     "output_type": "stream",
     "text": [
      "        wt1  wt2  wt3  wt4  wt5  ko1  ko2  ko3  ko4  ko5\n",
      "gene1   757  753  765  705  792  359  379  378  395  396\n",
      "gene2  1005  940  946  909  992  861  896  884  942  880\n",
      "gene3   682  679  681  669  741  116   94   87   91   96\n",
      "gene4   281  266  286  307  301  882  833  848  849  842\n",
      "gene5    51   48   48   30   42  856  788  823  882  849\n",
      "\n",
      "(100, 10)\n"
     ]
    }
   ],
   "source": [
    "print(data.head()) ## gene 이 feature고, wt1~5,ko1~5 가 sample이다.\n",
    "print()\n",
    "print(data.shape)"
   ]
  },
  {
   "cell_type": "code",
   "execution_count": 7,
   "metadata": {},
   "outputs": [
    {
     "name": "stdout",
     "output_type": "stream",
     "text": [
      "(10, 100)\n"
     ]
    }
   ],
   "source": [
    "## 데이터 형식을 익숙하게 row * feature 구조로 바꾼다\n",
    "data01 = data.T\n",
    "print(data01.shape)"
   ]
  },
  {
   "cell_type": "code",
   "execution_count": 8,
   "metadata": {},
   "outputs": [],
   "source": [
    "import warnings\n",
    "warnings.filterwarnings(action='ignore')"
   ]
  },
  {
   "cell_type": "markdown",
   "metadata": {},
   "source": [
    "## Perform PCA on the data"
   ]
  },
  {
   "cell_type": "markdown",
   "metadata": {},
   "source": [
    "센터화 + scaling 하는 부분은 어떤 library를 사용해도 상관없다."
   ]
  },
  {
   "cell_type": "code",
   "execution_count": 9,
   "metadata": {},
   "outputs": [],
   "source": [
    "# First center and scale the data\n",
    "scaled_data00 = preprocessing.scale(data01)\n",
    "sc = preprocessing.StandardScaler()\n",
    "scaled_data01 = sc.fit_transform(data01)"
   ]
  },
  {
   "cell_type": "code",
   "execution_count": 10,
   "metadata": {},
   "outputs": [
    {
     "data": {
      "text/plain": [
       "array([[ 1.00688443,  1.74565139,  0.96960136, -1.02401425],\n",
       "       [ 0.98558598,  0.31838925,  0.95951536, -1.07725589]])"
      ]
     },
     "execution_count": 10,
     "metadata": {},
     "output_type": "execute_result"
    }
   ],
   "source": [
    "scaled_data00[0:2,0:4]"
   ]
  },
  {
   "cell_type": "code",
   "execution_count": 11,
   "metadata": {},
   "outputs": [
    {
     "data": {
      "text/plain": [
       "array([[ 1.00688443,  1.74565139,  0.96960136, -1.02401425],\n",
       "       [ 0.98558598,  0.31838925,  0.95951536, -1.07725589]])"
      ]
     },
     "execution_count": 11,
     "metadata": {},
     "output_type": "execute_result"
    }
   ],
   "source": [
    "scaled_data01[0:2,0:4]"
   ]
  },
  {
   "cell_type": "markdown",
   "metadata": {},
   "source": [
    "sklearn.decomposition.PCA(n_components=None, copy=True, whiten=False, svd_solver='auto', tol=0.0, iterated_power='auto', random_state=None)  \n",
    "- n_components : None일경우, min(n_samples, n_features) 이며, n_components 라이브러기가 자동으로 min(n_samples, n_features) 골라서, 수행하게 된다. 저 조건은 변경불가하다  \n",
    "- svd_solver  \n",
    ">default `auto`: The solver is selected by a default policy based on X.shape and n_components: if the input data is larger than 500x500 and the number of components to extract is lower than 80% of the smallest dimension of the data, then the more efficient ‘randomized’ method is enabled. Otherwise the exact full SVD is computed and optionally truncated afterwards.  \n",
    ">`full`: run exact full SVD calling the standard LAPACK solver via scipy.linalg.svd and select the components by postprocessing  \n",
    ">`arpack`: run SVD truncated to n_components calling ARPACK solver via scipy.sparse.linalg.svds. It requires strictly 0 < n_components < min(X.shape)  \n",
    ">`randomized` : run randomized SVD by the method of Halko et al."
   ]
  },
  {
   "cell_type": "code",
   "execution_count": 30,
   "metadata": {},
   "outputs": [],
   "source": [
    "pca = PCA(n_components=None,svd_solver='full') # create a PCA object ## n_components == min(n_samples, n_features)\n",
    "pca.fit(scaled_data01) # do the math => eigen decomposition 이 이루어진다.\n",
    "pca_data = pca.transform(scaled_data01) # get PCA coordinates for scaled_data"
   ]
  },
  {
   "cell_type": "code",
   "execution_count": 82,
   "metadata": {},
   "outputs": [
    {
     "data": {
      "text/plain": [
       "(10, 10)"
      ]
     },
     "execution_count": 82,
     "metadata": {},
     "output_type": "execute_result"
    }
   ],
   "source": [
    "pca_data.shape"
   ]
  },
  {
   "cell_type": "markdown",
   "metadata": {},
   "source": [
    "`여기서 얻어지는 pca_data 는 각각의 주성분사용하여, 원래 데이터를 선형변환한 값이다.`"
   ]
  },
  {
   "attachments": {
    "image.png": {
     "image/png": "[encoded data removed]"
    }
   },
   "cell_type": "markdown",
   "metadata": {},
   "source": [
    "![image.png](attachment:image.png)"
   ]
  },
  {
   "cell_type": "markdown",
   "metadata": {},
   "source": [
    "pca_data 는 상기 그림에서 e 매트릭스들을 곱한값이라고 여기면 된다.\n",
    "실제 e 에 해당하는 값은 pca.components_ 다.  \n",
    "* components_ : array, shape (n_components, n_features)  \n",
    "> Principal axes in feature space, representing the directions of maximum variance in the data. The components are sorted by explained_variance_.  \n",
    "`공분산의 eigenvector 를 뜻한다.`\n",
    "* explained_variance_ : array, shape (n_components,)\n",
    "> The amount of variance explained by each of the selected components.  \n",
    "Equal to n_components largest eigenvalues of the covariance matrix of X.  \n",
    "`공분산의  eigenvalue, lambda 로 이루어진 함수를 뜻한다.`"
   ]
  },
  {
   "cell_type": "markdown",
   "metadata": {},
   "source": [
    "상기 식처럼 표현하면,  \n",
    "`feature들의 공분산행렬`: __pca.get_covariance()__  \n",
    "`공분산행렬의 eigen vector`: __pca.components___    \n",
    "`공분산행렬의 eigen value`: __pca.explained_variance___    "
   ]
  },
  {
   "cell_type": "code",
   "execution_count": 130,
   "metadata": {},
   "outputs": [
    {
     "name": "stdout",
     "output_type": "stream",
     "text": [
      "feature 100개를 공분산행렬A이라 할때\n",
      " A Covariance(): shape(100, 100)\n",
      " A행렬의 고유벡터(eigen vactor) 행렬 P: (10, 100)\n",
      " A행렬의 고유치(eigen value) 대각행렬 P: (10, 10)\n"
     ]
    }
   ],
   "source": [
    "## feature들의 공분산행렬\n",
    "print(\"feature 100개를 공분산행렬A이라 할때\\n A Covariance(): shape{}\".format(pca.get_covariance().shape))\n",
    "print(\" A행렬의 고유벡터(eigen vactor) 행렬 P: {}\".format(pca.components_.shape))\n",
    "print(\" A행렬의 고유치(eigen value) 대각행렬 P: {}\".format(np.diag(pca.explained_variance_).shape))"
   ]
  },
  {
   "cell_type": "code",
   "execution_count": 142,
   "metadata": {},
   "outputs": [
    {
     "name": "stdout",
     "output_type": "stream",
     "text": [
      "[ 1.11111111  0.86121875  1.10571855 -1.10431886 -1.09973187]\n",
      "[ 1.11111111  0.86121875  1.10571855 -1.10431886 -1.09973187]\n"
     ]
    }
   ],
   "source": [
    "## 실제결과 비교하기\n",
    "print(pca.get_covariance()[0][0:5])\n",
    "\n",
    "tmp = np.dot(pca.components_.T,np.diag(pca.explained_variance_))\n",
    "rslt = np.dot(tmp,pca.components_)\n",
    "\n",
    "print(rslt[0][0:5])"
   ]
  },
  {
   "cell_type": "markdown",
   "metadata": {},
   "source": [
    "## Draw a scree plot and a PCA plot"
   ]
  },
  {
   "cell_type": "markdown",
   "metadata": {},
   "source": [
    "`여기서 얻어지는 pca_data 는 각각의 주성분사용하여, 원래 데이터를 선형변환한 값이다.`"
   ]
  },
  {
   "cell_type": "code",
   "execution_count": 74,
   "metadata": {},
   "outputs": [
    {
     "data": {
      "text/html": [
       "<div>\n",
       "<style scoped>\n",
       "    .dataframe tbody tr th:only-of-type {\n",
       "        vertical-align: middle;\n",
       "    }\n",
       "\n",
       "    .dataframe tbody tr th {\n",
       "        vertical-align: top;\n",
       "    }\n",
       "\n",
       "    .dataframe thead th {\n",
       "        text-align: right;\n",
       "    }\n",
       "</style>\n",
       "<table border=\"1\" class=\"dataframe\">\n",
       "  <thead>\n",
       "    <tr style=\"text-align: right;\">\n",
       "      <th></th>\n",
       "      <th>PC1</th>\n",
       "      <th>PC2</th>\n",
       "      <th>PC3</th>\n",
       "      <th>PC4</th>\n",
       "      <th>PC5</th>\n",
       "      <th>PC6</th>\n",
       "      <th>PC7</th>\n",
       "      <th>PC8</th>\n",
       "      <th>PC9</th>\n",
       "      <th>PC10</th>\n",
       "    </tr>\n",
       "  </thead>\n",
       "  <tbody>\n",
       "    <tr>\n",
       "      <th>wt1</th>\n",
       "      <td>-9.317911</td>\n",
       "      <td>0.103542</td>\n",
       "      <td>-2.396421</td>\n",
       "      <td>0.557520</td>\n",
       "      <td>1.392658</td>\n",
       "      <td>-0.527304</td>\n",
       "      <td>0.364037</td>\n",
       "      <td>1.336152</td>\n",
       "      <td>-0.394318</td>\n",
       "      <td>3.207748e-15</td>\n",
       "    </tr>\n",
       "    <tr>\n",
       "      <th>wt2</th>\n",
       "      <td>-9.421881</td>\n",
       "      <td>0.266279</td>\n",
       "      <td>-0.385886</td>\n",
       "      <td>-0.128603</td>\n",
       "      <td>-0.008204</td>\n",
       "      <td>1.414610</td>\n",
       "      <td>-1.136689</td>\n",
       "      <td>0.029911</td>\n",
       "      <td>1.405821</td>\n",
       "      <td>-7.493186e-16</td>\n",
       "    </tr>\n",
       "    <tr>\n",
       "      <th>wt3</th>\n",
       "      <td>-9.234666</td>\n",
       "      <td>0.723066</td>\n",
       "      <td>3.408363</td>\n",
       "      <td>0.369731</td>\n",
       "      <td>1.239508</td>\n",
       "      <td>-1.286638</td>\n",
       "      <td>0.133903</td>\n",
       "      <td>-0.094057</td>\n",
       "      <td>0.089323</td>\n",
       "      <td>3.872959e-15</td>\n",
       "    </tr>\n",
       "    <tr>\n",
       "      <th>wt4</th>\n",
       "      <td>-9.505680</td>\n",
       "      <td>-1.758335</td>\n",
       "      <td>1.025360</td>\n",
       "      <td>-0.827711</td>\n",
       "      <td>-1.032711</td>\n",
       "      <td>1.644661</td>\n",
       "      <td>-0.023192</td>\n",
       "      <td>0.074406</td>\n",
       "      <td>-1.131210</td>\n",
       "      <td>1.100753e-15</td>\n",
       "    </tr>\n",
       "    <tr>\n",
       "      <th>wt5</th>\n",
       "      <td>-9.641283</td>\n",
       "      <td>0.802679</td>\n",
       "      <td>-1.608738</td>\n",
       "      <td>-0.011221</td>\n",
       "      <td>-1.576811</td>\n",
       "      <td>-1.255885</td>\n",
       "      <td>0.636638</td>\n",
       "      <td>-1.304464</td>\n",
       "      <td>0.021058</td>\n",
       "      <td>1.001444e-15</td>\n",
       "    </tr>\n",
       "    <tr>\n",
       "      <th>ko1</th>\n",
       "      <td>9.261086</td>\n",
       "      <td>-0.634707</td>\n",
       "      <td>-0.891183</td>\n",
       "      <td>-0.474136</td>\n",
       "      <td>2.264253</td>\n",
       "      <td>0.442054</td>\n",
       "      <td>-0.461911</td>\n",
       "      <td>-1.304797</td>\n",
       "      <td>-0.381146</td>\n",
       "      <td>-2.791638e-15</td>\n",
       "    </tr>\n",
       "    <tr>\n",
       "      <th>ko2</th>\n",
       "      <td>9.644877</td>\n",
       "      <td>-0.439244</td>\n",
       "      <td>-0.000261</td>\n",
       "      <td>-1.497199</td>\n",
       "      <td>-0.985670</td>\n",
       "      <td>-1.593969</td>\n",
       "      <td>-1.565809</td>\n",
       "      <td>0.602234</td>\n",
       "      <td>-0.136152</td>\n",
       "      <td>-7.438973e-16</td>\n",
       "    </tr>\n",
       "    <tr>\n",
       "      <th>ko3</th>\n",
       "      <td>9.832206</td>\n",
       "      <td>4.213431</td>\n",
       "      <td>0.310651</td>\n",
       "      <td>-0.128132</td>\n",
       "      <td>-0.427786</td>\n",
       "      <td>1.022025</td>\n",
       "      <td>0.438142</td>\n",
       "      <td>0.291788</td>\n",
       "      <td>-0.276545</td>\n",
       "      <td>1.249172e-15</td>\n",
       "    </tr>\n",
       "    <tr>\n",
       "      <th>ko4</th>\n",
       "      <td>9.158681</td>\n",
       "      <td>-1.351882</td>\n",
       "      <td>0.247421</td>\n",
       "      <td>3.425707</td>\n",
       "      <td>-0.780595</td>\n",
       "      <td>0.092005</td>\n",
       "      <td>-0.178542</td>\n",
       "      <td>0.028724</td>\n",
       "      <td>0.009418</td>\n",
       "      <td>-8.802470e-16</td>\n",
       "    </tr>\n",
       "    <tr>\n",
       "      <th>ko5</th>\n",
       "      <td>9.224571</td>\n",
       "      <td>-1.924829</td>\n",
       "      <td>0.290694</td>\n",
       "      <td>-1.285956</td>\n",
       "      <td>-0.084641</td>\n",
       "      <td>0.048441</td>\n",
       "      <td>1.793423</td>\n",
       "      <td>0.340103</td>\n",
       "      <td>0.793751</td>\n",
       "      <td>-1.416208e-15</td>\n",
       "    </tr>\n",
       "  </tbody>\n",
       "</table>\n",
       "</div>"
      ],
      "text/plain": [
       "          PC1       PC2       PC3       PC4       PC5       PC6       PC7  \\\n",
       "wt1 -9.317911  0.103542 -2.396421  0.557520  1.392658 -0.527304  0.364037   \n",
       "wt2 -9.421881  0.266279 -0.385886 -0.128603 -0.008204  1.414610 -1.136689   \n",
       "wt3 -9.234666  0.723066  3.408363  0.369731  1.239508 -1.286638  0.133903   \n",
       "wt4 -9.505680 -1.758335  1.025360 -0.827711 -1.032711  1.644661 -0.023192   \n",
       "wt5 -9.641283  0.802679 -1.608738 -0.011221 -1.576811 -1.255885  0.636638   \n",
       "ko1  9.261086 -0.634707 -0.891183 -0.474136  2.264253  0.442054 -0.461911   \n",
       "ko2  9.644877 -0.439244 -0.000261 -1.497199 -0.985670 -1.593969 -1.565809   \n",
       "ko3  9.832206  4.213431  0.310651 -0.128132 -0.427786  1.022025  0.438142   \n",
       "ko4  9.158681 -1.351882  0.247421  3.425707 -0.780595  0.092005 -0.178542   \n",
       "ko5  9.224571 -1.924829  0.290694 -1.285956 -0.084641  0.048441  1.793423   \n",
       "\n",
       "          PC8       PC9          PC10  \n",
       "wt1  1.336152 -0.394318  3.207748e-15  \n",
       "wt2  0.029911  1.405821 -7.493186e-16  \n",
       "wt3 -0.094057  0.089323  3.872959e-15  \n",
       "wt4  0.074406 -1.131210  1.100753e-15  \n",
       "wt5 -1.304464  0.021058  1.001444e-15  \n",
       "ko1 -1.304797 -0.381146 -2.791638e-15  \n",
       "ko2  0.602234 -0.136152 -7.438973e-16  \n",
       "ko3  0.291788 -0.276545  1.249172e-15  \n",
       "ko4  0.028724  0.009418 -8.802470e-16  \n",
       "ko5  0.340103  0.793751 -1.416208e-15  "
      ]
     },
     "execution_count": 74,
     "metadata": {},
     "output_type": "execute_result"
    }
   ],
   "source": [
    "pca_df"
   ]
  },
  {
   "cell_type": "code",
   "execution_count": 143,
   "metadata": {},
   "outputs": [
    {
     "data": {
      "image/png": "[encoded data removed]",
      "text/plain": [
       "<Figure size 432x288 with 1 Axes>"
      ]
     },
     "metadata": {
      "needs_background": "light"
     },
     "output_type": "display_data"
    }
   ],
   "source": [
    "#the following code makes a fancy looking plot using PC1 and PC2\n",
    "pca_df = pd.DataFrame(pca_data, index=[*wt, *ko], columns=labels)\n",
    " \n",
    "plt.scatter(pca_df.PC1, pca_df.PC2)\n",
    "plt.title('My PCA Graph')\n",
    "plt.xlabel('PC1 - {0}%'.format(per_var[0]))\n",
    "plt.ylabel('PC2 - {0}%'.format(per_var[1]))\n",
    " \n",
    "for sample in pca_df.index:\n",
    "    plt.annotate(sample, (pca_df.PC1.loc[sample], pca_df.PC2.loc[sample]))"
   ]
  },
  {
   "cell_type": "markdown",
   "metadata": {},
   "source": [
    "## 총분산으로 비율 확인하기"
   ]
  },
  {
   "cell_type": "code",
   "execution_count": 146,
   "metadata": {},
   "outputs": [],
   "source": [
    "per_var = np.round(pca.explained_variance_ratio_* 100, decimals=1)\n",
    "labels = ['PC' + str(x) for x in range(1, len(per_var)+1)]"
   ]
  },
  {
   "cell_type": "code",
   "execution_count": 147,
   "metadata": {},
   "outputs": [
    {
     "name": "stdout",
     "output_type": "stream",
     "text": [
      "100.00000000000001\n"
     ]
    },
    {
     "data": {
      "text/plain": [
       "array([88.9,  2.8,  2.2,  1.7,  1.4,  1.2,  0.8,  0.6,  0.4,  0. ])"
      ]
     },
     "execution_count": 147,
     "metadata": {},
     "output_type": "execute_result"
    }
   ],
   "source": [
    "print(per_var.sum())\n",
    "per_var ## 총분산값을 보여준다.\n",
    "## 순서데로, PC1의 요소의 Var 값이다."
   ]
  },
  {
   "cell_type": "code",
   "execution_count": 148,
   "metadata": {},
   "outputs": [
    {
     "data": {
      "image/png": "[encoded data removed]",
      "text/plain": [
       "<Figure size 432x288 with 1 Axes>"
      ]
     },
     "metadata": {
      "needs_background": "light"
     },
     "output_type": "display_data"
    }
   ],
   "source": [
    "plt.bar(x=range(1,len(per_var)+1), height=per_var, tick_label=labels)\n",
    "plt.ylabel('Percentage of Explained Variance')\n",
    "plt.xlabel('Principal Component')\n",
    "plt.title('Scree Plot')\n",
    "plt.show()\n",
    " "
   ]
  },
  {
   "cell_type": "markdown",
   "metadata": {},
   "source": [
    "## Determine which genes had the biggest influence on PC1"
   ]
  },
  {
   "cell_type": "code",
   "execution_count": 149,
   "metadata": {},
   "outputs": [
    {
     "data": {
      "text/plain": [
       "(10, 100)"
      ]
     },
     "execution_count": 149,
     "metadata": {},
     "output_type": "execute_result"
    }
   ],
   "source": [
    "pca.components_.shape"
   ]
  },
  {
   "cell_type": "code",
   "execution_count": 150,
   "metadata": {},
   "outputs": [
    {
     "name": "stdout",
     "output_type": "stream",
     "text": [
      "gene96   -0.106024\n",
      "gene97    0.106020\n",
      "gene10    0.106018\n",
      "gene79    0.106002\n",
      "gene49   -0.105999\n",
      "gene51    0.105978\n",
      "gene73    0.105965\n",
      "gene18   -0.105957\n",
      "gene59   -0.105953\n",
      "gene38   -0.105941\n",
      "dtype: float64\n"
     ]
    }
   ],
   "source": [
    "## get the name of the top 10 measurements (genes) that contribute\n",
    "## most to pc1.\n",
    "## first, get the loading scores\n",
    "loading_scores = pd.Series(pca.components_[0], index=genes) ## pca.components_[0] 첫번째 고유벡터\n",
    "## now sort the loading scores based on their magnitude\n",
    "sorted_loading_scores = loading_scores.abs().sort_values(ascending=False)\n",
    " \n",
    "# get the names of the top 10 genes\n",
    "top_10_genes = sorted_loading_scores[0:10].index.values\n",
    " \n",
    "## print the gene names and their scores (and +/- sign)\n",
    "print(loading_scores[top_10_genes])"
   ]
  },
  {
   "cell_type": "markdown",
   "metadata": {},
   "source": [
    "위 결과에서 보면, 특정한 cell 이 PC1의 구성에 큰 영향을 주는 상태가 아니라, 모두 일정하게 영향을 주고 있는 것으로 보인다. 즉, 특별한 cell 이 영향을 미친다고 할 수 없다."
   ]
  },
  {
   "cell_type": "markdown",
   "metadata": {},
   "source": [
    "## Special PCA\n",
    "random.poisson 은 lam 다 값을 통하여, 랜덤하게 값을 뽑는데, 이때 lambda의 범위를 10 ~ 1000 으로 한다.  \n",
    "이걸 활용하여, 이 lambda 값을 활용하여, 포아송 분포에서, 랜덤하게 5(size=5)개를 추출한다. "
   ]
  },
  {
   "cell_type": "code",
   "execution_count": 61,
   "metadata": {},
   "outputs": [
    {
     "data": {
      "text/plain": [
       "array([[ 1,  4,  7,  8],\n",
       "       [ 2,  2,  8,  4],\n",
       "       [ 1, 13,  1,  5]])"
      ]
     },
     "execution_count": 61,
     "metadata": {},
     "output_type": "execute_result"
    }
   ],
   "source": [
    "x1=np.array([1,2,1]).reshape(3,1)\n",
    "x2=np.array([4,2,13]).reshape(3,1)\n",
    "x3=np.array([7,8,1]).reshape(3,1)\n",
    "x4=np.array([8,4,5]).reshape(3,1)\n",
    "X=np.c_[x1,x2,x3,x4];X"
   ]
  }
 ],
 "metadata": {
  "kernelspec": {
   "display_name": "Python 3",
   "language": "python",
   "name": "python3"
  },
  "language_info": {
   "codemirror_mode": {
    "name": "ipython",
    "version": 3
   },
   "file_extension": ".py",
   "mimetype": "text/x-python",
   "name": "python",
   "nbconvert_exporter": "python",
   "pygments_lexer": "ipython3",
   "version": "3.7.3"
  }
 },
 "nbformat": 4,
 "nbformat_minor": 4
}
