{
 "cells": [
  {
   "cell_type": "markdown",
   "metadata": {},
   "source": [
    "---\n",
    "title:  \"Handing Missing Categorical Value using Hamming distance\"\n",
    "excerpt: \"using sckit-learn or handmade Function Test\"\n",
    "\n",
    "categories:\n",
    "  - Useful_Fuction\n",
    "tags:\n",
    "  - KNN\n",
    "  - OrdinalEncoder\n",
    "  - Categorical Missing Value\n",
    "last_modified_at: 2020-05-22T08:06:00-05:00\n",
    "---"
   ]
  },
  {
   "cell_type": "code",
   "execution_count": null,
   "metadata": {},
   "outputs": [],
   "source": []
  }
 ],
 "metadata": {
  "kernelspec": {
   "display_name": "Python 3",
   "language": "python",
   "name": "python3"
  },
  "language_info": {
   "codemirror_mode": {
    "name": "ipython",
    "version": 3
   },
   "file_extension": ".py",
   "mimetype": "text/x-python",
   "name": "python",
   "nbconvert_exporter": "python",
   "pygments_lexer": "ipython3",
   "version": "3.7.3"
  }
 },
 "nbformat": 4,
 "nbformat_minor": 4
}
