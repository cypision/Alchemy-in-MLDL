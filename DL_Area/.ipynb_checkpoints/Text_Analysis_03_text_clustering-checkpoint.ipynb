{
 "cells": [
  {
   "cell_type": "markdown",
   "metadata": {},
   "source": [
    "---\n",
    "title:  \"Documnet Clustering\"\n",
    "excerpt: \"Text Analysis\"  \n",
    "\n",
    "categories:  \n",
    "  - Deep-Learning  \n",
    "tags:  \n",
    "  - Text Analysis\n",
    "  - Opinion Review  \n",
    "  \n",
    "last_modified_at: 2020-08-09T15:20:00-05:00\n",
    "---"
   ]
  },
  {
   "cell_type": "markdown",
   "metadata": {},
   "source": [
    "## Reference  \n",
    "* 파이썬 머신러닝 완벽가이드 - 권철민\n",
    "* NCIA shkim.hi@gmail.com  \n",
    "* [디리클레 분포](https://datascienceschool.net/view-notebook/e0508d3b7dd6427eba2d35e1f629d3de/)"
   ]
  },
  {
   "cell_type": "markdown",
   "metadata": {},
   "source": [
    "## Opinion Review 데이터 세트를 이용한 문서 군집화 수행하기\n",
    "* [dataset](https://archive.ics.uci.edu/ml/datasets/Opinosis+Opinion+%26frasl%3B+Review)"
   ]
  },
  {
   "cell_type": "markdown",
   "metadata": {},
   "source": [
    "### 데이터 로딩"
   ]
  },
  {
   "cell_type": "code",
   "execution_count": 1,
   "metadata": {},
   "outputs": [],
   "source": [
    "import pandas as pd\n",
    "import glob, os              "
   ]
  },
  {
   "cell_type": "markdown",
   "metadata": {},
   "source": [
    "[glob 설명](https://docs.python.org/ko/3/library/glob.html)  \n",
    "- unix 스타일로, 경로설정과 표현이 가능하다."
   ]
  },
  {
   "cell_type": "code",
   "execution_count": 5,
   "metadata": {},
   "outputs": [
    {
     "name": "stdout",
     "output_type": "stream",
     "text": [
      "51\n",
      "['accuracy_garmin_nuvi_255W_gps.txt.data', 'bathroom_bestwestern_hotel_sfo.txt.data', 'battery-life_amazon_kindle.txt.data', 'battery-life_ipod_nano_8gb.txt.data', 'battery-life_netbook_1005ha.txt.data', 'buttons_amazon_kindle.txt.data', 'comfort_honda_accord_2008.txt.data', 'comfort_toyota_camry_2007.txt.data', 'directions_garmin_nuvi_255W_gps.txt.data', 'display_garmin_nuvi_255W_gps.txt.data']\n"
     ]
    }
   ],
   "source": [
    "print(len(os.listdir(\"D:/★2020_ML_DL_Project/Alchemy/dataset/GloVe/OpinosisDataset1.0/topics\")))\n",
    "print(os.listdir(\"D:/★2020_ML_DL_Project/Alchemy/dataset/GloVe/OpinosisDataset1.0/topics\")[0:10])"
   ]
  },
  {
   "cell_type": "code",
   "execution_count": 6,
   "metadata": {},
   "outputs": [],
   "source": [
    "# 지정한 디렉토리 밑에 있는 모든 .data 파일들의 파일명을 리스트로 취합 : 51개 파일\n",
    "all_files = glob.glob(os.path.join(\"D:/★2020_ML_DL_Project/Alchemy/dataset/GloVe/OpinosisDataset1.0/topics\", \"*.data\"))    "
   ]
  },
  {
   "cell_type": "code",
   "execution_count": 23,
   "metadata": {
    "scrolled": true
   },
   "outputs": [],
   "source": [
    "filename_list = []\n",
    "opinion_text = []"
   ]
  },
  {
   "cell_type": "code",
   "execution_count": 24,
   "metadata": {
    "scrolled": true
   },
   "outputs": [],
   "source": [
    "# 개별 파일들의 파일명은 filename_list 리스트로 취합, \n",
    "# 개별 파일들의 파일내용은 DataFrame로딩 후 다시 string으로 변환하여 opinion_text 리스트로 취합 \n",
    "for file_ in all_files:\n",
    "    # 개별 파일을 읽어서 DataFrame으로 생성 \n",
    "    df = pd.read_table(file_,index_col=None, header=0,encoding='latin1') ## latin1\n",
    "    # 절대경로로 주어진 file 명을 가공. 만일 Linux에서 수행시에는 아래 \\\\를 / 변경. 맨 마지막 .data 확장자도 제거\n",
    "    filename_ = file_.split('\\\\')[-1]\n",
    "    filename = filename_.split('.')[0]\n",
    "    #파일명 리스트와 파일내용 리스트에 파일명과 파일 내용을 추가. \n",
    "    filename_list.append(filename)\n",
    "    opinion_text.append(df.to_string())"
   ]
  },
  {
   "cell_type": "code",
   "execution_count": 25,
   "metadata": {
    "scrolled": true
   },
   "outputs": [
    {
     "data": {
      "text/html": [
       "<div>\n",
       "<style scoped>\n",
       "    .dataframe tbody tr th:only-of-type {\n",
       "        vertical-align: middle;\n",
       "    }\n",
       "\n",
       "    .dataframe tbody tr th {\n",
       "        vertical-align: top;\n",
       "    }\n",
       "\n",
       "    .dataframe thead th {\n",
       "        text-align: right;\n",
       "    }\n",
       "</style>\n",
       "<table border=\"1\" class=\"dataframe\">\n",
       "  <thead>\n",
       "    <tr style=\"text-align: right;\">\n",
       "      <th></th>\n",
       "      <th>filename</th>\n",
       "      <th>opinion_text</th>\n",
       "    </tr>\n",
       "  </thead>\n",
       "  <tbody>\n",
       "    <tr>\n",
       "      <th>0</th>\n",
       "      <td>accuracy_garmin_nuvi_255W_gps</td>\n",
       "      <td>...</td>\n",
       "    </tr>\n",
       "    <tr>\n",
       "      <th>1</th>\n",
       "      <td>bathroom_bestwestern_hotel_sfo</td>\n",
       "      <td>...</td>\n",
       "    </tr>\n",
       "    <tr>\n",
       "      <th>2</th>\n",
       "      <td>battery-life_amazon_kindle</td>\n",
       "      <td>...</td>\n",
       "    </tr>\n",
       "    <tr>\n",
       "      <th>3</th>\n",
       "      <td>battery-life_ipod_nano_8gb</td>\n",
       "      <td>...</td>\n",
       "    </tr>\n",
       "    <tr>\n",
       "      <th>4</th>\n",
       "      <td>battery-life_netbook_1005ha</td>\n",
       "      <td>...</td>\n",
       "    </tr>\n",
       "  </tbody>\n",
       "</table>\n",
       "</div>"
      ],
      "text/plain": [
       "                         filename  \\\n",
       "0   accuracy_garmin_nuvi_255W_gps   \n",
       "1  bathroom_bestwestern_hotel_sfo   \n",
       "2      battery-life_amazon_kindle   \n",
       "3      battery-life_ipod_nano_8gb   \n",
       "4     battery-life_netbook_1005ha   \n",
       "\n",
       "                                        opinion_text  \n",
       "0                                                ...  \n",
       "1                                                ...  \n",
       "2                                                ...  \n",
       "3                                                ...  \n",
       "4                                                ...  "
      ]
     },
     "execution_count": 25,
     "metadata": {},
     "output_type": "execute_result"
    }
   ],
   "source": [
    "# print(len(filename_list))  # 51\n",
    "# 파일명 리스트와 파일내용 리스트를  DataFrame으로 생성\n",
    "document_df = pd.DataFrame({'filename':filename_list, 'opinion_text':opinion_text})\n",
    "document_df.head()"
   ]
  },
  {
   "cell_type": "code",
   "execution_count": 30,
   "metadata": {},
   "outputs": [
    {
     "data": {
      "text/plain": [
       "\"                                                                                                                                                                                                                                              The room was not overly big, but clean and very comfortable beds, a great shower and very clean bathrooms .\\n0                                                                                                                                                                                                                          The second room was smaller, with a very inconvenient bathroom layout, but at least it was quieter and we were able to sleep .\\n1                                                                                                                                                                                                                                                                                                            Large comfortable room, wonderful bathroom .\\n2                                                                                                                                                                                                                                                                                           The rooms were nice, very comfy bed and very clean bathroom .\\n3                                                                                                                                                                                                                                                                                                              Bathroom was spacious too and very clean .\\n4                                                                                                                                                                                                                                                                                            The bathroom only had a single sink, but it was very large .\\n5                                                                                                                                                                                                                                                    The room was a standard but nice motel room like any other, bathroom seemed upgraded if I remember .\\n6                                                                                                                                                                                                                                                                                   The room was quite small but perfectly formed with a super bathroom .\\n7                                                                                                                                                                                                                                                                                                  You could eat off the bathroom floor it was so clean .\\n8                                                                                                                                                                                                                                                                       The bathroom door does the same thing, making the bathroom seem slightly larger .\\n9                                                                                                                                                                                                                                                                                                                bathroom spotless and nicely appointed .\\n10                                                                                                                                                                                                                                                                                             The rooms are exceptionally clean and also the bathrooms .\\n11                                                                                                                                                                                                                                                                                                         The bathroom was clean and the bed was comfy .\\n12                                                                                                                                                                                                                                                                                           They provide you with great aveda products in the bathroom .\\n13                                                                                                                                                                                                                Also, the bathroom was a bit dirty ,  brown water came out of the bath tub faucet initially and the sink wall by the toilet was dirty .\\n14                                                                                                                                                                                                                         If your dog tends to be a little disruptive or on the noisy side, there is a bathroom fan that you can keep on to make noise .\\n15                                                                                                                                                                                                                                                                                                               The bathroom was big and clean as well .\\n16                                                                                                                                                                                                       Also, the bathrooms were quite well set up, with a seperate toilet shower to basin, so whilst one guest is showering another can use the basin .\\n17                                                                                                                                                                                                                                                          The bathroom was marble and we had luxurious bathrobes and really, every detail attended to .\\n18                                                                                                                                                                                                                                                                                     It was very clean, had a beautiful bathroom, and was comfortable .\\n19                                                                                                                                                                                                                                                               The bed was comfortable and the bathroom was clean with a nice selection of toiletries .\\n20                                                                                                                                                                                                                                                                                                                    The bathroom was an adequate size .\\n21                                                                                                                                                                                                                                                                              First, from day one our bathroom had a urine smell that never went away .\\n22                                                                                                                                                                                                                                                             Otherwise the bathroom was decent enough ,  decent temperature and decent water pressure .\\n23                                                                                                                                                                                                                                                                                 Bathroom shower curtain reeked of mildew enough to smell up the room .\\n24                                                                                                                                                                       The bed was comfortable and the rooms and bathrooms were kept clean and although the refrigerators are honour bars the hotel is happy for you to chill your own drinks in them .\\n25                                                                                                                                                                                                                                                                                                      The room was very nice, and had a nice bathroom .\\n26                                                                                                                                                                                                                                      The room was wonderful with great beds, a nice bathroom and we also had an excellent view of Coit Tower as well .\\n27                                                                                                                                                                                                                                                                             The room was small, with a king bed, and a truly claustrophobic bathroom .\\n28                                                                                                                                                                           Amenities ,  While this hotel isn't a luxury property, they have some nice touches like marble bathrooms, mini bar, room service and an evening wine reception every day   .\\n29                                                                                                                                                                                                                                                                The bathroom was clean, well lit, and always well stocked with shampoo etc and towels .\\n30                                                                                                                                                                                                                                        The only odd thing was the bathroom door and room door opened outwards into the room and hallway respectively .\\n31                                                                                                                                                                                                                                       Room spacious 2 double beds gave us plenty of room, the beds were comfortable and the bathroom was a good size .\\n32                                                                                                                                                                                                                                                                                          The bathroom was large and included a mounted makeup mirror .\\n33                                                                                                                                                                                                                             The rooms are abit smallish  , but immaculately maintained, and tastefully decorated, with excellent bathroom facilities .\\n34                                                                                                                                                                                                                                                                                        Shower bathroom was good with good shower and plenty of space .\\n35                                                                                                                                                                                                                                                                                                     Both the bedroom and bathroom had plenty of room .\\n36                                                                                                                                                                                                                                                                                           large clean bathrooms fully stocked with everything needed .\\n37                                                                                                                                                                                                  However, when we arrived at our room there was a maintenance worker there measuring the bathroom counter, so maybe they're doing work in some units .\\n38                                                                                                                                                                                                                                                                                   The room was large and very comfortable with a nice large bathroom .\\n39                                                                                                                                                                                                                                                                                                  There is a wall, mounted hair dryer in the bathroom .\\n40                                                                                                                                                                                                                                                                                  The thing that bothered me the most was the bathroom was very dated .\\n41                                                                                                                                                                                                                                                                                            There is virtually no counterspace in the bathroom at all .\\n42                                                                                                                                                                                                                                                            Upon our arrival, there was a SLIGHT odor in bathroom but nothing worth complaining about .\\n43                                                                                                                                                                                                                                                                                                  The bathroom was adequate with thick, fluffy towels .\\n44                                                                                                                                                                                                                                                                                                                   The bathroom was large and private .\\n45                                                                                                                                                                                                              The bathroom was very clean and well appointed with nice towels and toiletries, it was not big, but room enough to do what one needs to .\\n46                                                                                                                                                                                                                       The Tuscan Inn room was quite nicely appointed, the bed was comfortable the chairs   TV adequate, the bathroom reasonably good .\\n47                                                                                                                                       my only real complaint would be that the bathroom does not have a separate vanity area, so 2 people getting dressed had to improvise, which was kind of surprising since the bathrooms were all redone on 2005 .\\n48                                                                                                                     The clever use of mirrors behind the bed helped to create the illusion of space, however, in reality the room was cramped and with two of us trying to use the hand basin and bathroom at the same time was particularly awkward .\\n49                                                                                                                                                                                                                    The bathroom containing the toilet and the shower was also very small, not to mention the sink and counter directly outside of it .\\n50   Turning the bathroom light on also turns the counter light on, meaning a middle, of, the, night trip to the bathroom means the whole side of the room gets illuminated  and the wooden shutters that were installed in place of traditional curtains to add to the hotel's theme do absolutely nothing to keep the room dark once the sun comes up .\\n51                                                                                                                                                                                                                                                                                            The room was a good size but the bathroomm was very small .\\n52                                                                                                                                                                                                                                                                                            Bathroom was adequate and clean and there was a hairdryer .\\n53                                                                                                                                                                                                                                     The wash basin was in the room without any privacy and there was a small bathroom for the toilet and bath shower .\\n54                                                                                                                                                                                                                                                 The bathroom had not been remodeled in alignment, but it was all very clean and perfectly acceptable .\\n55                                                                                                                                                                                                                                                                                                                    The bathroom had several problems .\\n56                                                                                                                                                                                                                                                                                                                        Bathrooms were also very nice .\\n57                                                                                                                                                                                                                                                                      The shower stall could have been bigger as the bathroom itself was pretty large .\\n58                                                                                                                                                                                                                         Then they gave us a room which had a view of a wall, a tiny bathroom so small in fact that the sink had to be in the bedroom .\\n59                                                                                                                                                                                                                                                          The room is not the most modern room but there was tons of space especially in the bathroom .\\n60                                                                                                                                                                                               We may have had an ADA room because it was pretty big with large bathroom ,  it was room 459 ,  and the room had all the amenities we were looking for .\\n61                                                                                                                                                                                                                                                                                   The room   and bathroom were perfect in size,  just what is needed .\\n62                                                                                                                                                                                                         The only possible complaint was that the sink in the bathroom had a crack in it, but it did not bother me enough to ask for a different room .\\n63                                                                                                                                                                                                                                                                                                                    Bathrooms, though, are plenty big .\\n64                                                                                                                                                          Although the rooms were clean and fresh, one of ours had several small problems ,  the phone didn't work, the bathroom door handle was quite loose, and the thermostat didn't work properly .\\n65                                                                                                                                                                                                        It represents value for money, the rooms and bathrooms were impeccably clean, fresh linen daily, and the staff extremely helpful and friendly .\\n66                                                                                                                                                                                                                                                    There were plenty of thick towels in the bathroom, and all the usual toiletries, hair, dryer, etc .\\n67                                                                                                                                                                                                                                   I really didn't get a chance to experience the staff's level of service but the rooms are small as is the bathroom .\\n68                                                                                                                                                                                                                                    The bathroom was also small  it was difficult to close the door once inside to avoid the door hitting you no joke !\\n69                                                                                                                                                                                                                           Some rooms had the bathroom sink outside the bathroom, which we would have preferred, but our sink was inside the bathroom .\\n70                                                                                                                                                                             The bathroom was clean and bright and the toiletries   were so good that we took the leftovers home because there was a website selling the shampoo listed on the bottle .\\n71                                                                                                                                                                                                                                                           The rooms were very nice, could of use just a little more shelf space by the bathroom sink .\\n72                                                                                                                                                                                                                                                                                                            The bathroom was clean but a little dated .\\n73                                                                                                                                                                                                        The only thing wrong with the room was the bathroom, it was not up to the standard of the rest of the decor but it was clean and large enough .\\n74                                                                                                                                                                                                                                                                                            The bathroom was just okay, but for the price we survived .\\n75                                                                                                                                                                                                                                                Hair dryer in bathroom constantly fell in sink from it's holder when anyone used the door to our room .\\n76                                                                                                                                                                                                                             The reasonable price of the hotel allowed us to book 2 rooms, thus giving the 4 of us a bit more space and 2 bathrooms   .\\n77                                                                                                                                                                                                                                                                                                                       Plenty of room in the bathroom .\\n78                                                                                                                                                                                                                                                                                                              Nice clean rooms and a spaciousbathroom .\\n79                                                                                                                                                                                                                                                               The only minor downside, as a few others have mentioned, is the bathroom sink lighting .\\n80                                                                                                                                                                                                                                                                                               Did not like the bathroom light shining into bedroom   .\\n81                                                                                                                                                                                                                                                                                                 Only negative is the bathroom area is a little small .\\n82                                                                                                                                                                                                                                                                          Our suite we had was small there was pubic hair on the bathroom floor from  ?\\n83                                                                                                                                                                                                                                                                                                                  bathroom a little on the older side .\\n84                                                                                                                                                                                                                                                                                                                The bathroom needed a face, lift also .\\n85                                                                                                                                                                                                                                                                                  The bathrooms are quite small compared to other hotels but adequate .\\n86                                                                                                                                                                                                                     The hotel was of a good standard, big clean rooms, decent bathroom and the free wine reception in the evening was an added bonus .\""
      ]
     },
     "execution_count": 30,
     "metadata": {},
     "output_type": "execute_result"
    }
   ],
   "source": [
    "document_df.opinion_text[1]"
   ]
  },
  {
   "cell_type": "markdown",
   "metadata": {},
   "source": [
    "### Lemmatization을 위한 함수 생성"
   ]
  },
  {
   "cell_type": "code",
   "execution_count": null,
   "metadata": {},
   "outputs": [],
   "source": [
    "# for test by SOO\n",
    "import string\n",
    "puncs = string.punctuation  # string punctuation 부호 를 의미한다.\n",
    "print(puncs[:10])"
   ]
  },
  {
   "cell_type": "code",
   "execution_count": null,
   "metadata": {},
   "outputs": [],
   "source": [
    "print(ord(puncs[0]))  # puncs[0]:'!', ord(c) -> unicode of '!' : 33 ASCII 코드를 말한다.\n",
    "dict((ord(punct), None) for punct in puncs)"
   ]
  },
  {
   "cell_type": "markdown",
   "metadata": {},
   "source": [
    "아스키코드(숫자)로 key 를 잡고 value 는 None 으로 넣었다."
   ]
  },
  {
   "cell_type": "code",
   "execution_count": null,
   "metadata": {},
   "outputs": [],
   "source": [
    "from nltk.stem import WordNetLemmatizer\n",
    "import nltk\n",
    "import string\n",
    "\n",
    "## 지금 쓸데없는 컬럼과 코드 제거하려는 중\n",
    "# nltk는 \n",
    "remove_punct_dict = dict((ord(punct), None) for punct in string.punctuation)\n",
    "lemmar = WordNetLemmatizer()\n",
    "\n",
    "def LemTokens(tokens):\n",
    "    return [lemmar.lemmatize(token) for token in tokens]\n",
    "\n",
    "def LemNormalize(text):\n",
    "    return LemTokens(nltk.word_tokenize(text.lower().translate(remove_punct_dict)))"
   ]
  },
  {
   "cell_type": "code",
   "execution_count": null,
   "metadata": {},
   "outputs": [],
   "source": [
    "# for test by SOO\n",
    "LemNormalize('Hi~, \"Kim(,Soohyun)\" and Park!!')"
   ]
  },
  {
   "cell_type": "markdown",
   "metadata": {},
   "source": [
    "### TF-IDF 피처 벡터화\n",
    "* TfidfVectorizer에서 피처 벡터화 수행 시 Lemmatization을 적용하여 토큰화"
   ]
  },
  {
   "cell_type": "code",
   "execution_count": null,
   "metadata": {},
   "outputs": [],
   "source": [
    "from sklearn.feature_extraction.text import TfidfVectorizer\n",
    "\n",
    "tfidf_vect = TfidfVectorizer(tokenizer=LemNormalize, stop_words='english' , \\\n",
    "                             ngram_range=(1,2), min_df=0.05, max_df=0.85 )\n",
    "\n",
    "# opinion_text 컬럼값으로 feature vectorization 수행\n",
    "feature_vect = tfidf_vect.fit_transform(document_df['opinion_text'])"
   ]
  },
  {
   "cell_type": "code",
   "execution_count": null,
   "metadata": {
    "scrolled": true
   },
   "outputs": [],
   "source": [
    "document_df['opinion_text']"
   ]
  },
  {
   "cell_type": "code",
   "execution_count": null,
   "metadata": {},
   "outputs": [],
   "source": [
    "feature_vect"
   ]
  },
  {
   "cell_type": "markdown",
   "metadata": {},
   "source": [
    "### 5개의 군집으로 K-Means군집화"
   ]
  },
  {
   "cell_type": "code",
   "execution_count": null,
   "metadata": {},
   "outputs": [],
   "source": [
    "from sklearn.cluster import KMeans\n",
    "\n",
    "# 5개 집합으로 군집화 수행. 예제를 위해 동일한 클러스터링 결과 도출용 random_state=0 \n",
    "km_cluster = KMeans( n_clusters=5, max_iter=10000, random_state=0 )\n",
    "km_cluster.fit(feature_vect)\n",
    "cluster_label = km_cluster.labels_  # array([3, 0, 4, 4, 4, 3, 2, ..., 1, 2, 3, 4, 3])\n",
    "cluster_centers = km_cluster.cluster_centers_  # cluster별 핵심 단어"
   ]
  },
  {
   "cell_type": "code",
   "execution_count": null,
   "metadata": {},
   "outputs": [],
   "source": [
    "print(cluster_centers.shape)  # (5, 2409)\n",
    "print(cluster_centers)  # [[0.     , 0.00227114, 0.00115031, ..., 0.00434427, 0.00465884, 0.    ], ..,[]]"
   ]
  },
  {
   "cell_type": "markdown",
   "metadata": {},
   "source": [
    "### 군집화된 그룹별로 데이터 확인"
   ]
  },
  {
   "cell_type": "code",
   "execution_count": null,
   "metadata": {},
   "outputs": [],
   "source": [
    "document_df['cluster_label'] = cluster_label\n",
    "document_df.head(10)"
   ]
  },
  {
   "cell_type": "code",
   "execution_count": null,
   "metadata": {},
   "outputs": [],
   "source": [
    "document_df[document_df['cluster_label']==0].sort_values(by='filename')"
   ]
  },
  {
   "cell_type": "code",
   "execution_count": null,
   "metadata": {},
   "outputs": [],
   "source": [
    "document_df[document_df['cluster_label']==1].sort_values(by='filename')"
   ]
  },
  {
   "cell_type": "code",
   "execution_count": null,
   "metadata": {},
   "outputs": [],
   "source": [
    "document_df[document_df['cluster_label']==2].sort_values(by='filename')"
   ]
  },
  {
   "cell_type": "code",
   "execution_count": null,
   "metadata": {},
   "outputs": [],
   "source": [
    "document_df[document_df['cluster_label']==3].sort_values(by='filename')"
   ]
  },
  {
   "cell_type": "code",
   "execution_count": null,
   "metadata": {},
   "outputs": [],
   "source": [
    "document_df[document_df['cluster_label']==4].sort_values(by='filename')"
   ]
  },
  {
   "cell_type": "markdown",
   "metadata": {},
   "source": [
    "### 3개의 군집으로 K-Means군집화"
   ]
  },
  {
   "cell_type": "code",
   "execution_count": null,
   "metadata": {},
   "outputs": [],
   "source": [
    "from sklearn.cluster import KMeans\n",
    "\n",
    "# 3개의 집합으로 군집화 \n",
    "km_cluster = KMeans(n_clusters=3, max_iter=10000, random_state=0)\n",
    "km_cluster.fit(feature_vect)\n",
    "cluster_label = km_cluster.labels_\n",
    "\n",
    "\n",
    "# 소속 클러스터를 cluster_label 컬럼으로 할당하고 cluster_label 값으로 정렬\n",
    "document_df['cluster_label'] = cluster_label\n",
    "document_df.sort_values(by='cluster_label')"
   ]
  },
  {
   "cell_type": "markdown",
   "metadata": {},
   "source": [
    "### 군집(Cluster)별 핵심 단어 추출하기"
   ]
  },
  {
   "cell_type": "code",
   "execution_count": null,
   "metadata": {},
   "outputs": [],
   "source": [
    "feature_vect.shape"
   ]
  },
  {
   "cell_type": "markdown",
   "metadata": {},
   "source": [
    "* KMeans객체의 cluster_centers_ 속성은 개별 피처들의 클러스터 중심과의 상대 위치를 정규화된 숫자값으로 표시\n",
    "* 0~1까지의 값으로 표현되며 1에 가까울 수록 중심에 더 가깝다는 의미"
   ]
  },
  {
   "cell_type": "code",
   "execution_count": null,
   "metadata": {},
   "outputs": [],
   "source": [
    "cluster_centers = km_cluster.cluster_centers_\n",
    "print('cluster_centers shape :',cluster_centers.shape)\n",
    "print(cluster_centers)"
   ]
  },
  {
   "cell_type": "markdown",
   "metadata": {},
   "source": [
    "#### 군집별 top n 핵심단어, 그 단어의 중심 위치 상대값, 대상 파일명들을 반환하는 함수 생성"
   ]
  },
  {
   "cell_type": "code",
   "execution_count": null,
   "metadata": {},
   "outputs": [],
   "source": [
    "# 군집별 top n 핵심단어, 그 단어의 중심 위치 상대값, 대상 파일명들을 반환함. \n",
    "def get_cluster_details(cluster_model, cluster_data, feature_names, clusters_num, top_n_features=10):\n",
    "    cluster_details = {}\n",
    "    \n",
    "    # cluster_centers array 의 값이 큰 순으로 정렬된 index 값을 반환\n",
    "    # 군집 중심점(centroid)별 할당된 word 피처들의 거리값이 큰 순으로 값을 구하기 위함.  \n",
    "    centroid_feature_ordered_ind = cluster_model.cluster_centers_.argsort()[:,::-1]\n",
    "    \n",
    "    #개별 군집별로 iteration하면서 핵심단어, 그 단어의 중심 위치 상대값, 대상 파일명 입력\n",
    "    for cluster_num in range(clusters_num):\n",
    "        # 개별 군집별 정보를 담을 데이터 초기화. \n",
    "        cluster_details[cluster_num] = {}\n",
    "        cluster_details[cluster_num]['cluster'] = cluster_num\n",
    "        \n",
    "        # cluster_centers_.argsort()[:,::-1] 로 구한 index 를 이용하여 top n 피처 단어를 구함. \n",
    "        top_feature_indexes = centroid_feature_ordered_ind[cluster_num, :top_n_features]\n",
    "        top_features = [ feature_names[ind] for ind in top_feature_indexes ]\n",
    "        \n",
    "        # top_feature_indexes를 이용해 해당 피처 단어의 중심 위치 상댓값 구함 \n",
    "        top_feature_values = cluster_model.cluster_centers_[cluster_num, top_feature_indexes].tolist()\n",
    "        \n",
    "        # cluster_details 딕셔너리 객체에 개별 군집별 핵심 단어와 중심위치 상대값, 그리고 해당 파일명 입력\n",
    "        cluster_details[cluster_num]['top_features'] = top_features\n",
    "        cluster_details[cluster_num]['top_features_value'] = top_feature_values\n",
    "        filenames = cluster_data[cluster_data['cluster_label'] == cluster_num]['filename']\n",
    "        filenames = filenames.values.tolist()\n",
    "        cluster_details[cluster_num]['filenames'] = filenames\n",
    "        \n",
    "    return cluster_details"
   ]
  },
  {
   "cell_type": "markdown",
   "metadata": {},
   "source": [
    "#### 클러스터별 top feature들의 단어와 파일명 출력 함수 생성"
   ]
  },
  {
   "cell_type": "code",
   "execution_count": null,
   "metadata": {},
   "outputs": [],
   "source": [
    "def print_cluster_details(cluster_details):\n",
    "    for cluster_num, cluster_detail in cluster_details.items():\n",
    "        print('####### Cluster {0}'.format(cluster_num))\n",
    "        print('Top features:', cluster_detail['top_features'])\n",
    "        print('Reviews 파일명 :',cluster_detail['filenames'][:7])\n",
    "        print('==================================================')"
   ]
  },
  {
   "cell_type": "markdown",
   "metadata": {},
   "source": [
    "#### 군집(Cluster)별 핵심 단어 추출하기"
   ]
  },
  {
   "cell_type": "code",
   "execution_count": null,
   "metadata": {},
   "outputs": [],
   "source": [
    "feature_names = tfidf_vect.get_feature_names()\n",
    "\n",
    "cluster_details = get_cluster_details(cluster_model=km_cluster, cluster_data=document_df,\\\n",
    "                                  feature_names=feature_names, clusters_num=3, top_n_features=10 )\n",
    "print_cluster_details(cluster_details)"
   ]
  },
  {
   "cell_type": "code",
   "execution_count": null,
   "metadata": {},
   "outputs": [],
   "source": []
  }
 ],
 "metadata": {
  "kernelspec": {
   "display_name": "Python 3",
   "language": "python",
   "name": "python3"
  },
  "language_info": {
   "codemirror_mode": {
    "name": "ipython",
    "version": 3
   },
   "file_extension": ".py",
   "mimetype": "text/x-python",
   "name": "python",
   "nbconvert_exporter": "python",
   "pygments_lexer": "ipython3",
   "version": "3.7.7"
  }
 },
 "nbformat": 4,
 "nbformat_minor": 4
}
