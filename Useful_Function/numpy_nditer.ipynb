{
 "cells": [
  {
   "cell_type": "markdown",
   "metadata": {},
   "source": [
    "---\n",
    "title:  \"Numpy function\"\n",
    "excerpt: \"using in deep-learing\"\n",
    "\n",
    "categories:\n",
    "  - Useful_Fuction\n",
    "tags:\n",
    "  - DL\n",
    "  - __nditer__  \n",
    "last_modified_at: 2020-02-16T08:06:00-05:00\n",
    "---"
   ]
  },
  {
   "cell_type": "code",
   "execution_count": 1,
   "metadata": {},
   "outputs": [],
   "source": [
    "import numpy as np"
   ]
  },
  {
   "cell_type": "code",
   "execution_count": 2,
   "metadata": {},
   "outputs": [
    {
     "name": "stdout",
     "output_type": "stream",
     "text": [
      "[[ 0  5 10 15]\n",
      " [20 25 30 35]\n",
      " [40 45 50 55]]\n",
      "Modified array is:\n",
      "0\n",
      "5\n",
      "10\n",
      "15\n",
      "20\n",
      "25\n",
      "30\n",
      "35\n",
      "40\n",
      "45\n",
      "50\n",
      "55\n"
     ]
    }
   ],
   "source": [
    "a = np.arange(0,60,5)\n",
    "a = a.reshape(3,4)\n",
    "\n",
    "print(a)\n",
    "print( 'Modified array is:')\n",
    "for x in np.nditer(a):\n",
    "   print(x)"
   ]
  },
  {
   "cell_type": "code",
   "execution_count": 15,
   "metadata": {},
   "outputs": [
    {
     "name": "stdout",
     "output_type": "stream",
     "text": [
      "원본 matrix a 의 값\n",
      "[[ 0  5 10 15]\n",
      " [20 25 30 35]\n",
      " [40 45 50 55]] \n",
      " ------------------------------------------------\n",
      "(0, 0) 인덱스에 해당하는 원소값들 :\t 0\n",
      "(0, 1) 인덱스에 해당하는 원소값들 :\t 5\n",
      "(0, 2) 인덱스에 해당하는 원소값들 :\t 10\n",
      "(0, 3) 인덱스에 해당하는 원소값들 :\t 15\n",
      "(1, 0) 인덱스에 해당하는 원소값들 :\t 20\n",
      "(1, 1) 인덱스에 해당하는 원소값들 :\t 25\n",
      "(1, 2) 인덱스에 해당하는 원소값들 :\t 30\n",
      "(1, 3) 인덱스에 해당하는 원소값들 :\t 35\n",
      "(2, 0) 인덱스에 해당하는 원소값들 :\t 40\n",
      "(2, 1) 인덱스에 해당하는 원소값들 :\t 45\n",
      "(2, 2) 인덱스에 해당하는 원소값들 :\t 50\n",
      "(2, 3) 인덱스에 해당하는 원소값들 :\t 55\n"
     ]
    }
   ],
   "source": [
    "print(\"원본 matrix a 의 값\")\n",
    "print(a,\"\\n\",\"------------------------------------------------\")\n",
    "it = np.nditer(a, flags=['multi_index'], op_flags=['readwrite'])\n",
    "h = 10\n",
    "while not it.finished:\n",
    "    idx = it.multi_index\n",
    "    tmp_val = a[idx]\n",
    "    print(idx,\"인덱스에 해당하는 원소값들 :\\t\",tmp_val)\n",
    "#     print(tmp_val)    \n",
    "    it.iternext()   "
   ]
  },
  {
   "cell_type": "markdown",
   "metadata": {},
   "source": [
    "#### 위에서 보시다시피, nditer 을 매트릭스 행렬에서, 각 행렬에 해당하는 원소값들을 가져오기 위한 것임"
   ]
  },
  {
   "cell_type": "code",
   "execution_count": null,
   "metadata": {},
   "outputs": [],
   "source": []
  }
 ],
 "metadata": {
  "kernelspec": {
   "display_name": "Python 3",
   "language": "python",
   "name": "python3"
  },
  "language_info": {
   "codemirror_mode": {
    "name": "ipython",
    "version": 3
   },
   "file_extension": ".py",
   "mimetype": "text/x-python",
   "name": "python",
   "nbconvert_exporter": "python",
   "pygments_lexer": "ipython3",
   "version": "3.7.6"
  }
 },
 "nbformat": 4,
 "nbformat_minor": 4
}
