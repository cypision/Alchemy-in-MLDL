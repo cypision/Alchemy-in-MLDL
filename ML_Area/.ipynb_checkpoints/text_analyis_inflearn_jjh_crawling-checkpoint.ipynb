{
 "cells": [
  {
   "cell_type": "markdown",
   "metadata": {},
   "source": [
    "---\n",
    "title:  \"Crawling 연습\"\n",
    "excerpt: \"윤동주 시인의 작품 모음 - 서시\"\n",
    "\n",
    "categories:\n",
    "  - 윤동주\n",
    "tags:\n",
    "  - 서시\n",
    "  - 윤동주\n",
    "  - 시\n",
    "last_modified_at: 2019-04-13T08:06:00-05:00\n",
    "---"
   ]
  },
  {
   "cell_type": "markdown",
   "metadata": {},
   "source": [
    "## Crawling 하기 Post"
   ]
  },
  {
   "cell_type": "markdown",
   "metadata": {},
   "source": [
    "    ## 인프런 2020년 새해 다짐 이벤트 댓글 크롤링  \n",
    "    * https://www.inflearn.com/pages/newyear-event-20200102  \n",
    "\n",
    "    ## 필요한 라이브러리 설치\n",
    "    * 아나콘다 사용시 다음의 프롬프트 창을 열어 conda 명령어로 설치합니다.\n",
    "    * pip 사용시 아래에 있는 명령어를 터미널로 설치합니다.\n",
    "    <img src=\"https://i.imgur.com/Sar4gdw.jpg\">\n",
    "    ### BeautifulSoup\n",
    "    * `conda install -c anaconda beautifulsoup4`\n",
    "    * [Beautifulsoup4 :: Anaconda Cloud](https://anaconda.org/anaconda/beautifulsoup4)\n",
    "    * pip 사용시 : `pip install beautifulsoup4`\n",
    "\n",
    "    ### tqdm\n",
    "    * `conda install -c conda-forge tqdm`\n",
    "    * [tqdm/tqdm: A Fast, Extensible Progress Bar for Python and CLI](https://github.com/tqdm/tqdm)\n",
    "    * `pip install tqdm`"
   ]
  },
  {
   "cell_type": "markdown",
   "metadata": {},
   "source": [
    "# 본 연습은 inflearn - 박조은 강사님의 Code를 활용하여, 변경함"
   ]
  },
  {
   "cell_type": "code",
   "execution_count": 1,
   "metadata": {},
   "outputs": [],
   "source": [
    "# !pip install tqdm\n",
    "# !pip install beautifulsoup4\n",
    "# !pip install requests"
   ]
  },
  {
   "cell_type": "code",
   "execution_count": 2,
   "metadata": {},
   "outputs": [
    {
     "data": {
      "text/plain": [
       "'D:\\\\★2020_ML_DL_Project\\\\Alchemy\\\\ML_Area'"
      ]
     },
     "execution_count": 2,
     "metadata": {},
     "output_type": "execute_result"
    }
   ],
   "source": [
    "pwd"
   ]
  },
  {
   "cell_type": "code",
   "execution_count": 3,
   "metadata": {},
   "outputs": [],
   "source": [
    "# 라이브러리 로드\n",
    "# requests는 작은 웹브라우저로 웹사이트 내용을 가져온다.\n",
    "import requests\n",
    "# BeautifulSoup 을 통해 읽어 온 웹페이지를 파싱한다.\n",
    "from bs4 import BeautifulSoup as bs\n",
    "# 크롤링 후 결과를 데이터프레임 형태로 보기 위해 불러온다.\n",
    "import pandas as pd\n",
    "import numpy as np\n",
    "from tqdm import trange"
   ]
  },
  {
   "cell_type": "code",
   "execution_count": 22,
   "metadata": {},
   "outputs": [],
   "source": [
    "# 크롤링 할 사이트\n",
    "base_url = \"https://www.inflearn.com/pages/newyear-event-20200102\"\n",
    "# base_url = \"http://www.todayhumor.co.kr/board/view.php?table=sisa&no=1148601&s_no=1148601&page=4\"\n",
    "response = requests.get( base_url )\n",
    "# response.text"
   ]
  },
  {
   "cell_type": "code",
   "execution_count": 23,
   "metadata": {},
   "outputs": [],
   "source": [
    "soup = bs(response.text, 'html.parser')"
   ]
  },
  {
   "cell_type": "code",
   "execution_count": 29,
   "metadata": {},
   "outputs": [
    {
     "data": {
      "text/plain": [
       "<div class=\"chitchat-item\">\n",
       "<figure class=\"image is-48x48\">\n",
       "<img alt=\"인프런\" class=\"user_thumb is-rounded\" src=\"https://cdn.inflearn.com/wp-content/uploads/avatars/17/b415d9fa24d186c4adf22ca9a49116b5-bpfull.png\"/>\n",
       "</figure>\n",
       "<div class=\"content\">\n",
       "<div class=\"author\">\n",
       "<span class=\"author_name\">인프런</span>\n",
       "<time class=\"created_at\" datetime=\"Sun Dec 29 2019 17:59:00 GMT+0900 (GMT+09:00)\">⋅ 약 1개월 전</time>\n",
       "<a class=\"update-chitchat edit-chitchat is-hidden\" data-id=\"18594\" type=\"button\">저장</a>\n",
       "<a class=\"hidden-editor edit-chitchat is-hidden\" type=\"button\">취소</a>\n",
       "<a class=\"edit-chitchat no_cmt_reply\" type=\"button\">답글달기</a>\n",
       "</div>\n",
       "<div class=\"body edit-chitchat\">인프런 0호 팀원이에요!\n",
       "그동안 서비스 개발 때문에 js 를 많이 했었는데 앞으론 통계나 분석을 많이 하고 싶어서 파이썬을 공부하고 싶어요! 올해 파이썬 마스터가 되는걸로..\n",
       "#관심강의: 남박사의 파이썬 활용</div>\n",
       "<textarea class=\"textarea edit-chitchat is-hidden\"></textarea>\n",
       "<div class=\"summary_comments\">\n",
       "</div>\n",
       "<div class=\"chitchats_and_editor is-hidden\">\n",
       "<div class=\"chitchat-comment-list\">\n",
       "</div>\n",
       "<div class=\"cmt-editor\">\n",
       "<div class=\"field\">\n",
       "<textarea class=\"textarea\" placeholder=\"내용을 입력해 주세요.\"></textarea>\n",
       "</div>\n",
       "<button class=\"insert-chitchat-cmt button\" data-post_id=\"18594\" type=\"button\">등록</button>\n",
       "</div>\n",
       "</div>\n",
       "</div>\n",
       "</div>"
      ]
     },
     "execution_count": 29,
     "metadata": {},
     "output_type": "execute_result"
    }
   ],
   "source": [
    "## 사실상, html 의 selector 를 가져오는게 품이 많이 드는 작업임.\n",
    "content = soup.select(\"#main > section > div > div > div.chitchats > div.chitchat-list > div\")\n",
    "content[-1]"
   ]
  },
  {
   "cell_type": "code",
   "execution_count": 31,
   "metadata": {},
   "outputs": [
    {
     "data": {
      "text/plain": [
       "'인프런 0호 팀원이에요!\\n그동안 서비스 개발 때문에 js 를 많이 했었는데 앞으론 통계나 분석을 많이 하고 싶어서 파이썬을 공부하고 싶어요! 올해 파이썬 마스터가 되는걸로..\\n#관심강의: 남박사의 파이썬 활용'"
      ]
     },
     "execution_count": 31,
     "metadata": {},
     "output_type": "execute_result"
    }
   ],
   "source": [
    "content[-1].select(\"div.body.edit-chitchat\")[0].get_text(strip=True)"
   ]
  },
  {
   "cell_type": "code",
   "execution_count": 32,
   "metadata": {},
   "outputs": [
    {
     "data": {
      "text/plain": [
       "'인프런 0호 팀원이에요!\\n그동안 서비스 개발 때문에 js 를 많이 했었는데 앞으론 통계나 분석을 많이 하고 싶어서 파이썬을 공부하고 싶어요! 올해 파이썬 마스터가 되는걸로..\\n#관심강의: 남박사의 파이썬 활용'"
      ]
     },
     "execution_count": 32,
     "metadata": {},
     "output_type": "execute_result"
    }
   ],
   "source": [
    "chitchat = content[-1].select(\"div.body.edit-chitchat\")[0].get_text(strip=True)\n",
    "chitchat"
   ]
  },
  {
   "cell_type": "code",
   "execution_count": 34,
   "metadata": {},
   "outputs": [
    {
     "name": "stdout",
     "output_type": "stream",
     "text": [
      "--------------------\n",
      "2020년에는 데이터를 좀 더 열심히 공부하려고 합니다.\n",
      "--------------------\n",
      "2020년 목표 - 안주하지 않기\n",
      "--------------------\n",
      "자바 공부 마스터 하고 싶습니다.   더 자바, 코드를 조작하는 다양한 방법\n",
      "--------------------\n",
      "파이썬 데이터시각화 분석 실전 프로젝트 수강하고 싶어요\n",
      "--------------------\n",
      "2020년도 화이팅!, 스프링 프레임워크 개발자를 위한 실습을 통한 입문 과정\n"
     ]
    }
   ],
   "source": [
    "## 대략 잘 나오는지 5개만 for문 돌려서 확인하고\n",
    "events = []\n",
    "for i in range(5):\n",
    "    print(\"-\"*20)\n",
    "    chitchat = content[i].select(\"div.body.edit-chitchat\")[0].get_text(strip=True)\n",
    "    print(chitchat)\n",
    "    events.append(chitchat)"
   ]
  },
  {
   "cell_type": "code",
   "execution_count": 35,
   "metadata": {},
   "outputs": [
    {
     "data": {
      "text/plain": [
       "2435"
      ]
     },
     "execution_count": 35,
     "metadata": {},
     "output_type": "execute_result"
    }
   ],
   "source": [
    "content_count = len(content)\n",
    "content_count"
   ]
  },
  {
   "cell_type": "code",
   "execution_count": 36,
   "metadata": {},
   "outputs": [
    {
     "name": "stderr",
     "output_type": "stream",
     "text": [
      "100%|████████████████████████████████████████████████████████████████████████████| 2435/2435 [00:00<00:00, 4306.02it/s]\n"
     ]
    }
   ],
   "source": [
    "## 실제로 모든 이벤트를 긁어 모은다\n",
    "## from tqdm import trange 의 trange 는 time 을 for 문 안에서 돌때, 시간을 표시해주는 역할을 한다.\n",
    "events = []\n",
    "for i in trange(content_count):\n",
    "    chitchat = content[i].select(\"div.body.edit-chitchat\")[0].get_text(strip=True)\n",
    "    events.append(chitchat)"
   ]
  },
  {
   "cell_type": "code",
   "execution_count": 37,
   "metadata": {},
   "outputs": [
    {
     "name": "stdout",
     "output_type": "stream",
     "text": [
      "(2435, 1)\n"
     ]
    },
    {
     "data": {
      "text/html": [
       "<div>\n",
       "<style scoped>\n",
       "    .dataframe tbody tr th:only-of-type {\n",
       "        vertical-align: middle;\n",
       "    }\n",
       "\n",
       "    .dataframe tbody tr th {\n",
       "        vertical-align: top;\n",
       "    }\n",
       "\n",
       "    .dataframe thead th {\n",
       "        text-align: right;\n",
       "    }\n",
       "</style>\n",
       "<table border=\"1\" class=\"dataframe\">\n",
       "  <thead>\n",
       "    <tr style=\"text-align: right;\">\n",
       "      <th></th>\n",
       "      <th>text</th>\n",
       "    </tr>\n",
       "  </thead>\n",
       "  <tbody>\n",
       "    <tr>\n",
       "      <th>0</th>\n",
       "      <td>2020년에는 데이터를 좀 더 열심히 공부하려고 합니다.</td>\n",
       "    </tr>\n",
       "    <tr>\n",
       "      <th>1</th>\n",
       "      <td>2020년 목표 - 안주하지 않기</td>\n",
       "    </tr>\n",
       "    <tr>\n",
       "      <th>2</th>\n",
       "      <td>자바 공부 마스터 하고 싶습니다.   더 자바, 코드를 조작하는 다양한 방법</td>\n",
       "    </tr>\n",
       "    <tr>\n",
       "      <th>3</th>\n",
       "      <td>파이썬 데이터시각화 분석 실전 프로젝트 수강하고 싶어요</td>\n",
       "    </tr>\n",
       "    <tr>\n",
       "      <th>4</th>\n",
       "      <td>2020년도 화이팅!, 스프링 프레임워크 개발자를 위한 실습을 통한 입문 과정</td>\n",
       "    </tr>\n",
       "  </tbody>\n",
       "</table>\n",
       "</div>"
      ],
      "text/plain": [
       "                                          text\n",
       "0              2020년에는 데이터를 좀 더 열심히 공부하려고 합니다.\n",
       "1                           2020년 목표 - 안주하지 않기\n",
       "2   자바 공부 마스터 하고 싶습니다.   더 자바, 코드를 조작하는 다양한 방법\n",
       "3               파이썬 데이터시각화 분석 실전 프로젝트 수강하고 싶어요\n",
       "4  2020년도 화이팅!, 스프링 프레임워크 개발자를 위한 실습을 통한 입문 과정"
      ]
     },
     "execution_count": 37,
     "metadata": {},
     "output_type": "execute_result"
    }
   ],
   "source": [
    "df = pd.DataFrame({\"text\": events})\n",
    "print(df.shape)\n",
    "df.head()"
   ]
  },
  {
   "cell_type": "code",
   "execution_count": 39,
   "metadata": {},
   "outputs": [
    {
     "data": {
      "text/plain": [
       "'D:\\\\★2020_ML_DL_Project\\\\Alchemy\\\\ML_Area'"
      ]
     },
     "execution_count": 39,
     "metadata": {},
     "output_type": "execute_result"
    }
   ],
   "source": [
    "pwd"
   ]
  },
  {
   "cell_type": "code",
   "execution_count": 40,
   "metadata": {},
   "outputs": [],
   "source": [
    "df.to_csv(\"data_source/inflearn-event.csv\", index=False)"
   ]
  },
  {
   "cell_type": "code",
   "execution_count": 42,
   "metadata": {},
   "outputs": [
    {
     "data": {
      "text/html": [
       "<div>\n",
       "<style scoped>\n",
       "    .dataframe tbody tr th:only-of-type {\n",
       "        vertical-align: middle;\n",
       "    }\n",
       "\n",
       "    .dataframe tbody tr th {\n",
       "        vertical-align: top;\n",
       "    }\n",
       "\n",
       "    .dataframe thead th {\n",
       "        text-align: right;\n",
       "    }\n",
       "</style>\n",
       "<table border=\"1\" class=\"dataframe\">\n",
       "  <thead>\n",
       "    <tr style=\"text-align: right;\">\n",
       "      <th></th>\n",
       "      <th>text</th>\n",
       "    </tr>\n",
       "  </thead>\n",
       "  <tbody>\n",
       "    <tr>\n",
       "      <th>0</th>\n",
       "      <td>2020년에는 데이터를 좀 더 열심히 공부하려고 합니다.</td>\n",
       "    </tr>\n",
       "    <tr>\n",
       "      <th>1</th>\n",
       "      <td>2020년 목표 - 안주하지 않기</td>\n",
       "    </tr>\n",
       "    <tr>\n",
       "      <th>2</th>\n",
       "      <td>자바 공부 마스터 하고 싶습니다.   더 자바, 코드를 조작하는 다양한 방법</td>\n",
       "    </tr>\n",
       "    <tr>\n",
       "      <th>3</th>\n",
       "      <td>파이썬 데이터시각화 분석 실전 프로젝트 수강하고 싶어요</td>\n",
       "    </tr>\n",
       "    <tr>\n",
       "      <th>4</th>\n",
       "      <td>2020년도 화이팅!, 스프링 프레임워크 개발자를 위한 실습을 통한 입문 과정</td>\n",
       "    </tr>\n",
       "  </tbody>\n",
       "</table>\n",
       "</div>"
      ],
      "text/plain": [
       "                                          text\n",
       "0              2020년에는 데이터를 좀 더 열심히 공부하려고 합니다.\n",
       "1                           2020년 목표 - 안주하지 않기\n",
       "2   자바 공부 마스터 하고 싶습니다.   더 자바, 코드를 조작하는 다양한 방법\n",
       "3               파이썬 데이터시각화 분석 실전 프로젝트 수강하고 싶어요\n",
       "4  2020년도 화이팅!, 스프링 프레임워크 개발자를 위한 실습을 통한 입문 과정"
      ]
     },
     "execution_count": 42,
     "metadata": {},
     "output_type": "execute_result"
    }
   ],
   "source": [
    "pd.read_csv(\"D:\\\\★2020_ML_DL_Project\\\\Alchemy\\\\ML_Area\\\\data_source\\\\inflearn-event.csv\").head()"
   ]
  }
 ],
 "metadata": {
  "kernelspec": {
   "display_name": "Python 3",
   "language": "python",
   "name": "python3"
  },
  "language_info": {
   "codemirror_mode": {
    "name": "ipython",
    "version": 3
   },
   "file_extension": ".py",
   "mimetype": "text/x-python",
   "name": "python",
   "nbconvert_exporter": "python",
   "pygments_lexer": "ipython3",
   "version": "3.7.6"
  },
  "varInspector": {
   "cols": {
    "lenName": 16,
    "lenType": 16,
    "lenVar": 40
   },
   "kernels_config": {
    "python": {
     "delete_cmd_postfix": "",
     "delete_cmd_prefix": "del ",
     "library": "var_list.py",
     "varRefreshCmd": "print(var_dic_list())"
    },
    "r": {
     "delete_cmd_postfix": ") ",
     "delete_cmd_prefix": "rm(",
     "library": "var_list.r",
     "varRefreshCmd": "cat(var_dic_list()) "
    }
   },
   "types_to_exclude": [
    "module",
    "function",
    "builtin_function_or_method",
    "instance",
    "_Feature"
   ],
   "window_display": false
  }
 },
 "nbformat": 4,
 "nbformat_minor": 4
}
