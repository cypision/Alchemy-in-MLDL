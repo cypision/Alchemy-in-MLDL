{
 "cells": [
  {
   "cell_type": "markdown",
   "metadata": {},
   "source": [
    "---\n",
    "title:  \"Sentiment Analysis using Korean\"  \n",
    "excerpt: \"Text Analysis\"  \n",
    "\n",
    "categories:  \n",
    "  - Deep-Learning  \n",
    "tags:  \n",
    "  - Text Analysis\n",
    "  - 한글\n",
    "  - 웰니스_대화_스크립트_데이터셋.xlsx\n",
    "last_modified_at: 2020-12-06 T16:13:00-05:00\n",
    "---"
   ]
  },
  {
   "cell_type": "markdown",
   "metadata": {},
   "source": [
    "## Reference  \n",
    "* [AI Hub 에서 download](https://www.aihub.or.kr/)  \n",
    "* 웰니스 대화 스크립트를 기본적으로 활용한다.\n",
    "\n",
    "Word_Embedding_01,02 에서 사용했던, Embedding vector를 활용한다.  "
   ]
  },
  {
   "cell_type": "markdown",
   "metadata": {},
   "source": [
    "#### google 내 my drive 연동하기"
   ]
  },
  {
   "cell_type": "code",
   "execution_count": 1,
   "metadata": {},
   "outputs": [],
   "source": [
    "# from google.colab import drive\n",
    "# drive.mount('/content/gdrive')"
   ]
  },
  {
   "cell_type": "code",
   "execution_count": 2,
   "metadata": {},
   "outputs": [],
   "source": [
    "import numpy as np\n",
    "import json\n",
    "import random\n",
    "import pandas as pd"
   ]
  },
  {
   "cell_type": "code",
   "execution_count": 3,
   "metadata": {},
   "outputs": [],
   "source": [
    "# 학습 완료된 임베딩 저장하기 -> colab 불러오기\n",
    "# final_embeddings = cbow_model.get_weights()[0]\n",
    "# final_embeddings = np.array(final_embeddings)\n",
    "with open(\"D:/★2020_ML_DL_Project/Alchemy/dataset/text_output/vecs.tsv\") as f:\n",
    "    vecs = [v.strip() for v in f.readlines()]"
   ]
  },
  {
   "cell_type": "code",
   "execution_count": 4,
   "metadata": {},
   "outputs": [],
   "source": [
    "## 해당 vecs 에 해당하는 원래 단어사전 (형태소 형태로 분해된) 불러오기.\n",
    "with open(\"D:/★2020_ML_DL_Project/Alchemy/dataset/text_output/meta.tsv\") as m:\n",
    "    meta = [v.strip() for v in m.readlines()]"
   ]
  },
  {
   "cell_type": "code",
   "execution_count": 5,
   "metadata": {},
   "outputs": [],
   "source": [
    "final_embeddings = [np.float32(v.split(\"\\t\")) for v in vecs]"
   ]
  },
  {
   "cell_type": "code",
   "execution_count": 6,
   "metadata": {},
   "outputs": [
    {
     "name": "stdout",
     "output_type": "stream",
     "text": [
      "128\n"
     ]
    }
   ],
   "source": [
    "print(len(final_embeddings[0])) ## 2중 list 형태로 불러왔다."
   ]
  },
  {
   "cell_type": "code",
   "execution_count": 7,
   "metadata": {},
   "outputs": [],
   "source": [
    "EXCEL_FILE_NALE = \"D:/20_CNS_Text_Analysis/data_set/웰니스_대화_스크립트_데이터셋.xlsx\"\n",
    "data = pd.read_excel(EXCEL_FILE_NALE)"
   ]
  },
  {
   "cell_type": "code",
   "execution_count": 8,
   "metadata": {},
   "outputs": [
    {
     "data": {
      "text/html": [
       "<div>\n",
       "<style scoped>\n",
       "    .dataframe tbody tr th:only-of-type {\n",
       "        vertical-align: middle;\n",
       "    }\n",
       "\n",
       "    .dataframe tbody tr th {\n",
       "        vertical-align: top;\n",
       "    }\n",
       "\n",
       "    .dataframe thead th {\n",
       "        text-align: right;\n",
       "    }\n",
       "</style>\n",
       "<table border=\"1\" class=\"dataframe\">\n",
       "  <thead>\n",
       "    <tr style=\"text-align: right;\">\n",
       "      <th></th>\n",
       "      <th>구분</th>\n",
       "      <th>유저</th>\n",
       "      <th>챗봇</th>\n",
       "    </tr>\n",
       "  </thead>\n",
       "  <tbody>\n",
       "    <tr>\n",
       "      <th>0</th>\n",
       "      <td>감정/감정조절이상</td>\n",
       "      <td>제 감정이 이상해진 것 같아요. 남편만 보면 화가 치밀어 오르고 감정 조절이 안되요.</td>\n",
       "      <td>감정이 조절이 안 될 때만큼 힘들 때는 없는 거 같아요.</td>\n",
       "    </tr>\n",
       "    <tr>\n",
       "      <th>1</th>\n",
       "      <td>감정/감정조절이상</td>\n",
       "      <td>더 이상 내 감정을 내가 컨트롤 못 하겠어.</td>\n",
       "      <td>저도 그 기분 이해해요. 많이 힘드시죠?</td>\n",
       "    </tr>\n",
       "    <tr>\n",
       "      <th>2</th>\n",
       "      <td>감정/감정조절이상</td>\n",
       "      <td>하루종일 오르락내리락 롤러코스터 타는 기분이에요.</td>\n",
       "      <td>그럴 때는 밥은 잘 먹었는지, 잠은 잘 잤는지 체크해보는 것도 좋아요.</td>\n",
       "    </tr>\n",
       "    <tr>\n",
       "      <th>3</th>\n",
       "      <td>감정/감정조절이상</td>\n",
       "      <td>꼭 롤러코스터 타는 것 같아요.</td>\n",
       "      <td>NaN</td>\n",
       "    </tr>\n",
       "    <tr>\n",
       "      <th>4</th>\n",
       "      <td>감정/감정조절이상</td>\n",
       "      <td>롤러코스터 타는 것처럼 기분이 왔다 갔다 해요.</td>\n",
       "      <td>NaN</td>\n",
       "    </tr>\n",
       "  </tbody>\n",
       "</table>\n",
       "</div>"
      ],
      "text/plain": [
       "          구분                                               유저  \\\n",
       "0  감정/감정조절이상  제 감정이 이상해진 것 같아요. 남편만 보면 화가 치밀어 오르고 감정 조절이 안되요.   \n",
       "1  감정/감정조절이상                         더 이상 내 감정을 내가 컨트롤 못 하겠어.   \n",
       "2  감정/감정조절이상                      하루종일 오르락내리락 롤러코스터 타는 기분이에요.   \n",
       "3  감정/감정조절이상                                꼭 롤러코스터 타는 것 같아요.   \n",
       "4  감정/감정조절이상                       롤러코스터 타는 것처럼 기분이 왔다 갔다 해요.   \n",
       "\n",
       "                                        챗봇  \n",
       "0          감정이 조절이 안 될 때만큼 힘들 때는 없는 거 같아요.  \n",
       "1                   저도 그 기분 이해해요. 많이 힘드시죠?  \n",
       "2  그럴 때는 밥은 잘 먹었는지, 잠은 잘 잤는지 체크해보는 것도 좋아요.  \n",
       "3                                      NaN  \n",
       "4                                      NaN  "
      ]
     },
     "execution_count": 8,
     "metadata": {},
     "output_type": "execute_result"
    }
   ],
   "source": [
    "data.head()"
   ]
  },
  {
   "cell_type": "code",
   "execution_count": 9,
   "metadata": {},
   "outputs": [
    {
     "name": "stdout",
     "output_type": "stream",
     "text": [
      "(5231, 3)\n",
      "5231\n"
     ]
    }
   ],
   "source": [
    "print(data.shape)\n",
    "print(len(data['구분']))"
   ]
  },
  {
   "cell_type": "code",
   "execution_count": 11,
   "metadata": {},
   "outputs": [
    {
     "data": {
      "text/plain": [
       "증상/불면           209\n",
       "모호함             180\n",
       "감정/힘듦           106\n",
       "감정/자살충동          94\n",
       "감정/부정적사고         93\n",
       "               ... \n",
       "증상/저림현상/발/손       5\n",
       "배경/남편/관계소원        5\n",
       "배경/부모/가출/아버지      5\n",
       "증상/체력저하           5\n",
       "배경/부모/어머니/죽음      5\n",
       "Name: 구분, Length: 359, dtype: int64"
      ]
     },
     "execution_count": 11,
     "metadata": {},
     "output_type": "execute_result"
    }
   ],
   "source": [
    "data['구분'].value_counts()"
   ]
  },
  {
   "cell_type": "markdown",
   "metadata": {},
   "source": [
    "#### **필요한 부분만 발췌해서 데이터화 한다.**"
   ]
  },
  {
   "cell_type": "code",
   "execution_count": 28,
   "metadata": {},
   "outputs": [
    {
     "data": {
      "text/plain": [
       "nan"
      ]
     },
     "execution_count": 28,
     "metadata": {},
     "output_type": "execute_result"
    }
   ],
   "source": [
    "data['챗봇'][3]"
   ]
  },
  {
   "cell_type": "code",
   "execution_count": 12,
   "metadata": {},
   "outputs": [
    {
     "data": {
      "text/plain": [
       "True"
      ]
     },
     "execution_count": 12,
     "metadata": {},
     "output_type": "execute_result"
    }
   ],
   "source": [
    "## data['챗봇'][3] nan 이기 때문에 nan != nan 이 성립한다.\n",
    "data['챗봇'][3] != data['챗봇'][3]"
   ]
  },
  {
   "cell_type": "code",
   "execution_count": 13,
   "metadata": {},
   "outputs": [
    {
     "data": {
      "text/plain": [
       "False"
      ]
     },
     "execution_count": 13,
     "metadata": {},
     "output_type": "execute_result"
    }
   ],
   "source": [
    "data['챗봇'][0] != data['챗봇'][0]"
   ]
  },
  {
   "cell_type": "code",
   "execution_count": 14,
   "metadata": {},
   "outputs": [
    {
     "data": {
      "text/plain": [
       "True"
      ]
     },
     "execution_count": 14,
     "metadata": {},
     "output_type": "execute_result"
    }
   ],
   "source": [
    "pd.isnull(data['챗봇'][3])"
   ]
  },
  {
   "cell_type": "code",
   "execution_count": 15,
   "metadata": {},
   "outputs": [],
   "source": [
    "## 챗봇컬럼이 빈칸인지를 확인하기 위한 값. pd.isnull() 해도 될듯\n",
    "def isNaN(num):\n",
    "    return num != num"
   ]
  },
  {
   "cell_type": "code",
   "execution_count": 23,
   "metadata": {},
   "outputs": [],
   "source": [
    "DATA = []\n",
    "RESPONSE = {}\n",
    " \n",
    "for i in range(len(data[\"구분\"])):\n",
    "    label = data[\"구분\"][i]\n",
    "    label_split = label.split(\"/\")\n",
    "    label_1 = \"/\".join(label_split[:2])\n",
    "    sent = data[\"유저\"][i]\n",
    "    if label_1 != \"모호함\": \n",
    "        DATA.append([\"Sent_{}\".format(i), sent, label_1, label])\n",
    "    if label_1 in RESPONSE:  ## 이미 RESPONSE dict에 key로 있을 경우\n",
    "        if not pd.isnull(data[\"챗봇\"][i]): ## 챗봇 컬럼 값이 NAN이 아닌 경우 \n",
    "            RESPONSE[label_1].append(data[\"챗봇\"][i]) ## key가 존재하는 상태에서 기존 \"챗봇\"값에 새로운 \"챗봇\"값을 append한다.\n",
    "    else: ## label_1 이 \"모호함\"인 경우 or label_1 이 이미 RESPONSE dict에 key로 있을 경우\n",
    "        if not pd.isnull(data[\"챗봇\"][i]):  ## 챗봇 컬럼 값이 NAN이 아닌 경우 \n",
    "            RESPONSE[label_1] = [data[\"챗봇\"][i]] ## value 를 추가하는데, 최초 list 형대로 값을 집어넣는다.\n",
    " \n",
    "\"\"\"random shuffle & make them into train/test set\"\"\"\n",
    "labels = [dat[2] for dat in DATA]"
   ]
  },
  {
   "cell_type": "code",
   "execution_count": 24,
   "metadata": {},
   "outputs": [
    {
     "name": "stdout",
     "output_type": "stream",
     "text": [
      "5051\n",
      "['Sent_0', '제 감정이 이상해진 것 같아요. 남편만 보면 화가 치밀어 오르고 감정 조절이 안되요.', '감정/감정조절이상', '감정/감정조절이상']\n",
      "감정/감정조절이상 <class 'str'>\n"
     ]
    }
   ],
   "source": [
    "print(len(DATA))\n",
    "print(DATA[0])\n",
    "print(labels[0],type(labels[0]))"
   ]
  },
  {
   "cell_type": "code",
   "execution_count": 30,
   "metadata": {},
   "outputs": [
    {
     "data": {
      "text/plain": [
       "dict"
      ]
     },
     "execution_count": 30,
     "metadata": {},
     "output_type": "execute_result"
    }
   ],
   "source": [
    "type(RESPONSE)"
   ]
  },
  {
   "cell_type": "code",
   "execution_count": 32,
   "metadata": {},
   "outputs": [
    {
     "data": {
      "text/plain": [
       "['그런 기분이 들 때 정말 힘들죠. 생각을 좀 달리 가져보면 편하지 않을까요?',\n",
       " '그 기분 뭔지 알 것 같아요. 조금은 다르게 생각을 해보는 것도 좋을 것 같아요.',\n",
       " '정말 힘드시겠어요. 제가 옆에서 힘이 되어 드릴게요.',\n",
       " '정말 스트레스 받으시겠어요. 다른 분에게 도움을 요청해보는 건 어떨까요?',\n",
       " '누군가 나를 지켜보고 있다 생각하면 너무 힘들겠어요. 제가 도움이 되고 싶네요.',\n",
       " '감시 당하는 것만큼 신경쓰이는 게 없죠. 아직도 그 상황에 처해 계신가요?',\n",
       " '감시를 당하시는 건가요? 정말 힘드시겠어요.',\n",
       " '정말 곤란하시겠군요. 한 번 대화를 나눠 보는 건 어떨까요?',\n",
       " '정도가 심하면 경찰이나 병원의 도움을 받아보는 건 어떠세요?',\n",
       " '정말 힘든 상황이시군요. 제가 작게나마 위로가 되고 싶어요.',\n",
       " '많이 힘드시겠어요. 고민을 털어 놓을 데가 필요하시면 제가 도와드릴게요.',\n",
       " '고민이 많으셨겠어요. 확신을 위해 좀 더 생각해보는 건 어떨까요?',\n",
       " '정말 힘드시겠어요. 제가 항상 옆에 있어 드릴게요. 힘내세요.',\n",
       " '감시 당하는 것만큼 괴로운 게 없죠. 제가 도움이 되어 드리고 싶네요.',\n",
       " '생활이 불편하시겠어요. 다른 사람의 도움을 받아 보는 건 어떨까요?']"
      ]
     },
     "execution_count": 32,
     "metadata": {},
     "output_type": "execute_result"
    }
   ],
   "source": [
    "RESPONSE['증상/피해망상']"
   ]
  },
  {
   "cell_type": "markdown",
   "metadata": {},
   "source": [
    "================================================================================================================================\n",
    "#### 웰니스 데이터 감성분석 train, test 셋으로 나누기  \n",
    "이후, 감정분석 label 갯수확인"
   ]
  },
  {
   "cell_type": "code",
   "execution_count": 33,
   "metadata": {},
   "outputs": [
    {
     "name": "stdout",
     "output_type": "stream",
     "text": [
      "5051 ['Sent_0', '제 감정이 이상해진 것 같아요. 남편만 보면 화가 치밀어 오르고 감정 조절이 안되요.', '감정/감정조절이상', '감정/감정조절이상']\n",
      "5051 감정/감정조절이상\n"
     ]
    }
   ],
   "source": [
    "print(len(DATA),DATA[0])\n",
    "print(len(labels),labels[0])"
   ]
  },
  {
   "cell_type": "code",
   "execution_count": 34,
   "metadata": {},
   "outputs": [],
   "source": [
    "from sklearn.model_selection import train_test_split\n",
    "train, test = train_test_split(DATA, random_state = 2020, stratify = labels, test_size = 400)"
   ]
  },
  {
   "cell_type": "code",
   "execution_count": 35,
   "metadata": {},
   "outputs": [
    {
     "name": "stdout",
     "output_type": "stream",
     "text": [
      "Data Example\n",
      "['Sent_4393', '뭔가 하루종일 이렇게 들뜬 기분이다 보니까 잠도 잘 안 와.', '증상/불면', '증상/불면']\n",
      "['Sent_603', '아무한테나 화내고 그러지는 않아.', '감정/분노', '감정/분노']\n",
      "['Sent_4224', '잠자리에 누워도 맨날 뒤척이고... 잠을 제대로 잘 수 있을 리가 없지.', '증상/불면', '증상/불면']\n",
      "['Sent_3849', '5일 전에는 새벽에 일어나서 화장실을 가다가 순간적으로 정신을 잃었어.', '증상/기절', '증상/기절']\n",
      "['Sent_666', '그냥 감정이입이 심하게 되고 불안감도 잘 느끼는 것 같아요.', '감정/불안감', '감정/불안감']\n"
     ]
    }
   ],
   "source": [
    "print(\"Data Example\")\n",
    "for i in range(5):\n",
    "    print(train[i])"
   ]
  },
  {
   "cell_type": "code",
   "execution_count": 37,
   "metadata": {},
   "outputs": [],
   "source": [
    "import collections\n",
    "\n",
    "train_counter = collections.Counter()"
   ]
  },
  {
   "cell_type": "code",
   "execution_count": 38,
   "metadata": {
    "collapsed": true,
    "jupyter": {
     "outputs_hidden": true
    }
   },
   "outputs": [
    {
     "name": "stdout",
     "output_type": "stream",
     "text": [
      "라벨 개수: 176 \n",
      "\n",
      "*** LABEL 분포 ***\n",
      "증상/불면 : 236 (5.07%)\n",
      "배경/직장 : 152 (3.27%)\n",
      "배경/남편 : 142 (3.05%)\n",
      "감정/걱정 : 134 (2.88%)\n",
      "배경/부모 : 125 (2.69%)\n",
      "감정/힘듦 : 111 (2.39%)\n",
      "배경/생활 : 107 (2.30%)\n",
      "배경/성격 : 94 (2.02%)\n",
      "감정/불안감 : 91 (1.96%)\n",
      "감정/우울감 : 87 (1.87%)\n",
      "감정/자살충동 : 87 (1.87%)\n",
      "증상/무기력 : 87 (1.87%)\n",
      "감정/부정적사고 : 86 (1.85%)\n",
      "증상/피해망상 : 82 (1.76%)\n",
      "증상/식욕저하 : 67 (1.44%)\n",
      "배경/건강문제 : 65 (1.40%)\n",
      "배경/남자친구 : 60 (1.29%)\n",
      "증상/반복행동 : 59 (1.27%)\n",
      "배경/학교 : 56 (1.20%)\n",
      "배경/문제 : 55 (1.18%)\n",
      "배경/음주 : 53 (1.14%)\n",
      "감정/답답 : 51 (1.10%)\n",
      "배경/대학 : 48 (1.03%)\n",
      "배경/연애 : 47 (1.01%)\n",
      "감정/짜증 : 46 (0.99%)\n",
      "배경/경제적문제 : 46 (0.99%)\n",
      "배경/사업 : 45 (0.97%)\n",
      "증상/기억력저하 : 45 (0.97%)\n",
      "증상/호흡곤란 : 44 (0.95%)\n",
      "배경/여자친구 : 41 (0.88%)\n",
      "치료이력/병원내원 : 40 (0.86%)\n",
      "증상/두통 : 39 (0.84%)\n",
      "증상/두근거림 : 37 (0.80%)\n",
      "배경/친구 : 37 (0.80%)\n",
      "배경/어린시절 : 35 (0.75%)\n",
      "감정/화 : 35 (0.75%)\n",
      "증상/환청 : 34 (0.73%)\n",
      "배경/대인관계 : 33 (0.71%)\n",
      "부가설명 : 33 (0.71%)\n",
      "증상/은둔 : 32 (0.69%)\n",
      "감정/심란 : 31 (0.67%)\n",
      "증상/통증 : 31 (0.67%)\n",
      "배경/취업 : 30 (0.65%)\n",
      "배경/결혼 : 30 (0.65%)\n",
      "배경/가족 : 30 (0.65%)\n",
      "감정/후회 : 30 (0.65%)\n",
      "감정/눈물 : 29 (0.62%)\n",
      "배경/시댁 : 29 (0.62%)\n",
      "배경/자녀 : 29 (0.62%)\n",
      "자가치료/심리조절 : 29 (0.62%)\n",
      "감정/괴로움 : 28 (0.60%)\n",
      "증상/폭식 : 28 (0.60%)\n",
      "감정/생각 : 28 (0.60%)\n",
      "감정/분노 : 27 (0.58%)\n",
      "증상/죽음공포 : 27 (0.58%)\n",
      "배경/학업 : 26 (0.56%)\n",
      "감정/자괴감 : 25 (0.54%)\n",
      "증상/체중감소 : 25 (0.54%)\n",
      "배경/사고 : 24 (0.52%)\n",
      "증상/어지러움 : 22 (0.47%)\n",
      "감정/무서움 : 22 (0.47%)\n",
      "증상/피로 : 22 (0.47%)\n",
      "증상/대인기피 : 22 (0.47%)\n",
      "감정/외로움 : 21 (0.45%)\n",
      "감정/자존감저하 : 21 (0.45%)\n",
      "치료이력/검사 : 21 (0.45%)\n",
      "증상/집중력저하 : 21 (0.45%)\n",
      "감정/의욕상실 : 21 (0.45%)\n",
      "감정/불만 : 21 (0.45%)\n",
      "일반대화 : 19 (0.41%)\n",
      "감정/감정조절이상 : 19 (0.41%)\n",
      "증상/반복사고 : 19 (0.41%)\n",
      "감정/억울함 : 19 (0.41%)\n",
      "증상/공황발작 : 18 (0.39%)\n",
      "감정/서운함 : 18 (0.39%)\n",
      "감정/충격 : 18 (0.39%)\n",
      "증상/자해 : 18 (0.39%)\n",
      "감정/모호함 : 18 (0.39%)\n",
      "감정/두려움 : 17 (0.37%)\n",
      "감정/불쾌감 : 17 (0.37%)\n",
      "감정/절망감 : 17 (0.37%)\n",
      "감정/슬픔 : 17 (0.37%)\n",
      "증상/가슴답답 : 17 (0.37%)\n",
      "상태/증상지속 : 16 (0.34%)\n",
      "감정/신경쓰임 : 16 (0.34%)\n",
      "배경/애완동물 : 16 (0.34%)\n",
      "배경/임신 : 16 (0.34%)\n",
      "증상/이명 : 15 (0.32%)\n",
      "감정/자신감저하 : 15 (0.32%)\n",
      "감정/기분저하 : 15 (0.32%)\n",
      "감정/공포 : 15 (0.32%)\n",
      "증상/악몽 : 15 (0.32%)\n",
      "증상/자살시도 : 14 (0.30%)\n",
      "증상/기억상실 : 14 (0.30%)\n",
      "감정/속상함 : 14 (0.30%)\n",
      "상태/양호 : 14 (0.30%)\n",
      "감정/긴장 : 14 (0.30%)\n",
      "내원이유/상담 : 14 (0.30%)\n",
      "감정/비관적 : 14 (0.30%)\n",
      "배경/자각 : 13 (0.28%)\n",
      "증상/기절예기 : 13 (0.28%)\n",
      "증상/체중증가 : 13 (0.28%)\n",
      "배경/진로 : 13 (0.28%)\n",
      "증상/기절 : 12 (0.26%)\n",
      "감정/살인욕구 : 12 (0.26%)\n",
      "배경/공부 : 12 (0.26%)\n",
      "증상/가슴떨림 : 12 (0.26%)\n",
      "감정/허무함 : 12 (0.26%)\n",
      "감정/멍함 : 12 (0.26%)\n",
      "감정/즐거움 : 11 (0.24%)\n",
      "치료이력/응급실 : 11 (0.24%)\n",
      "증상/힘빠짐 : 11 (0.24%)\n",
      "감정/의기소침 : 11 (0.24%)\n",
      "감정/고독감 : 11 (0.24%)\n",
      "증상/과수면 : 10 (0.22%)\n",
      "배경/이혼 : 10 (0.22%)\n",
      "현재상태/증상악화 : 10 (0.22%)\n",
      "감정/무미건조 : 10 (0.22%)\n",
      "증상/알코올의존 : 10 (0.22%)\n",
      "감정/통제력상실 : 9 (0.19%)\n",
      "증상/환각 : 9 (0.19%)\n",
      "배경/이사 : 9 (0.19%)\n",
      "배경/아르바이트 : 9 (0.19%)\n",
      "증상/건강염려 : 9 (0.19%)\n",
      "증상/소화불량 : 9 (0.19%)\n",
      "감정/불편감 : 8 (0.17%)\n",
      "감정/좌절 : 8 (0.17%)\n",
      "감정/공허감 : 8 (0.17%)\n",
      "감정/당황 : 8 (0.17%)\n",
      "증상/이인감 : 8 (0.17%)\n",
      "감정/불신 : 8 (0.17%)\n",
      "증상/컨디션저조 : 8 (0.17%)\n",
      "감정/미움 : 8 (0.17%)\n",
      "증상/만성피로 : 8 (0.17%)\n",
      "감정/미안함 : 8 (0.17%)\n",
      "배경/유학 : 8 (0.17%)\n",
      "감정/무력감 : 7 (0.15%)\n",
      "증상/생리불순 : 7 (0.15%)\n",
      "배경/타인 : 7 (0.15%)\n",
      "내원이유/치료 : 7 (0.15%)\n",
      "증상/과대망상 : 7 (0.15%)\n",
      "감정/예민함 : 7 (0.15%)\n",
      "배경/육아 : 7 (0.15%)\n",
      "증상/메스꺼움 : 7 (0.15%)\n",
      "내원이유/의사소견 : 7 (0.15%)\n",
      "증상/편두통 : 7 (0.15%)\n",
      "배경/전연인 : 6 (0.13%)\n",
      "배경/종교 : 6 (0.13%)\n",
      "감정/배신감 : 6 (0.13%)\n",
      "배경/귀국 : 6 (0.13%)\n",
      "증상/대화기피 : 6 (0.13%)\n",
      "현재상태/증상지속 : 6 (0.13%)\n",
      "증상/성욕상승 : 6 (0.13%)\n",
      "증상/가슴통증 : 6 (0.13%)\n",
      "증상/신체이상 : 6 (0.13%)\n",
      "현재상태/증상감소 : 6 (0.13%)\n",
      "감정/과민반응 : 6 (0.13%)\n",
      "감정/죄책감 : 6 (0.13%)\n",
      "증상/발작 : 6 (0.13%)\n",
      "증상/인지기능저하 : 6 (0.13%)\n",
      "상태/증상감소 : 6 (0.13%)\n",
      "감정/창피함 : 6 (0.13%)\n",
      "증상/속쓰림 : 6 (0.13%)\n",
      "감정/초조함 : 6 (0.13%)\n",
      "배경/군대 : 5 (0.11%)\n",
      "증상/체력저하 : 5 (0.11%)\n",
      "증상/공격적성향 : 5 (0.11%)\n",
      "증상/시력저하 : 5 (0.11%)\n",
      "감정/기시감 : 5 (0.11%)\n",
      "자가치료/운동 : 5 (0.11%)\n",
      "자가치료/충분한휴식 : 5 (0.11%)\n",
      "증상/저림현상 : 5 (0.11%)\n",
      "증상/성격변화 : 5 (0.11%)\n",
      "증상/떨림 : 5 (0.11%)\n",
      "감정/곤혹감 : 5 (0.11%)\n",
      "원인/없음 : 5 (0.11%)\n"
     ]
    }
   ],
   "source": [
    "for dat in train:\n",
    "    train_counter[dat[2]] += 1 ## dat[2] DATA 내에서, 2 index 의 증상부분을 key로 삽입\n",
    "print(\"라벨 개수:\", len(train_counter), \"\\n\") ## 176 개\n",
    "print(\"*** LABEL 분포 ***\")\n",
    "\n",
    "for cnt in train_counter.most_common():\n",
    "    print(\"{} : {} ({:.2f}%)\".format(cnt[0], cnt[1], 100*cnt[1]/len(train))) ## cnt[0]:key , cnt[1]:counting 갯수"
   ]
  },
  {
   "cell_type": "markdown",
   "metadata": {},
   "source": [
    "최종 176개에 해당하는 label값을 가지고 있음을 보였다.\n",
    "또한 하위 1% 미만의 하위갯수분포를 보이는 label 갯수도 상당하다는 것을 알 수 있다."
   ]
  },
  {
   "cell_type": "markdown",
   "metadata": {},
   "source": [
    "## 감성분석 모델링 하기  "
   ]
  },
  {
   "cell_type": "markdown",
   "metadata": {},
   "source": [
    "### step01. 학습대상이 되는 콘텐츠에 대하여 정수값으로 벡터화 시킨다.  \n",
    "__이때, 기존 meta 단어(토큰)에서 없는 부분을 확장하여 new_meta를 만들고__  \n",
    "__이때, 새로 ebedding 계층부터 학습하지 않고 기존에 활용했던, ebedding 객체를 소환하여 활용한다.__"
   ]
  },
  {
   "cell_type": "code",
   "execution_count": 40,
   "metadata": {},
   "outputs": [
    {
     "name": "stdout",
     "output_type": "stream",
     "text": [
      "4651 400\n"
     ]
    },
    {
     "data": {
      "text/plain": [
       "['Sent_1160', '죽는 게 나을 것 같다는 생각이 들어.', '감정/자살충동', '감정/자살충동']"
      ]
     },
     "execution_count": 40,
     "metadata": {},
     "output_type": "execute_result"
    }
   ],
   "source": [
    "print(len(train),len(test))\n",
    "train[11]"
   ]
  },
  {
   "cell_type": "code",
   "execution_count": 41,
   "metadata": {},
   "outputs": [],
   "source": [
    "# 학습 완료된 임베딩 저장하기 -> colab 불러오기\n",
    "with open(\"D:/★2020_ML_DL_Project/Alchemy/dataset/text_output/vecs.tsv\") as f:\n",
    "    vecs = [v.strip() for v in f.readlines()]"
   ]
  },
  {
   "cell_type": "code",
   "execution_count": 42,
   "metadata": {},
   "outputs": [],
   "source": [
    "## 해당 vecs 에 해당하는 원래 단어사전 (형태소 형태로 분해된) 불러오기.\n",
    "with open(\"D:/★2020_ML_DL_Project/Alchemy/dataset/text_output/meta.tsv\") as m:\n",
    "    meta = [v.strip() for v in m.readlines()]"
   ]
  },
  {
   "cell_type": "code",
   "execution_count": 45,
   "metadata": {},
   "outputs": [
    {
     "data": {
      "text/plain": [
       "(70002, 128)"
      ]
     },
     "execution_count": 45,
     "metadata": {},
     "output_type": "execute_result"
    }
   ],
   "source": [
    "final_embeddings = [np.float32(v.split(\"\\t\")) for v in vecs]\n",
    "final_embeddings = np.array(final_embeddings)\n",
    "final_embeddings.shape"
   ]
  },
  {
   "cell_type": "markdown",
   "metadata": {},
   "source": [
    "기존 embedding 단어사전에서 포함하지 못하는 단어들을 파악하여 이들을 처리해야 합니다.  \n",
    "기존단어사전 : meta  \n",
    "신규단어사전 : new_meta (이 부분은 colab에서 수행됨)"
   ]
  },
  {
   "cell_type": "code",
   "execution_count": 47,
   "metadata": {},
   "outputs": [
    {
     "name": "stdout",
     "output_type": "stream",
     "text": [
      "70002\n"
     ]
    }
   ],
   "source": [
    "print(len(meta))"
   ]
  },
  {
   "cell_type": "markdown",
   "metadata": {},
   "source": [
    "단, 여기서 local로 진행하기에는 문제가 생깁니다.(필자의 local에는 konlp가 설치되어 있지 않고, 그동안 Colab에서 수행해 왔음)  \n",
    "\n",
    "기존 meta 에서 커버하지 못하는 단어(tokenizer된)들을 파악하기 위해서는,  \n",
    "1) konlpy - Komoran() 으로 기존 문장을 한국어 토큰화 시키고  \n",
    "2) 기존 meta 파일과 비교하여 신규 단어를 파악  \n",
    "3) 신규단어들만큼 추가학습을 하여 embedding를 새로 만들거나 or 신규단어 부분만 0인 값으로 embedding에 추가 배분  \n",
    "\n",
    "상기 과정을 거쳐야 합니다. 하지만, 저는 상기 과정을 colab에서 수행했습니다.  \n",
    "[colab 수행과정](https://github.com/cypision/Alchemy-in-MLDL/blob/master/word_embedding_add_oob_Word.ipynb)  "
   ]
  },
  {
   "cell_type": "code",
   "execution_count": 50,
   "metadata": {},
   "outputs": [],
   "source": [
    "oov_counter = collections.Counter()"
   ]
  },
  {
   "cell_type": "markdown",
   "metadata": {},
   "source": [
    "train,test 데이터를 meta 정보에 맞추어 토큰화 -> 정수인덱싱 한 데이터를 불러온다."
   ]
  },
  {
   "cell_type": "code",
   "execution_count": 51,
   "metadata": {},
   "outputs": [],
   "source": [
    "with open(\"D:/★2020_ML_DL_Project/Alchemy/dataset/text_output/new_meta.tsv\") as m:\n",
    "    new_meta = [v.strip() for v in m.readlines()]"
   ]
  },
  {
   "cell_type": "code",
   "execution_count": 52,
   "metadata": {},
   "outputs": [],
   "source": [
    "train_ids = np.load('D:/★2020_ML_DL_Project/Alchemy/dataset/text_output/Wellness_data_train_tokenized.npy')\n",
    "train_labels = np.load('D:/★2020_ML_DL_Project/Alchemy/dataset/text_output/Wellness_data_train_tokenized_label.npy')\n",
    "test_ids = np.load('D:/★2020_ML_DL_Project/Alchemy/dataset/text_output/Wellness_data_test_tokenized.npy')\n",
    "test_labels = np.load('D:/★2020_ML_DL_Project/Alchemy/dataset/text_output/Wellness_data_test_tokenized_label.npy')"
   ]
  },
  {
   "cell_type": "code",
   "execution_count": 60,
   "metadata": {},
   "outputs": [],
   "source": [
    "# Wellness_data_label_map.json\n",
    "with open(\"D:/★2020_ML_DL_Project/Alchemy/dataset/text_output/Wellness_data_label_map.json\" , 'r') as f:\n",
    "    label_map = json.loads(f.read())"
   ]
  },
  {
   "cell_type": "code",
   "execution_count": 54,
   "metadata": {},
   "outputs": [
    {
     "name": "stdout",
     "output_type": "stream",
     "text": [
      "4651 400\n"
     ]
    },
    {
     "data": {
      "text/plain": [
       "['Sent_1160', '죽는 게 나을 것 같다는 생각이 들어.', '감정/자살충동', '감정/자살충동']"
      ]
     },
     "execution_count": 54,
     "metadata": {},
     "output_type": "execute_result"
    }
   ],
   "source": [
    "print(len(train),len(test))\n",
    "train[11]"
   ]
  },
  {
   "cell_type": "code",
   "execution_count": 55,
   "metadata": {},
   "outputs": [
    {
     "name": "stdout",
     "output_type": "stream",
     "text": [
      "(4651, 50) \t test_ids.shape: (400, 50)\n",
      "[330   6  40  75   7  35  82  77 180   3  23  26   4   0   0   0   0   0\n",
      "   0   0   0   0   0   0   0   0   0   0   0   0   0   0   0   0   0   0\n",
      "   0   0   0   0   0   0   0   0   0   0   0   0   0   0]\n"
     ]
    }
   ],
   "source": [
    "print(train_ids.shape,\"\\t test_ids.shape:\",test_ids.shape)\n",
    "print(train_ids[11])"
   ]
  },
  {
   "cell_type": "markdown",
   "metadata": {},
   "source": [
    "train 4651 -> (4651,50)  \n",
    "test   400 -> (400,50)  \n",
    "으로 변경되었다. 이 과정은 colab 링크주소를 통해서 보면 좀더 확인가능합니다.[colab 수행과정](https://github.com/cypision/Alchemy-in-MLDL/blob/master/word_embedding_add_oob_Word.ipynb)  \n",
    "간단히 요약하면,  \n",
    "1) train,test 내의 setence 데이터를 tokenize(한글)  \n",
    "2) 기존 meta(단어사전)에 대입하여 new_meta로 확장.(기존 meta 단어장에 없는 token이 있기 때문)  \n",
    "3) new_meta에 따른 정수 인덱스 sentence로 변경하고 padding 을 줘서 각 문장별 setence 길이를 mat_len = 50 기준으로 맞춤  "
   ]
  },
  {
   "cell_type": "markdown",
   "metadata": {},
   "source": [
    "### step02. 모델을 설계하고 Embedding layer를 수정한다.\n",
    "__이때, 새로 ebedding 계층부터 학습하지 않고 기존에 활용했던, ebedding 객체를 소환하여 활용한다.__"
   ]
  },
  {
   "cell_type": "code",
   "execution_count": 86,
   "metadata": {},
   "outputs": [],
   "source": [
    "import tensorflow as tf\n",
    "from tensorflow.keras import Sequential\n",
    "from tensorflow.keras.layers import Embedding, LSTM, GRU, Dense, Dropout"
   ]
  },
  {
   "cell_type": "code",
   "execution_count": 62,
   "metadata": {},
   "outputs": [
    {
     "name": "stdout",
     "output_type": "stream",
     "text": [
      "(70002, 128)\n",
      "<class 'dict'> 176\n"
     ]
    }
   ],
   "source": [
    "print(final_embeddings.shape)\n",
    "print(type(label_map),len(label_map))\n",
    "\n",
    "label_map_reverse = {}\n",
    "for key,val in label_map.items():\n",
    "    label_map_reverse[val] = key"
   ]
  },
  {
   "cell_type": "code",
   "execution_count": 63,
   "metadata": {},
   "outputs": [],
   "source": [
    "vocab_size = len(new_meta) # 단어사전 개수\n",
    "embedding_dim = final_embeddings.shape[1] # 임베딩 차원. 여기선 128차원\n",
    "rnn_hidden_dim = 300 # GRU hidden_size\n",
    "final_dim = len(label_map) ## 176\n",
    "\n",
    "\"\"\" MAKE MODEL \"\"\"\n",
    "model = Sequential(\n",
    "    [Embedding(vocab_size, embedding_dim, mask_zero=True), ## mask_zero = tf.keras.preprocessing.sequence.pad_sequences 를 통해 input 값들의 길이가 이미 같음을 알림\n",
    "     GRU(rnn_hidden_dim), ## \n",
    "     Dense(rnn_hidden_dim, activation= \"relu\"),\n",
    "     Dropout(0.3),\n",
    "     Dense(final_dim, activation=\"softmax\")] ## final_dim=176 개의 감정분석 label에 대한 softmax 를 적용하여 다중 클래스피케이션으로 모델을 설계한다.\n",
    ")"
   ]
  },
  {
   "cell_type": "code",
   "execution_count": 64,
   "metadata": {},
   "outputs": [
    {
     "name": "stdout",
     "output_type": "stream",
     "text": [
      "Model: \"sequential\"\n",
      "_________________________________________________________________\n",
      "Layer (type)                 Output Shape              Param #   \n",
      "=================================================================\n",
      "embedding (Embedding)        (None, None, 128)         9020544   \n",
      "_________________________________________________________________\n",
      "gru (GRU)                    (None, 300)               387000    \n",
      "_________________________________________________________________\n",
      "dense (Dense)                (None, 300)               90300     \n",
      "_________________________________________________________________\n",
      "dropout (Dropout)            (None, 300)               0         \n",
      "_________________________________________________________________\n",
      "dense_1 (Dense)              (None, 176)               52976     \n",
      "=================================================================\n",
      "Total params: 9,550,820\n",
      "Trainable params: 9,550,820\n",
      "Non-trainable params: 0\n",
      "_________________________________________________________________\n"
     ]
    }
   ],
   "source": [
    "model.summary()"
   ]
  },
  {
   "cell_type": "code",
   "execution_count": 75,
   "metadata": {},
   "outputs": [
    {
     "name": "stdout",
     "output_type": "stream",
     "text": [
      "0번째 가중치 행렬의 shape:(70473, 128)\n",
      "1번째 가중치 행렬의 shape:(128, 900)\n",
      "2번째 가중치 행렬의 shape:(300, 900)\n",
      "3번째 가중치 행렬의 shape:(2, 900)\n",
      "4번째 가중치 행렬의 shape:(300, 300)\n",
      "5번째 가중치 행렬의 shape:(300,)\n",
      "6번째 가중치 행렬의 shape:(300, 176)\n",
      "7번째 가중치 행렬의 shape:(176,)\n"
     ]
    }
   ],
   "source": [
    "for i in range(len(model.get_weights())):\n",
    "    print(\"{}번째 가중치 행렬의 shape:{}\".format(i, model.get_weights()[i].shape))"
   ]
  },
  {
   "cell_type": "code",
   "execution_count": 73,
   "metadata": {},
   "outputs": [
    {
     "name": "stdout",
     "output_type": "stream",
     "text": [
      "8\n",
      "(70473, 128)\n"
     ]
    }
   ],
   "source": [
    "print(len(model.get_weights()))\n",
    "print(model.get_weights()[0].shape)"
   ]
  },
  {
   "cell_type": "markdown",
   "metadata": {},
   "source": [
    "앞서 얘기했다시피, 기존에 wiki 사전으로 학습시킨, embedding(final_embeddings) 을 재활용할 수 있습니다.  \n",
    "<span style='color:red'>__단어를 CBOW나 skip-gram으로 embedding 가중치행렬을 다시 구할수도 있지만, 단지 학습단계에서 초기값으로만 활용해도 효과가 있다.__</span>  \n",
    "단 사용시에 기존 배열과의 차원수를 잘 맞춰줘야 합니다.  \n",
    "\n",
    "본 예에서는  \n",
    "Embedding(vocab_size, embedding_dim, mask_zero=True) 으로 보여지다시피, vocab_size(70473)이 들어갔습니다.  \n",
    "이는 input으로 값들의 토큰단어수준 크가가 70743개란 뜻입니다. 하지만 우리가 과거에 학습한 final_embeddings 때의 토큰단어사전 갯수는 70002 였습니다.  \n",
    "\n",
    "위에서 0번째 가중치 행렬의 shape:(70473, 128) 에 초기값으로 final_embeddings(70002, 128)를 넣어주려고 하는데 행이 맞지 않으니, 이를 0으로 채워서 새롭게 embedding 행렬초기값을 만들어 덮어써줍니다. "
   ]
  },
  {
   "cell_type": "code",
   "execution_count": 79,
   "metadata": {},
   "outputs": [
    {
     "name": "stdout",
     "output_type": "stream",
     "text": [
      "70473 (70002, 128)\n"
     ]
    }
   ],
   "source": [
    "print(vocab_size,final_embeddings.shape)"
   ]
  },
  {
   "cell_type": "code",
   "execution_count": 80,
   "metadata": {},
   "outputs": [
    {
     "name": "stdout",
     "output_type": "stream",
     "text": [
      "CBOW initialize될 토큰 개수: 70002\n",
      "새로운 임베딩의 one-hot-vector: 70473 \n",
      "\n",
      "-> 랜덤 초기화해야 할 벡터 차원: 471 x 128\n"
     ]
    }
   ],
   "source": [
    "## 단어사전 개수 체크\n",
    "org_vocab_size = final_embeddings.shape[0] ## 70002\n",
    "new_vocab_size = len(new_meta)       ## 70473\n",
    " \n",
    "print(\"CBOW initialize될 토큰 개수:\", org_vocab_size)\n",
    "print(\"새로운 임베딩의 one-hot-vector:\", new_vocab_size, \"\\n\")\n",
    "print(\"-> 랜덤 초기화해야 할 벡터 차원: {} x {}\".format(new_vocab_size-org_vocab_size, embedding_dim))"
   ]
  },
  {
   "cell_type": "code",
   "execution_count": 81,
   "metadata": {},
   "outputs": [
    {
     "data": {
      "text/plain": [
       "(471, 128)"
      ]
     },
     "execution_count": 81,
     "metadata": {},
     "output_type": "execute_result"
    }
   ],
   "source": [
    "rand_initial = np.random.uniform(-1,1,size=[vocab_size-org_vocab_size,embedding_dim])\n",
    "rand_initial.shape"
   ]
  },
  {
   "cell_type": "code",
   "execution_count": 82,
   "metadata": {},
   "outputs": [
    {
     "data": {
      "text/plain": [
       "(70473, 128)"
      ]
     },
     "execution_count": 82,
     "metadata": {},
     "output_type": "execute_result"
    }
   ],
   "source": [
    "initial_weight = np.append(final_embeddings, rand_initial, axis = 0)\n",
    "initial_weight.shape"
   ]
  },
  {
   "cell_type": "markdown",
   "metadata": {},
   "source": [
    "model.weights[0] 바꿔끼우기"
   ]
  },
  {
   "cell_type": "code",
   "execution_count": 83,
   "metadata": {},
   "outputs": [
    {
     "data": {
      "text/plain": [
       "array([[ 3.65821011e-02,  2.09269263e-02,  4.37952392e-02, ...,\n",
       "        -4.68397848e-02, -3.90023366e-02,  7.83827156e-03],\n",
       "       [-1.08658604e-01,  1.20607175e-01,  2.56893903e-01, ...,\n",
       "         2.73515940e-01, -1.67477235e-01,  1.85633793e-01],\n",
       "       [-1.63065505e+00,  4.06452082e-02,  5.75998187e-01, ...,\n",
       "        -7.51210332e-01, -2.29754075e-01,  3.93116146e-01],\n",
       "       ...,\n",
       "       [-4.35010314e-01, -3.36897731e-01,  2.59104937e-01, ...,\n",
       "        -2.06732866e-03,  2.52970278e-01,  1.95310205e-01],\n",
       "       [-9.23107386e-01,  8.29408407e-01,  9.49173152e-01, ...,\n",
       "        -4.46789980e-01,  1.64622396e-01, -7.64461696e-01],\n",
       "       [-7.53726959e-01, -7.91572854e-02, -1.17686565e-03, ...,\n",
       "        -4.95805442e-02,  8.89336020e-02,  3.09113473e-01]], dtype=float32)"
      ]
     },
     "execution_count": 83,
     "metadata": {},
     "output_type": "execute_result"
    }
   ],
   "source": [
    "model.weights[0].assign(initial_weight) # model.weights[0] -> 임베딩 레이어에 해당\n",
    "model.get_weights()[0]"
   ]
  },
  {
   "cell_type": "markdown",
   "metadata": {},
   "source": [
    "### step03. 모델을 compile 이후 학습"
   ]
  },
  {
   "cell_type": "code",
   "execution_count": 84,
   "metadata": {},
   "outputs": [],
   "source": [
    "## 모델 컴파일\n",
    "model.compile(loss='sparse_categorical_crossentropy', optimizer='rmsprop', metrics=['accuracy'])"
   ]
  },
  {
   "cell_type": "markdown",
   "metadata": {},
   "source": [
    "train set 에서, validation set를 분리해낸다."
   ]
  },
  {
   "cell_type": "code",
   "execution_count": 89,
   "metadata": {},
   "outputs": [],
   "source": [
    "from sklearn.model_selection import train_test_split\n",
    "train_ids, val_ids, train_labels, val_labels = train_test_split(train_ids, train_labels , test_size=0.10, random_state=42, stratify=train_labels)"
   ]
  },
  {
   "cell_type": "code",
   "execution_count": 90,
   "metadata": {},
   "outputs": [
    {
     "name": "stdout",
     "output_type": "stream",
     "text": [
      "Train on 4185 samples, validate on 466 samples\n",
      "Epoch 1/100\n",
      "4185/4185 [==============================] - 2s 423us/sample - loss: 3.4095 - accuracy: 0.2461 - val_loss: 3.3772 - val_accuracy: 0.2489\n",
      "Epoch 2/100\n",
      "4185/4185 [==============================] - 1s 215us/sample - loss: 3.2400 - accuracy: 0.2631 - val_loss: 3.2990 - val_accuracy: 0.2575\n",
      "Epoch 3/100\n",
      "4185/4185 [==============================] - 1s 215us/sample - loss: 3.0403 - accuracy: 0.2984 - val_loss: 3.2013 - val_accuracy: 0.2811\n",
      "Epoch 4/100\n",
      "4185/4185 [==============================] - 1s 212us/sample - loss: 2.8790 - accuracy: 0.3245 - val_loss: 3.1715 - val_accuracy: 0.2768\n",
      "Epoch 5/100\n",
      "4185/4185 [==============================] - 1s 212us/sample - loss: 2.6902 - accuracy: 0.3639 - val_loss: 3.1705 - val_accuracy: 0.2983\n",
      "Epoch 6/100\n",
      "4185/4185 [==============================] - 1s 215us/sample - loss: 2.5241 - accuracy: 0.3845 - val_loss: 3.0713 - val_accuracy: 0.3004\n",
      "Epoch 7/100\n",
      "4185/4185 [==============================] - 1s 213us/sample - loss: 2.3434 - accuracy: 0.4146 - val_loss: 3.1096 - val_accuracy: 0.3069\n"
     ]
    }
   ],
   "source": [
    "## 모델 학습\n",
    "callback = tf.keras.callbacks.EarlyStopping(monitor='val_loss', min_delta=0, patience=1)\n",
    "\n",
    "num_epochs = 100\n",
    "history = model.fit(train_ids, train_labels, epochs=num_epochs, batch_size=200,validation_data=(val_ids, val_labels), callbacks=[callback])"
   ]
  },
  {
   "cell_type": "markdown",
   "metadata": {},
   "source": [
    "### step04. test 데이터로 성능평가하기"
   ]
  },
  {
   "cell_type": "code",
   "execution_count": 97,
   "metadata": {},
   "outputs": [],
   "source": [
    "## sample\n",
    "scores = model.predict(test_ids)"
   ]
  },
  {
   "cell_type": "code",
   "execution_count": 98,
   "metadata": {},
   "outputs": [
    {
     "data": {
      "text/plain": [
       "(400, 176)"
      ]
     },
     "execution_count": 98,
     "metadata": {},
     "output_type": "execute_result"
    }
   ],
   "source": [
    "scores.shape"
   ]
  },
  {
   "cell_type": "code",
   "execution_count": 104,
   "metadata": {},
   "outputs": [
    {
     "name": "stdout",
     "output_type": "stream",
     "text": [
      "(176,)\n",
      "22\n"
     ]
    }
   ],
   "source": [
    "## 176 차원으로 값을 받았으니, 이중 가장 확률적으로 높은 값을 return한 index를 찾는다.\n",
    "print(scores[0].shape)\n",
    "print(np.argmax(scores[0]))"
   ]
  },
  {
   "cell_type": "markdown",
   "metadata": {},
   "source": [
    "22 index 가 가장 높은 확률을 보였다."
   ]
  },
  {
   "cell_type": "code",
   "execution_count": 105,
   "metadata": {},
   "outputs": [
    {
     "name": "stdout",
     "output_type": "stream",
     "text": [
      "0.08855945\n",
      "증상/불면\n"
     ]
    }
   ],
   "source": [
    "print(scores[0][22])\n",
    "print(label_map_reverse[test_labels[22]])"
   ]
  },
  {
   "cell_type": "markdown",
   "metadata": {},
   "source": [
    "이를 함수로 나타내면 하기와 같다."
   ]
  },
  {
   "cell_type": "code",
   "execution_count": 109,
   "metadata": {},
   "outputs": [],
   "source": [
    "def make_prediction(test_ids):\n",
    "    # model.predict 함수를 통해 확률값 받아오기\n",
    "    scores = model.predict(test_ids)\n",
    "    # 확률값이 가장 높은 카테고리로 분류하기\n",
    "    predictions = np.argmax(scores, axis=1) ## index 값을 return 한다.\n",
    "    return scores , predictions "
   ]
  },
  {
   "cell_type": "code",
   "execution_count": 110,
   "metadata": {},
   "outputs": [],
   "source": [
    "scores, predictions = make_prediction(test_ids)"
   ]
  },
  {
   "cell_type": "markdown",
   "metadata": {},
   "source": [
    "이를 확인하는 함수로 구현하면 하기와 같다."
   ]
  },
  {
   "cell_type": "code",
   "execution_count": 114,
   "metadata": {},
   "outputs": [],
   "source": [
    "def SCORE(predictions, ground_truth):\n",
    "    print(\"TEST SET ACCURACY: {:.2f}\".format(sum(predictions == ground_truth) / len(predictions)))\n",
    "    print(\"-\"*80)\n",
    "    label_reverse = {v:k for k, v in label_map.items()}\n",
    "    for i in range(10):\n",
    "        if predictions[i] != ground_truth[i]:\n",
    "            print(\"🥺: {}\".format(test[i][1]))\n",
    "            print(\"-> 👩‍⚕️: {} 🤖: {}\".format( label_reverse[ground_truth[i]], label_reverse[predictions[i]]), \"\\n\")   "
   ]
  },
  {
   "cell_type": "code",
   "execution_count": 115,
   "metadata": {},
   "outputs": [
    {
     "name": "stdout",
     "output_type": "stream",
     "text": [
      "TEST SET ACCURACY: 0.24\n",
      "--------------------------------------------------------------------------------\n",
      "🥺: 저는 이제 망했어요…\n",
      "-> 👩‍⚕️: 감정/좌절 🤖: 배경/부모 \n",
      "\n",
      "🥺: 스테로이드를 먹으니까 불면이 더 심해진 것 같아.\n",
      "-> 👩‍⚕️: 증상/불면 🤖: 현재상태/증상악화 \n",
      "\n",
      "🥺: 맛있는 거 먹으면 괜찮아졌는데, 요즘은 아니에요.\n",
      "-> 👩‍⚕️: 증상/식욕저하 🤖: 배경/건강문제 \n",
      "\n",
      "🥺: 이상하게 사고도 자꾸 생기는 것 같고…\n",
      "-> 👩‍⚕️: 배경/사고 🤖: 증상/무기력 \n",
      "\n",
      "🥺: 수술 끝나고 항암 치료 진행 중이에요.\n",
      "-> 👩‍⚕️: 배경/건강문제 🤖: 배경/직장 \n",
      "\n",
      "🥺: 나도 근속을 좀 해보고 싶다.\n",
      "-> 👩‍⚕️: 배경/직장 🤖: 증상/피해망상 \n",
      "\n",
      "🥺: 2년정도 지나니까 빈털터리가 되있었어요.\n",
      "-> 👩‍⚕️: 배경/경제적문제 🤖: 배경/어린시절 \n",
      "\n",
      "🥺: 근데 의사가 그 외에 또 뭐 없는지 자세하게 말해달라고 하는 거야.\n",
      "-> 👩‍⚕️: 치료이력/병원내원 🤖: 치료이력/검사 \n",
      "\n",
      "🥺: 안심이 안 된다…\n",
      "-> 👩‍⚕️: 감정/불안감 🤖: 감정/긴장 \n",
      "\n"
     ]
    }
   ],
   "source": [
    "SCORE(predictions, test_labels)"
   ]
  },
  {
   "cell_type": "markdown",
   "metadata": {},
   "source": [
    "이상으로 포스팅을 마칩니다. 감사합니다."
   ]
  },
  {
   "cell_type": "code",
   "execution_count": null,
   "metadata": {},
   "outputs": [],
   "source": []
  }
 ],
 "metadata": {
  "kernelspec": {
   "display_name": "Python 3.7.7 64-bit ('gpu_test': conda)",
   "language": "python",
   "name": "python37764bitgputestconda7b0bbf327036479ea1f0b0ead33b8789"
  },
  "language_info": {
   "codemirror_mode": {
    "name": "ipython",
    "version": 3
   },
   "file_extension": ".py",
   "mimetype": "text/x-python",
   "name": "python",
   "nbconvert_exporter": "python",
   "pygments_lexer": "ipython3",
   "version": "3.7.7"
  }
 },
 "nbformat": 4,
 "nbformat_minor": 4
}
