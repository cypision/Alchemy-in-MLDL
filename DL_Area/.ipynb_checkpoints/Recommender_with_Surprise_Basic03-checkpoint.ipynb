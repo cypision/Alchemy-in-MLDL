{
 "cells": [
  {
   "cell_type": "markdown",
   "metadata": {},
   "source": [
    "---\n",
    "title:  \"Recommendation Basic03\"\n",
    "excerpt: \"Recommendation system using surprise library\"\n",
    "\n",
    "categories:\n",
    "  - Machine-Learning\n",
    "tags:\n",
    "  - ML  \n",
    "  - surprise  \n",
    "  - Medium/susanli\n",
    "  - Recommendation\n",
    "last_modified_at: 2020-03-10T18:06:00-05:00\n",
    "---"
   ]
  },
  {
   "cell_type": "markdown",
   "metadata": {},
   "source": [
    "추천 시스템에서 유명한 library 는 surprise 이다. 워낙 유명하나, 개인적으로 한번 밖에 해본적이 없어서,  \n",
    "기억이 가물거리는 관계로 남긴다. Basic 01 에 배경설명 등이 있고, 이어지는 post 이다\n",
    "> 1. CF, latent matrix 를 활용한다.  \n",
    "> 2. [Medium susanLi](https://towardsdatascience.com/building-and-testing-recommender-systems-with-surprise-step-by-step-d4ba702ef80b)  \n",
    "> 3. [SusanLi github](https://github.com/susanli2016/Machine-Learning-with-Python/blob/master/Building%20Recommender%20System%20with%20Surprise.ipynb)\n",
    "> 4. [나름 추천 잘하는 사람일것 같은 사람의 github](https://github.com/bigsnarfdude/guide-to-data-mining)\n",
    "> 5. [Naber Lab Reseacher 초고수](http://sanghyukchun.github.io/31/)"
   ]
  },
  {
   "cell_type": "code",
   "execution_count": 1,
   "metadata": {},
   "outputs": [],
   "source": [
    "import pandas as pd\n",
    "import numpy as np"
   ]
  },
  {
   "cell_type": "markdown",
   "metadata": {},
   "source": [
    "[surprise 공식문서 링크](https://surprise.readthedocs.io/en/stable/)"
   ]
  },
  {
   "cell_type": "code",
   "execution_count": 2,
   "metadata": {},
   "outputs": [],
   "source": [
    "user = pd.read_csv('D:/★2020_ML_DL_Project/Alchemy/dataset/BX-Users.csv', sep=';', error_bad_lines=False, encoding=\"latin-1\")\n",
    "user.columns = ['userID', 'Location', 'Age']\n",
    "rating = pd.read_csv('D:/★2020_ML_DL_Project/Alchemy/dataset/BX-Book-Ratings.csv', sep=';', error_bad_lines=False, encoding=\"latin-1\")\n",
    "rating.columns = ['userID', 'ISBN', 'bookRating']"
   ]
  },
  {
   "cell_type": "code",
   "execution_count": 3,
   "metadata": {},
   "outputs": [],
   "source": [
    "df = pd.merge(user, rating, on='userID', how='inner') ## inner join 했지만, 딱히 줄어들거나, 변경된것은 없는 듯.\n",
    "df.drop(['Location', 'Age'], axis=1, inplace=True)"
   ]
  },
  {
   "cell_type": "code",
   "execution_count": 4,
   "metadata": {},
   "outputs": [
    {
     "name": "stdout",
     "output_type": "stream",
     "text": [
      "(1149779, 3)\n"
     ]
    },
    {
     "data": {
      "text/html": [
       "<div>\n",
       "<style scoped>\n",
       "    .dataframe tbody tr th:only-of-type {\n",
       "        vertical-align: middle;\n",
       "    }\n",
       "\n",
       "    .dataframe tbody tr th {\n",
       "        vertical-align: top;\n",
       "    }\n",
       "\n",
       "    .dataframe thead th {\n",
       "        text-align: right;\n",
       "    }\n",
       "</style>\n",
       "<table border=\"1\" class=\"dataframe\">\n",
       "  <thead>\n",
       "    <tr style=\"text-align: right;\">\n",
       "      <th></th>\n",
       "      <th>userID</th>\n",
       "      <th>ISBN</th>\n",
       "      <th>bookRating</th>\n",
       "    </tr>\n",
       "  </thead>\n",
       "  <tbody>\n",
       "    <tr>\n",
       "      <th>0</th>\n",
       "      <td>2</td>\n",
       "      <td>0195153448</td>\n",
       "      <td>0</td>\n",
       "    </tr>\n",
       "    <tr>\n",
       "      <th>1</th>\n",
       "      <td>7</td>\n",
       "      <td>034542252</td>\n",
       "      <td>0</td>\n",
       "    </tr>\n",
       "    <tr>\n",
       "      <th>2</th>\n",
       "      <td>8</td>\n",
       "      <td>0002005018</td>\n",
       "      <td>5</td>\n",
       "    </tr>\n",
       "  </tbody>\n",
       "</table>\n",
       "</div>"
      ],
      "text/plain": [
       "   userID        ISBN  bookRating\n",
       "0       2  0195153448           0\n",
       "1       7   034542252           0\n",
       "2       8  0002005018           5"
      ]
     },
     "execution_count": 4,
     "metadata": {},
     "output_type": "execute_result"
    }
   ],
   "source": [
    "print(df.shape)\n",
    "df.head(3) ## 별차이 없네..그냥 rating 데이터 하나만 써도 될듯 1149779"
   ]
  },
  {
   "cell_type": "markdown",
   "metadata": {},
   "source": [
    "__본격 EDA__  \n",
    "Rating Distribution\n",
    "이미 이전 포스팅에서 다루었으니, 생략한다."
   ]
  },
  {
   "cell_type": "code",
   "execution_count": 5,
   "metadata": {},
   "outputs": [],
   "source": [
    "import matplotlib.pyplot as plt\n",
    "import seaborn as sns\n",
    "%matplotlib inline\n",
    "sns.set(style=\"white\", context=\"talk\")"
   ]
  },
  {
   "cell_type": "markdown",
   "metadata": {},
   "source": [
    "대략 62%에 달하는 user 들이 rating에 0 점을 부여했다. 이 0점은 과연 book 평점을 최악을 준걸까? 아니면, 평점 자체를 달지 않은걸까? 어떻게 봐야하나?"
   ]
  },
  {
   "cell_type": "markdown",
   "metadata": {},
   "source": [
    "책별로, 평점이 가장 많이 달린걸 보자면..."
   ]
  },
  {
   "cell_type": "code",
   "execution_count": 6,
   "metadata": {},
   "outputs": [
    {
     "name": "stdout",
     "output_type": "stream",
     "text": [
      "The original data frame shape:\t(1149779, 3)\n",
      "The new data frame shape:\t(140516, 3)\n"
     ]
    }
   ],
   "source": [
    "min_book_ratings = 50\n",
    "filter_books = df['ISBN'].value_counts() > min_book_ratings  ## 50보다 큰 ISBN 번호들만 남긴다. \n",
    "filter_books = filter_books[filter_books].index.tolist() ## 평점 50개 달린,(또는 그이상)되는 책들만, 리스트화 한다.\n",
    "\n",
    "min_user_ratings = 50\n",
    "filter_users = df['userID'].value_counts() > min_user_ratings\n",
    "filter_users = filter_users[filter_users].index.tolist()\n",
    "\n",
    "df_new = df[(df['ISBN'].isin(filter_books)) & (df['userID'].isin(filter_users))] ## 최소 충족요건을 만족한 data 들만, 추려서 들고온다.\n",
    "print('The original data frame shape:\\t{}'.format(df.shape))\n",
    "print('The new data frame shape:\\t{}'.format(df_new.shape))"
   ]
  },
  {
   "cell_type": "code",
   "execution_count": 7,
   "metadata": {},
   "outputs": [
    {
     "data": {
      "text/html": [
       "<div>\n",
       "<style scoped>\n",
       "    .dataframe tbody tr th:only-of-type {\n",
       "        vertical-align: middle;\n",
       "    }\n",
       "\n",
       "    .dataframe tbody tr th {\n",
       "        vertical-align: top;\n",
       "    }\n",
       "\n",
       "    .dataframe thead th {\n",
       "        text-align: right;\n",
       "    }\n",
       "</style>\n",
       "<table border=\"1\" class=\"dataframe\">\n",
       "  <thead>\n",
       "    <tr style=\"text-align: right;\">\n",
       "      <th></th>\n",
       "      <th>userID</th>\n",
       "      <th>ISBN</th>\n",
       "      <th>bookRating</th>\n",
       "    </tr>\n",
       "  </thead>\n",
       "  <tbody>\n",
       "    <tr>\n",
       "      <th>394</th>\n",
       "      <td>243</td>\n",
       "      <td>0060915544</td>\n",
       "      <td>10</td>\n",
       "    </tr>\n",
       "    <tr>\n",
       "      <th>395</th>\n",
       "      <td>243</td>\n",
       "      <td>0060977493</td>\n",
       "      <td>7</td>\n",
       "    </tr>\n",
       "    <tr>\n",
       "      <th>397</th>\n",
       "      <td>243</td>\n",
       "      <td>0156006529</td>\n",
       "      <td>0</td>\n",
       "    </tr>\n",
       "    <tr>\n",
       "      <th>400</th>\n",
       "      <td>243</td>\n",
       "      <td>0316096199</td>\n",
       "      <td>0</td>\n",
       "    </tr>\n",
       "    <tr>\n",
       "      <th>401</th>\n",
       "      <td>243</td>\n",
       "      <td>0316601950</td>\n",
       "      <td>9</td>\n",
       "    </tr>\n",
       "  </tbody>\n",
       "</table>\n",
       "</div>"
      ],
      "text/plain": [
       "     userID        ISBN  bookRating\n",
       "394     243  0060915544          10\n",
       "395     243  0060977493           7\n",
       "397     243  0156006529           0\n",
       "400     243  0316096199           0\n",
       "401     243  0316601950           9"
      ]
     },
     "execution_count": 7,
     "metadata": {},
     "output_type": "execute_result"
    }
   ],
   "source": [
    "df_new.head()"
   ]
  },
  {
   "cell_type": "markdown",
   "metadata": {},
   "source": [
    "__진짜 Surprise library 사용하기__"
   ]
  },
  {
   "cell_type": "code",
   "execution_count": 8,
   "metadata": {},
   "outputs": [],
   "source": [
    "from surprise import Reader\n",
    "from surprise import Dataset\n",
    "## Dataset 모듈에서, Reader class를 param으로 사용한다.\n",
    "reader = Reader(rating_scale=(0, 9)) ## 실제 data 는 0~10 까지인데...왜 susan li 는 0~9 로 했을까? --> 이상하지만, 10점은 그래도 10점으로 변환된 값을 가지고 있따.\n",
    "## (rating_scale=(0, 10) 으로 해도 크게 달라지는 건 없다.\n",
    "s_data = Dataset.load_from_df(df_new[['userID', 'ISBN', 'bookRating']], reader)"
   ]
  },
  {
   "cell_type": "code",
   "execution_count": 9,
   "metadata": {},
   "outputs": [],
   "source": [
    "## train test 셋으로 나누어서 해보기\n",
    "from surprise import model_selection\n",
    "s_data_train, s_data_test = model_selection.train_test_split(data=s_data,test_size=0.2,random_state=42,shuffle=True)"
   ]
  },
  {
   "cell_type": "code",
   "execution_count": 10,
   "metadata": {},
   "outputs": [],
   "source": [
    "from surprise import accuracy"
   ]
  },
  {
   "cell_type": "markdown",
   "metadata": {},
   "source": [
    "We use rmse as our accuracy metric for the predictions."
   ]
  },
  {
   "cell_type": "markdown",
   "metadata": {},
   "source": [
    "https://surprise.readthedocs.io/en/stable/prediction_algorithms_package.html 상세한 설명은 여기에"
   ]
  },
  {
   "cell_type": "markdown",
   "metadata": {},
   "source": [
    "여기서부터는 surprise의 여러 알고리즘이 등장하는데, Susan Li 의 설명을 보고도 몰라서, 그냥 내가 하나하나 정리하면서, 올린다."
   ]
  },
  {
   "cell_type": "markdown",
   "metadata": {},
   "source": [
    "Basic01 post 에 남겼다.  \n",
    "하기는 수식 notaion에 대한 설명"
   ]
  },
  {
   "attachments": {
    "image.png": {
     "image/png": "[encoded data removed]"
    }
   },
   "cell_type": "markdown",
   "metadata": {},
   "source": [
    "![image.png](attachment:image.png)"
   ]
  },
  {
   "cell_type": "markdown",
   "metadata": {},
   "source": [
    "갑자기 기억이 안나서 찾아본다....  원본 : https://goofcode.github.io/similarity-measure  \n",
    "토막상식"
   ]
  },
  {
   "cell_type": "code",
   "execution_count": 11,
   "metadata": {},
   "outputs": [
    {
     "data": {
      "text/plain": [
       "10     8778\n",
       "9      7966\n",
       "8     10381\n",
       "7      6694\n",
       "6      2917\n",
       "Name: bookRating, dtype: int64"
      ]
     },
     "execution_count": 11,
     "metadata": {},
     "output_type": "execute_result"
    }
   ],
   "source": [
    "df_new.bookRating.value_counts().sort_index(ascending=False)[0:5]"
   ]
  },
  {
   "cell_type": "markdown",
   "metadata": {},
   "source": [
    "# Basic algorithms  \n",
    "- NormalPredictor / BaselineOnly\n",
    "- 이전 POST 참고"
   ]
  },
  {
   "cell_type": "markdown",
   "metadata": {},
   "source": [
    "# k-NN algorithms  \n",
    "- KNNBasic / KNNWithMeans /**KNNBaseline**\n",
    "- 이전 POST 참고"
   ]
  },
  {
   "cell_type": "markdown",
   "metadata": {},
   "source": [
    "[학문적 이해에 대해 탁월한 주소](http://sanghyukchun.github.io/31/)"
   ]
  },
  {
   "cell_type": "markdown",
   "metadata": {},
   "source": [
    "# Matrix Factorization-based algorithms\n",
    "**SVD**\n",
    "- SVD algorithm is equivalent to Probabilistic Matrix Factorization (http://papers.nips.cc/paper/3208-probabilistic-matrix-factorization.pdf)\n",
    "- 제일 유명한 알고리즘이며, Netflix Prize에서 처음 선보였다. \n",
    "- 단일 알고리즘으로는 가장 우수한 성능을 낸다고 알려져있다."
   ]
  },
  {
   "attachments": {
    "image.png": {
     "image/png": "[encoded data removed]"
    }
   },
   "cell_type": "markdown",
   "metadata": {},
   "source": [
    "![image.png](attachment:image.png)"
   ]
  },
  {
   "cell_type": "markdown",
   "metadata": {},
   "source": [
    "유명한 이론이기고 나에게는 어렵기에 상세히는 별도 문서를 찾아볼 것을 권한다. 일단 나를 위해 기록을 남기자면, 위의 공식은 surprise 에 document에 있는 내용이다.  \n",
    "그런, 이것만으로는 어뜻 이해가 가지 않는다. 실제 SVD  = Sigular Value Decomposition 부터 이해하고, 접근하기게 나은 방법이다. (https://darkpgmr.tistory.com/106)\n",
    "- R = P.Q (원 matrix 가 R 이면, 이는 P.Q 로도 분해될 수 있다. "
   ]
  },
  {
   "cell_type": "markdown",
   "metadata": {},
   "source": [
    "**고유값 분해정의**"
   ]
  },
  {
   "attachments": {
    "image.png": {
     "image/png": "[encoded data removed]"
    }
   },
   "cell_type": "markdown",
   "metadata": {},
   "source": [
    "![image.png](attachment:image.png)"
   ]
  },
  {
   "attachments": {
    "image.png": {
     "image/png": "[encoded data removed]"
    }
   },
   "cell_type": "markdown",
   "metadata": {},
   "source": [
    "![image.png](attachment:image.png)"
   ]
  },
  {
   "cell_type": "markdown",
   "metadata": {},
   "source": [
    "**SVD 수학적 정의**"
   ]
  },
  {
   "attachments": {
    "image.png": {
     "image/png": "[encoded data removed]"
    }
   },
   "cell_type": "markdown",
   "metadata": {},
   "source": [
    "![image.png](attachment:image.png)"
   ]
  },
  {
   "cell_type": "markdown",
   "metadata": {},
   "source": [
    "비유하자면, A 가 m*n 행렬 (유저-아템-rating) 매트릭스라고 생각하면 된다.\n",
    "\n",
    "이를 풀이하면, A는 직교행렬이기에 바로 eigen-vector-decomposition이 되지 못한다. 그래서, AAt 또는 AtA 로 정방행렬이 된 상태에서,  \n",
    "고유값 분해를 하게 된다.  \n",
    "(※ 정방행렬이 고유값 분해가 항상 가능한 것은 아니지만 대칭행렬은 항상 고유값 분해가 가능하며 더구나 직교행렬로 대각화가 가능함을 기억하자.)    \n",
    "그렇게 되면, 상기처럼 고유값분해가 이루이고 그 와중에 U,V,∑ 이 정의된다.\n",
    "\n",
    "U : m*m 직교행렬 A의 left singular vector [= AA(transform) eigenvector] \n",
    "> AAt 를 고유값 분해하면, 식 (7) 처럼 U는 고육벡터, (∑∑t) 는 고유치 대각행렬 Ut 는 U역행렬 이다. (U는 직교행렬이기에 U역행렬=Ut 이다.)\n",
    "> P 는 AAt 의 고유벡터, ∧ 는 고유치 대각행렬이다.\n",
    "\n",
    "V : m*n 직사각 대각행렬 A의 right sigular vector [=(ATA의 eigenvector))]\n",
    "\n",
    "\n",
    "∑ : n*n 행렬 A의 고유값 대각행렬에 square root 를 씌운값  "
   ]
  },
  {
   "cell_type": "markdown",
   "metadata": {},
   "source": [
    "SVD 를 완전히, 상기 처럼, 수학정 정의에 의해서 분해하는 것을 full SVD 라고 하는데, 실상 python surprise 에 적용된 것과 같이, 실전에서는 Full SVD 를 사용하지 않는다.  \n",
    "어느정도 0이 아닌 고유값들만을 살린 행렬로 가져가는데,  \n",
    "Full SVD -> thin SVD -> Compat SVD -> Truncate SVD 로 축소해서, 원 A가 아닌 A' 로 근사해서 값을 해를 찾는다.  \n",
    "surprise에서도 엄밀히는 Truncate SVD 를 이용하고 있다.  그림으로 살펴보면"
   ]
  },
  {
   "attachments": {
    "image.png": {
     "image/png": "[encoded data removed]"
    }
   },
   "cell_type": "markdown",
   "metadata": {},
   "source": [
    "![image.png](attachment:image.png)"
   ]
  },
  {
   "cell_type": "markdown",
   "metadata": {},
   "source": [
    "다시, python surprise로 돌아와서, P,Q 의미를 생각하면,  \n",
    "P = U∑ , R = ∑tVt 란 생각이 든다. 왜냐하면, 최초에 R=n*m / P=n*k / Q=m*k 이 적절한 해석일 것이다.  \n",
    "아래의 SVD 클래스에서, 기본적으로, n_factors 의 요소가 k 를 의미한다. 얼마나 고유값 대각행렬을 결정할 (차원축소) 할 것이냐는 얘기이기도 하다"
   ]
  },
  {
   "cell_type": "code",
   "execution_count": 12,
   "metadata": {},
   "outputs": [],
   "source": [
    "from surprise.model_selection import cross_validate\n",
    "from surprise.model_selection import train_test_split"
   ]
  },
  {
   "cell_type": "code",
   "execution_count": 23,
   "metadata": {},
   "outputs": [],
   "source": [
    "from surprise import SVD,SVDpp,NMF\n",
    "\n",
    "algo = SVD(n_factors=150,\n",
    "           n_epochs=20,\n",
    "           biased=True, ## False 로 하면, Probabilistic Matrix Factorization 이론과 동일해진다. 즉, 정말 Sigular value decomposition 해 풀이로 들어간다.\n",
    "                       ## 이 의미는 True 일경우, baseline 의 개념이 결합이 되어, 목적함수가 정해지는 의미이다.\n",
    "           init_mean=0, ## The mean of the normal distribution for factor vectors initialization. Default is 0.\n",
    "           init_std_dev=0.1, ## The standard deviation of the normal distribution for factor vectors initialization. Default is 0.1.\n",
    "           lr_all=0.005, ## The learning rate for all parameters. Default is 0.005.\n",
    "           reg_all=0.02, ## The regularization term for all parameters. Default is 0.02.\n",
    "           lr_bu=None, ## The learning rate for bu. Takes precedence over lr_all if set. Default is None.\n",
    "           lr_bi=None, ##  The learning rate for bi. Takes precedence over lr_all if set. Default is None.\n",
    "           lr_pu=None, ## The learning rate for pu. Takes precedence over lr_all if set. Default is None.\n",
    "           lr_qi=None, ## The learning rate for qi. Takes precedence over lr_all if set. Default is None.\n",
    "           reg_bu=0.001, ##  The regularization term for bu. Takes precedence over reg_all if set. Default is None.\n",
    "           reg_bi=0.001, ## The regularization term for bi. Takes precedence over reg_all if set.(reg_all설정보다 우선한다.) Default is None.\n",
    "           reg_pu=0.001, ## The regularization term for pu. Takes precedence over reg_all if set. Default is None.\n",
    "           reg_qi=0.001, ## The regularization term for qi. Takes precedence over reg_all if set. Default is None.\n",
    "           random_state=None,verbose=False,)"
   ]
  },
  {
   "cell_type": "code",
   "execution_count": 24,
   "metadata": {},
   "outputs": [
    {
     "name": "stdout",
     "output_type": "stream",
     "text": [
      "[3.5485304  3.52974876 3.52158998]\n"
     ]
    }
   ],
   "source": [
    "results = cross_validate(algo, s_data, measures=['RMSE'], cv=3, verbose=False)     ## RMSE : 평균제곱근편차\n",
    "print(results['test_rmse'])"
   ]
  },
  {
   "cell_type": "markdown",
   "metadata": {},
   "source": [
    "상기 surprise 의 경우는 baseline 이론과도 결합되어 있다. 따라서, 조절해줘야 하는 hyper parameter 가 많다.  \n",
    "완전히 수학적의미로, 활용하려면, biased = Fasle 로 하면되는데. 논문에 따르면, 과하게 overfitting 되기 때문에, 선호되는 방법은 아니라고 하니...따라하자.  \n",
    "당연하겠지만, 정규화 term 을 넣은 상태로는 그닥 결과가 좋지 않다. default 로 했더니, 좀더 낫다...."
   ]
  },
  {
   "cell_type": "markdown",
   "metadata": {},
   "source": [
    "**SVDpp**  \n",
    "- The SVDpp algorithm is an extension of SVD that takes into account implicit ratings. \n",
    "- 수식이 이해가 잘 안간다...."
   ]
  },
  {
   "cell_type": "code",
   "execution_count": 25,
   "metadata": {},
   "outputs": [],
   "source": [
    "algo = SVDpp(n_factors=20,\n",
    "             n_epochs=20,\n",
    "             init_mean=0,\n",
    "             init_std_dev=0.1,\n",
    "             lr_all=0.007,\n",
    "             reg_all=0.01,\n",
    "             lr_bu=None,\n",
    "             lr_bi=None,\n",
    "             lr_pu=None,\n",
    "             lr_qi=None,\n",
    "             lr_yj=None,\n",
    "             reg_bu=None,\n",
    "             reg_bi=None,\n",
    "             reg_pu=None,\n",
    "             reg_qi=None,\n",
    "             reg_yj=None, ## – The regularization term for yj. Takes precedence over reg_all if set. Default is None.\n",
    "             random_state=None,verbose=False)"
   ]
  },
  {
   "cell_type": "code",
   "execution_count": 26,
   "metadata": {},
   "outputs": [
    {
     "name": "stdout",
     "output_type": "stream",
     "text": [
      "[3.83129776 3.83604476 3.84379468]\n"
     ]
    }
   ],
   "source": [
    "results = cross_validate(algo, s_data, measures=['RMSE'], cv=3, verbose=False)     ## RMSE : 평균제곱근편차\n",
    "print(results['test_rmse'])"
   ]
  },
  {
   "cell_type": "markdown",
   "metadata": {},
   "source": [
    "**NMF**  \n",
    "- NMF is a collaborative filtering algorithm based on Non-negative Matrix Factorization. It is very similar with SVD.\n",
    "- 이건 생략"
   ]
  },
  {
   "cell_type": "markdown",
   "metadata": {},
   "source": [
    "# Slope One  \n",
    "- Slope One is a straightforward implementation of the SlopeOne algorithm. (https://arxiv.org/abs/cs/0702144)\n",
    "- CF 알고리즘의 가장 단순한 형태. simulatiry 를 평균으로 구하는 방법이다."
   ]
  },
  {
   "cell_type": "code",
   "execution_count": 28,
   "metadata": {},
   "outputs": [
    {
     "name": "stdout",
     "output_type": "stream",
     "text": [
      "[3.47530464 3.47201827 3.46743209]\n"
     ]
    }
   ],
   "source": [
    "from surprise import SlopeOne\n",
    "from surprise import CoClustering\n",
    "algo = SlopeOne()\n",
    "results = cross_validate(algo, s_data, measures=['RMSE'], cv=3, verbose=False)     ## RMSE : 평균제곱근편차\n",
    "print(results['test_rmse'])"
   ]
  },
  {
   "cell_type": "markdown",
   "metadata": {},
   "source": [
    "# Co-clustering\n",
    "- Co-clustering is a collaborative filtering algorithm based on co-clustering (http://citeseerx.ist.psu.edu/viewdoc/download?doi=10.1.1.113.6458&rep=rep1&type=pdf) We use rmse as our accuracy metric for the predictions.\n",
    "- neigbor 를 설정할때 clustering 을 이용하는 방법이다"
   ]
  },
  {
   "cell_type": "code",
   "execution_count": 29,
   "metadata": {},
   "outputs": [
    {
     "name": "stdout",
     "output_type": "stream",
     "text": [
      "[3.53167786 3.53866095 3.53000255]\n"
     ]
    }
   ],
   "source": [
    "algo = CoClustering( n_cltr_u=5,n_cltr_i=5,\n",
    "                    n_epochs=20,random_state=None,verbose=False)\n",
    "results = cross_validate(algo, s_data, measures=['RMSE'], cv=3, verbose=False)     ## RMSE : 평균제곱근편차\n",
    "print(results['test_rmse'])"
   ]
  },
  {
   "cell_type": "markdown",
   "metadata": {},
   "source": [
    "모든 방법을 몇개는 건너띄고 살펴보았다. 현 data 에서, 어떤 방안을 사용할까를 고민해서, 모두 활용하기 위해 for 문으로 아래와 같이 실행한다."
   ]
  },
  {
   "cell_type": "code",
   "execution_count": 38,
   "metadata": {},
   "outputs": [
    {
     "name": "stdout",
     "output_type": "stream",
     "text": [
      "Wall time: 0 ns\n",
      "<surprise.prediction_algorithms.matrix_factorization.SVD object at 0x0000017421E6C9E8>\n",
      "<surprise.prediction_algorithms.matrix_factorization.SVDpp object at 0x0000017421E6CAC8>\n",
      "<surprise.prediction_algorithms.slope_one.SlopeOne object at 0x0000017421E6CA90>\n",
      "<surprise.prediction_algorithms.random_pred.NormalPredictor object at 0x0000017421E6CB00>\n",
      "<surprise.prediction_algorithms.knns.KNNBaseline object at 0x0000017421E6CB38>\n",
      "Estimating biases using als...\n",
      "Computing the msd similarity matrix...\n",
      "Done computing similarity matrix.\n",
      "Estimating biases using als...\n",
      "Computing the msd similarity matrix...\n",
      "Done computing similarity matrix.\n",
      "Estimating biases using als...\n",
      "Computing the msd similarity matrix...\n",
      "Done computing similarity matrix.\n",
      "<surprise.prediction_algorithms.knns.KNNBasic object at 0x0000017421E6CB70>\n",
      "Computing the msd similarity matrix...\n",
      "Done computing similarity matrix.\n",
      "Computing the msd similarity matrix...\n",
      "Done computing similarity matrix.\n",
      "Computing the msd similarity matrix...\n",
      "Done computing similarity matrix.\n",
      "<surprise.prediction_algorithms.knns.KNNWithMeans object at 0x0000017421E6CBA8>\n",
      "Computing the msd similarity matrix...\n",
      "Done computing similarity matrix.\n",
      "Computing the msd similarity matrix...\n",
      "Done computing similarity matrix.\n",
      "Computing the msd similarity matrix...\n",
      "Done computing similarity matrix.\n",
      "<surprise.prediction_algorithms.knns.KNNWithZScore object at 0x0000017421E6CBE0>\n",
      "Computing the msd similarity matrix...\n",
      "Done computing similarity matrix.\n",
      "Computing the msd similarity matrix...\n",
      "Done computing similarity matrix.\n",
      "Computing the msd similarity matrix...\n",
      "Done computing similarity matrix.\n",
      "<surprise.prediction_algorithms.baseline_only.BaselineOnly object at 0x0000017421E6CC18>\n",
      "Estimating biases using als...\n",
      "Estimating biases using als...\n",
      "Estimating biases using als...\n",
      "<surprise.prediction_algorithms.co_clustering.CoClustering object at 0x0000017421E6CC50>\n"
     ]
    }
   ],
   "source": [
    "## 모든 객체와 라이브러니는 surprise package 안에 있는 것을 사용한다.\n",
    "from surprise import NormalPredictor\n",
    "from surprise import KNNBasic\n",
    "from surprise import KNNWithMeans\n",
    "from surprise import KNNWithZScore\n",
    "from surprise import KNNBaseline\n",
    "from surprise import SVD\n",
    "from surprise import BaselineOnly\n",
    "from surprise import SVDpp\n",
    "from surprise import NMF\n",
    "benchmark = [] ## 무사통과 알고리즘 : \n",
    "# Iterate over all algorithms  ## 에러나는 알고리즘 NMF(),\n",
    "%time\n",
    "for algorithm in [ SVD(), SVDpp(), SlopeOne(), NormalPredictor(), KNNBaseline(), KNNBasic(), KNNWithMeans(), KNNWithZScore(), BaselineOnly(), CoClustering()]:\n",
    "    # Perform cross validation\n",
    "    print(algorithm)\n",
    "    results = cross_validate(algorithm, s_data, measures=['RMSE'], cv=3, verbose=False)     ## RMSE : 평균제곱근편차\n",
    "    \n",
    "    # Get results & append algorithm name\n",
    "    tmp = pd.DataFrame.from_dict(results).mean(axis=0)\n",
    "    tmp = tmp.append(pd.Series([str(algorithm).split(' ')[0].split('.')[-1]], index=['Algorithm']))\n",
    "    benchmark.append(tmp)"
   ]
  },
  {
   "cell_type": "markdown",
   "metadata": {},
   "source": [
    "의외로 결과가, 심플한 알고리즘에 속하는 baseline 이 좋게 나왔다...  \n",
    "latent matrix 쪽은 다소 baseline 보다는 약하게 나옴"
   ]
  },
  {
   "cell_type": "code",
   "execution_count": 40,
   "metadata": {},
   "outputs": [
    {
     "data": {
      "text/html": [
       "<div>\n",
       "<style scoped>\n",
       "    .dataframe tbody tr th:only-of-type {\n",
       "        vertical-align: middle;\n",
       "    }\n",
       "\n",
       "    .dataframe tbody tr th {\n",
       "        vertical-align: top;\n",
       "    }\n",
       "\n",
       "    .dataframe thead th {\n",
       "        text-align: right;\n",
       "    }\n",
       "</style>\n",
       "<table border=\"1\" class=\"dataframe\">\n",
       "  <thead>\n",
       "    <tr style=\"text-align: right;\">\n",
       "      <th></th>\n",
       "      <th>test_rmse</th>\n",
       "      <th>fit_time</th>\n",
       "      <th>test_time</th>\n",
       "    </tr>\n",
       "    <tr>\n",
       "      <th>Algorithm</th>\n",
       "      <th></th>\n",
       "      <th></th>\n",
       "      <th></th>\n",
       "    </tr>\n",
       "  </thead>\n",
       "  <tbody>\n",
       "    <tr>\n",
       "      <th>BaselineOnly</th>\n",
       "      <td>3.374667</td>\n",
       "      <td>0.192807</td>\n",
       "      <td>0.196814</td>\n",
       "    </tr>\n",
       "    <tr>\n",
       "      <th>CoClustering</th>\n",
       "      <td>3.472809</td>\n",
       "      <td>1.557530</td>\n",
       "      <td>0.258480</td>\n",
       "    </tr>\n",
       "    <tr>\n",
       "      <th>SlopeOne</th>\n",
       "      <td>3.476510</td>\n",
       "      <td>0.551533</td>\n",
       "      <td>3.308080</td>\n",
       "    </tr>\n",
       "    <tr>\n",
       "      <th>KNNWithMeans</th>\n",
       "      <td>3.482859</td>\n",
       "      <td>0.514802</td>\n",
       "      <td>4.464338</td>\n",
       "    </tr>\n",
       "    <tr>\n",
       "      <th>KNNBaseline</th>\n",
       "      <td>3.496288</td>\n",
       "      <td>0.654103</td>\n",
       "      <td>5.382493</td>\n",
       "    </tr>\n",
       "    <tr>\n",
       "      <th>KNNWithZScore</th>\n",
       "      <td>3.505984</td>\n",
       "      <td>0.609689</td>\n",
       "      <td>4.832343</td>\n",
       "    </tr>\n",
       "    <tr>\n",
       "      <th>SVD</th>\n",
       "      <td>3.543556</td>\n",
       "      <td>4.425603</td>\n",
       "      <td>0.290065</td>\n",
       "    </tr>\n",
       "    <tr>\n",
       "      <th>KNNBasic</th>\n",
       "      <td>3.727995</td>\n",
       "      <td>0.487108</td>\n",
       "      <td>4.100230</td>\n",
       "    </tr>\n",
       "    <tr>\n",
       "      <th>SVDpp</th>\n",
       "      <td>3.798871</td>\n",
       "      <td>105.043733</td>\n",
       "      <td>4.350798</td>\n",
       "    </tr>\n",
       "    <tr>\n",
       "      <th>NormalPredictor</th>\n",
       "      <td>4.681728</td>\n",
       "      <td>0.120685</td>\n",
       "      <td>0.270594</td>\n",
       "    </tr>\n",
       "  </tbody>\n",
       "</table>\n",
       "</div>"
      ],
      "text/plain": [
       "                 test_rmse    fit_time  test_time\n",
       "Algorithm                                        \n",
       "BaselineOnly      3.374667    0.192807   0.196814\n",
       "CoClustering      3.472809    1.557530   0.258480\n",
       "SlopeOne          3.476510    0.551533   3.308080\n",
       "KNNWithMeans      3.482859    0.514802   4.464338\n",
       "KNNBaseline       3.496288    0.654103   5.382493\n",
       "KNNWithZScore     3.505984    0.609689   4.832343\n",
       "SVD               3.543556    4.425603   0.290065\n",
       "KNNBasic          3.727995    0.487108   4.100230\n",
       "SVDpp             3.798871  105.043733   4.350798\n",
       "NormalPredictor   4.681728    0.120685   0.270594"
      ]
     },
     "execution_count": 40,
     "metadata": {},
     "output_type": "execute_result"
    }
   ],
   "source": [
    "surprise_results = pd.DataFrame(benchmark).set_index('Algorithm').sort_values('test_rmse')\n",
    "surprise_results"
   ]
  },
  {
   "cell_type": "code",
   "execution_count": 43,
   "metadata": {},
   "outputs": [
    {
     "name": "stdout",
     "output_type": "stream",
     "text": [
      "Using ALS\n",
      "Estimating biases using als...\n",
      "Estimating biases using als...\n",
      "Estimating biases using als...\n",
      "Estimating biases using als...\n",
      "RMSE: 3.3756\n"
     ]
    },
    {
     "data": {
      "text/plain": [
       "3.3755915082844634"
      ]
     },
     "execution_count": 43,
     "metadata": {},
     "output_type": "execute_result"
    }
   ],
   "source": [
    "print('Using ALS')\n",
    "bsl_options = {'method': 'als',\n",
    "               'n_epochs': 5,\n",
    "               'reg_u': 12,\n",
    "               'reg_i': 5\n",
    "               }\n",
    "algo = BaselineOnly(bsl_options=bsl_options)\n",
    "cross_validate(algo, s_data, measures=['RMSE'], cv=3, verbose=False)\n",
    "\n",
    "trainset, testset = train_test_split(s_data, test_size=0.25)\n",
    "algo = BaselineOnly(bsl_options=bsl_options)\n",
    "predictions = algo.fit(trainset).test(testset)\n",
    "accuracy.rmse(predictions)"
   ]
  },
  {
   "cell_type": "code",
   "execution_count": 44,
   "metadata": {},
   "outputs": [
    {
     "name": "stdout",
     "output_type": "stream",
     "text": [
      "BaselineOnly\n"
     ]
    }
   ],
   "source": [
    "trainset = algo.trainset ## fit 할때, 저장된다.\n",
    "print(algo.__class__.__name__)"
   ]
  },
  {
   "cell_type": "markdown",
   "metadata": {},
   "source": [
    "데이터 결과분석을 하기 위해, Susan Li 와 동일하게 실행해보면,"
   ]
  },
  {
   "cell_type": "code",
   "execution_count": 74,
   "metadata": {},
   "outputs": [],
   "source": [
    "def get_II(uid): ## 실제 user id 가 trainset 데이터셋에서, 어떤 raiting을 준, 책 갯수 (평점을 줬는지에 대한)\n",
    "    try:\n",
    "        return len(trainset.ur[trainset.to_inner_uid(uid)])\n",
    "    except ValueError: # user was not part of the trainset\n",
    "        return 0\n",
    "    \n",
    "def get_Ui(iid): ## trainset 에서 아이템별 '책'별로 얼마다 평점이 달려있는지 보는 갯수\n",
    "    try: \n",
    "        return len(trainset.ir[trainset.to_inner_iid(iid)])\n",
    "    except ValueError:\n",
    "        return 0"
   ]
  },
  {
   "cell_type": "code",
   "execution_count": 75,
   "metadata": {},
   "outputs": [
    {
     "name": "stdout",
     "output_type": "stream",
     "text": [
      "<class 'surprise.prediction_algorithms.predictions.Prediction'> \t user: 10819      item: 0671003755 r_ui = 0.00   est = 1.99   {'was_impossible': False}\n"
     ]
    }
   ],
   "source": [
    "print(type(predictions[0]),'\\t',predictions[20])\n",
    "## predictions[0] dictionary 처럼 사용할 수는 없다...그냥 tuple 처럼, 값이 나온다고 생각하고, DataFrame 으로 변경해야한다."
   ]
  },
  {
   "cell_type": "code",
   "execution_count": 76,
   "metadata": {},
   "outputs": [],
   "source": [
    "df = pd.DataFrame(predictions, columns=['uid', 'iid', 'rui', 'est', 'details'])\n",
    "df['Ii_cnt'] = df.uid.apply(get_II) ## 실제 user id 가 trainset 데이터셋에서, 어떤 raiting을 준, 책 갯수 (평점을 줬는지에 대한)\n",
    "df['Ui_cnt'] = df.iid.apply(get_Ui) ## trainset 에서 아이템별 '책'별로 얼마다 평점이 달려있는지 보는 갯수\n",
    "df['err'] = abs(df.est - df.rui)"
   ]
  },
  {
   "cell_type": "code",
   "execution_count": 77,
   "metadata": {},
   "outputs": [
    {
     "data": {
      "text/html": [
       "<div>\n",
       "<style scoped>\n",
       "    .dataframe tbody tr th:only-of-type {\n",
       "        vertical-align: middle;\n",
       "    }\n",
       "\n",
       "    .dataframe tbody tr th {\n",
       "        vertical-align: top;\n",
       "    }\n",
       "\n",
       "    .dataframe thead th {\n",
       "        text-align: right;\n",
       "    }\n",
       "</style>\n",
       "<table border=\"1\" class=\"dataframe\">\n",
       "  <thead>\n",
       "    <tr style=\"text-align: right;\">\n",
       "      <th></th>\n",
       "      <th>uid</th>\n",
       "      <th>iid</th>\n",
       "      <th>rui</th>\n",
       "      <th>est</th>\n",
       "      <th>details</th>\n",
       "      <th>Ii_cnt</th>\n",
       "      <th>Ui_cnt</th>\n",
       "      <th>err</th>\n",
       "    </tr>\n",
       "  </thead>\n",
       "  <tbody>\n",
       "    <tr>\n",
       "      <th>0</th>\n",
       "      <td>31315</td>\n",
       "      <td>0802139256</td>\n",
       "      <td>0.0</td>\n",
       "      <td>2.564510</td>\n",
       "      <td>{'was_impossible': False}</td>\n",
       "      <td>246</td>\n",
       "      <td>48</td>\n",
       "      <td>2.564510</td>\n",
       "    </tr>\n",
       "    <tr>\n",
       "      <th>1</th>\n",
       "      <td>242073</td>\n",
       "      <td>0446608890</td>\n",
       "      <td>0.0</td>\n",
       "      <td>1.405207</td>\n",
       "      <td>{'was_impossible': False}</td>\n",
       "      <td>45</td>\n",
       "      <td>68</td>\n",
       "      <td>1.405207</td>\n",
       "    </tr>\n",
       "    <tr>\n",
       "      <th>2</th>\n",
       "      <td>227447</td>\n",
       "      <td>0446609617</td>\n",
       "      <td>0.0</td>\n",
       "      <td>0.384353</td>\n",
       "      <td>{'was_impossible': False}</td>\n",
       "      <td>315</td>\n",
       "      <td>38</td>\n",
       "      <td>0.384353</td>\n",
       "    </tr>\n",
       "    <tr>\n",
       "      <th>3</th>\n",
       "      <td>196077</td>\n",
       "      <td>0440204887</td>\n",
       "      <td>0.0</td>\n",
       "      <td>1.472857</td>\n",
       "      <td>{'was_impossible': False}</td>\n",
       "      <td>286</td>\n",
       "      <td>31</td>\n",
       "      <td>1.472857</td>\n",
       "    </tr>\n",
       "    <tr>\n",
       "      <th>4</th>\n",
       "      <td>49842</td>\n",
       "      <td>0553582747</td>\n",
       "      <td>0.0</td>\n",
       "      <td>2.458348</td>\n",
       "      <td>{'was_impossible': False}</td>\n",
       "      <td>19</td>\n",
       "      <td>63</td>\n",
       "      <td>2.458348</td>\n",
       "    </tr>\n",
       "  </tbody>\n",
       "</table>\n",
       "</div>"
      ],
      "text/plain": [
       "      uid         iid  rui       est                    details  Ii_cnt  \\\n",
       "0   31315  0802139256  0.0  2.564510  {'was_impossible': False}     246   \n",
       "1  242073  0446608890  0.0  1.405207  {'was_impossible': False}      45   \n",
       "2  227447  0446609617  0.0  0.384353  {'was_impossible': False}     315   \n",
       "3  196077  0440204887  0.0  1.472857  {'was_impossible': False}     286   \n",
       "4   49842  0553582747  0.0  2.458348  {'was_impossible': False}      19   \n",
       "\n",
       "   Ui_cnt       err  \n",
       "0      48  2.564510  \n",
       "1      68  1.405207  \n",
       "2      38  0.384353  \n",
       "3      31  1.472857  \n",
       "4      63  2.458348  "
      ]
     },
     "execution_count": 77,
     "metadata": {},
     "output_type": "execute_result"
    }
   ],
   "source": [
    "df.head()"
   ]
  },
  {
   "cell_type": "code",
   "execution_count": 78,
   "metadata": {},
   "outputs": [
    {
     "data": {
      "text/html": [
       "<div>\n",
       "<style scoped>\n",
       "    .dataframe tbody tr th:only-of-type {\n",
       "        vertical-align: middle;\n",
       "    }\n",
       "\n",
       "    .dataframe tbody tr th {\n",
       "        vertical-align: top;\n",
       "    }\n",
       "\n",
       "    .dataframe thead th {\n",
       "        text-align: right;\n",
       "    }\n",
       "</style>\n",
       "<table border=\"1\" class=\"dataframe\">\n",
       "  <thead>\n",
       "    <tr style=\"text-align: right;\">\n",
       "      <th></th>\n",
       "      <th>uid</th>\n",
       "      <th>iid</th>\n",
       "      <th>rui</th>\n",
       "      <th>est</th>\n",
       "      <th>details</th>\n",
       "      <th>Ii_cnt</th>\n",
       "      <th>Ui_cnt</th>\n",
       "      <th>err</th>\n",
       "    </tr>\n",
       "  </thead>\n",
       "  <tbody>\n",
       "    <tr>\n",
       "      <th>7</th>\n",
       "      <td>116758</td>\n",
       "      <td>0312195516</td>\n",
       "      <td>10.0</td>\n",
       "      <td>5.627643</td>\n",
       "      <td>{'was_impossible': False}</td>\n",
       "      <td>19</td>\n",
       "      <td>264</td>\n",
       "      <td>4.372357</td>\n",
       "    </tr>\n",
       "    <tr>\n",
       "      <th>15</th>\n",
       "      <td>18082</td>\n",
       "      <td>0440221471</td>\n",
       "      <td>8.0</td>\n",
       "      <td>2.612378</td>\n",
       "      <td>{'was_impossible': False}</td>\n",
       "      <td>25</td>\n",
       "      <td>171</td>\n",
       "      <td>5.387622</td>\n",
       "    </tr>\n",
       "    <tr>\n",
       "      <th>22</th>\n",
       "      <td>123981</td>\n",
       "      <td>0425121259</td>\n",
       "      <td>8.0</td>\n",
       "      <td>2.001490</td>\n",
       "      <td>{'was_impossible': False}</td>\n",
       "      <td>225</td>\n",
       "      <td>42</td>\n",
       "      <td>5.998510</td>\n",
       "    </tr>\n",
       "    <tr>\n",
       "      <th>25</th>\n",
       "      <td>165183</td>\n",
       "      <td>0060976845</td>\n",
       "      <td>10.0</td>\n",
       "      <td>4.094378</td>\n",
       "      <td>{'was_impossible': False}</td>\n",
       "      <td>25</td>\n",
       "      <td>187</td>\n",
       "      <td>5.905622</td>\n",
       "    </tr>\n",
       "    <tr>\n",
       "      <th>30</th>\n",
       "      <td>100459</td>\n",
       "      <td>037570504X</td>\n",
       "      <td>8.0</td>\n",
       "      <td>2.692422</td>\n",
       "      <td>{'was_impossible': False}</td>\n",
       "      <td>90</td>\n",
       "      <td>70</td>\n",
       "      <td>5.307578</td>\n",
       "    </tr>\n",
       "  </tbody>\n",
       "</table>\n",
       "</div>"
      ],
      "text/plain": [
       "       uid         iid   rui       est                    details  Ii_cnt  \\\n",
       "7   116758  0312195516  10.0  5.627643  {'was_impossible': False}      19   \n",
       "15   18082  0440221471   8.0  2.612378  {'was_impossible': False}      25   \n",
       "22  123981  0425121259   8.0  2.001490  {'was_impossible': False}     225   \n",
       "25  165183  0060976845  10.0  4.094378  {'was_impossible': False}      25   \n",
       "30  100459  037570504X   8.0  2.692422  {'was_impossible': False}      90   \n",
       "\n",
       "    Ui_cnt       err  \n",
       "7      264  4.372357  \n",
       "15     171  5.387622  \n",
       "22      42  5.998510  \n",
       "25     187  5.905622  \n",
       "30      70  5.307578  "
      ]
     },
     "execution_count": 78,
     "metadata": {},
     "output_type": "execute_result"
    }
   ],
   "source": [
    "df.loc[df.rui!=0,:].head() ## 일단, test 셋이니, 실제 rating 값과, est 값은 모두 나오게 된다."
   ]
  },
  {
   "cell_type": "code",
   "execution_count": 79,
   "metadata": {},
   "outputs": [],
   "source": [
    "best_predictions = df.sort_values(by='err')[:10] ## 제일 작은순으로, 앞에서부터 10 개\n",
    "worst_predictions = df.sort_values(by='err')[-10:] ## 제일 작은순으로 했을때 뒤에서 부터 10개"
   ]
  },
  {
   "cell_type": "code",
   "execution_count": 80,
   "metadata": {},
   "outputs": [
    {
     "data": {
      "text/html": [
       "<div>\n",
       "<style scoped>\n",
       "    .dataframe tbody tr th:only-of-type {\n",
       "        vertical-align: middle;\n",
       "    }\n",
       "\n",
       "    .dataframe tbody tr th {\n",
       "        vertical-align: top;\n",
       "    }\n",
       "\n",
       "    .dataframe thead th {\n",
       "        text-align: right;\n",
       "    }\n",
       "</style>\n",
       "<table border=\"1\" class=\"dataframe\">\n",
       "  <thead>\n",
       "    <tr style=\"text-align: right;\">\n",
       "      <th></th>\n",
       "      <th>uid</th>\n",
       "      <th>iid</th>\n",
       "      <th>rui</th>\n",
       "      <th>est</th>\n",
       "      <th>details</th>\n",
       "      <th>Ii_cnt</th>\n",
       "      <th>Ui_cnt</th>\n",
       "      <th>err</th>\n",
       "    </tr>\n",
       "  </thead>\n",
       "  <tbody>\n",
       "    <tr>\n",
       "      <th>9837</th>\n",
       "      <td>79942</td>\n",
       "      <td>0971880107</td>\n",
       "      <td>0.0</td>\n",
       "      <td>0.0</td>\n",
       "      <td>{'was_impossible': False}</td>\n",
       "      <td>23</td>\n",
       "      <td>627</td>\n",
       "      <td>0.0</td>\n",
       "    </tr>\n",
       "    <tr>\n",
       "      <th>7849</th>\n",
       "      <td>225810</td>\n",
       "      <td>0394742117</td>\n",
       "      <td>0.0</td>\n",
       "      <td>0.0</td>\n",
       "      <td>{'was_impossible': False}</td>\n",
       "      <td>214</td>\n",
       "      <td>30</td>\n",
       "      <td>0.0</td>\n",
       "    </tr>\n",
       "    <tr>\n",
       "      <th>28966</th>\n",
       "      <td>82926</td>\n",
       "      <td>0345386108</td>\n",
       "      <td>0.0</td>\n",
       "      <td>0.0</td>\n",
       "      <td>{'was_impossible': False}</td>\n",
       "      <td>40</td>\n",
       "      <td>65</td>\n",
       "      <td>0.0</td>\n",
       "    </tr>\n",
       "    <tr>\n",
       "      <th>28951</th>\n",
       "      <td>102967</td>\n",
       "      <td>0425172996</td>\n",
       "      <td>0.0</td>\n",
       "      <td>0.0</td>\n",
       "      <td>{'was_impossible': False}</td>\n",
       "      <td>396</td>\n",
       "      <td>45</td>\n",
       "      <td>0.0</td>\n",
       "    </tr>\n",
       "    <tr>\n",
       "      <th>7923</th>\n",
       "      <td>234623</td>\n",
       "      <td>0553585118</td>\n",
       "      <td>0.0</td>\n",
       "      <td>0.0</td>\n",
       "      <td>{'was_impossible': False}</td>\n",
       "      <td>242</td>\n",
       "      <td>29</td>\n",
       "      <td>0.0</td>\n",
       "    </tr>\n",
       "    <tr>\n",
       "      <th>28916</th>\n",
       "      <td>35050</td>\n",
       "      <td>0446607711</td>\n",
       "      <td>0.0</td>\n",
       "      <td>0.0</td>\n",
       "      <td>{'was_impossible': False}</td>\n",
       "      <td>126</td>\n",
       "      <td>81</td>\n",
       "      <td>0.0</td>\n",
       "    </tr>\n",
       "    <tr>\n",
       "      <th>7945</th>\n",
       "      <td>98741</td>\n",
       "      <td>0064405842</td>\n",
       "      <td>0.0</td>\n",
       "      <td>0.0</td>\n",
       "      <td>{'was_impossible': False}</td>\n",
       "      <td>239</td>\n",
       "      <td>30</td>\n",
       "      <td>0.0</td>\n",
       "    </tr>\n",
       "    <tr>\n",
       "      <th>8018</th>\n",
       "      <td>78783</td>\n",
       "      <td>0440224845</td>\n",
       "      <td>0.0</td>\n",
       "      <td>0.0</td>\n",
       "      <td>{'was_impossible': False}</td>\n",
       "      <td>356</td>\n",
       "      <td>38</td>\n",
       "      <td>0.0</td>\n",
       "    </tr>\n",
       "    <tr>\n",
       "      <th>8074</th>\n",
       "      <td>73394</td>\n",
       "      <td>0345447840</td>\n",
       "      <td>0.0</td>\n",
       "      <td>0.0</td>\n",
       "      <td>{'was_impossible': False}</td>\n",
       "      <td>234</td>\n",
       "      <td>58</td>\n",
       "      <td>0.0</td>\n",
       "    </tr>\n",
       "    <tr>\n",
       "      <th>8091</th>\n",
       "      <td>102967</td>\n",
       "      <td>0440201926</td>\n",
       "      <td>0.0</td>\n",
       "      <td>0.0</td>\n",
       "      <td>{'was_impossible': False}</td>\n",
       "      <td>396</td>\n",
       "      <td>47</td>\n",
       "      <td>0.0</td>\n",
       "    </tr>\n",
       "  </tbody>\n",
       "</table>\n",
       "</div>"
      ],
      "text/plain": [
       "          uid         iid  rui  est                    details  Ii_cnt  \\\n",
       "9837    79942  0971880107  0.0  0.0  {'was_impossible': False}      23   \n",
       "7849   225810  0394742117  0.0  0.0  {'was_impossible': False}     214   \n",
       "28966   82926  0345386108  0.0  0.0  {'was_impossible': False}      40   \n",
       "28951  102967  0425172996  0.0  0.0  {'was_impossible': False}     396   \n",
       "7923   234623  0553585118  0.0  0.0  {'was_impossible': False}     242   \n",
       "28916   35050  0446607711  0.0  0.0  {'was_impossible': False}     126   \n",
       "7945    98741  0064405842  0.0  0.0  {'was_impossible': False}     239   \n",
       "8018    78783  0440224845  0.0  0.0  {'was_impossible': False}     356   \n",
       "8074    73394  0345447840  0.0  0.0  {'was_impossible': False}     234   \n",
       "8091   102967  0440201926  0.0  0.0  {'was_impossible': False}     396   \n",
       "\n",
       "       Ui_cnt  err  \n",
       "9837      627  0.0  \n",
       "7849       30  0.0  \n",
       "28966      65  0.0  \n",
       "28951      45  0.0  \n",
       "7923       29  0.0  \n",
       "28916      81  0.0  \n",
       "7945       30  0.0  \n",
       "8018       38  0.0  \n",
       "8074       58  0.0  \n",
       "8091       47  0.0  "
      ]
     },
     "execution_count": 80,
     "metadata": {},
     "output_type": "execute_result"
    }
   ],
   "source": [
    "best_predictions"
   ]
  },
  {
   "cell_type": "code",
   "execution_count": 81,
   "metadata": {},
   "outputs": [
    {
     "data": {
      "text/html": [
       "<div>\n",
       "<style scoped>\n",
       "    .dataframe tbody tr th:only-of-type {\n",
       "        vertical-align: middle;\n",
       "    }\n",
       "\n",
       "    .dataframe tbody tr th {\n",
       "        vertical-align: top;\n",
       "    }\n",
       "\n",
       "    .dataframe thead th {\n",
       "        text-align: right;\n",
       "    }\n",
       "</style>\n",
       "<table border=\"1\" class=\"dataframe\">\n",
       "  <thead>\n",
       "    <tr style=\"text-align: right;\">\n",
       "      <th></th>\n",
       "      <th>uid</th>\n",
       "      <th>iid</th>\n",
       "      <th>rui</th>\n",
       "      <th>est</th>\n",
       "      <th>details</th>\n",
       "      <th>Ii_cnt</th>\n",
       "      <th>Ui_cnt</th>\n",
       "      <th>err</th>\n",
       "    </tr>\n",
       "  </thead>\n",
       "  <tbody>\n",
       "    <tr>\n",
       "      <th>33276</th>\n",
       "      <td>245827</td>\n",
       "      <td>0451183665</td>\n",
       "      <td>10.0</td>\n",
       "      <td>0.304337</td>\n",
       "      <td>{'was_impossible': False}</td>\n",
       "      <td>122</td>\n",
       "      <td>90</td>\n",
       "      <td>9.695663</td>\n",
       "    </tr>\n",
       "    <tr>\n",
       "      <th>12093</th>\n",
       "      <td>245864</td>\n",
       "      <td>0345409876</td>\n",
       "      <td>10.0</td>\n",
       "      <td>0.293552</td>\n",
       "      <td>{'was_impossible': False}</td>\n",
       "      <td>28</td>\n",
       "      <td>34</td>\n",
       "      <td>9.706448</td>\n",
       "    </tr>\n",
       "    <tr>\n",
       "      <th>31016</th>\n",
       "      <td>69697</td>\n",
       "      <td>0425183971</td>\n",
       "      <td>10.0</td>\n",
       "      <td>0.269747</td>\n",
       "      <td>{'was_impossible': False}</td>\n",
       "      <td>149</td>\n",
       "      <td>45</td>\n",
       "      <td>9.730253</td>\n",
       "    </tr>\n",
       "    <tr>\n",
       "      <th>10868</th>\n",
       "      <td>245963</td>\n",
       "      <td>0425170349</td>\n",
       "      <td>10.0</td>\n",
       "      <td>0.267484</td>\n",
       "      <td>{'was_impossible': False}</td>\n",
       "      <td>128</td>\n",
       "      <td>49</td>\n",
       "      <td>9.732516</td>\n",
       "    </tr>\n",
       "    <tr>\n",
       "      <th>6584</th>\n",
       "      <td>77940</td>\n",
       "      <td>0671027581</td>\n",
       "      <td>10.0</td>\n",
       "      <td>0.259088</td>\n",
       "      <td>{'was_impossible': False}</td>\n",
       "      <td>52</td>\n",
       "      <td>43</td>\n",
       "      <td>9.740912</td>\n",
       "    </tr>\n",
       "    <tr>\n",
       "      <th>17718</th>\n",
       "      <td>14521</td>\n",
       "      <td>0553269631</td>\n",
       "      <td>10.0</td>\n",
       "      <td>0.219905</td>\n",
       "      <td>{'was_impossible': False}</td>\n",
       "      <td>174</td>\n",
       "      <td>27</td>\n",
       "      <td>9.780095</td>\n",
       "    </tr>\n",
       "    <tr>\n",
       "      <th>31077</th>\n",
       "      <td>227447</td>\n",
       "      <td>0515132268</td>\n",
       "      <td>10.0</td>\n",
       "      <td>0.163739</td>\n",
       "      <td>{'was_impossible': False}</td>\n",
       "      <td>315</td>\n",
       "      <td>32</td>\n",
       "      <td>9.836261</td>\n",
       "    </tr>\n",
       "    <tr>\n",
       "      <th>12162</th>\n",
       "      <td>238120</td>\n",
       "      <td>0385413041</td>\n",
       "      <td>10.0</td>\n",
       "      <td>0.000000</td>\n",
       "      <td>{'was_impossible': False}</td>\n",
       "      <td>327</td>\n",
       "      <td>31</td>\n",
       "      <td>10.000000</td>\n",
       "    </tr>\n",
       "    <tr>\n",
       "      <th>8109</th>\n",
       "      <td>227447</td>\n",
       "      <td>055356773X</td>\n",
       "      <td>10.0</td>\n",
       "      <td>0.000000</td>\n",
       "      <td>{'was_impossible': False}</td>\n",
       "      <td>315</td>\n",
       "      <td>48</td>\n",
       "      <td>10.000000</td>\n",
       "    </tr>\n",
       "    <tr>\n",
       "      <th>20402</th>\n",
       "      <td>55548</td>\n",
       "      <td>0553278398</td>\n",
       "      <td>10.0</td>\n",
       "      <td>0.000000</td>\n",
       "      <td>{'was_impossible': False}</td>\n",
       "      <td>134</td>\n",
       "      <td>24</td>\n",
       "      <td>10.000000</td>\n",
       "    </tr>\n",
       "  </tbody>\n",
       "</table>\n",
       "</div>"
      ],
      "text/plain": [
       "          uid         iid   rui       est                    details  Ii_cnt  \\\n",
       "33276  245827  0451183665  10.0  0.304337  {'was_impossible': False}     122   \n",
       "12093  245864  0345409876  10.0  0.293552  {'was_impossible': False}      28   \n",
       "31016   69697  0425183971  10.0  0.269747  {'was_impossible': False}     149   \n",
       "10868  245963  0425170349  10.0  0.267484  {'was_impossible': False}     128   \n",
       "6584    77940  0671027581  10.0  0.259088  {'was_impossible': False}      52   \n",
       "17718   14521  0553269631  10.0  0.219905  {'was_impossible': False}     174   \n",
       "31077  227447  0515132268  10.0  0.163739  {'was_impossible': False}     315   \n",
       "12162  238120  0385413041  10.0  0.000000  {'was_impossible': False}     327   \n",
       "8109   227447  055356773X  10.0  0.000000  {'was_impossible': False}     315   \n",
       "20402   55548  0553278398  10.0  0.000000  {'was_impossible': False}     134   \n",
       "\n",
       "       Ui_cnt        err  \n",
       "33276      90   9.695663  \n",
       "12093      34   9.706448  \n",
       "31016      45   9.730253  \n",
       "10868      49   9.732516  \n",
       "6584       43   9.740912  \n",
       "17718      27   9.780095  \n",
       "31077      32   9.836261  \n",
       "12162      31  10.000000  \n",
       "8109       48  10.000000  \n",
       "20402      24  10.000000  "
      ]
     },
     "execution_count": 81,
     "metadata": {},
     "output_type": "execute_result"
    }
   ],
   "source": [
    "worst_predictions"
   ]
  },
  {
   "cell_type": "markdown",
   "metadata": {},
   "source": [
    "전체 성능을 3.374667 로 알고 있기에 이를 기준으로 판단해야 한다."
   ]
  },
  {
   "cell_type": "markdown",
   "metadata": {},
   "source": [
    "완전히 예측 rating 이 틀린 경우에 대해서 모델이 잘못되었다고 할 수 있을까? 예를 들어, 특정 책 0515132268 은 월등히 0 점 맞은 비율이 높은데,  \n",
    "실제로 227447 유저가 10점을 주었다는건....이 사람이 더 특이한 취양이 아닐까...약간 이상치 느낌이 아닐까란 생각을 하게 된다."
   ]
  },
  {
   "cell_type": "code",
   "execution_count": 82,
   "metadata": {},
   "outputs": [
    {
     "name": "stdout",
     "output_type": "stream",
     "text": [
      "(15, 8)\n"
     ]
    },
    {
     "data": {
      "text/plain": [
       "0.0     11\n",
       "10.0     1\n",
       "5.0      1\n",
       "8.0      1\n",
       "9.0      1\n",
       "Name: rui, dtype: int64"
      ]
     },
     "execution_count": 82,
     "metadata": {},
     "output_type": "execute_result"
    }
   ],
   "source": [
    "print(df.loc[df.iid=='0515132268',:].shape)\n",
    "df.loc[df.iid=='0515132268',:].rui.value_counts()"
   ]
  },
  {
   "cell_type": "code",
   "execution_count": 83,
   "metadata": {},
   "outputs": [
    {
     "data": {
      "text/html": [
       "<div>\n",
       "<style scoped>\n",
       "    .dataframe tbody tr th:only-of-type {\n",
       "        vertical-align: middle;\n",
       "    }\n",
       "\n",
       "    .dataframe tbody tr th {\n",
       "        vertical-align: top;\n",
       "    }\n",
       "\n",
       "    .dataframe thead th {\n",
       "        text-align: right;\n",
       "    }\n",
       "</style>\n",
       "<table border=\"1\" class=\"dataframe\">\n",
       "  <thead>\n",
       "    <tr style=\"text-align: right;\">\n",
       "      <th></th>\n",
       "      <th>uid</th>\n",
       "      <th>iid</th>\n",
       "      <th>rui</th>\n",
       "      <th>est</th>\n",
       "      <th>details</th>\n",
       "      <th>Ii_cnt</th>\n",
       "      <th>Ui_cnt</th>\n",
       "      <th>err</th>\n",
       "    </tr>\n",
       "  </thead>\n",
       "  <tbody>\n",
       "    <tr>\n",
       "      <th>350</th>\n",
       "      <td>11676</td>\n",
       "      <td>0515132268</td>\n",
       "      <td>9.0</td>\n",
       "      <td>4.399784</td>\n",
       "      <td>{'was_impossible': False}</td>\n",
       "      <td>1132</td>\n",
       "      <td>32</td>\n",
       "      <td>4.600216</td>\n",
       "    </tr>\n",
       "    <tr>\n",
       "      <th>4498</th>\n",
       "      <td>94923</td>\n",
       "      <td>0515132268</td>\n",
       "      <td>0.0</td>\n",
       "      <td>0.881753</td>\n",
       "      <td>{'was_impossible': False}</td>\n",
       "      <td>45</td>\n",
       "      <td>32</td>\n",
       "      <td>0.881753</td>\n",
       "    </tr>\n",
       "    <tr>\n",
       "      <th>5570</th>\n",
       "      <td>159033</td>\n",
       "      <td>0515132268</td>\n",
       "      <td>8.0</td>\n",
       "      <td>0.631298</td>\n",
       "      <td>{'was_impossible': False}</td>\n",
       "      <td>155</td>\n",
       "      <td>32</td>\n",
       "      <td>7.368702</td>\n",
       "    </tr>\n",
       "    <tr>\n",
       "      <th>6053</th>\n",
       "      <td>70065</td>\n",
       "      <td>0515132268</td>\n",
       "      <td>0.0</td>\n",
       "      <td>1.186498</td>\n",
       "      <td>{'was_impossible': False}</td>\n",
       "      <td>28</td>\n",
       "      <td>32</td>\n",
       "      <td>1.186498</td>\n",
       "    </tr>\n",
       "    <tr>\n",
       "      <th>7656</th>\n",
       "      <td>136382</td>\n",
       "      <td>0515132268</td>\n",
       "      <td>0.0</td>\n",
       "      <td>1.875635</td>\n",
       "      <td>{'was_impossible': False}</td>\n",
       "      <td>83</td>\n",
       "      <td>32</td>\n",
       "      <td>1.875635</td>\n",
       "    </tr>\n",
       "    <tr>\n",
       "      <th>7930</th>\n",
       "      <td>165319</td>\n",
       "      <td>0515132268</td>\n",
       "      <td>0.0</td>\n",
       "      <td>1.732530</td>\n",
       "      <td>{'was_impossible': False}</td>\n",
       "      <td>74</td>\n",
       "      <td>32</td>\n",
       "      <td>1.732530</td>\n",
       "    </tr>\n",
       "    <tr>\n",
       "      <th>12488</th>\n",
       "      <td>234597</td>\n",
       "      <td>0515132268</td>\n",
       "      <td>0.0</td>\n",
       "      <td>1.992210</td>\n",
       "      <td>{'was_impossible': False}</td>\n",
       "      <td>48</td>\n",
       "      <td>32</td>\n",
       "      <td>1.992210</td>\n",
       "    </tr>\n",
       "    <tr>\n",
       "      <th>18132</th>\n",
       "      <td>123095</td>\n",
       "      <td>0515132268</td>\n",
       "      <td>5.0</td>\n",
       "      <td>3.708091</td>\n",
       "      <td>{'was_impossible': False}</td>\n",
       "      <td>33</td>\n",
       "      <td>32</td>\n",
       "      <td>1.291909</td>\n",
       "    </tr>\n",
       "    <tr>\n",
       "      <th>21573</th>\n",
       "      <td>135351</td>\n",
       "      <td>0515132268</td>\n",
       "      <td>0.0</td>\n",
       "      <td>3.109227</td>\n",
       "      <td>{'was_impossible': False}</td>\n",
       "      <td>22</td>\n",
       "      <td>32</td>\n",
       "      <td>3.109227</td>\n",
       "    </tr>\n",
       "    <tr>\n",
       "      <th>22122</th>\n",
       "      <td>55492</td>\n",
       "      <td>0515132268</td>\n",
       "      <td>0.0</td>\n",
       "      <td>0.175138</td>\n",
       "      <td>{'was_impossible': False}</td>\n",
       "      <td>374</td>\n",
       "      <td>32</td>\n",
       "      <td>0.175138</td>\n",
       "    </tr>\n",
       "    <tr>\n",
       "      <th>25194</th>\n",
       "      <td>51450</td>\n",
       "      <td>0515132268</td>\n",
       "      <td>0.0</td>\n",
       "      <td>1.163447</td>\n",
       "      <td>{'was_impossible': False}</td>\n",
       "      <td>82</td>\n",
       "      <td>32</td>\n",
       "      <td>1.163447</td>\n",
       "    </tr>\n",
       "    <tr>\n",
       "      <th>26347</th>\n",
       "      <td>151589</td>\n",
       "      <td>0515132268</td>\n",
       "      <td>0.0</td>\n",
       "      <td>0.381658</td>\n",
       "      <td>{'was_impossible': False}</td>\n",
       "      <td>39</td>\n",
       "      <td>32</td>\n",
       "      <td>0.381658</td>\n",
       "    </tr>\n",
       "    <tr>\n",
       "      <th>26768</th>\n",
       "      <td>8936</td>\n",
       "      <td>0515132268</td>\n",
       "      <td>0.0</td>\n",
       "      <td>0.311826</td>\n",
       "      <td>{'was_impossible': False}</td>\n",
       "      <td>89</td>\n",
       "      <td>32</td>\n",
       "      <td>0.311826</td>\n",
       "    </tr>\n",
       "    <tr>\n",
       "      <th>31077</th>\n",
       "      <td>227447</td>\n",
       "      <td>0515132268</td>\n",
       "      <td>10.0</td>\n",
       "      <td>0.163739</td>\n",
       "      <td>{'was_impossible': False}</td>\n",
       "      <td>315</td>\n",
       "      <td>32</td>\n",
       "      <td>9.836261</td>\n",
       "    </tr>\n",
       "    <tr>\n",
       "      <th>32133</th>\n",
       "      <td>243930</td>\n",
       "      <td>0515132268</td>\n",
       "      <td>0.0</td>\n",
       "      <td>2.573211</td>\n",
       "      <td>{'was_impossible': False}</td>\n",
       "      <td>35</td>\n",
       "      <td>32</td>\n",
       "      <td>2.573211</td>\n",
       "    </tr>\n",
       "  </tbody>\n",
       "</table>\n",
       "</div>"
      ],
      "text/plain": [
       "          uid         iid   rui       est                    details  Ii_cnt  \\\n",
       "350     11676  0515132268   9.0  4.399784  {'was_impossible': False}    1132   \n",
       "4498    94923  0515132268   0.0  0.881753  {'was_impossible': False}      45   \n",
       "5570   159033  0515132268   8.0  0.631298  {'was_impossible': False}     155   \n",
       "6053    70065  0515132268   0.0  1.186498  {'was_impossible': False}      28   \n",
       "7656   136382  0515132268   0.0  1.875635  {'was_impossible': False}      83   \n",
       "7930   165319  0515132268   0.0  1.732530  {'was_impossible': False}      74   \n",
       "12488  234597  0515132268   0.0  1.992210  {'was_impossible': False}      48   \n",
       "18132  123095  0515132268   5.0  3.708091  {'was_impossible': False}      33   \n",
       "21573  135351  0515132268   0.0  3.109227  {'was_impossible': False}      22   \n",
       "22122   55492  0515132268   0.0  0.175138  {'was_impossible': False}     374   \n",
       "25194   51450  0515132268   0.0  1.163447  {'was_impossible': False}      82   \n",
       "26347  151589  0515132268   0.0  0.381658  {'was_impossible': False}      39   \n",
       "26768    8936  0515132268   0.0  0.311826  {'was_impossible': False}      89   \n",
       "31077  227447  0515132268  10.0  0.163739  {'was_impossible': False}     315   \n",
       "32133  243930  0515132268   0.0  2.573211  {'was_impossible': False}      35   \n",
       "\n",
       "       Ui_cnt       err  \n",
       "350        32  4.600216  \n",
       "4498       32  0.881753  \n",
       "5570       32  7.368702  \n",
       "6053       32  1.186498  \n",
       "7656       32  1.875635  \n",
       "7930       32  1.732530  \n",
       "12488      32  1.992210  \n",
       "18132      32  1.291909  \n",
       "21573      32  3.109227  \n",
       "22122      32  0.175138  \n",
       "25194      32  1.163447  \n",
       "26347      32  0.381658  \n",
       "26768      32  0.311826  \n",
       "31077      32  9.836261  \n",
       "32133      32  2.573211  "
      ]
     },
     "execution_count": 83,
     "metadata": {},
     "output_type": "execute_result"
    }
   ],
   "source": [
    "df.loc[df.iid=='0515132268',:]"
   ]
  },
  {
   "cell_type": "code",
   "execution_count": 91,
   "metadata": {},
   "outputs": [
    {
     "data": {
      "text/plain": [
       "1132"
      ]
     },
     "execution_count": 91,
     "metadata": {},
     "output_type": "execute_result"
    }
   ],
   "source": [
    "inner_uid = trainset.to_inner_uid(11676)\n",
    "len(trainset.ur[inner_uid]) ## return (item_inner_id, rating)"
   ]
  },
  {
   "cell_type": "markdown",
   "metadata": {},
   "source": [
    "틈틈이 update 예정  \n",
    "End"
   ]
  }
 ],
 "metadata": {
  "kernelspec": {
   "display_name": "Python 3",
   "language": "python",
   "name": "python3"
  },
  "language_info": {
   "codemirror_mode": {
    "name": "ipython",
    "version": 3
   },
   "file_extension": ".py",
   "mimetype": "text/x-python",
   "name": "python",
   "nbconvert_exporter": "python",
   "pygments_lexer": "ipython3",
   "version": "3.7.3"
  }
 },
 "nbformat": 4,
 "nbformat_minor": 4
}
