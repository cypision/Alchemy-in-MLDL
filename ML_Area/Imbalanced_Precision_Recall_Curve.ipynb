{
 "cells": [
  {
   "cell_type": "markdown",
   "metadata": {},
   "source": [
    "---\n",
    "title:  \"Precision Recall Curve\"  \n",
    "excerpt: \"Imbalanced Data\"  \n",
    "\n",
    "categories:  \n",
    "  - Machine-Learning  \n",
    "tags:  \n",
    "  - Measurement  \n",
    "  - Metric\n",
    "  - ROC  \n",
    "  - AUC  \n",
    "last_modified_at: 2020-06-02T15:00:00-05:00\n",
    "---"
   ]
  },
  {
   "cell_type": "markdown",
   "metadata": {},
   "source": [
    "## Reference  \n",
    "- [Medium Cory Maklin](https://towardsdatascience.com/machine-learning-clustering-dbscan-determine-the-optimal-value-for-epsilon-eps-python-example-3100091cfbc)\n",
    "\n",
    "DBSCAN tutorial은 상기 주소를 참조했습니다. "
   ]
  },
  {
   "cell_type": "code",
   "execution_count": 55,
   "metadata": {},
   "outputs": [],
   "source": [
    "## create an imbalanced dataset\n",
    "from sklearn.datasets import make_classification\n",
    "from sklearn.linear_model import LogisticRegression\n",
    "from sklearn.dummy import DummyClassifier\n",
    "from sklearn.model_selection import train_test_split\n",
    "from sklearn.metrics import roc_curve\n",
    "from sklearn.metrics import roc_auc_score\n",
    "from matplotlib import pyplot as plt\n",
    "import numpy as np\n",
    "import pandas as pd"
   ]
  },
  {
   "cell_type": "code",
   "execution_count": 37,
   "metadata": {},
   "outputs": [],
   "source": [
    "# numpy float 출력옵션 변경\n",
    "np.set_printoptions(formatter={'float_kind': lambda x: \"{0:0.6f}\".format(x)})"
   ]
  },
  {
   "cell_type": "code",
   "execution_count": 56,
   "metadata": {},
   "outputs": [],
   "source": [
    "# plot no skill and model roc curves\n",
    "def plot_roc_curve(test_y, naive_probs, model_probs,clf_name):\n",
    "    # plot naive skill roc curve\n",
    "    fpr, tpr, _ = roc_curve(test_y, naive_probs)\n",
    "    pyplot.plot(fpr, tpr, linestyle='--', label='No Skill')\n",
    "    # plot model roc curve\n",
    "    fpr, tpr, _ = roc_curve(test_y, model_probs)\n",
    "    pyplot.plot(fpr, tpr, marker='.', label=clf_name)\n",
    "    # axis labels\n",
    "    pyplot.xlabel('False Positive Rate')\n",
    "    pyplot.ylabel('True Positive Rate')\n",
    "    # show the legend\n",
    "    pyplot.legend()\n",
    "    # show the plot\n",
    "    pyplot.show()"
   ]
  },
  {
   "cell_type": "code",
   "execution_count": 39,
   "metadata": {},
   "outputs": [
    {
     "name": "stdout",
     "output_type": "stream",
     "text": [
      "Dataset: Class0=985, Class1=15\n",
      "Train: Class0=492, Class1=8\n",
      "Test: Class0=493, Class1=7\n"
     ]
    }
   ],
   "source": [
    "## generate 2 class dataset\n",
    "X, y = make_classification(n_samples=1000, n_classes=2, weights=[0.99, 0.01], random_state=1)\n",
    "# split into train/test sets with same class ratio\n",
    "trainX, testX, trainy, testy = train_test_split(X, y, test_size=0.5, random_state=2, stratify=y)\n",
    "# summarize dataset\n",
    "print('Dataset: Class0=%d, Class1=%d' % (len(y[y==0]), len(y[y==1])))\n",
    "print('Train: Class0=%d, Class1=%d' % (len(trainy[trainy==0]), len(trainy[trainy==1])))\n",
    "print('Test: Class0=%d, Class1=%d' % (len(testy[testy==0]), len(testy[testy==1])))"
   ]
  },
  {
   "cell_type": "code",
   "execution_count": 40,
   "metadata": {},
   "outputs": [
    {
     "name": "stdout",
     "output_type": "stream",
     "text": [
      "[[1.000000 0.000000]\n",
      " [1.000000 0.000000]\n",
      " [1.000000 0.000000]\n",
      " [1.000000 0.000000]\n",
      " [1.000000 0.000000]]\n",
      "No Skill ROC AUC 0.490\n"
     ]
    }
   ],
   "source": [
    "# no skill model, stratified random class predictions\n",
    "model = DummyClassifier(strategy='stratified')\n",
    "model.fit(trainX, trainy)\n",
    "yhat = model.predict_proba(testX)\n",
    "print(yhat[0:5])\n",
    "naive_probs = yhat[:, 1]\n",
    "# calculate roc auc\n",
    "roc_auc = roc_auc_score(testy, naive_probs)\n",
    "print('No Skill ROC AUC %.3f' % roc_auc)"
   ]
  },
  {
   "cell_type": "code",
   "execution_count": 41,
   "metadata": {},
   "outputs": [
    {
     "name": "stdout",
     "output_type": "stream",
     "text": [
      "(500, 2) \n",
      " [[0.957972 0.042028]\n",
      " [0.998611 0.001389]\n",
      " [0.993158 0.006842]\n",
      " [0.971323 0.028677]\n",
      " [0.999533 0.000467]]\n"
     ]
    }
   ],
   "source": [
    "# skilled model\n",
    "model = LogisticRegression(solver='lbfgs')\n",
    "model.fit(trainX, trainy)\n",
    "yhat = model.predict_proba(testX)\n",
    "print(yhat.shape,'\\n',yhat[0:5])"
   ]
  },
  {
   "cell_type": "code",
   "execution_count": 43,
   "metadata": {},
   "outputs": [
    {
     "name": "stdout",
     "output_type": "stream",
     "text": [
      "Logistic ROC AUC 0.869\n"
     ]
    }
   ],
   "source": [
    "model_probs = yhat[:, 1]\n",
    "# calculate roc auc\n",
    "roc_auc = roc_auc_score(testy, model_probs)\n",
    "print('Logistic ROC AUC %.3f' % roc_auc)"
   ]
  },
  {
   "cell_type": "code",
   "execution_count": 44,
   "metadata": {},
   "outputs": [
    {
     "data": {
      "image/png": "[encoded data removed]",
      "text/plain": [
       "<Figure size 432x288 with 1 Axes>"
      ]
     },
     "metadata": {
      "needs_background": "light"
     },
     "output_type": "display_data"
    }
   ],
   "source": [
    "# plot roc curves\n",
    "plot_roc_curve(testy, naive_probs, model_probs,clf_name='Logistic')"
   ]
  },
  {
   "cell_type": "markdown",
   "metadata": {},
   "source": [
    "시작에서 보았듯이, 이 data는 1% 만이 positive 한, 심각한 imbalanced data 이다.  \n",
    "위에는 랜덤분류기와 Logit분류기를 ROC-AUC Curve로 보여줬다.  \n",
    "이 imbalanced data를 다른 metice으로 평가해보자.  \n",
    "Precision-Recall Curve ~~ "
   ]
  },
  {
   "cell_type": "code",
   "execution_count": 45,
   "metadata": {},
   "outputs": [],
   "source": [
    "# pr curve and pr auc on an imbalanced dataset\n",
    "from sklearn.datasets import make_classification\n",
    "from sklearn.dummy import DummyClassifier\n",
    "from sklearn.linear_model import LogisticRegression\n",
    "from sklearn.model_selection import train_test_split\n",
    "from sklearn.metrics import precision_recall_curve\n",
    "from sklearn.metrics import auc\n",
    "from matplotlib import pyplot\n",
    " \n",
    "# plot no skill and model precision-recall curves\n",
    "def plot_pr_curve(test_y, model_probs,clf_name):\n",
    "    # calculate the no skill line as the proportion of the positive class\n",
    "    no_skill = len(test_y[test_y==1]) / len(test_y)\n",
    "    # plot the no skill precision-recall curve\n",
    "    pyplot.plot([0, 1], [no_skill, no_skill], linestyle='--', label='No Skill')\n",
    "    # plot model precision-recall curve\n",
    "    precision, recall, _ = precision_recall_curve(testy, model_probs)\n",
    "    pyplot.plot(recall, precision, marker='.', label=clf_name)\n",
    "    # axis labels\n",
    "    pyplot.xlabel('Recall')\n",
    "    pyplot.ylabel('Precision')\n",
    "    # show the legend\n",
    "    pyplot.legend()\n",
    "    # show the plot\n",
    "    pyplot.show()\n",
    " "
   ]
  },
  {
   "cell_type": "code",
   "execution_count": 46,
   "metadata": {},
   "outputs": [
    {
     "name": "stdout",
     "output_type": "stream",
     "text": [
      "[[1.000000 0.000000]\n",
      " [1.000000 0.000000]\n",
      " [1.000000 0.000000]\n",
      " [1.000000 0.000000]\n",
      " [1.000000 0.000000]]\n",
      "No Skill PR AUC: 0.007\n"
     ]
    }
   ],
   "source": [
    "# # generate 2 class dataset\n",
    "# X, y = make_classification(n_samples=1000, n_classes=2, weights=[0.99, 0.01], random_state=1)\n",
    "# # split into train/test sets with same class ratio\n",
    "# trainX, testX, trainy, testy = train_test_split(X, y, test_size=0.5, random_state=2, stratify=y)\n",
    "# # no skill model, stratified random class predictions\n",
    "model = DummyClassifier(strategy='stratified')\n",
    "model.fit(trainX, trainy)\n",
    "yhat = model.predict_proba(testX)\n",
    "print(yhat[0:5])\n",
    "naive_probs = yhat[:, 1]\n",
    "# calculate the precision-recall auc\n",
    "precision, recall, _ = precision_recall_curve(testy, naive_probs)\n",
    "auc_score = auc(recall, precision)\n",
    "print('No Skill PR AUC: %.3f' % auc_score)"
   ]
  },
  {
   "cell_type": "code",
   "execution_count": 47,
   "metadata": {},
   "outputs": [
    {
     "name": "stdout",
     "output_type": "stream",
     "text": [
      "(500, 2) \n",
      " [[0.957972 0.042028]\n",
      " [0.998611 0.001389]\n",
      " [0.993158 0.006842]\n",
      " [0.971323 0.028677]\n",
      " [0.999533 0.000467]]\n"
     ]
    }
   ],
   "source": [
    "# fit a model\n",
    "model = LogisticRegression(solver='lbfgs')\n",
    "model.fit(trainX, trainy)\n",
    "yhat = model.predict_proba(testX)\n",
    "print(yhat.shape,'\\n',yhat[0:5])\n",
    "model_probs = yhat[:, 1]"
   ]
  },
  {
   "cell_type": "code",
   "execution_count": 48,
   "metadata": {},
   "outputs": [
    {
     "name": "stdout",
     "output_type": "stream",
     "text": [
      "Logistic PR AUC: 0.228\n"
     ]
    },
    {
     "data": {
      "image/png": "[encoded data removed]",
      "text/plain": [
       "<Figure size 432x288 with 1 Axes>"
      ]
     },
     "metadata": {
      "needs_background": "light"
     },
     "output_type": "display_data"
    }
   ],
   "source": [
    "# calculate the precision-recall auc\n",
    "precision, recall, _ = precision_recall_curve(testy, model_probs)\n",
    "auc_score = auc(recall, precision)\n",
    "print('Logistic PR AUC: %.3f' % auc_score)\n",
    "# plot precision-recall curves\n",
    "plot_pr_curve(testy, model_probs,clf_name='Logistic')"
   ]
  },
  {
   "cell_type": "markdown",
   "metadata": {},
   "source": [
    "No Skill ROC AUC __0.563__ / Logistic ROC AUC __0.869__  \n",
    "\n",
    "No Skill PR AUC: __0.007__ / Logistic PR AUC: __0.228__  \n",
    "\n",
    "ROC_AUC 의 값이 전체적으로 후하다는 것을 알 수 있다. 이를 이해하기 위해서는 두 metic이 전달하고자 하는 의미를 이해하는 것이 중요하다.  \n",
    "\n",
    "**ROC_AUC : 모든 class 에 대한 종합적인 평가**  \n",
    "**PR AUC : Positive class 에 대한 평가 (즉 minor class)**  \n",
    "\n",
    "왜냐하면, Precision , Recall 값은 수식을 생각해보면 된다.  \n",
    "<span style='color:blue'>두 값 모두 TP가 분자이고, 분모는 TP+FP,TP+FN 으로 FN(여기서는 major class)에 대한 의미가 전달되지 않기 때문이다.</span>"
   ]
  },
  {
   "cell_type": "markdown",
   "metadata": {},
   "source": [
    "실제로 logistic이 도출한 결과를 보면, 대부분의 확률값은 0 으로 예측한다."
   ]
  },
  {
   "cell_type": "code",
   "execution_count": 13,
   "metadata": {},
   "outputs": [
    {
     "name": "stdout",
     "output_type": "stream",
     "text": [
      "Counter({0: 500})\n"
     ]
    }
   ],
   "source": [
    "from collections import Counter\n",
    "# predict class labels\n",
    "yhat = model.predict(testX)\n",
    "# summarize the distribution of class labels\n",
    "print(Counter(yhat))"
   ]
  },
  {
   "cell_type": "code",
   "execution_count": 17,
   "metadata": {},
   "outputs": [
    {
     "data": {
      "image/png": "[encoded data removed]",
      "text/plain": [
       "<Figure size 432x288 with 1 Axes>"
      ]
     },
     "metadata": {
      "needs_background": "light"
     },
     "output_type": "display_data"
    }
   ],
   "source": [
    "# create a histogram of the predicted probabilities\n",
    "yhat = model.predict(testX)\n",
    "pyplot.hist(model_probs, bins=100)\n",
    "pyplot.show()"
   ]
  },
  {
   "cell_type": "markdown",
   "metadata": {},
   "source": [
    "## 만약, balance option 을 사용한다면 어떨까?  \n",
    "\n",
    "상기에서는 from sklearn.linear_model import LogisticRegression 을 사용하였다. "
   ]
  },
  {
   "cell_type": "markdown",
   "metadata": {},
   "source": [
    "**일반 Logistic 결과 without class_weight='balanced' option**"
   ]
  },
  {
   "cell_type": "code",
   "execution_count": 21,
   "metadata": {},
   "outputs": [
    {
     "name": "stdout",
     "output_type": "stream",
     "text": [
      "(500, 2) \n",
      " [[0.957972 0.042028]\n",
      " [0.998611 0.001389]\n",
      " [0.993158 0.006842]\n",
      " [0.971323 0.028677]\n",
      " [0.999533 0.000467]]\n"
     ]
    }
   ],
   "source": [
    "## 비교를 위해서, 일반 logistic 모델결과를의 proba값만 0:5 를 보자면, 일단 많이 달라진 것을 알수있다.\n",
    "## class_weight='balanced' 없이 수행한 일반모델 결과 \n",
    "yhat = model.predict_proba(testX)\n",
    "print(yhat.shape,'\\n',yhat[0:5])"
   ]
  },
  {
   "cell_type": "markdown",
   "metadata": {},
   "source": [
    "**Logistic 결과 with class_weight='balanced' option**"
   ]
  },
  {
   "cell_type": "code",
   "execution_count": 20,
   "metadata": {},
   "outputs": [
    {
     "name": "stdout",
     "output_type": "stream",
     "text": [
      "(500, 2) \n",
      " [[0.126224 0.873776]\n",
      " [0.998063 0.001937]\n",
      " [0.855361 0.144639]\n",
      " [0.178640 0.821360]\n",
      " [0.999452 0.000548]]\n"
     ]
    }
   ],
   "source": [
    "# fit a model\n",
    "model_balance = LogisticRegression(solver='lbfgs',class_weight='balanced')\n",
    "model_balance.fit(trainX, trainy)\n",
    "yhat_bal = model_balance.predict_proba(testX)\n",
    "print(yhat_bal.shape,'\\n',yhat_bal[0:5])\n",
    "model_probs_balance = yhat_bal[:, 1]"
   ]
  },
  {
   "cell_type": "markdown",
   "metadata": {},
   "source": [
    "1,4 번째 값에 대해 class 1 로 분류가 바뀌었다."
   ]
  },
  {
   "cell_type": "code",
   "execution_count": 22,
   "metadata": {},
   "outputs": [
    {
     "name": "stdout",
     "output_type": "stream",
     "text": [
      "Logistic With class_weight option! ROC AUC 0.865\n"
     ]
    }
   ],
   "source": [
    "# calculate roc auc\n",
    "roc_auc = roc_auc_score(testy, model_probs_balance)\n",
    "print('Logistic With class_weight option! ROC AUC %.3f' % roc_auc)"
   ]
  },
  {
   "cell_type": "code",
   "execution_count": 50,
   "metadata": {},
   "outputs": [
    {
     "data": {
      "image/png": "[encoded data removed]",
      "text/plain": [
       "<Figure size 432x288 with 1 Axes>"
      ]
     },
     "metadata": {
      "needs_background": "light"
     },
     "output_type": "display_data"
    }
   ],
   "source": [
    "# plot roc curves\n",
    "plot_roc_curve(testy, naive_probs, model_probs_balance,clf_name='Logistic With class_weight')"
   ]
  },
  {
   "cell_type": "markdown",
   "metadata": {},
   "source": [
    "일단, <span style='color:blue'>**0.869 -> 0.865**</span> 로 다소 감소했다."
   ]
  },
  {
   "cell_type": "code",
   "execution_count": 51,
   "metadata": {},
   "outputs": [
    {
     "name": "stdout",
     "output_type": "stream",
     "text": [
      "Logistic With class_weight PR AUC: 0.075\n"
     ]
    },
    {
     "data": {
      "image/png": "[encoded data removed]",
      "text/plain": [
       "<Figure size 432x288 with 1 Axes>"
      ]
     },
     "metadata": {
      "needs_background": "light"
     },
     "output_type": "display_data"
    }
   ],
   "source": [
    "# calculate the precision-recall auc\n",
    "precision, recall, _ = precision_recall_curve(testy, model_probs_balance)\n",
    "auc_score = auc(recall, precision)\n",
    "print('Logistic With class_weight PR AUC: %.3f' % auc_score)\n",
    "# plot precision-recall curves\n",
    "plot_pr_curve(testy, model_probs_balance,clf_name='Logistic With class_weight')"
   ]
  },
  {
   "cell_type": "markdown",
   "metadata": {},
   "source": [
    "<span style='color:blue'>**0.228 -> 0.075**</span> 로 감소했다."
   ]
  },
  {
   "cell_type": "code",
   "execution_count": 25,
   "metadata": {},
   "outputs": [
    {
     "data": {
      "image/png": "[encoded data removed]",
      "text/plain": [
       "<Figure size 432x288 with 1 Axes>"
      ]
     },
     "metadata": {
      "needs_background": "light"
     },
     "output_type": "display_data"
    }
   ],
   "source": [
    "# create a histogram of the predicted probabilities\n",
    "pyplot.hist(model_probs_balance, bins=100)\n",
    "pyplot.show()"
   ]
  },
  {
   "cell_type": "markdown",
   "metadata": {},
   "source": [
    "balance 옵션을 사용한 분류기는 without balance 분류기와 비교했을때, 확실히, 다양한 확률값을 보여준다. 물론 0으로 예측하는 것이 많지만, 나아진것은 사실이다.  \n",
    "또한, ROC-AUC 든, PR-AUC 든 값이 낮아지며 특히 PR-AUC 값이 많이 낮아진다.  "
   ]
  },
  {
   "cell_type": "markdown",
   "metadata": {},
   "source": [
    "**Balance option doc**  \n",
    "- class_weightdict or ‘balanced’, default=None\n",
    "- Weights associated with classes in the form {class_label: weight}. If not given, all classes are supposed to have weight one.\n",
    "- The “balanced” mode uses the values of y to automatically adjust weights inversely proportional to class frequencies in the input data as n_samples / (n_classes * np.bincount(y)).\n",
    "\n",
    "- Note that these weights will be multiplied with sample_weight (passed through the fit method) if sample_weight is specified."
   ]
  },
  {
   "cell_type": "code",
   "execution_count": 31,
   "metadata": {},
   "outputs": [
    {
     "name": "stdout",
     "output_type": "stream",
     "text": [
      "500\n",
      "[493   7]\n"
     ]
    }
   ],
   "source": [
    "print(len(testy))\n",
    "print(np.bincount(testy))"
   ]
  },
  {
   "cell_type": "code",
   "execution_count": 28,
   "metadata": {},
   "outputs": [
    {
     "data": {
      "text/plain": [
       "array([0.507099, 35.714286])"
      ]
     },
     "execution_count": 28,
     "metadata": {},
     "output_type": "execute_result"
    }
   ],
   "source": [
    "n_classes = 2\n",
    "len(testy)/(n_classes*np.bincount(testy))"
   ]
  },
  {
   "cell_type": "markdown",
   "metadata": {},
   "source": [
    "## 정확한 비교를 위해, 다른 분류기를 사용해보자.  \n",
    "sklearn.ensemble.RandomForestClassifier"
   ]
  },
  {
   "cell_type": "code",
   "execution_count": 32,
   "metadata": {},
   "outputs": [],
   "source": [
    "from sklearn.ensemble import RandomForestClassifier"
   ]
  },
  {
   "cell_type": "code",
   "execution_count": 34,
   "metadata": {},
   "outputs": [],
   "source": [
    "rf_clf = RandomForestClassifier(max_depth=4, random_state=0,max_features='auto')\n",
    "rf_clf_balance = RandomForestClassifier(max_depth=4, random_state=0,max_features='auto',class_weight='balanced')"
   ]
  },
  {
   "cell_type": "code",
   "execution_count": 52,
   "metadata": {},
   "outputs": [
    {
     "name": "stdout",
     "output_type": "stream",
     "text": [
      "(500, 2) \n",
      " [[0.973005 0.026995]\n",
      " [0.993865 0.006135]\n",
      " [0.998253 0.001747]\n",
      " [0.983092 0.016908]\n",
      " [0.998115 0.001885]]\n",
      "(500, 2) \n",
      " [[0.820413 0.179587]\n",
      " [0.937295 0.062705]\n",
      " [0.980182 0.019818]\n",
      " [0.820003 0.179997]\n",
      " [0.982377 0.017623]]\n"
     ]
    }
   ],
   "source": [
    "rf_clf.fit(trainX, trainy)\n",
    "rf_yhat = rf_clf.predict_proba(testX)\n",
    "print(rf_yhat.shape,'\\n',rf_yhat[0:5])\n",
    "rf_yhat_pros = rf_yhat[:, 1]\n",
    "\n",
    "rf_clf_balance.fit(trainX, trainy)\n",
    "rf_yhat_balance = rf_clf_balance.predict_proba(testX)\n",
    "print(rf_yhat_balance.shape,'\\n',rf_yhat_balance[0:5])\n",
    "rf_yhat_bal_pros = rf_yhat_balance[:, 1]"
   ]
  },
  {
   "cell_type": "code",
   "execution_count": 53,
   "metadata": {},
   "outputs": [
    {
     "name": "stdout",
     "output_type": "stream",
     "text": [
      "RF Without class_weight option! ROC AUC 0.804\n",
      "RF With class_weight option! ROC AUC 0.767\n"
     ]
    }
   ],
   "source": [
    "# calculate roc auc\n",
    "roc_auc_rf = roc_auc_score(testy, rf_yhat_pros)\n",
    "print('RF Without class_weight option! ROC AUC %.3f' % roc_auc_rf)\n",
    "\n",
    "roc_auc02_rf_bal = roc_auc_score(testy, rf_yhat_bal_pros)\n",
    "print('RF With class_weight option! ROC AUC %.3f' % roc_auc02_rf_bal)"
   ]
  },
  {
   "cell_type": "code",
   "execution_count": 104,
   "metadata": {},
   "outputs": [],
   "source": [
    "# fig, axes = plt.subplots(nrows=1, ncols=2,figsize=(15, 8))\n",
    "# axes[0]\n",
    "# # axes[0]= plot_roc_curve(testy, naive_probs, rf_yhat_bal_pros,clf_name='RF With class_weight')\n",
    "# # axes[1]= plot_roc_curve(testy, naive_probs, rf_yhat_bal_pros,clf_name='RF Without class_weight')\n",
    "# # plot_roc_curve(testy, naive_probs, rf_yhat_bal_pros,clf_name='RF With class_weight')"
   ]
  },
  {
   "cell_type": "code",
   "execution_count": 108,
   "metadata": {},
   "outputs": [
    {
     "data": {
      "image/png": "[encoded data removed]",
      "text/plain": [
       "<Figure size 432x432 with 1 Axes>"
      ]
     },
     "metadata": {
      "needs_background": "light"
     },
     "output_type": "display_data"
    },
    {
     "data": {
      "image/png": "[encoded data removed]",
      "text/plain": [
       "<Figure size 432x432 with 1 Axes>"
      ]
     },
     "metadata": {
      "needs_background": "light"
     },
     "output_type": "display_data"
    }
   ],
   "source": [
    "# plot roc curves\n",
    "plt.figure(figsize=(6,6))\n",
    "plot_roc_curve(testy, naive_probs, rf_yhat_pros,clf_name='RF')\n",
    "\n",
    "plt.figure(figsize=(6,6))\n",
    "plot_roc_curve(testy, naive_probs, rf_yhat_bal_pros,clf_name='RF With class_weight')"
   ]
  },
  {
   "cell_type": "markdown",
   "metadata": {},
   "source": [
    "일단, <span style='color:blue'>**0.804 -> 0.767**</span> 로 다소 감소했다."
   ]
  },
  {
   "cell_type": "code",
   "execution_count": 106,
   "metadata": {},
   "outputs": [
    {
     "name": "stdout",
     "output_type": "stream",
     "text": [
      "RF PR AUC: 0.113\n",
      "RF With class-weight PR AUC: 0.065\n"
     ]
    }
   ],
   "source": [
    "# calculate the precision-recall auc\n",
    "precision, recall, _ = precision_recall_curve(testy, rf_yhat_pros)\n",
    "auc_score = auc(recall, precision)\n",
    "print('RF PR AUC: %.3f' % auc_score)\n",
    "\n",
    "precision, recall, _ = precision_recall_curve(testy, rf_yhat_bal_pros)\n",
    "auc_score = auc(recall, precision)\n",
    "print('RF With class-weight PR AUC: %.3f' % auc_score)"
   ]
  },
  {
   "cell_type": "code",
   "execution_count": 111,
   "metadata": {},
   "outputs": [
    {
     "data": {
      "image/png": "[encoded data removed]",
      "text/plain": [
       "<Figure size 432x432 with 1 Axes>"
      ]
     },
     "metadata": {
      "needs_background": "light"
     },
     "output_type": "display_data"
    },
    {
     "data": {
      "image/png": "[encoded data removed]",
      "text/plain": [
       "<Figure size 432x432 with 1 Axes>"
      ]
     },
     "metadata": {
      "needs_background": "light"
     },
     "output_type": "display_data"
    }
   ],
   "source": [
    "# plot precision-recall curves\n",
    "# plot roc curves\n",
    "plt.figure(figsize=(6,6))\n",
    "plot_pr_curve(testy, rf_yhat_pros,clf_name='RF')\n",
    "\n",
    "plt.figure(figsize=(6,6))\n",
    "plot_pr_curve(testy, rf_yhat_bal_pros,clf_name='RF With class_weight')"
   ]
  },
  {
   "cell_type": "markdown",
   "metadata": {},
   "source": [
    "<span style='color:blue'>**0.113 -> 0.065**</span> 로 다소 감소했다."
   ]
  },
  {
   "cell_type": "markdown",
   "metadata": {},
   "source": [
    "|Type     |Logit     | Logit Bal|RF        | RF Bal |\n",
    "|:--------|:--------:|:--------:|:--------:|:--------:|\n",
    "| ROC-AUC |0.869  |0.865 | 0.804 | 0.767|\n",
    "| PR-AUC |0.228  |  0.075 | 0.113 | 0.065|"
   ]
  },
  {
   "cell_type": "markdown",
   "metadata": {},
   "source": [
    "class_weight 옵션은 같은 모델에서는 값을 더 엄격히 낮아지게 하는데, 다른 모델간 비교에서는 큰 변화를 이끌어내지 못한다.  \n",
    "즉, \"A 모델 성능 > B 모델성능\" 이었는데, class_weight을 사용한다고 해서, \"A 모델 성능 < B 모델성능\" 으로 바뀌지는 않는다."
   ]
  },
  {
   "cell_type": "code",
   "execution_count": null,
   "metadata": {},
   "outputs": [],
   "source": []
  }
 ],
 "metadata": {
  "kernelspec": {
   "display_name": "Python 3",
   "language": "python",
   "name": "python3"
  },
  "language_info": {
   "codemirror_mode": {
    "name": "ipython",
    "version": 3
   },
   "file_extension": ".py",
   "mimetype": "text/x-python",
   "name": "python",
   "nbconvert_exporter": "python",
   "pygments_lexer": "ipython3",
   "version": "3.7.6"
  }
 },
 "nbformat": 4,
 "nbformat_minor": 4
}
