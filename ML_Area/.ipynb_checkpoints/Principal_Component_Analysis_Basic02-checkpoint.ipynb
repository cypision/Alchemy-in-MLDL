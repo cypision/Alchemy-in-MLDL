{
 "cells": [
  {
   "cell_type": "markdown",
   "metadata": {},
   "source": [
    "---\n",
    "title:  \"PCA의 원리와 SVD원리는 뭐가 다른 걸까\"\n",
    "excerpt: \"eigen decomposition vs sigular value decomposition\"\n",
    "\n",
    "categories:\n",
    "  - Machine-Learning\n",
    "tags:\n",
    "  - PCA\n",
    "  - EigenDecomposition\n",
    "  - Dimension reduction\n",
    "  - Feature extraction\n",
    "  - Singular Value Decomposition\n",
    "last_modified_at: 2020-08-15T10:15:00-05:00\n",
    "---"
   ]
  },
  {
   "cell_type": "markdown",
   "metadata": {},
   "source": [
    "## Principal component analysis  \n",
    "### reference  \n",
    "- PCA 개념관련_01 : https://ratsgo.github.io/from%20frequency%20to%20semantics/2017/04/06/pcasvdlsa/\n",
    "- PCA 개념관련_02 : https://darkpgmr.tistory.com/104\n",
    "- 코드관련 : StatQuest youtube - \"PCA in Python\" 을 참고하여 진행했다\n",
    "- 포아송분포관련 blog : https://blog.naver.com/PostView.nhn?blogId=mykepzzang&logNo=220840724901"
   ]
  },
  {
   "cell_type": "markdown",
   "metadata": {},
   "source": [
    "## Loding Library"
   ]
  },
  {
   "cell_type": "code",
   "execution_count": 1,
   "metadata": {},
   "outputs": [],
   "source": [
    "import pandas as pd\n",
    "import numpy as np\n",
    "import random as rd\n",
    "from sklearn.decomposition import PCA\n",
    "from sklearn import preprocessing\n",
    "import matplotlib.pyplot as plt # NOTE: This was tested with matplotlib v. 2.1.0"
   ]
  },
  {
   "cell_type": "code",
   "execution_count": 2,
   "metadata": {},
   "outputs": [
    {
     "name": "stdout",
     "output_type": "stream",
     "text": [
      "The scikit-learn version is 0.22.1.\n"
     ]
    }
   ],
   "source": [
    "import sklearn\n",
    "print('The scikit-learn version is {}.'.format(sklearn.__version__))"
   ]
  },
  {
   "cell_type": "markdown",
   "metadata": {},
   "source": [
    "## Data Generation Code"
   ]
  },
  {
   "cell_type": "code",
   "execution_count": 3,
   "metadata": {},
   "outputs": [
    {
     "name": "stdout",
     "output_type": "stream",
     "text": [
      "dict_keys(['data', 'target', 'target_names', 'DESCR', 'feature_names', 'filename'])\n"
     ]
    }
   ],
   "source": [
    "## load iris\n",
    "from sklearn.datasets import load_iris\n",
    "data = load_iris()\n",
    "print(data.keys())"
   ]
  },
  {
   "cell_type": "code",
   "execution_count": 4,
   "metadata": {},
   "outputs": [],
   "source": [
    "iris = data.data\n",
    "y_target = data.target\n",
    "y_target_name = data.target_names"
   ]
  },
  {
   "cell_type": "code",
   "execution_count": 5,
   "metadata": {},
   "outputs": [
    {
     "name": "stdout",
     "output_type": "stream",
     "text": [
      "C:\\ProgramData\\Anaconda3\\envs\\gpu_test\\lib\\site-packages\\sklearn\\datasets\\data\\iris.csv\n"
     ]
    }
   ],
   "source": [
    "print(data.filename)"
   ]
  },
  {
   "cell_type": "code",
   "execution_count": 6,
   "metadata": {},
   "outputs": [],
   "source": [
    "# features = ['sepal length', 'sepal width', 'petal length', 'petal width']"
   ]
  },
  {
   "cell_type": "code",
   "execution_count": 7,
   "metadata": {},
   "outputs": [],
   "source": [
    "from sklearn.preprocessing import StandardScaler\n",
    "# Separating out the features\n",
    "x = iris\n",
    "# Separating out the target\n",
    "y = y_target\n",
    "# Standardizing the features\n",
    "x = StandardScaler().fit_transform(x)"
   ]
  },
  {
   "cell_type": "markdown",
   "metadata": {},
   "source": [
    "## scikit-learn PCA 의 get_covariance()"
   ]
  },
  {
   "cell_type": "code",
   "execution_count": 218,
   "metadata": {},
   "outputs": [
    {
     "name": "stdout",
     "output_type": "stream",
     "text": [
      "[[ 0.52106591 -0.26934744  0.5804131   0.56485654]\n",
      " [ 0.37741762  0.92329566  0.02449161  0.06694199]] \n",
      " pca01.components_ shape :(2, 4)\n",
      "\n",
      " [2.93808505 0.9201649 ]\n",
      "\n",
      " [20.92306556 11.7091661 ]\n"
     ]
    }
   ],
   "source": [
    "pca01 = PCA(n_components=2,svd_solver='full') \n",
    "decompose_x_01 = pca01.fit_transform(x)\n",
    "print(pca01.components_,'\\n',\"pca01.components_ shape :{}\".format(pca01.components_.shape))\n",
    "print('\\n',pca01.explained_variance_)\n",
    "print('\\n',pca01.singular_values_)"
   ]
  },
  {
   "cell_type": "markdown",
   "metadata": {},
   "source": [
    "**Compute data covariance with the generative model.**  \n",
    "\n",
    "cov = components_.T * S^2 * components_ + sigma2 * eye(n_features)  \n",
    "where S^2 contains the explained variances, and sigma2 contains the noise variances.  \n",
    "\n",
    "여기서 헷갈리는 설명은 S 가 explained variances 가 아니라, S^2 = explained variances 란 점이다.  \n",
    "eye : 이거는 numpy 에서, 1을 원소로 하는 대각행렬을 말한다."
   ]
  },
  {
   "cell_type": "markdown",
   "metadata": {},
   "source": [
    "```pca01.noise_variance_``` : Equal to the average of (min(n_features, n_samples) - n_components) smallest eigenvalues of the covariance matrix of X."
   ]
  },
  {
   "cell_type": "code",
   "execution_count": 219,
   "metadata": {},
   "outputs": [
    {
     "data": {
      "text/plain": [
       "0.08429784161070522"
      ]
     },
     "execution_count": 219,
     "metadata": {},
     "output_type": "execute_result"
    }
   ],
   "source": [
    "pca01.noise_variance_"
   ]
  },
  {
   "cell_type": "code",
   "execution_count": 220,
   "metadata": {},
   "outputs": [
    {
     "data": {
      "text/plain": [
       "(4, 2)"
      ]
     },
     "execution_count": 220,
     "metadata": {},
     "output_type": "execute_result"
    }
   ],
   "source": [
    "pca01.components_.T.shape"
   ]
  },
  {
   "cell_type": "code",
   "execution_count": 221,
   "metadata": {},
   "outputs": [
    {
     "data": {
      "text/plain": [
       "(2, 2)"
      ]
     },
     "execution_count": 221,
     "metadata": {},
     "output_type": "execute_result"
    }
   ],
   "source": [
    "mat_power_ev.shape"
   ]
  },
  {
   "cell_type": "code",
   "execution_count": 222,
   "metadata": {},
   "outputs": [
    {
     "data": {
      "text/plain": [
       "(2, 4)"
      ]
     },
     "execution_count": 222,
     "metadata": {},
     "output_type": "execute_result"
    }
   ],
   "source": [
    "pca01.components_.shape"
   ]
  },
  {
   "cell_type": "code",
   "execution_count": 223,
   "metadata": {},
   "outputs": [],
   "source": [
    "k = np.matmul(pca01.components_.T,np.diag(pca01.explained_variance_))\n",
    "k2 = np.matmul(k,pca01.components_)\n",
    "k3 = pca01.noise_variance_ * np.eye(x.shape[1])"
   ]
  },
  {
   "cell_type": "code",
   "execution_count": 224,
   "metadata": {},
   "outputs": [
    {
     "data": {
      "text/plain": [
       "array([[ 0.92879058, -0.09170562,  0.89708089,  0.88800724],\n",
       "       [-0.09170562,  0.99756979, -0.43851133, -0.39013523],\n",
       "       [ 0.89708089, -0.43851133,  0.99033217,  0.96476019],\n",
       "       [ 0.88800724, -0.39013523,  0.96476019,  0.94155742]])"
      ]
     },
     "execution_count": 224,
     "metadata": {},
     "output_type": "execute_result"
    }
   ],
   "source": [
    "k2"
   ]
  },
  {
   "cell_type": "code",
   "execution_count": 225,
   "metadata": {},
   "outputs": [
    {
     "data": {
      "text/plain": [
       "array([[0.08429784, 0.        , 0.        , 0.        ],\n",
       "       [0.        , 0.08429784, 0.        , 0.        ],\n",
       "       [0.        , 0.        , 0.08429784, 0.        ],\n",
       "       [0.        , 0.        , 0.        , 0.08429784]])"
      ]
     },
     "execution_count": 225,
     "metadata": {},
     "output_type": "execute_result"
    }
   ],
   "source": [
    "k3"
   ]
  },
  {
   "cell_type": "code",
   "execution_count": 226,
   "metadata": {},
   "outputs": [
    {
     "data": {
      "text/plain": [
       "array([[ 1.013088, -0.091706,  0.897081,  0.888007],\n",
       "       [-0.091706,  1.081868, -0.438511, -0.390135],\n",
       "       [ 0.897081, -0.438511,  1.07463 ,  0.96476 ],\n",
       "       [ 0.888007, -0.390135,  0.96476 ,  1.025855]])"
      ]
     },
     "execution_count": 226,
     "metadata": {},
     "output_type": "execute_result"
    }
   ],
   "source": [
    "np.round(k2+k3,6)"
   ]
  },
  {
   "cell_type": "code",
   "execution_count": 227,
   "metadata": {},
   "outputs": [
    {
     "data": {
      "text/plain": [
       "array([[ 0.978193, -0.10925 ,  0.870807,  0.861066],\n",
       "       [-0.10925 ,  1.00389 , -0.427239, -0.38252 ],\n",
       "       [ 0.870807, -0.427239,  1.046181,  0.936985],\n",
       "       [ 0.861066, -0.38252 ,  0.936985,  0.998581]])"
      ]
     },
     "execution_count": 227,
     "metadata": {},
     "output_type": "execute_result"
    }
   ],
   "source": [
    "np.round(pca01.get_covariance(),6)"
   ]
  },
  {
   "cell_type": "markdown",
   "metadata": {},
   "source": [
    "#### 위의 과정으로 Full componet 값으로 분해하면, 동일한 값이 나왔음을 알 수 있다.  \n",
    "feature 를 줄이면, noise 값에 의해, 완벽히 똑같지는 않다. (4일때는 완벽히 똑같다.)"
   ]
  },
  {
   "cell_type": "markdown",
   "metadata": {},
   "source": [
    "## PCA doc에는 SVD가 언급되는 이유와 실제 비교  \n",
    "<span style='color:blue'>Scikit-Learn에서는 PCA를 계산할 때, 데이터셋에 대한 공분산의 고유값 분해(eigenvalue-decomposition)이 아닌 특이값 분해(SVD, Singular Value Decomposition)를 이용해 계산한다.</span>  \n",
    "\n",
    "출처: https://excelsior-cjh.tistory.com/167 [EXCELSIOR]  \n",
    "\n",
    "이유는 stackoverflow에서 확인할 수 있듯이, eigenvalue-decomposition에서는 공분산 행렬을 메모리상에 가지고 있어야하는 반면 SVD는 공분산 행렬을 따로 메모리에 저장할 필요가 없으므로 효율적이기 때문이다."
   ]
  },
  {
   "cell_type": "code",
   "execution_count": 8,
   "metadata": {},
   "outputs": [
    {
     "name": "stdout",
     "output_type": "stream",
     "text": [
      "(150, 4)\n"
     ]
    }
   ],
   "source": [
    "print(x.shape)"
   ]
  },
  {
   "cell_type": "markdown",
   "metadata": {},
   "source": [
    "```PCA(n_components=None, *, copy=True, whiten=False, svd_solver='auto', tol=0.0, iterated_power='auto', random_state=None)```"
   ]
  },
  {
   "cell_type": "markdown",
   "metadata": {},
   "source": [
    "위 값은 default 값이다. 따라서, 아래의 svd_solver 는 auto로 적용되었다.  \n",
    "헌데, svd_solver로 이름 붙인 이유가 뭘까?"
   ]
  },
  {
   "cell_type": "markdown",
   "metadata": {},
   "source": [
    "```svd_solver : {‘auto’, ‘full’, ‘arpack’, ‘randomized’}```  \n",
    "__auto==default__  \n",
    "- The solver is selected by a default policy based on X.shape and n_components: if the input data is larger than 500x500 and the number of components to extract is lower than 80% of the smallest dimension of the data, then the more efficient ‘randomized’ method is enabled. Otherwise the exact full SVD is computed and optionally truncated afterwards.  \n",
    "\n",
    "__full__\n",
    "- run exact full SVD calling the standard LAPACK solver via scipy.linalg.svd and select the components by postprocessing  \n",
    "\n",
    "__arpack__  \n",
    "- run SVD truncated to n_components calling ARPACK solver via scipy.sparse.linalg.svds. It requires strictly 0 < n_components < min(X.shape)  \n",
    "\n",
    "__randomized__  \n",
    "- run randomized SVD by the method of Halko et al.  "
   ]
  },
  {
   "cell_type": "code",
   "execution_count": 58,
   "metadata": {},
   "outputs": [
    {
     "name": "stdout",
     "output_type": "stream",
     "text": [
      "[[ 0.52106591 -0.26934744  0.5804131   0.56485654]\n",
      " [ 0.37741762  0.92329566  0.02449161  0.06694199]] \n",
      " pca00.components_ shape :(2, 4)\n",
      "\n",
      " [2.93808505 0.9201649 ]\n",
      "\n",
      " [20.92306556 11.7091661 ]\n"
     ]
    }
   ],
   "source": [
    "from sklearn.decomposition import PCA\n",
    "pca00 = PCA(n_components=2,svd_solver='auto') ## 상기 조건1:(data 500 * 500) & 조건2:(data 80% 이하로 축소하는 경우) 를 만족시키지 못했기 대문에 'full SVD' 가 계산된다.\n",
    "principalComponents = pca00.fit_transform(x)\n",
    "print(pca00.components_,'\\n',\"pca00.components_ shape :{}\".format(pca00.components_.shape))\n",
    "print('\\n',pca00.explained_variance_)\n",
    "print('\\n',pca00.singular_values_)"
   ]
  },
  {
   "cell_type": "code",
   "execution_count": 59,
   "metadata": {},
   "outputs": [
    {
     "name": "stdout",
     "output_type": "stream",
     "text": [
      "[[ 0.52106591 -0.26934744  0.5804131   0.56485654]\n",
      " [ 0.37741762  0.92329566  0.02449161  0.06694199]] \n",
      " pca01.components_ shape :(2, 4)\n",
      "\n",
      " [2.93808505 0.9201649 ]\n",
      "\n",
      " [20.92306556 11.7091661 ]\n"
     ]
    }
   ],
   "source": [
    "pca01 = PCA(n_components=2,svd_solver='full') \n",
    "decompose_x_01 = pca01.fit_transform(x)\n",
    "print(pca01.components_,'\\n',\"pca01.components_ shape :{}\".format(pca01.components_.shape))\n",
    "print('\\n',pca01.explained_variance_)\n",
    "print('\\n',pca01.singular_values_)"
   ]
  },
  {
   "cell_type": "code",
   "execution_count": 61,
   "metadata": {},
   "outputs": [
    {
     "name": "stdout",
     "output_type": "stream",
     "text": [
      "[[ 0.52106591 -0.26934744  0.5804131   0.56485654]\n",
      " [ 0.37741762  0.92329566  0.02449161  0.06694199]] \n",
      " pca02.components_ shape :(2, 4)\n",
      "\n",
      " [2.93808505 0.9201649 ]\n",
      "\n",
      " [20.92306556 11.7091661 ]\n"
     ]
    }
   ],
   "source": [
    "pca02 = PCA(n_components=2,svd_solver='arpack')\n",
    "decompose_x_02 = pca02.fit_transform(x)\n",
    "print(pca02.components_,'\\n',\"pca02.components_ shape :{}\".format(pca02.components_.shape))\n",
    "print('\\n',pca02.explained_variance_)\n",
    "print('\\n',pca02.singular_values_)"
   ]
  },
  {
   "cell_type": "code",
   "execution_count": 62,
   "metadata": {},
   "outputs": [
    {
     "name": "stdout",
     "output_type": "stream",
     "text": [
      "[[ 0.52106591 -0.26934744  0.5804131   0.56485654]\n",
      " [ 0.37741762  0.92329566  0.02449161  0.06694199]] \n",
      " pca03.components_ shape :(2, 4)\n",
      "\n",
      " [2.93808505 0.9201649 ]\n",
      "\n",
      " [20.92306556 11.7091661 ]\n"
     ]
    }
   ],
   "source": [
    "pca03 = PCA(n_components=2,svd_solver='randomized')\n",
    "decompose_x_03 = pca03.fit_transform(x)\n",
    "print(pca03.components_,'\\n',\"pca03.components_ shape :{}\".format(pca03.components_.shape))\n",
    "print('\\n',pca03.explained_variance_)\n",
    "print('\\n',pca03.singular_values_)"
   ]
  },
  {
   "cell_type": "markdown",
   "metadata": {},
   "source": [
    "svd_solver option 를 모두 했을때 결과는 일단 동일하다는 것을 알 수 있다.  "
   ]
  },
  {
   "cell_type": "markdown",
   "metadata": {},
   "source": [
    "## numpy.linalg 라이브러리를 활용했을때, 동일한 결과를 얻는지 확인해보자!!"
   ]
  },
  {
   "cell_type": "markdown",
   "metadata": {},
   "source": [
    "#### np.linalg.eig 활용하기"
   ]
  },
  {
   "cell_type": "code",
   "execution_count": 228,
   "metadata": {},
   "outputs": [],
   "source": [
    "pca04 = PCA(n_components=4,svd_solver='full')\n",
    "decompose_x_04 = pca04.fit_transform(x)"
   ]
  },
  {
   "cell_type": "code",
   "execution_count": 230,
   "metadata": {},
   "outputs": [],
   "source": [
    "eigenvalue, eigenvector = np.linalg.eig(np.cov(x.transpose()))\n",
    "explained_variance_ratio_sum_ = np.cumsum(pca04.explained_variance_ratio_)"
   ]
  },
  {
   "cell_type": "code",
   "execution_count": 231,
   "metadata": {},
   "outputs": [],
   "source": [
    "index = eigenvalue.argsort()[::-1]\n",
    "eigenvalue = eigenvalue[index]\n",
    "eigenvector = eigenvector[:, index]"
   ]
  },
  {
   "cell_type": "code",
   "execution_count": 233,
   "metadata": {},
   "outputs": [
    {
     "data": {
      "text/plain": [
       "array([2.93808505, 0.9201649 , 0.14774182, 0.02085386])"
      ]
     },
     "execution_count": 233,
     "metadata": {},
     "output_type": "execute_result"
    }
   ],
   "source": [
    "eigenvalue"
   ]
  },
  {
   "cell_type": "code",
   "execution_count": 234,
   "metadata": {},
   "outputs": [
    {
     "data": {
      "text/plain": [
       "array([[ 0.52106591, -0.37741762, -0.71956635,  0.26128628],\n",
       "       [-0.26934744, -0.92329566,  0.24438178, -0.12350962],\n",
       "       [ 0.5804131 , -0.02449161,  0.14212637, -0.80144925],\n",
       "       [ 0.56485654, -0.06694199,  0.63427274,  0.52359713]])"
      ]
     },
     "execution_count": 234,
     "metadata": {},
     "output_type": "execute_result"
    }
   ],
   "source": [
    "eigenvector"
   ]
  },
  {
   "cell_type": "code",
   "execution_count": 235,
   "metadata": {},
   "outputs": [
    {
     "data": {
      "text/plain": [
       "array([2.93808505, 0.9201649 , 0.14774182, 0.02085386])"
      ]
     },
     "execution_count": 235,
     "metadata": {},
     "output_type": "execute_result"
    }
   ],
   "source": [
    "pca04.explained_variance_"
   ]
  },
  {
   "cell_type": "code",
   "execution_count": 236,
   "metadata": {},
   "outputs": [
    {
     "data": {
      "text/plain": [
       "array([[ 0.52106591, -0.26934744,  0.5804131 ,  0.56485654],\n",
       "       [ 0.37741762,  0.92329566,  0.02449161,  0.06694199],\n",
       "       [-0.71956635,  0.24438178,  0.14212637,  0.63427274],\n",
       "       [-0.26128628,  0.12350962,  0.80144925, -0.52359713]])"
      ]
     },
     "execution_count": 236,
     "metadata": {},
     "output_type": "execute_result"
    }
   ],
   "source": [
    "pca04.components_"
   ]
  },
  {
   "cell_type": "markdown",
   "metadata": {},
   "source": [
    "동일하다"
   ]
  },
  {
   "cell_type": "markdown",
   "metadata": {},
   "source": [
    "#### np.linalg.svd 활용하기"
   ]
  },
  {
   "attachments": {
    "f2d5456c-28f8-4fd0-87c5-0d70fb570565.png": {
     "image/png": "[encoded data removed]"
    }
   },
   "cell_type": "markdown",
   "metadata": {},
   "source": [
    "![image.png](attachment:f2d5456c-28f8-4fd0-87c5-0d70fb570565.png)"
   ]
  },
  {
   "cell_type": "code",
   "execution_count": 270,
   "metadata": {},
   "outputs": [],
   "source": [
    "## scipy.sparse.linalg 와 numpy 의 linalg 는 다르다. 구분해서 사용하자.\n",
    "\n",
    "u, s, vh = np.linalg.svd(x,full_matrices=True)\n",
    "## u :  left singular vectors\n",
    "## s : The singular values.\n",
    "## vh : right singular vectors as rows"
   ]
  },
  {
   "cell_type": "code",
   "execution_count": 257,
   "metadata": {},
   "outputs": [
    {
     "name": "stdout",
     "output_type": "stream",
     "text": [
      "(150, 150) (4,) (4, 4)\n"
     ]
    }
   ],
   "source": [
    "print(u.shape,s.shape,vt.shape)"
   ]
  },
  {
   "cell_type": "code",
   "execution_count": 260,
   "metadata": {},
   "outputs": [
    {
     "name": "stdout",
     "output_type": "stream",
     "text": [
      "singular value : [20.92306556 11.7091661   4.69185798  1.76273239]\n",
      "right singular vector :\n",
      " [[ 0.52106591 -0.37741762  0.71956635  0.26128628]\n",
      " [-0.26934744 -0.92329566 -0.24438178 -0.12350962]\n",
      " [ 0.5804131  -0.02449161 -0.14212637 -0.80144925]\n",
      " [ 0.56485654 -0.06694199 -0.63427274  0.52359713]]\n"
     ]
    }
   ],
   "source": [
    "print('singular value :', s)\n",
    "print('right singular vector :\\n', vh.T)"
   ]
  },
  {
   "cell_type": "code",
   "execution_count": 261,
   "metadata": {},
   "outputs": [
    {
     "name": "stdout",
     "output_type": "stream",
     "text": [
      "[2.93808505 0.9201649  0.14774182 0.02085386]\n",
      "[20.92306556 11.7091661   4.69185798  1.76273239]\n"
     ]
    }
   ],
   "source": [
    "print(pca04.explained_variance_) ## eigen decomp 의 고유치\n",
    "print(pca04.singular_values_) ## sigular value 는 자동으로 구해진다. 또한 동일함을 알 수 있다."
   ]
  },
  {
   "cell_type": "markdown",
   "metadata": {},
   "source": [
    "#### 원본 x 를 재구성하기"
   ]
  },
  {
   "cell_type": "code",
   "execution_count": 271,
   "metadata": {},
   "outputs": [],
   "source": [
    "## 행렬A 를 구하고, np.dot(A,A.T) 하면 x 가 나올것이다. 단, svd 분해에서 thin 으로 나오기 때문에, s 에 대해 약간의 변형이 필요하다.\n",
    "## A 구하기\n",
    "smat = np.zeros((150, 4), dtype=complex)\n",
    "smat[:4, :4] = np.diag(s)"
   ]
  },
  {
   "cell_type": "code",
   "execution_count": 272,
   "metadata": {},
   "outputs": [
    {
     "name": "stdout",
     "output_type": "stream",
     "text": [
      "(150, 150) (4,) (150, 4) (4, 4)\n"
     ]
    }
   ],
   "source": [
    "print(u.shape,s.shape,smat.shape,vt.shape)"
   ]
  },
  {
   "cell_type": "code",
   "execution_count": 274,
   "metadata": {},
   "outputs": [],
   "source": [
    "back_x = np.matmul(u,smat)\n",
    "back_x = np.matmul(back_x,vt)"
   ]
  },
  {
   "cell_type": "code",
   "execution_count": 279,
   "metadata": {},
   "outputs": [
    {
     "name": "stdout",
     "output_type": "stream",
     "text": [
      "(150, 4)\n"
     ]
    },
    {
     "data": {
      "text/plain": [
       "array([[-0.9007+0.j,  1.019 +0.j, -1.3402+0.j, -1.3154+0.j],\n",
       "       [-1.143 +0.j, -0.132 +0.j, -1.3402+0.j, -1.3154+0.j]])"
      ]
     },
     "execution_count": 279,
     "metadata": {},
     "output_type": "execute_result"
    }
   ],
   "source": [
    "print(back_x.shape)\n",
    "np.round(back_x[0:2],4)"
   ]
  },
  {
   "cell_type": "code",
   "execution_count": 280,
   "metadata": {},
   "outputs": [
    {
     "data": {
      "text/plain": [
       "array([[-0.90068117,  1.01900435, -1.34022653, -1.3154443 ],\n",
       "       [-1.14301691, -0.13197948, -1.34022653, -1.3154443 ]])"
      ]
     },
     "execution_count": 280,
     "metadata": {},
     "output_type": "execute_result"
    }
   ],
   "source": [
    "x[0:2]"
   ]
  },
  {
   "cell_type": "markdown",
   "metadata": {},
   "source": [
    "동일한 결과를 보여주는 것을 알 수 있다."
   ]
  }
 ],
 "metadata": {
  "kernelspec": {
   "display_name": "Python 3",
   "language": "python",
   "name": "python3"
  },
  "language_info": {
   "codemirror_mode": {
    "name": "ipython",
    "version": 3
   },
   "file_extension": ".py",
   "mimetype": "text/x-python",
   "name": "python",
   "nbconvert_exporter": "python",
   "pygments_lexer": "ipython3",
   "version": "3.7.7"
  }
 },
 "nbformat": 4,
 "nbformat_minor": 4
}
