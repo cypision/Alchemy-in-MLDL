{
 "cells": [
  {
   "cell_type": "markdown",
   "metadata": {},
   "source": [
    "---\n",
    "title:  \"Crawling 결과에 따른 Text분석\"\n",
    "excerpt: \"Inflearn 강좌 따라하기 2\"\n",
    "\n",
    "categories:\n",
    "  - Machine-Learning\n",
    "tags:\n",
    "  - ML\n",
    "  - text anlysis\n",
    "  - 머신러닝\n",
    "last_modified_at: 2020-02-14T16:17:00-05:00\n",
    "---"
   ]
  },
  {
   "cell_type": "markdown",
   "metadata": {},
   "source": [
    "#### 본 연습은 inflearn - 박조은 강사님의 Code를 활용하여, 변경함\n",
    "\n",
    "    ### original 내용\n",
    "    ### 인프런 2020년 새해 다짐 이벤트 댓글 분석\n",
    "    * https://www.inflearn.com/pages/newyear-event-20200102\n",
    "    * 영상 튜토리얼 : [댓글 수백 수천개 분석하기?! [1/5] 이벤트 데이터 크롤링 feat. 인프런 새해 다짐 이벤트 - YouTube](https://www.youtube.com/watch?v=OUSwQk79H8I&list=PLaTc2c6yEwmohRzCxWQqJ7Z9aqc-sQ5gC)\n",
    "\n",
    "    ### 기획자나 마케터가 되어 이벤트 댓글을 분석해 보자!\n",
    "    #### 내가 만약 수백 수천개의 댓글을 다 읽어봐야 한다면?\n",
    "    #### 댓글 속에 제품에 대한 관심을 빈도수로 추출해야 한다면?\n",
    "    * 쇼핑몰에서 제품 관련 이벤트 진행시 어떤 제품을 고객이 선호하는지 알고 싶다면?\n",
    "    * 고객 DB와 연계할 수 있다면 이벤트 혹은 마케팅 세그먼트로 활용해 볼 수도 있지 않을까?"
   ]
  },
  {
   "cell_type": "markdown",
   "metadata": {},
   "source": [
    "## 라이브러리 로드"
   ]
  },
  {
   "cell_type": "code",
   "execution_count": 1,
   "metadata": {},
   "outputs": [],
   "source": [
    "import pandas as pd\n",
    "import numpy as np\n",
    "import re\n",
    "import matplotlib.pyplot as plt\n",
    "\n",
    "%matplotlib inline\n",
    "# 시각화 결과가 선명하게 표시되도록\n",
    "%config InlineBackend.figure_format = 'retina'"
   ]
  },
  {
   "cell_type": "markdown",
   "metadata": {},
   "source": [
    "## 시각화를 위한 한글폰트 설정"
   ]
  },
  {
   "cell_type": "code",
   "execution_count": 2,
   "metadata": {},
   "outputs": [],
   "source": [
    "# Window 한글폰트 설정\n",
    "# plt.rc(\"font\", family=\"Malgun Gothic\")\n",
    "# Mac 한글폰트 설정\n",
    "plt.rc(\"font\", family=\"AppleGothic\")\n",
    "plt.rc('axes', unicode_minus=False)"
   ]
  },
  {
   "cell_type": "markdown",
   "metadata": {},
   "source": [
    "## 크롤링한 파일 로드하기"
   ]
  },
  {
   "cell_type": "code",
   "execution_count": 3,
   "metadata": {
    "scrolled": true
   },
   "outputs": [
    {
     "data": {
      "text/plain": [
       "(2435, 1)"
      ]
     },
     "execution_count": 3,
     "metadata": {},
     "output_type": "execute_result"
    }
   ],
   "source": [
    "df = pd.read_csv(\"D:\\\\★2020_ML_DL_Project\\\\Alchemy\\\\ML_Area\\\\data_source\\\\inflearn-event.csv\")\n",
    "df.shape"
   ]
  },
  {
   "cell_type": "code",
   "execution_count": 4,
   "metadata": {},
   "outputs": [
    {
     "data": {
      "text/html": [
       "<div>\n",
       "<style scoped>\n",
       "    .dataframe tbody tr th:only-of-type {\n",
       "        vertical-align: middle;\n",
       "    }\n",
       "\n",
       "    .dataframe tbody tr th {\n",
       "        vertical-align: top;\n",
       "    }\n",
       "\n",
       "    .dataframe thead th {\n",
       "        text-align: right;\n",
       "    }\n",
       "</style>\n",
       "<table border=\"1\" class=\"dataframe\">\n",
       "  <thead>\n",
       "    <tr style=\"text-align: right;\">\n",
       "      <th></th>\n",
       "      <th>text</th>\n",
       "    </tr>\n",
       "  </thead>\n",
       "  <tbody>\n",
       "    <tr>\n",
       "      <th>0</th>\n",
       "      <td>2020년에는 데이터를 좀 더 열심히 공부하려고 합니다.</td>\n",
       "    </tr>\n",
       "    <tr>\n",
       "      <th>1</th>\n",
       "      <td>2020년 목표 - 안주하지 않기</td>\n",
       "    </tr>\n",
       "    <tr>\n",
       "      <th>2</th>\n",
       "      <td>자바 공부 마스터 하고 싶습니다.   더 자바, 코드를 조작하는 다양한 방법</td>\n",
       "    </tr>\n",
       "    <tr>\n",
       "      <th>3</th>\n",
       "      <td>파이썬 데이터시각화 분석 실전 프로젝트 수강하고 싶어요</td>\n",
       "    </tr>\n",
       "    <tr>\n",
       "      <th>4</th>\n",
       "      <td>2020년도 화이팅!, 스프링 프레임워크 개발자를 위한 실습을 통한 입문 과정</td>\n",
       "    </tr>\n",
       "  </tbody>\n",
       "</table>\n",
       "</div>"
      ],
      "text/plain": [
       "                                          text\n",
       "0              2020년에는 데이터를 좀 더 열심히 공부하려고 합니다.\n",
       "1                           2020년 목표 - 안주하지 않기\n",
       "2   자바 공부 마스터 하고 싶습니다.   더 자바, 코드를 조작하는 다양한 방법\n",
       "3               파이썬 데이터시각화 분석 실전 프로젝트 수강하고 싶어요\n",
       "4  2020년도 화이팅!, 스프링 프레임워크 개발자를 위한 실습을 통한 입문 과정"
      ]
     },
     "execution_count": 4,
     "metadata": {},
     "output_type": "execute_result"
    }
   ],
   "source": [
    "df.head()"
   ]
  },
  {
   "cell_type": "code",
   "execution_count": 5,
   "metadata": {},
   "outputs": [
    {
     "data": {
      "text/plain": [
       "True"
      ]
     },
     "execution_count": 5,
     "metadata": {},
     "output_type": "execute_result"
    }
   ],
   "source": [
    "df.index.is_unique"
   ]
  },
  {
   "cell_type": "markdown",
   "metadata": {},
   "source": [
    "## 데이터 전처리"
   ]
  },
  {
   "cell_type": "markdown",
   "metadata": {},
   "source": [
    "### 네트워크 오류 등으로 발생한 중복 입력 값을 제거\n",
    "* 빈도 수 중복을 방지하기 위해"
   ]
  },
  {
   "cell_type": "code",
   "execution_count": 6,
   "metadata": {},
   "outputs": [
    {
     "name": "stdout",
     "output_type": "stream",
     "text": [
      "(2435, 1)\n",
      "(2398, 1)\n"
     ]
    }
   ],
   "source": [
    "print(df.shape)\n",
    "df = df.drop_duplicates([\"text\"], keep=\"last\") ## first 등 가능\n",
    "print(df.shape)"
   ]
  },
  {
   "cell_type": "markdown",
   "metadata": {},
   "source": [
    "### 원본은 따로 보존"
   ]
  },
  {
   "cell_type": "code",
   "execution_count": 7,
   "metadata": {},
   "outputs": [
    {
     "data": {
      "text/html": [
       "<div>\n",
       "<style scoped>\n",
       "    .dataframe tbody tr th:only-of-type {\n",
       "        vertical-align: middle;\n",
       "    }\n",
       "\n",
       "    .dataframe tbody tr th {\n",
       "        vertical-align: top;\n",
       "    }\n",
       "\n",
       "    .dataframe thead th {\n",
       "        text-align: right;\n",
       "    }\n",
       "</style>\n",
       "<table border=\"1\" class=\"dataframe\">\n",
       "  <thead>\n",
       "    <tr style=\"text-align: right;\">\n",
       "      <th></th>\n",
       "      <th>text</th>\n",
       "      <th>origin_text</th>\n",
       "    </tr>\n",
       "  </thead>\n",
       "  <tbody>\n",
       "    <tr>\n",
       "      <th>0</th>\n",
       "      <td>2020년에는 데이터를 좀 더 열심히 공부하려고 합니다.</td>\n",
       "      <td>2020년에는 데이터를 좀 더 열심히 공부하려고 합니다.</td>\n",
       "    </tr>\n",
       "    <tr>\n",
       "      <th>1</th>\n",
       "      <td>2020년 목표 - 안주하지 않기</td>\n",
       "      <td>2020년 목표 - 안주하지 않기</td>\n",
       "    </tr>\n",
       "    <tr>\n",
       "      <th>2</th>\n",
       "      <td>자바 공부 마스터 하고 싶습니다.   더 자바, 코드를 조작하는 다양한 방법</td>\n",
       "      <td>자바 공부 마스터 하고 싶습니다.   더 자바, 코드를 조작하는 다양한 방법</td>\n",
       "    </tr>\n",
       "    <tr>\n",
       "      <th>3</th>\n",
       "      <td>파이썬 데이터시각화 분석 실전 프로젝트 수강하고 싶어요</td>\n",
       "      <td>파이썬 데이터시각화 분석 실전 프로젝트 수강하고 싶어요</td>\n",
       "    </tr>\n",
       "    <tr>\n",
       "      <th>4</th>\n",
       "      <td>2020년도 화이팅!, 스프링 프레임워크 개발자를 위한 실습을 통한 입문 과정</td>\n",
       "      <td>2020년도 화이팅!, 스프링 프레임워크 개발자를 위한 실습을 통한 입문 과정</td>\n",
       "    </tr>\n",
       "  </tbody>\n",
       "</table>\n",
       "</div>"
      ],
      "text/plain": [
       "                                          text  \\\n",
       "0              2020년에는 데이터를 좀 더 열심히 공부하려고 합니다.   \n",
       "1                           2020년 목표 - 안주하지 않기   \n",
       "2   자바 공부 마스터 하고 싶습니다.   더 자바, 코드를 조작하는 다양한 방법   \n",
       "3               파이썬 데이터시각화 분석 실전 프로젝트 수강하고 싶어요   \n",
       "4  2020년도 화이팅!, 스프링 프레임워크 개발자를 위한 실습을 통한 입문 과정   \n",
       "\n",
       "                                   origin_text  \n",
       "0              2020년에는 데이터를 좀 더 열심히 공부하려고 합니다.  \n",
       "1                           2020년 목표 - 안주하지 않기  \n",
       "2   자바 공부 마스터 하고 싶습니다.   더 자바, 코드를 조작하는 다양한 방법  \n",
       "3               파이썬 데이터시각화 분석 실전 프로젝트 수강하고 싶어요  \n",
       "4  2020년도 화이팅!, 스프링 프레임워크 개발자를 위한 실습을 통한 입문 과정  "
      ]
     },
     "execution_count": 7,
     "metadata": {},
     "output_type": "execute_result"
    }
   ],
   "source": [
    "# 전처리 전에 원본을 보존하기 위해 복사해 둠\n",
    "df[\"origin_text\"] = df[\"text\"]\n",
    "df.head()"
   ]
  },
  {
   "cell_type": "markdown",
   "metadata": {},
   "source": [
    "### 소문자 변환"
   ]
  },
  {
   "cell_type": "code",
   "execution_count": 8,
   "metadata": {},
   "outputs": [],
   "source": [
    "# 파이썬은 대소문자를 구분하기 때문에 데이터 필터링을 위해 대문자를 모두 소문자로 변경\n",
    "# df[\"text\"] = df[\"text\"].str.lower()\n",
    "df[\"text\"] = df[\"text\"].apply(lambda x : x.lower()) ## 이렇게도 변환가능"
   ]
  },
  {
   "cell_type": "code",
   "execution_count": 9,
   "metadata": {
    "scrolled": true
   },
   "outputs": [],
   "source": [
    "## 유사한 의미의 동의어, 유의어 처리하기\n",
    "## koran language 사전이 있어서 그걸 활용하는 법도 있는것으로 알지만, 일단 pass\n",
    "# 같은 의미의 단어를 하나로 통일 예) python => 파이썬\n",
    "df[\"text\"] = df[\"text\"].str.replace(\n",
    "    \"python\", \"파이썬\").str.replace(\n",
    "    \"pandas\", \"판다스\").str.replace(\n",
    "    \"javascript\", \"자바스크립트\").str.replace(\n",
    "    \"java\", \"자바\").str.replace(\n",
    "    \"react\", \"리액트\").str.replace(\"파이선\",\"파이썬\")"
   ]
  },
  {
   "cell_type": "markdown",
   "metadata": {},
   "source": [
    "### 텍스트로 관심 강의 분리"
   ]
  },
  {
   "cell_type": "code",
   "execution_count": 10,
   "metadata": {},
   "outputs": [
    {
     "name": "stdout",
     "output_type": "stream",
     "text": [
      "20\n"
     ]
    },
    {
     "data": {
      "text/plain": [
       "2425    5년째 퍼블리셔로 일하고 있는 직장인입니다. 제 30대가 더 깊어지기전에 프론트엔드...\n",
       "2426    회사에서 그로스해킹을 해야되는데 이번에 올라온 강의를 듣고 팀을 만들고 싶어요!!\\...\n",
       "2427      큰그림은 구체적으로 그리고 밑그림은 섬세하게 그릴 수 있는 배움의 한해를 기원합니다.\n",
       "2428    컴공으로 졸업을 했는데... 올해는 꼭 ios 개발자로 취업하고 싶어요!!\\n#관심...\n",
       "2429    스프링에 대해서 잘 모르는 것이 많은데 올해는 인프런을 통해서 배우고 활용하고 싶습...\n",
       "2430    작년 한해도 일이 바쁘다, 야근해서 힘들다는 핑계로 김영한님의 jpa 강의를 또 스...\n",
       "2431    저는 졸업을 1년 남기고 있는 컴퓨터공학과 학생입니다. 졸업 프로젝트로 웹/앱 개발...\n",
       "2432    에프터 이펙트를 써본 적은 있는데, 매번 기초만 배우다 말았어요. 이걸 할 줄 안다...\n",
       "2433    저번에 인프런에서 페이스북 마케팅 강의를 듣고 많은 도움을 받았습니다. 마케팅 업무...\n",
       "2434    인프런 0호 팀원이에요!\\n그동안 서비스 개발 때문에 js 를 많이 했었는데 앞으론...\n",
       "Name: text, dtype: object"
      ]
     },
     "execution_count": 10,
     "metadata": {},
     "output_type": "execute_result"
    }
   ],
   "source": [
    "print(pd.get_option(\"display.max_columns\"))\n",
    "df.text.tail(10)"
   ]
  },
  {
   "cell_type": "code",
   "execution_count": 11,
   "metadata": {},
   "outputs": [
    {
     "data": {
      "text/plain": [
       "': 프로그래밍 시작하기 : 파이썬 입문, 공공데이터로 파이썬 데이터 분석 시작하기\\n파이썬의 고수가 되고싶어요'"
      ]
     },
     "execution_count": 11,
     "metadata": {},
     "output_type": "execute_result"
    }
   ],
   "source": [
    " ## 예시 데이터\n",
    "df[\"text\"][10].split(\"관심강의\")[-1]"
   ]
  },
  {
   "cell_type": "code",
   "execution_count": 12,
   "metadata": {
    "scrolled": true
   },
   "outputs": [
    {
     "data": {
      "text/plain": [
       "0                2020년에는 데이터를 좀 더 열심히 공부하려고 합니다.\n",
       "1                             2020년 목표 - 안주하지 않기\n",
       "2     자바 공부 마스터 하고 싶습니다.   더 자바, 코드를 조작하는 다양한 방법\n",
       "3                 파이썬 데이터시각화 분석 실전 프로젝트 수강하고 싶어요\n",
       "4    2020년도 화이팅!, 스프링 프레임워크 개발자를 위한 실습을 통한 입문 과정\n",
       "Name: course, dtype: object"
      ]
     },
     "execution_count": 12,
     "metadata": {},
     "output_type": "execute_result"
    }
   ],
   "source": [
    "df[\"course\"] = df[\"text\"].apply(lambda x: x.split(\"관심강의\")[-1])\n",
    "df[\"course\"] = df[\"course\"].apply(lambda x: x.split(\"관심 강의\")[-1])\n",
    "df[\"course\"] = df[\"course\"].apply(lambda x: x.split(\"관심 강좌\")[-1])\n",
    "df[\"course\"] = df[\"course\"].str.replace(\":\", \"\")\n",
    "df[\"course\"].head()"
   ]
  },
  {
   "cell_type": "code",
   "execution_count": 13,
   "metadata": {},
   "outputs": [
    {
     "data": {
      "text/html": [
       "<div>\n",
       "<style scoped>\n",
       "    .dataframe tbody tr th:only-of-type {\n",
       "        vertical-align: middle;\n",
       "    }\n",
       "\n",
       "    .dataframe tbody tr th {\n",
       "        vertical-align: top;\n",
       "    }\n",
       "\n",
       "    .dataframe thead th {\n",
       "        text-align: right;\n",
       "    }\n",
       "</style>\n",
       "<table border=\"1\" class=\"dataframe\">\n",
       "  <thead>\n",
       "    <tr style=\"text-align: right;\">\n",
       "      <th></th>\n",
       "      <th>text</th>\n",
       "      <th>course</th>\n",
       "    </tr>\n",
       "  </thead>\n",
       "  <tbody>\n",
       "    <tr>\n",
       "      <th>0</th>\n",
       "      <td>2020년에는 데이터를 좀 더 열심히 공부하려고 합니다.</td>\n",
       "      <td>2020년에는 데이터를 좀 더 열심히 공부하려고 합니다.</td>\n",
       "    </tr>\n",
       "    <tr>\n",
       "      <th>1</th>\n",
       "      <td>2020년 목표 - 안주하지 않기</td>\n",
       "      <td>2020년 목표 - 안주하지 않기</td>\n",
       "    </tr>\n",
       "    <tr>\n",
       "      <th>2</th>\n",
       "      <td>자바 공부 마스터 하고 싶습니다.   더 자바, 코드를 조작하는 다양한 방법</td>\n",
       "      <td>자바 공부 마스터 하고 싶습니다.   더 자바, 코드를 조작하는 다양한 방법</td>\n",
       "    </tr>\n",
       "    <tr>\n",
       "      <th>3</th>\n",
       "      <td>파이썬 데이터시각화 분석 실전 프로젝트 수강하고 싶어요</td>\n",
       "      <td>파이썬 데이터시각화 분석 실전 프로젝트 수강하고 싶어요</td>\n",
       "    </tr>\n",
       "    <tr>\n",
       "      <th>4</th>\n",
       "      <td>2020년도 화이팅!, 스프링 프레임워크 개발자를 위한 실습을 통한 입문 과정</td>\n",
       "      <td>2020년도 화이팅!, 스프링 프레임워크 개발자를 위한 실습을 통한 입문 과정</td>\n",
       "    </tr>\n",
       "  </tbody>\n",
       "</table>\n",
       "</div>"
      ],
      "text/plain": [
       "                                          text  \\\n",
       "0              2020년에는 데이터를 좀 더 열심히 공부하려고 합니다.   \n",
       "1                           2020년 목표 - 안주하지 않기   \n",
       "2   자바 공부 마스터 하고 싶습니다.   더 자바, 코드를 조작하는 다양한 방법   \n",
       "3               파이썬 데이터시각화 분석 실전 프로젝트 수강하고 싶어요   \n",
       "4  2020년도 화이팅!, 스프링 프레임워크 개발자를 위한 실습을 통한 입문 과정   \n",
       "\n",
       "                                        course  \n",
       "0              2020년에는 데이터를 좀 더 열심히 공부하려고 합니다.  \n",
       "1                           2020년 목표 - 안주하지 않기  \n",
       "2   자바 공부 마스터 하고 싶습니다.   더 자바, 코드를 조작하는 다양한 방법  \n",
       "3               파이썬 데이터시각화 분석 실전 프로젝트 수강하고 싶어요  \n",
       "4  2020년도 화이팅!, 스프링 프레임워크 개발자를 위한 실습을 통한 입문 과정  "
      ]
     },
     "execution_count": 13,
     "metadata": {},
     "output_type": "execute_result"
    }
   ],
   "source": [
    "df[[\"text\", \"course\"]].head()"
   ]
  },
  {
   "cell_type": "markdown",
   "metadata": {},
   "source": [
    "## 띄어 쓰기를 제거한 텍스트에서 키워드 추출\n",
    "* TIOBE 프로그래밍 언어 순위 : [index | TIOBE - The Software Quality Company](https://www.tiobe.com/tiobe-index/?fbclid=IwAR34dJfgDHq2DK0C6X3g8IsUno2NhOiikMyxT6fw9SoyujFhy5FPvQogMoA)"
   ]
  },
  {
   "cell_type": "markdown",
   "metadata": {},
   "source": [
    "### tip \n",
    "df[\"course\"].str처럼 course 의 value 들이 str 타입일때, str 오브젝트의 함수를 쓰기 위해선, \"str.\" 을 반드시 해줘야 한다. \n",
    "#### df[\"course\"].contains(keyword) --> 100% error"
   ]
  },
  {
   "cell_type": "code",
   "execution_count": 14,
   "metadata": {},
   "outputs": [],
   "source": [
    "search_keyword = ['머신러닝', '딥러닝', '파이썬', '판다스', '공공데이터',\n",
    "                  'django', '크롤링', '시각화', '데이터분석', \n",
    "                  '웹개발', '엑셀', 'c', '자바', '자바스크립트', \n",
    "                  'node', 'vue', '리액트']\n",
    "## search_keyword 갯수만큼 컬럼생성 \n",
    "for keyword in search_keyword:\n",
    "    df[keyword] = df[\"course\"].str.contains(keyword)"
   ]
  },
  {
   "cell_type": "code",
   "execution_count": 15,
   "metadata": {},
   "outputs": [
    {
     "data": {
      "text/html": [
       "<div>\n",
       "<style scoped>\n",
       "    .dataframe tbody tr th:only-of-type {\n",
       "        vertical-align: middle;\n",
       "    }\n",
       "\n",
       "    .dataframe tbody tr th {\n",
       "        vertical-align: top;\n",
       "    }\n",
       "\n",
       "    .dataframe thead th {\n",
       "        text-align: right;\n",
       "    }\n",
       "</style>\n",
       "<table border=\"1\" class=\"dataframe\">\n",
       "  <thead>\n",
       "    <tr style=\"text-align: right;\">\n",
       "      <th></th>\n",
       "      <th>text</th>\n",
       "      <th>origin_text</th>\n",
       "      <th>course</th>\n",
       "      <th>머신러닝</th>\n",
       "      <th>딥러닝</th>\n",
       "      <th>파이썬</th>\n",
       "      <th>판다스</th>\n",
       "      <th>공공데이터</th>\n",
       "      <th>django</th>\n",
       "      <th>크롤링</th>\n",
       "      <th>시각화</th>\n",
       "      <th>데이터분석</th>\n",
       "      <th>웹개발</th>\n",
       "      <th>엑셀</th>\n",
       "      <th>c</th>\n",
       "      <th>자바</th>\n",
       "      <th>자바스크립트</th>\n",
       "      <th>node</th>\n",
       "      <th>vue</th>\n",
       "      <th>리액트</th>\n",
       "    </tr>\n",
       "  </thead>\n",
       "  <tbody>\n",
       "    <tr>\n",
       "      <th>0</th>\n",
       "      <td>2020년에는 데이터를 좀 더 열심히 공부하려고 합니다.</td>\n",
       "      <td>2020년에는 데이터를 좀 더 열심히 공부하려고 합니다.</td>\n",
       "      <td>2020년에는 데이터를 좀 더 열심히 공부하려고 합니다.</td>\n",
       "      <td>False</td>\n",
       "      <td>False</td>\n",
       "      <td>False</td>\n",
       "      <td>False</td>\n",
       "      <td>False</td>\n",
       "      <td>False</td>\n",
       "      <td>False</td>\n",
       "      <td>False</td>\n",
       "      <td>False</td>\n",
       "      <td>False</td>\n",
       "      <td>False</td>\n",
       "      <td>False</td>\n",
       "      <td>False</td>\n",
       "      <td>False</td>\n",
       "      <td>False</td>\n",
       "      <td>False</td>\n",
       "      <td>False</td>\n",
       "    </tr>\n",
       "    <tr>\n",
       "      <th>1</th>\n",
       "      <td>2020년 목표 - 안주하지 않기</td>\n",
       "      <td>2020년 목표 - 안주하지 않기</td>\n",
       "      <td>2020년 목표 - 안주하지 않기</td>\n",
       "      <td>False</td>\n",
       "      <td>False</td>\n",
       "      <td>False</td>\n",
       "      <td>False</td>\n",
       "      <td>False</td>\n",
       "      <td>False</td>\n",
       "      <td>False</td>\n",
       "      <td>False</td>\n",
       "      <td>False</td>\n",
       "      <td>False</td>\n",
       "      <td>False</td>\n",
       "      <td>False</td>\n",
       "      <td>False</td>\n",
       "      <td>False</td>\n",
       "      <td>False</td>\n",
       "      <td>False</td>\n",
       "      <td>False</td>\n",
       "    </tr>\n",
       "    <tr>\n",
       "      <th>2</th>\n",
       "      <td>자바 공부 마스터 하고 싶습니다.   더 자바, 코드를 조작하는 다양한 방법</td>\n",
       "      <td>자바 공부 마스터 하고 싶습니다.   더 자바, 코드를 조작하는 다양한 방법</td>\n",
       "      <td>자바 공부 마스터 하고 싶습니다.   더 자바, 코드를 조작하는 다양한 방법</td>\n",
       "      <td>False</td>\n",
       "      <td>False</td>\n",
       "      <td>False</td>\n",
       "      <td>False</td>\n",
       "      <td>False</td>\n",
       "      <td>False</td>\n",
       "      <td>False</td>\n",
       "      <td>False</td>\n",
       "      <td>False</td>\n",
       "      <td>False</td>\n",
       "      <td>False</td>\n",
       "      <td>False</td>\n",
       "      <td>True</td>\n",
       "      <td>False</td>\n",
       "      <td>False</td>\n",
       "      <td>False</td>\n",
       "      <td>False</td>\n",
       "    </tr>\n",
       "    <tr>\n",
       "      <th>3</th>\n",
       "      <td>파이썬 데이터시각화 분석 실전 프로젝트 수강하고 싶어요</td>\n",
       "      <td>파이썬 데이터시각화 분석 실전 프로젝트 수강하고 싶어요</td>\n",
       "      <td>파이썬 데이터시각화 분석 실전 프로젝트 수강하고 싶어요</td>\n",
       "      <td>False</td>\n",
       "      <td>False</td>\n",
       "      <td>True</td>\n",
       "      <td>False</td>\n",
       "      <td>False</td>\n",
       "      <td>False</td>\n",
       "      <td>False</td>\n",
       "      <td>True</td>\n",
       "      <td>False</td>\n",
       "      <td>False</td>\n",
       "      <td>False</td>\n",
       "      <td>False</td>\n",
       "      <td>False</td>\n",
       "      <td>False</td>\n",
       "      <td>False</td>\n",
       "      <td>False</td>\n",
       "      <td>False</td>\n",
       "    </tr>\n",
       "    <tr>\n",
       "      <th>4</th>\n",
       "      <td>2020년도 화이팅!, 스프링 프레임워크 개발자를 위한 실습을 통한 입문 과정</td>\n",
       "      <td>2020년도 화이팅!, 스프링 프레임워크 개발자를 위한 실습을 통한 입문 과정</td>\n",
       "      <td>2020년도 화이팅!, 스프링 프레임워크 개발자를 위한 실습을 통한 입문 과정</td>\n",
       "      <td>False</td>\n",
       "      <td>False</td>\n",
       "      <td>False</td>\n",
       "      <td>False</td>\n",
       "      <td>False</td>\n",
       "      <td>False</td>\n",
       "      <td>False</td>\n",
       "      <td>False</td>\n",
       "      <td>False</td>\n",
       "      <td>False</td>\n",
       "      <td>False</td>\n",
       "      <td>False</td>\n",
       "      <td>False</td>\n",
       "      <td>False</td>\n",
       "      <td>False</td>\n",
       "      <td>False</td>\n",
       "      <td>False</td>\n",
       "    </tr>\n",
       "  </tbody>\n",
       "</table>\n",
       "</div>"
      ],
      "text/plain": [
       "                                          text  \\\n",
       "0              2020년에는 데이터를 좀 더 열심히 공부하려고 합니다.   \n",
       "1                           2020년 목표 - 안주하지 않기   \n",
       "2   자바 공부 마스터 하고 싶습니다.   더 자바, 코드를 조작하는 다양한 방법   \n",
       "3               파이썬 데이터시각화 분석 실전 프로젝트 수강하고 싶어요   \n",
       "4  2020년도 화이팅!, 스프링 프레임워크 개발자를 위한 실습을 통한 입문 과정   \n",
       "\n",
       "                                   origin_text  \\\n",
       "0              2020년에는 데이터를 좀 더 열심히 공부하려고 합니다.   \n",
       "1                           2020년 목표 - 안주하지 않기   \n",
       "2   자바 공부 마스터 하고 싶습니다.   더 자바, 코드를 조작하는 다양한 방법   \n",
       "3               파이썬 데이터시각화 분석 실전 프로젝트 수강하고 싶어요   \n",
       "4  2020년도 화이팅!, 스프링 프레임워크 개발자를 위한 실습을 통한 입문 과정   \n",
       "\n",
       "                                        course   머신러닝    딥러닝    파이썬    판다스  \\\n",
       "0              2020년에는 데이터를 좀 더 열심히 공부하려고 합니다.  False  False  False  False   \n",
       "1                           2020년 목표 - 안주하지 않기  False  False  False  False   \n",
       "2   자바 공부 마스터 하고 싶습니다.   더 자바, 코드를 조작하는 다양한 방법  False  False  False  False   \n",
       "3               파이썬 데이터시각화 분석 실전 프로젝트 수강하고 싶어요  False  False   True  False   \n",
       "4  2020년도 화이팅!, 스프링 프레임워크 개발자를 위한 실습을 통한 입문 과정  False  False  False  False   \n",
       "\n",
       "   공공데이터  django    크롤링    시각화  데이터분석    웹개발     엑셀      c     자바  자바스크립트  \\\n",
       "0  False   False  False  False  False  False  False  False  False   False   \n",
       "1  False   False  False  False  False  False  False  False  False   False   \n",
       "2  False   False  False  False  False  False  False  False   True   False   \n",
       "3  False   False  False   True  False  False  False  False  False   False   \n",
       "4  False   False  False  False  False  False  False  False  False   False   \n",
       "\n",
       "    node    vue    리액트  \n",
       "0  False  False  False  \n",
       "1  False  False  False  \n",
       "2  False  False  False  \n",
       "3  False  False  False  \n",
       "4  False  False  False  "
      ]
     },
     "execution_count": 15,
     "metadata": {},
     "output_type": "execute_result"
    }
   ],
   "source": [
    "df.head()"
   ]
  },
  {
   "cell_type": "code",
   "execution_count": 16,
   "metadata": {
    "scrolled": true
   },
   "outputs": [
    {
     "data": {
      "text/plain": [
       "(430, 20)"
      ]
     },
     "execution_count": 16,
     "metadata": {},
     "output_type": "execute_result"
    }
   ],
   "source": [
    "df_python = df[df[\"text\"].str.contains(\"파이썬|공공데이터|판다스\")].copy()\n",
    "df_python.shape"
   ]
  },
  {
   "cell_type": "code",
   "execution_count": 17,
   "metadata": {},
   "outputs": [
    {
     "data": {
      "text/plain": [
       "파이썬      406\n",
       "공공데이터     12\n",
       "판다스        6\n",
       "dtype: int64"
      ]
     },
     "execution_count": 17,
     "metadata": {},
     "output_type": "execute_result"
    }
   ],
   "source": [
    "df_python.loc[:,[\"파이썬\",\"공공데이터\",\"판다스\"]].sum()"
   ]
  },
  {
   "cell_type": "code",
   "execution_count": 18,
   "metadata": {},
   "outputs": [],
   "source": [
    "# True + True + False"
   ]
  },
  {
   "cell_type": "code",
   "execution_count": 19,
   "metadata": {
    "scrolled": true
   },
   "outputs": [
    {
     "data": {
      "text/plain": [
       "c         407\n",
       "파이썬       406\n",
       "자바        341\n",
       "자바스크립트    140\n",
       "리액트       133\n",
       "머신러닝      133\n",
       "vue       132\n",
       "node      116\n",
       "크롤링        55\n",
       "딥러닝        53\n",
       "django     31\n",
       "시각화        29\n",
       "웹개발        27\n",
       "데이터분석      24\n",
       "엑셀         18\n",
       "공공데이터      12\n",
       "판다스         6\n",
       "dtype: int64"
      ]
     },
     "execution_count": 19,
     "metadata": {},
     "output_type": "execute_result"
    }
   ],
   "source": [
    "df[search_keyword].sum().sort_values(ascending=False)"
   ]
  },
  {
   "cell_type": "code",
   "execution_count": 20,
   "metadata": {},
   "outputs": [
    {
     "name": "stdout",
     "output_type": "stream",
     "text": [
      "--------------------\n",
      "#관심강의: 프로그래밍 시작하기 : 파이썬 입문, 공공데이터로 파이썬 데이터 분석 시작하기\n",
      "파이썬의 고수가 되고싶어요\n",
      "--------------------\n",
      "자바기반 웹 개발자입니다. 데이터 분석에 많이 쓰이는 파이썬이 궁금합니다.\n",
      "#관심강의: 프로그래밍 시작하기 : 파이썬 입문, 공공데이터로 파이썬 데이터 분석 시작하기\n",
      "--------------------\n",
      "올해 안에 원하는 공부 다 끝내보려고요. 내년이면 수능이라..\n",
      "\n",
      "#관심강의: 공공데이터로 파이썬 데이터 분석 시작하기\n",
      "--------------------\n",
      "it개발자입니다. 개발을 오래 안하고 관리만 했더니 다시 개발이 너무 하고싶습니다. 올해는 인프런을 통해서 개발쪽 스킬셋을 업그레이드 하고 싶습니다!\n",
      "#관심강의: 공공데이터로 파이썬 데이터 분석 시작하기\n",
      "--------------------\n",
      "파이썬 데이터분석 마스터\n",
      "#관심강의:공공데이터로 파이썬 데이터 분석 시작하기\n",
      "--------------------\n",
      "올해 졸업하는 컴퓨터공학과 학생입니다!\n",
      "백엔드 혹은 데이터 엔지니어 쪽으로 취업하고 싶습니다!\n",
      "#관심강의: 공공데이터로 파이썬 데이터 분석 시작하기\n",
      "--------------------\n",
      "텍스트 마이닝만 수강한 뒤 현재 맡은 마케팅 업무 능률이 엄청나게 올라가는 것을 확인했으며 승진과 고가에 엄청나게 득을 보았습니다 감사합니다! 앞으로도 인프런 애용하겠습니다.\n",
      "추가적으로 해 박조은 강사님의 [공공데이터로 파이썬 데이터 분석 시작하기] 강의를 듣고 상권분석과 공공데이터 활용 역량을 올릴 예정입니다. 화이팅!!!\n",
      "#관심강의 : 공공데이터로 파이썬 데이터 분석 시작하기\n",
      "--------------------\n",
      "데이터분석 2년차가 되는데 작년에 파이썬 강의를 담아놓고 그대로 1년간 방치... 올해는 꼭 완강하고 실습해서 개발자에게 의존하지 않고 혼자 크롤링&분석 해내고 싶어요! \n",
      "#관심강의: 공공데이터로 파이썬 데이터분석 시작하기, database 1&2 - mysql\n",
      "--------------------\n",
      "2020년에는 데이터 분석쪽으로 이직하고 싶어요! 인프런 강의 듣고 이직에 성공하고 싶습니다!!\n",
      "#관심강의: 공공데이터로 파이썬 데이터 분석 시작하기\n",
      "--------------------\n",
      "경영학과 졸업생입니다. 새해엔 엑셀! 파이썬! 취직! 해내겠습니다. 좋은 강의, 커리큘럼이 있는 인프런 너무 감사합니다 ~^^\n",
      "#관심강의: 공공데이터로 분석하기\n",
      "--------------------\n",
      "인프런으로 파이썬 기초문법부터 입문했어요! 실무 데이터분석에 활용할 수 있는 수준으로 실력을 올리고 싶습니다:)\n",
      "#관심강의: 공공데이터로 파이썬 데이터 분석 시작하기\n",
      "--------------------\n",
      "나만의 프로젝트 하나 완성할 수 있을 정도의 지식 쌓기!\n",
      "#관심강의:공공데이터로 파이썬 데이터 분석 시작하기\n"
     ]
    }
   ],
   "source": [
    "text = df.loc[(df[\"공공데이터\"] == True), \"text\"]\n",
    "for t in text:\n",
    "    print(\"-\"*20)\n",
    "    print(t)"
   ]
  },
  {
   "cell_type": "markdown",
   "metadata": {},
   "source": [
    "## 판다스 단어가 들어가는 텍스트만 찾기\n",
    "* 이미 str.contains 를 통해 판다스가 들어가는 텍스트에 대해 컬럼을 만들어 놨습니다. 이 값이  True 라면 판다스 강좌 입니다."
   ]
  },
  {
   "cell_type": "code",
   "execution_count": 21,
   "metadata": {
    "scrolled": true
   },
   "outputs": [
    {
     "data": {
      "text/plain": [
       "526     2020년에는 데이터분석 관련한 실력을 쌓고싶습니다!\\n#관심강의 : 파이썬, 판다...\n",
       "675     취미로 안드로이드 개발하는 사람입니다. 자바로 작성하다 보니, kotlin이 안드로...\n",
       "743          판다스 라입러리에 관심이 많아서 배워보려 합니다 #관심강의 : 박조은 - 판다스\n",
       "1222      2020년!! 올 해는 빅데이터 분석 전문가 되기!!\\n#관심강의 : 파이썬, 판다스\n",
       "2141    2020년 목표  파이썬 을  활용해  데이터 분석 작업을 진행하고 싶습니다.  관...\n",
       "2351    저는 백세시대에 조금 더 오랫동안 it일을 하기위해서 it전략기획에서 데이터분석가로...\n",
       "Name: text, dtype: object"
      ]
     },
     "execution_count": 21,
     "metadata": {},
     "output_type": "execute_result"
    }
   ],
   "source": [
    "df.loc[df[\"판다스\"] == True, \"text\"]"
   ]
  },
  {
   "cell_type": "markdown",
   "metadata": {},
   "source": [
    "## 빈도수 계산을 위한 텍스트 데이터 벡터화\n",
    "* BOW 단어 가방에 단어를 토큰화 해서 담아줌"
   ]
  },
  {
   "cell_type": "markdown",
   "metadata": {},
   "source": [
    "## CountVectorizer 이용 하기 \"sklearn.feature_extraction.text\""
   ]
  },
  {
   "cell_type": "code",
   "execution_count": 22,
   "metadata": {},
   "outputs": [
    {
     "data": {
      "text/plain": [
       "['파이썬', '데이터', '분석']"
      ]
     },
     "execution_count": 22,
     "metadata": {},
     "output_type": "execute_result"
    }
   ],
   "source": [
    "# 토큰화\n",
    "\"파이썬 데이터 분석\".split()"
   ]
  },
  {
   "cell_type": "code",
   "execution_count": 23,
   "metadata": {},
   "outputs": [
    {
     "data": {
      "text/html": [
       "<div>\n",
       "<style scoped>\n",
       "    .dataframe tbody tr th:only-of-type {\n",
       "        vertical-align: middle;\n",
       "    }\n",
       "\n",
       "    .dataframe tbody tr th {\n",
       "        vertical-align: top;\n",
       "    }\n",
       "\n",
       "    .dataframe thead th {\n",
       "        text-align: right;\n",
       "    }\n",
       "</style>\n",
       "<table border=\"1\" class=\"dataframe\">\n",
       "  <thead>\n",
       "    <tr style=\"text-align: right;\">\n",
       "      <th></th>\n",
       "      <th>text</th>\n",
       "      <th>origin_text</th>\n",
       "      <th>course</th>\n",
       "      <th>머신러닝</th>\n",
       "      <th>딥러닝</th>\n",
       "      <th>파이썬</th>\n",
       "      <th>판다스</th>\n",
       "      <th>공공데이터</th>\n",
       "      <th>django</th>\n",
       "      <th>크롤링</th>\n",
       "      <th>시각화</th>\n",
       "      <th>데이터분석</th>\n",
       "      <th>웹개발</th>\n",
       "      <th>엑셀</th>\n",
       "      <th>c</th>\n",
       "      <th>자바</th>\n",
       "      <th>자바스크립트</th>\n",
       "      <th>node</th>\n",
       "      <th>vue</th>\n",
       "      <th>리액트</th>\n",
       "    </tr>\n",
       "  </thead>\n",
       "  <tbody>\n",
       "    <tr>\n",
       "      <th>0</th>\n",
       "      <td>2020년에는 데이터를 좀 더 열심히 공부하려고 합니다.</td>\n",
       "      <td>2020년에는 데이터를 좀 더 열심히 공부하려고 합니다.</td>\n",
       "      <td>2020년에는 데이터를 좀 더 열심히 공부하려고 합니다.</td>\n",
       "      <td>False</td>\n",
       "      <td>False</td>\n",
       "      <td>False</td>\n",
       "      <td>False</td>\n",
       "      <td>False</td>\n",
       "      <td>False</td>\n",
       "      <td>False</td>\n",
       "      <td>False</td>\n",
       "      <td>False</td>\n",
       "      <td>False</td>\n",
       "      <td>False</td>\n",
       "      <td>False</td>\n",
       "      <td>False</td>\n",
       "      <td>False</td>\n",
       "      <td>False</td>\n",
       "      <td>False</td>\n",
       "      <td>False</td>\n",
       "    </tr>\n",
       "    <tr>\n",
       "      <th>1</th>\n",
       "      <td>2020년 목표 - 안주하지 않기</td>\n",
       "      <td>2020년 목표 - 안주하지 않기</td>\n",
       "      <td>2020년 목표 - 안주하지 않기</td>\n",
       "      <td>False</td>\n",
       "      <td>False</td>\n",
       "      <td>False</td>\n",
       "      <td>False</td>\n",
       "      <td>False</td>\n",
       "      <td>False</td>\n",
       "      <td>False</td>\n",
       "      <td>False</td>\n",
       "      <td>False</td>\n",
       "      <td>False</td>\n",
       "      <td>False</td>\n",
       "      <td>False</td>\n",
       "      <td>False</td>\n",
       "      <td>False</td>\n",
       "      <td>False</td>\n",
       "      <td>False</td>\n",
       "      <td>False</td>\n",
       "    </tr>\n",
       "    <tr>\n",
       "      <th>2</th>\n",
       "      <td>자바 공부 마스터 하고 싶습니다.   더 자바, 코드를 조작하는 다양한 방법</td>\n",
       "      <td>자바 공부 마스터 하고 싶습니다.   더 자바, 코드를 조작하는 다양한 방법</td>\n",
       "      <td>자바 공부 마스터 하고 싶습니다.   더 자바, 코드를 조작하는 다양한 방법</td>\n",
       "      <td>False</td>\n",
       "      <td>False</td>\n",
       "      <td>False</td>\n",
       "      <td>False</td>\n",
       "      <td>False</td>\n",
       "      <td>False</td>\n",
       "      <td>False</td>\n",
       "      <td>False</td>\n",
       "      <td>False</td>\n",
       "      <td>False</td>\n",
       "      <td>False</td>\n",
       "      <td>False</td>\n",
       "      <td>True</td>\n",
       "      <td>False</td>\n",
       "      <td>False</td>\n",
       "      <td>False</td>\n",
       "      <td>False</td>\n",
       "    </tr>\n",
       "  </tbody>\n",
       "</table>\n",
       "</div>"
      ],
      "text/plain": [
       "                                         text  \\\n",
       "0             2020년에는 데이터를 좀 더 열심히 공부하려고 합니다.   \n",
       "1                          2020년 목표 - 안주하지 않기   \n",
       "2  자바 공부 마스터 하고 싶습니다.   더 자바, 코드를 조작하는 다양한 방법   \n",
       "\n",
       "                                  origin_text  \\\n",
       "0             2020년에는 데이터를 좀 더 열심히 공부하려고 합니다.   \n",
       "1                          2020년 목표 - 안주하지 않기   \n",
       "2  자바 공부 마스터 하고 싶습니다.   더 자바, 코드를 조작하는 다양한 방법   \n",
       "\n",
       "                                       course   머신러닝    딥러닝    파이썬    판다스  \\\n",
       "0             2020년에는 데이터를 좀 더 열심히 공부하려고 합니다.  False  False  False  False   \n",
       "1                          2020년 목표 - 안주하지 않기  False  False  False  False   \n",
       "2  자바 공부 마스터 하고 싶습니다.   더 자바, 코드를 조작하는 다양한 방법  False  False  False  False   \n",
       "\n",
       "   공공데이터  django    크롤링    시각화  데이터분석    웹개발     엑셀      c     자바  자바스크립트  \\\n",
       "0  False   False  False  False  False  False  False  False  False   False   \n",
       "1  False   False  False  False  False  False  False  False  False   False   \n",
       "2  False   False  False  False  False  False  False  False   True   False   \n",
       "\n",
       "    node    vue    리액트  \n",
       "0  False  False  False  \n",
       "1  False  False  False  \n",
       "2  False  False  False  "
      ]
     },
     "execution_count": 23,
     "metadata": {},
     "output_type": "execute_result"
    }
   ],
   "source": [
    "df.head(3)"
   ]
  },
  {
   "cell_type": "code",
   "execution_count": 24,
   "metadata": {},
   "outputs": [
    {
     "data": {
      "text/plain": [
       "CountVectorizer(analyzer='word', binary=False, decode_error='strict',\n",
       "        dtype=<class 'numpy.int64'>, encoding='utf-8', input='content',\n",
       "        lowercase=True, max_df=1.0, max_features=2000, min_df=2,\n",
       "        ngram_range=(3, 6), preprocessor=None, stop_words=None,\n",
       "        strip_accents=None, token_pattern='(?u)\\\\b\\\\w\\\\w+\\\\b',\n",
       "        tokenizer=None, vocabulary=None)"
      ]
     },
     "execution_count": 24,
     "metadata": {},
     "output_type": "execute_result"
    }
   ],
   "source": [
    "from sklearn.feature_extraction.text import CountVectorizer\n",
    "\n",
    "vectorizer = CountVectorizer(analyzer = 'word', # 캐릭터 단위로 벡터화 할 수도 있습니다. (한글자씩도 할 수 있다는 뜻)\n",
    "                             tokenizer = None, # 토크나이저를 따로 지정해 줄 수도 있습니다.\n",
    "                             preprocessor = None, # 전처리 도구\n",
    "                             stop_words = None, # 불용어 nltk등의 도구를 사용할 수도 있습니다.\n",
    "                             min_df = 2, # 토큰이 나타날 최소 문서 개수로 오타나 자주 나오지 않는 특수한 전문용어 제거에 좋습니다. \n",
    "                             ngram_range=(3, 6), # BOW의 단위 갯수의 범위를 지정합니다. (몇개의 단어씩 묶을지 결정하는 것)\n",
    "                             max_features = 2000 # 만들 피처의 수, 단어의 수\n",
    "                            )\n",
    "vectorizer\n",
    "## vectorizer 객체를 만들었다. 이를 통해, transform 하는 것"
   ]
  },
  {
   "cell_type": "code",
   "execution_count": 25,
   "metadata": {},
   "outputs": [
    {
     "data": {
      "text/plain": [
       "(2398, 2000)"
      ]
     },
     "execution_count": 25,
     "metadata": {},
     "output_type": "execute_result"
    }
   ],
   "source": [
    "## course 컬럼에 대해서, 변형(fit_transform)을 시킨다.\n",
    "feature_vector = vectorizer.fit_transform(df['course'])\n",
    "feature_vector.shape"
   ]
  },
  {
   "cell_type": "code",
   "execution_count": 26,
   "metadata": {},
   "outputs": [
    {
     "name": "stdout",
     "output_type": "stream",
     "text": [
      "<class 'scipy.sparse.csr.csr_matrix'>\n",
      "feature_vector.shape (2398, 2000) \n",
      " feature_vector.ndim 2\n"
     ]
    }
   ],
   "source": [
    "print(type(feature_vector))\n",
    "# print(feature_vector) ## 의미없음. matrix 객체이니, 거기에 맞춰서 봐야 함\n",
    "print(\"feature_vector.shape\",feature_vector.shape,\"\\n\",\"feature_vector.ndim\",feature_vector.ndim)"
   ]
  },
  {
   "cell_type": "markdown",
   "metadata": {},
   "source": [
    "#### from scipy.sparse import csr_matrix\n",
    "참조 : https://docs.scipy.org/doc/scipy/reference/generated/scipy.sparse.csr_matrix.html"
   ]
  },
  {
   "cell_type": "code",
   "execution_count": 27,
   "metadata": {},
   "outputs": [
    {
     "data": {
      "text/plain": [
       "array([[0, 0, 0, ..., 0, 0, 0],\n",
       "       [0, 0, 0, ..., 0, 0, 0],\n",
       "       [0, 0, 0, ..., 0, 0, 0],\n",
       "       ...,\n",
       "       [0, 0, 0, ..., 0, 0, 0],\n",
       "       [0, 0, 0, ..., 0, 0, 0],\n",
       "       [0, 0, 0, ..., 0, 0, 0]], dtype=int64)"
      ]
     },
     "execution_count": 27,
     "metadata": {},
     "output_type": "execute_result"
    }
   ],
   "source": [
    "feature_vector.toarray()[1:10,:]"
   ]
  },
  {
   "cell_type": "code",
   "execution_count": 28,
   "metadata": {},
   "outputs": [
    {
     "name": "stdout",
     "output_type": "stream",
     "text": [
      "2000\n"
     ]
    },
    {
     "data": {
      "text/plain": [
       "['12개 만들면서 배우는',\n",
       " '12개 만들면서 배우는 ios',\n",
       " '12개 만들면서 배우는 ios 아이폰',\n",
       " '12개 만들면서 배우는 ios 아이폰 개발',\n",
       " '12개를 만들며 배우는',\n",
       " '12개를 만들며 배우는 swift4',\n",
       " '12개를 만들며 배우는 swift4 ios11',\n",
       " '12개를 만들며 배우는 swift4 ios11 아이폰',\n",
       " '2018 do it',\n",
       " '2018 do it 안드로이드']"
      ]
     },
     "execution_count": 28,
     "metadata": {},
     "output_type": "execute_result"
    }
   ],
   "source": [
    "vocab = vectorizer.get_feature_names()\n",
    "print(len(vocab))\n",
    "vocab[:10] ## 컬럼벡터의 이름인듯\n",
    "## 3개 ~ 6개의 단어로 묶어서 벡터화 하였다."
   ]
  },
  {
   "cell_type": "code",
   "execution_count": 29,
   "metadata": {},
   "outputs": [
    {
     "data": {
      "text/html": [
       "<div>\n",
       "<style scoped>\n",
       "    .dataframe tbody tr th:only-of-type {\n",
       "        vertical-align: middle;\n",
       "    }\n",
       "\n",
       "    .dataframe tbody tr th {\n",
       "        vertical-align: top;\n",
       "    }\n",
       "\n",
       "    .dataframe thead th {\n",
       "        text-align: right;\n",
       "    }\n",
       "</style>\n",
       "<table border=\"1\" class=\"dataframe\">\n",
       "  <thead>\n",
       "    <tr style=\"text-align: right;\">\n",
       "      <th></th>\n",
       "      <th>12개 만들면서 배우는</th>\n",
       "      <th>12개 만들면서 배우는 ios</th>\n",
       "      <th>12개 만들면서 배우는 ios 아이폰</th>\n",
       "      <th>12개 만들면서 배우는 ios 아이폰 개발</th>\n",
       "      <th>12개를 만들며 배우는</th>\n",
       "      <th>12개를 만들며 배우는 swift4</th>\n",
       "      <th>12개를 만들며 배우는 swift4 ios11</th>\n",
       "      <th>12개를 만들며 배우는 swift4 ios11 아이폰</th>\n",
       "      <th>2018 do it</th>\n",
       "      <th>2018 do it 안드로이드</th>\n",
       "      <th>...</th>\n",
       "      <th>활용2 api 개발과 성능 최적화</th>\n",
       "      <th>활용한 다양한 자동화</th>\n",
       "      <th>활용한 다양한 자동화 어플리케이션</th>\n",
       "      <th>활용한 다양한 자동화 어플리케이션 제작하기</th>\n",
       "      <th>활용한 데이터분석과 it보안</th>\n",
       "      <th>활용한 리액트 native</th>\n",
       "      <th>활용한 리액트 native 개발</th>\n",
       "      <th>활용한 메신져 만들기</th>\n",
       "      <th>활용한 메신져 만들기 android</th>\n",
       "      <th>활용한 파이썬 프로그래밍</th>\n",
       "    </tr>\n",
       "  </thead>\n",
       "  <tbody>\n",
       "    <tr>\n",
       "      <th>0</th>\n",
       "      <td>0</td>\n",
       "      <td>0</td>\n",
       "      <td>0</td>\n",
       "      <td>0</td>\n",
       "      <td>0</td>\n",
       "      <td>0</td>\n",
       "      <td>0</td>\n",
       "      <td>0</td>\n",
       "      <td>0</td>\n",
       "      <td>0</td>\n",
       "      <td>...</td>\n",
       "      <td>0</td>\n",
       "      <td>0</td>\n",
       "      <td>0</td>\n",
       "      <td>0</td>\n",
       "      <td>0</td>\n",
       "      <td>0</td>\n",
       "      <td>0</td>\n",
       "      <td>0</td>\n",
       "      <td>0</td>\n",
       "      <td>0</td>\n",
       "    </tr>\n",
       "    <tr>\n",
       "      <th>1</th>\n",
       "      <td>0</td>\n",
       "      <td>0</td>\n",
       "      <td>0</td>\n",
       "      <td>0</td>\n",
       "      <td>0</td>\n",
       "      <td>0</td>\n",
       "      <td>0</td>\n",
       "      <td>0</td>\n",
       "      <td>0</td>\n",
       "      <td>0</td>\n",
       "      <td>...</td>\n",
       "      <td>0</td>\n",
       "      <td>0</td>\n",
       "      <td>0</td>\n",
       "      <td>0</td>\n",
       "      <td>0</td>\n",
       "      <td>0</td>\n",
       "      <td>0</td>\n",
       "      <td>0</td>\n",
       "      <td>0</td>\n",
       "      <td>0</td>\n",
       "    </tr>\n",
       "    <tr>\n",
       "      <th>2</th>\n",
       "      <td>0</td>\n",
       "      <td>0</td>\n",
       "      <td>0</td>\n",
       "      <td>0</td>\n",
       "      <td>0</td>\n",
       "      <td>0</td>\n",
       "      <td>0</td>\n",
       "      <td>0</td>\n",
       "      <td>0</td>\n",
       "      <td>0</td>\n",
       "      <td>...</td>\n",
       "      <td>0</td>\n",
       "      <td>0</td>\n",
       "      <td>0</td>\n",
       "      <td>0</td>\n",
       "      <td>0</td>\n",
       "      <td>0</td>\n",
       "      <td>0</td>\n",
       "      <td>0</td>\n",
       "      <td>0</td>\n",
       "      <td>0</td>\n",
       "    </tr>\n",
       "    <tr>\n",
       "      <th>3</th>\n",
       "      <td>0</td>\n",
       "      <td>0</td>\n",
       "      <td>0</td>\n",
       "      <td>0</td>\n",
       "      <td>0</td>\n",
       "      <td>0</td>\n",
       "      <td>0</td>\n",
       "      <td>0</td>\n",
       "      <td>0</td>\n",
       "      <td>0</td>\n",
       "      <td>...</td>\n",
       "      <td>0</td>\n",
       "      <td>0</td>\n",
       "      <td>0</td>\n",
       "      <td>0</td>\n",
       "      <td>0</td>\n",
       "      <td>0</td>\n",
       "      <td>0</td>\n",
       "      <td>0</td>\n",
       "      <td>0</td>\n",
       "      <td>0</td>\n",
       "    </tr>\n",
       "    <tr>\n",
       "      <th>4</th>\n",
       "      <td>0</td>\n",
       "      <td>0</td>\n",
       "      <td>0</td>\n",
       "      <td>0</td>\n",
       "      <td>0</td>\n",
       "      <td>0</td>\n",
       "      <td>0</td>\n",
       "      <td>0</td>\n",
       "      <td>0</td>\n",
       "      <td>0</td>\n",
       "      <td>...</td>\n",
       "      <td>0</td>\n",
       "      <td>0</td>\n",
       "      <td>0</td>\n",
       "      <td>0</td>\n",
       "      <td>0</td>\n",
       "      <td>0</td>\n",
       "      <td>0</td>\n",
       "      <td>0</td>\n",
       "      <td>0</td>\n",
       "      <td>0</td>\n",
       "    </tr>\n",
       "    <tr>\n",
       "      <th>5</th>\n",
       "      <td>0</td>\n",
       "      <td>0</td>\n",
       "      <td>0</td>\n",
       "      <td>0</td>\n",
       "      <td>0</td>\n",
       "      <td>0</td>\n",
       "      <td>0</td>\n",
       "      <td>0</td>\n",
       "      <td>0</td>\n",
       "      <td>0</td>\n",
       "      <td>...</td>\n",
       "      <td>0</td>\n",
       "      <td>0</td>\n",
       "      <td>0</td>\n",
       "      <td>0</td>\n",
       "      <td>0</td>\n",
       "      <td>0</td>\n",
       "      <td>0</td>\n",
       "      <td>0</td>\n",
       "      <td>0</td>\n",
       "      <td>0</td>\n",
       "    </tr>\n",
       "    <tr>\n",
       "      <th>6</th>\n",
       "      <td>0</td>\n",
       "      <td>0</td>\n",
       "      <td>0</td>\n",
       "      <td>0</td>\n",
       "      <td>0</td>\n",
       "      <td>0</td>\n",
       "      <td>0</td>\n",
       "      <td>0</td>\n",
       "      <td>0</td>\n",
       "      <td>0</td>\n",
       "      <td>...</td>\n",
       "      <td>0</td>\n",
       "      <td>0</td>\n",
       "      <td>0</td>\n",
       "      <td>0</td>\n",
       "      <td>0</td>\n",
       "      <td>0</td>\n",
       "      <td>0</td>\n",
       "      <td>0</td>\n",
       "      <td>0</td>\n",
       "      <td>0</td>\n",
       "    </tr>\n",
       "    <tr>\n",
       "      <th>7</th>\n",
       "      <td>0</td>\n",
       "      <td>0</td>\n",
       "      <td>0</td>\n",
       "      <td>0</td>\n",
       "      <td>0</td>\n",
       "      <td>0</td>\n",
       "      <td>0</td>\n",
       "      <td>0</td>\n",
       "      <td>0</td>\n",
       "      <td>0</td>\n",
       "      <td>...</td>\n",
       "      <td>0</td>\n",
       "      <td>0</td>\n",
       "      <td>0</td>\n",
       "      <td>0</td>\n",
       "      <td>0</td>\n",
       "      <td>0</td>\n",
       "      <td>0</td>\n",
       "      <td>0</td>\n",
       "      <td>0</td>\n",
       "      <td>0</td>\n",
       "    </tr>\n",
       "    <tr>\n",
       "      <th>8</th>\n",
       "      <td>0</td>\n",
       "      <td>0</td>\n",
       "      <td>0</td>\n",
       "      <td>0</td>\n",
       "      <td>0</td>\n",
       "      <td>0</td>\n",
       "      <td>0</td>\n",
       "      <td>0</td>\n",
       "      <td>0</td>\n",
       "      <td>0</td>\n",
       "      <td>...</td>\n",
       "      <td>0</td>\n",
       "      <td>0</td>\n",
       "      <td>0</td>\n",
       "      <td>0</td>\n",
       "      <td>0</td>\n",
       "      <td>0</td>\n",
       "      <td>0</td>\n",
       "      <td>0</td>\n",
       "      <td>0</td>\n",
       "      <td>0</td>\n",
       "    </tr>\n",
       "    <tr>\n",
       "      <th>9</th>\n",
       "      <td>0</td>\n",
       "      <td>0</td>\n",
       "      <td>0</td>\n",
       "      <td>0</td>\n",
       "      <td>0</td>\n",
       "      <td>0</td>\n",
       "      <td>0</td>\n",
       "      <td>0</td>\n",
       "      <td>0</td>\n",
       "      <td>0</td>\n",
       "      <td>...</td>\n",
       "      <td>0</td>\n",
       "      <td>0</td>\n",
       "      <td>0</td>\n",
       "      <td>0</td>\n",
       "      <td>0</td>\n",
       "      <td>0</td>\n",
       "      <td>0</td>\n",
       "      <td>0</td>\n",
       "      <td>0</td>\n",
       "      <td>0</td>\n",
       "    </tr>\n",
       "  </tbody>\n",
       "</table>\n",
       "<p>10 rows × 2000 columns</p>\n",
       "</div>"
      ],
      "text/plain": [
       "   12개 만들면서 배우는  12개 만들면서 배우는 ios  12개 만들면서 배우는 ios 아이폰  \\\n",
       "0             0                 0                     0   \n",
       "1             0                 0                     0   \n",
       "2             0                 0                     0   \n",
       "3             0                 0                     0   \n",
       "4             0                 0                     0   \n",
       "5             0                 0                     0   \n",
       "6             0                 0                     0   \n",
       "7             0                 0                     0   \n",
       "8             0                 0                     0   \n",
       "9             0                 0                     0   \n",
       "\n",
       "   12개 만들면서 배우는 ios 아이폰 개발  12개를 만들며 배우는  12개를 만들며 배우는 swift4  \\\n",
       "0                        0             0                    0   \n",
       "1                        0             0                    0   \n",
       "2                        0             0                    0   \n",
       "3                        0             0                    0   \n",
       "4                        0             0                    0   \n",
       "5                        0             0                    0   \n",
       "6                        0             0                    0   \n",
       "7                        0             0                    0   \n",
       "8                        0             0                    0   \n",
       "9                        0             0                    0   \n",
       "\n",
       "   12개를 만들며 배우는 swift4 ios11  12개를 만들며 배우는 swift4 ios11 아이폰  2018 do it  \\\n",
       "0                          0                              0           0   \n",
       "1                          0                              0           0   \n",
       "2                          0                              0           0   \n",
       "3                          0                              0           0   \n",
       "4                          0                              0           0   \n",
       "5                          0                              0           0   \n",
       "6                          0                              0           0   \n",
       "7                          0                              0           0   \n",
       "8                          0                              0           0   \n",
       "9                          0                              0           0   \n",
       "\n",
       "   2018 do it 안드로이드  ...  활용2 api 개발과 성능 최적화  활용한 다양한 자동화  활용한 다양한 자동화 어플리케이션  \\\n",
       "0                 0  ...                   0            0                   0   \n",
       "1                 0  ...                   0            0                   0   \n",
       "2                 0  ...                   0            0                   0   \n",
       "3                 0  ...                   0            0                   0   \n",
       "4                 0  ...                   0            0                   0   \n",
       "5                 0  ...                   0            0                   0   \n",
       "6                 0  ...                   0            0                   0   \n",
       "7                 0  ...                   0            0                   0   \n",
       "8                 0  ...                   0            0                   0   \n",
       "9                 0  ...                   0            0                   0   \n",
       "\n",
       "   활용한 다양한 자동화 어플리케이션 제작하기  활용한 데이터분석과 it보안  활용한 리액트 native  \\\n",
       "0                        0                0               0   \n",
       "1                        0                0               0   \n",
       "2                        0                0               0   \n",
       "3                        0                0               0   \n",
       "4                        0                0               0   \n",
       "5                        0                0               0   \n",
       "6                        0                0               0   \n",
       "7                        0                0               0   \n",
       "8                        0                0               0   \n",
       "9                        0                0               0   \n",
       "\n",
       "   활용한 리액트 native 개발  활용한 메신져 만들기  활용한 메신져 만들기 android  활용한 파이썬 프로그래밍  \n",
       "0                  0            0                    0              0  \n",
       "1                  0            0                    0              0  \n",
       "2                  0            0                    0              0  \n",
       "3                  0            0                    0              0  \n",
       "4                  0            0                    0              0  \n",
       "5                  0            0                    0              0  \n",
       "6                  0            0                    0              0  \n",
       "7                  0            0                    0              0  \n",
       "8                  0            0                    0              0  \n",
       "9                  0            0                    0              0  \n",
       "\n",
       "[10 rows x 2000 columns]"
      ]
     },
     "execution_count": 29,
     "metadata": {},
     "output_type": "execute_result"
    }
   ],
   "source": [
    "# 각 리뷰마다 등장하는 단어에 빈도수가 표현됩니다. 0 은 등장하지 않음을 의미합니다.\n",
    "## feature_vector 를 10행*전체열 가져와서, array -> dataframe 2번 변환\n",
    "pd.DataFrame(feature_vector[:10].toarray(), columns=vocab).head(10)"
   ]
  },
  {
   "cell_type": "code",
   "execution_count": 30,
   "metadata": {},
   "outputs": [
    {
     "data": {
      "text/html": [
       "<div>\n",
       "<style scoped>\n",
       "    .dataframe tbody tr th:only-of-type {\n",
       "        vertical-align: middle;\n",
       "    }\n",
       "\n",
       "    .dataframe tbody tr th {\n",
       "        vertical-align: top;\n",
       "    }\n",
       "\n",
       "    .dataframe thead th {\n",
       "        text-align: right;\n",
       "    }\n",
       "</style>\n",
       "<table border=\"1\" class=\"dataframe\">\n",
       "  <thead>\n",
       "    <tr style=\"text-align: right;\">\n",
       "      <th></th>\n",
       "      <th>12개 만들면서 배우는</th>\n",
       "      <th>12개 만들면서 배우는 ios</th>\n",
       "      <th>12개 만들면서 배우는 ios 아이폰</th>\n",
       "      <th>12개 만들면서 배우는 ios 아이폰 개발</th>\n",
       "      <th>12개를 만들며 배우는</th>\n",
       "      <th>12개를 만들며 배우는 swift4</th>\n",
       "      <th>12개를 만들며 배우는 swift4 ios11</th>\n",
       "      <th>12개를 만들며 배우는 swift4 ios11 아이폰</th>\n",
       "      <th>2018 do it</th>\n",
       "      <th>2018 do it 안드로이드</th>\n",
       "      <th>...</th>\n",
       "      <th>활용2 api 개발과 성능 최적화</th>\n",
       "      <th>활용한 다양한 자동화</th>\n",
       "      <th>활용한 다양한 자동화 어플리케이션</th>\n",
       "      <th>활용한 다양한 자동화 어플리케이션 제작하기</th>\n",
       "      <th>활용한 데이터분석과 it보안</th>\n",
       "      <th>활용한 리액트 native</th>\n",
       "      <th>활용한 리액트 native 개발</th>\n",
       "      <th>활용한 메신져 만들기</th>\n",
       "      <th>활용한 메신져 만들기 android</th>\n",
       "      <th>활용한 파이썬 프로그래밍</th>\n",
       "    </tr>\n",
       "  </thead>\n",
       "  <tbody>\n",
       "    <tr>\n",
       "      <th>0</th>\n",
       "      <td>2</td>\n",
       "      <td>2</td>\n",
       "      <td>2</td>\n",
       "      <td>2</td>\n",
       "      <td>2</td>\n",
       "      <td>2</td>\n",
       "      <td>2</td>\n",
       "      <td>2</td>\n",
       "      <td>2</td>\n",
       "      <td>2</td>\n",
       "      <td>...</td>\n",
       "      <td>16</td>\n",
       "      <td>13</td>\n",
       "      <td>13</td>\n",
       "      <td>12</td>\n",
       "      <td>2</td>\n",
       "      <td>8</td>\n",
       "      <td>8</td>\n",
       "      <td>2</td>\n",
       "      <td>2</td>\n",
       "      <td>2</td>\n",
       "    </tr>\n",
       "  </tbody>\n",
       "</table>\n",
       "<p>1 rows × 2000 columns</p>\n",
       "</div>"
      ],
      "text/plain": [
       "   12개 만들면서 배우는  12개 만들면서 배우는 ios  12개 만들면서 배우는 ios 아이폰  \\\n",
       "0             2                 2                     2   \n",
       "\n",
       "   12개 만들면서 배우는 ios 아이폰 개발  12개를 만들며 배우는  12개를 만들며 배우는 swift4  \\\n",
       "0                        2             2                    2   \n",
       "\n",
       "   12개를 만들며 배우는 swift4 ios11  12개를 만들며 배우는 swift4 ios11 아이폰  2018 do it  \\\n",
       "0                          2                              2           2   \n",
       "\n",
       "   2018 do it 안드로이드  ...  활용2 api 개발과 성능 최적화  활용한 다양한 자동화  활용한 다양한 자동화 어플리케이션  \\\n",
       "0                 2  ...                  16           13                  13   \n",
       "\n",
       "   활용한 다양한 자동화 어플리케이션 제작하기  활용한 데이터분석과 it보안  활용한 리액트 native  \\\n",
       "0                       12                2               8   \n",
       "\n",
       "   활용한 리액트 native 개발  활용한 메신져 만들기  활용한 메신져 만들기 android  활용한 파이썬 프로그래밍  \n",
       "0                  8            2                    2              2  \n",
       "\n",
       "[1 rows x 2000 columns]"
      ]
     },
     "execution_count": 30,
     "metadata": {},
     "output_type": "execute_result"
    }
   ],
   "source": [
    "# 위에서 구한 단어벡터를 더하면 단어가 전체에서 등장하는 횟수를 알 수 있습니다.\n",
    "# 벡터화 된 피처를 확인해 봄\n",
    "# Bag of words 에 몇 개의 단어가 들어있는지 확인\n",
    "dist = np.sum(feature_vector, axis=0) ## feature_vector type 은 csr.matrix 임\n",
    "    \n",
    "df_freq = pd.DataFrame(dist, columns=vocab)\n",
    "df_freq"
   ]
  },
  {
   "cell_type": "code",
   "execution_count": 31,
   "metadata": {},
   "outputs": [
    {
     "data": {
      "text/html": [
       "<div>\n",
       "<style scoped>\n",
       "    .dataframe tbody tr th:only-of-type {\n",
       "        vertical-align: middle;\n",
       "    }\n",
       "\n",
       "    .dataframe tbody tr th {\n",
       "        vertical-align: top;\n",
       "    }\n",
       "\n",
       "    .dataframe thead th {\n",
       "        text-align: right;\n",
       "    }\n",
       "</style>\n",
       "<table border=\"1\" class=\"dataframe\">\n",
       "  <thead>\n",
       "    <tr style=\"text-align: right;\">\n",
       "      <th></th>\n",
       "      <th>0</th>\n",
       "    </tr>\n",
       "  </thead>\n",
       "  <tbody>\n",
       "    <tr>\n",
       "      <th>홍정모의 따라하며 배우는</th>\n",
       "      <td>100</td>\n",
       "    </tr>\n",
       "    <tr>\n",
       "      <th>스프링 데이터 jpa</th>\n",
       "      <td>60</td>\n",
       "    </tr>\n",
       "    <tr>\n",
       "      <th>nodebird sns 만들기</th>\n",
       "      <td>59</td>\n",
       "    </tr>\n",
       "    <tr>\n",
       "      <th>파이썬 머신러닝 완벽</th>\n",
       "      <td>49</td>\n",
       "    </tr>\n",
       "    <tr>\n",
       "      <th>머신러닝 완벽 가이드</th>\n",
       "      <td>49</td>\n",
       "    </tr>\n",
       "    <tr>\n",
       "      <th>프로그래밍과 자바스크립트 es6</th>\n",
       "      <td>48</td>\n",
       "    </tr>\n",
       "    <tr>\n",
       "      <th>리액트로 nodebird sns 만들기</th>\n",
       "      <td>48</td>\n",
       "    </tr>\n",
       "    <tr>\n",
       "      <th>리액트로 nodebird sns</th>\n",
       "      <td>48</td>\n",
       "    </tr>\n",
       "    <tr>\n",
       "      <th>파이썬 머신러닝 완벽 가이드</th>\n",
       "      <td>48</td>\n",
       "    </tr>\n",
       "    <tr>\n",
       "      <th>2020년 공부 목표</th>\n",
       "      <td>47</td>\n",
       "    </tr>\n",
       "  </tbody>\n",
       "</table>\n",
       "</div>"
      ],
      "text/plain": [
       "                         0\n",
       "홍정모의 따라하며 배우는          100\n",
       "스프링 데이터 jpa             60\n",
       "nodebird sns 만들기        59\n",
       "파이썬 머신러닝 완벽             49\n",
       "머신러닝 완벽 가이드             49\n",
       "프로그래밍과 자바스크립트 es6       48\n",
       "리액트로 nodebird sns 만들기   48\n",
       "리액트로 nodebird sns       48\n",
       "파이썬 머신러닝 완벽 가이드         48\n",
       "2020년 공부 목표             47"
      ]
     },
     "execution_count": 31,
     "metadata": {},
     "output_type": "execute_result"
    }
   ],
   "source": [
    "# 행과 열의 축을 T로 바꿔주고 빈도수로 정렬\n",
    "df_freq.T.sort_values(by=0, ascending=False).head(10)"
   ]
  },
  {
   "cell_type": "code",
   "execution_count": 32,
   "metadata": {},
   "outputs": [
    {
     "data": {
      "text/html": [
       "<div>\n",
       "<style scoped>\n",
       "    .dataframe tbody tr th:only-of-type {\n",
       "        vertical-align: middle;\n",
       "    }\n",
       "\n",
       "    .dataframe tbody tr th {\n",
       "        vertical-align: top;\n",
       "    }\n",
       "\n",
       "    .dataframe thead th {\n",
       "        text-align: right;\n",
       "    }\n",
       "</style>\n",
       "<table border=\"1\" class=\"dataframe\">\n",
       "  <thead>\n",
       "    <tr style=\"text-align: right;\">\n",
       "      <th></th>\n",
       "      <th>0</th>\n",
       "    </tr>\n",
       "  </thead>\n",
       "  <tbody>\n",
       "    <tr>\n",
       "      <th>홍정모의 따라하며 배우는</th>\n",
       "      <td>100</td>\n",
       "    </tr>\n",
       "    <tr>\n",
       "      <th>스프링 데이터 jpa</th>\n",
       "      <td>60</td>\n",
       "    </tr>\n",
       "    <tr>\n",
       "      <th>nodebird sns 만들기</th>\n",
       "      <td>59</td>\n",
       "    </tr>\n",
       "    <tr>\n",
       "      <th>파이썬 머신러닝 완벽</th>\n",
       "      <td>49</td>\n",
       "    </tr>\n",
       "    <tr>\n",
       "      <th>머신러닝 완벽 가이드</th>\n",
       "      <td>49</td>\n",
       "    </tr>\n",
       "    <tr>\n",
       "      <th>프로그래밍과 자바스크립트 es6</th>\n",
       "      <td>48</td>\n",
       "    </tr>\n",
       "    <tr>\n",
       "      <th>리액트로 nodebird sns 만들기</th>\n",
       "      <td>48</td>\n",
       "    </tr>\n",
       "    <tr>\n",
       "      <th>리액트로 nodebird sns</th>\n",
       "      <td>48</td>\n",
       "    </tr>\n",
       "    <tr>\n",
       "      <th>파이썬 머신러닝 완벽 가이드</th>\n",
       "      <td>48</td>\n",
       "    </tr>\n",
       "    <tr>\n",
       "      <th>2020년 공부 목표</th>\n",
       "      <td>47</td>\n",
       "    </tr>\n",
       "  </tbody>\n",
       "</table>\n",
       "</div>"
      ],
      "text/plain": [
       "                         0\n",
       "홍정모의 따라하며 배우는          100\n",
       "스프링 데이터 jpa             60\n",
       "nodebird sns 만들기        59\n",
       "파이썬 머신러닝 완벽             49\n",
       "머신러닝 완벽 가이드             49\n",
       "프로그래밍과 자바스크립트 es6       48\n",
       "리액트로 nodebird sns 만들기   48\n",
       "리액트로 nodebird sns       48\n",
       "파이썬 머신러닝 완벽 가이드         48\n",
       "2020년 공부 목표             47"
      ]
     },
     "execution_count": 32,
     "metadata": {},
     "output_type": "execute_result"
    }
   ],
   "source": [
    "## 상기 결과와 같은걸 stack 으로도 할 수 있음 근데 권장안함. stack , unstack 은 multiIndex 에서 사용해야 덜 헷갈림 by JJH\n",
    "pd.DataFrame(df_freq.stack(level=-1)[0][:]).sort_values(by=0, ascending=False).head(10)"
   ]
  },
  {
   "cell_type": "code",
   "execution_count": 33,
   "metadata": {},
   "outputs": [
    {
     "data": {
      "text/html": [
       "<div>\n",
       "<style scoped>\n",
       "    .dataframe tbody tr th:only-of-type {\n",
       "        vertical-align: middle;\n",
       "    }\n",
       "\n",
       "    .dataframe tbody tr th {\n",
       "        vertical-align: top;\n",
       "    }\n",
       "\n",
       "    .dataframe thead th {\n",
       "        text-align: right;\n",
       "    }\n",
       "</style>\n",
       "<table border=\"1\" class=\"dataframe\">\n",
       "  <thead>\n",
       "    <tr style=\"text-align: right;\">\n",
       "      <th></th>\n",
       "      <th>course</th>\n",
       "      <th>freq</th>\n",
       "      <th>course_find</th>\n",
       "    </tr>\n",
       "  </thead>\n",
       "  <tbody>\n",
       "    <tr>\n",
       "      <th>1999</th>\n",
       "      <td>활용한 파이썬 프로그래밍</td>\n",
       "      <td>2</td>\n",
       "      <td>활용한 파이썬 프로그래밍</td>\n",
       "    </tr>\n",
       "    <tr>\n",
       "      <th>1998</th>\n",
       "      <td>활용한 메신져 만들기 android</td>\n",
       "      <td>2</td>\n",
       "      <td>활용한 메신져 만들기 android</td>\n",
       "    </tr>\n",
       "    <tr>\n",
       "      <th>1997</th>\n",
       "      <td>활용한 메신져 만들기</td>\n",
       "      <td>2</td>\n",
       "      <td>활용한 메신져 만들기</td>\n",
       "    </tr>\n",
       "    <tr>\n",
       "      <th>1996</th>\n",
       "      <td>활용한 리액트 native 개발</td>\n",
       "      <td>8</td>\n",
       "      <td>활용한 리액트 native 개발</td>\n",
       "    </tr>\n",
       "    <tr>\n",
       "      <th>1995</th>\n",
       "      <td>활용한 리액트 native</td>\n",
       "      <td>8</td>\n",
       "      <td>활용한 리액트 native</td>\n",
       "    </tr>\n",
       "    <tr>\n",
       "      <th>1994</th>\n",
       "      <td>활용한 데이터분석과 it보안</td>\n",
       "      <td>2</td>\n",
       "      <td>활용한 데이터분석과 it보안</td>\n",
       "    </tr>\n",
       "    <tr>\n",
       "      <th>1992</th>\n",
       "      <td>활용한 다양한 자동화 어플리케이션</td>\n",
       "      <td>13</td>\n",
       "      <td>활용한 다양한 자동화 어플리케이션</td>\n",
       "    </tr>\n",
       "    <tr>\n",
       "      <th>1993</th>\n",
       "      <td>활용한 다양한 자동화 어플리케이션 제작하기</td>\n",
       "      <td>12</td>\n",
       "      <td>활용한 다양한 자동화 어플리케이션</td>\n",
       "    </tr>\n",
       "    <tr>\n",
       "      <th>1991</th>\n",
       "      <td>활용한 다양한 자동화</td>\n",
       "      <td>13</td>\n",
       "      <td>활용한 다양한 자동화</td>\n",
       "    </tr>\n",
       "    <tr>\n",
       "      <th>1989</th>\n",
       "      <td>활용2 api 개발과 성능</td>\n",
       "      <td>16</td>\n",
       "      <td>활용2 api 개발과 성능</td>\n",
       "    </tr>\n",
       "  </tbody>\n",
       "</table>\n",
       "</div>"
      ],
      "text/plain": [
       "                       course  freq          course_find\n",
       "1999            활용한 파이썬 프로그래밍     2        활용한 파이썬 프로그래밍\n",
       "1998      활용한 메신져 만들기 android     2  활용한 메신져 만들기 android\n",
       "1997              활용한 메신져 만들기     2          활용한 메신져 만들기\n",
       "1996        활용한 리액트 native 개발     8    활용한 리액트 native 개발\n",
       "1995           활용한 리액트 native     8       활용한 리액트 native\n",
       "1994          활용한 데이터분석과 it보안     2      활용한 데이터분석과 it보안\n",
       "1992       활용한 다양한 자동화 어플리케이션    13   활용한 다양한 자동화 어플리케이션\n",
       "1993  활용한 다양한 자동화 어플리케이션 제작하기    12   활용한 다양한 자동화 어플리케이션\n",
       "1991              활용한 다양한 자동화    13          활용한 다양한 자동화\n",
       "1989           활용2 api 개발과 성능    16       활용2 api 개발과 성능"
      ]
     },
     "execution_count": 33,
     "metadata": {},
     "output_type": "execute_result"
    }
   ],
   "source": [
    "df_freq_T = df_freq.T.reset_index()\n",
    "df_freq_T.columns = [\"course\", \"freq\"]\n",
    "# 강의명을 토큰 3개로 중복제거하기 위해, 강좌명에서 지식공유자의 이름을 빈문자열로 변경\n",
    "df_freq_T[\"course_find\"] = df_freq_T[\"course\"].str.replace(\"홍정모의\", \"\")\n",
    "df_freq_T[\"course_find\"] = df_freq_T[\"course_find\"].apply(lambda x : \" \". join(x.split()[:4]))\n",
    "# df_freq_T.head()\n",
    "df_freq_T.sort_values([\"course_find\", \"freq\"], ascending=False).head(10)"
   ]
  },
  {
   "cell_type": "code",
   "execution_count": 34,
   "metadata": {},
   "outputs": [
    {
     "name": "stdout",
     "output_type": "stream",
     "text": [
      "(2000, 3)\n",
      "(1438, 3)\n"
     ]
    }
   ],
   "source": [
    "# 3개의 ngram과 빈도수로 역순 정렬을 하게 되면 빈도수가 높고, ngram수가 많은 순으로 정렬이 됨 \n",
    "# 여기에서 첫 번째 강좌를 남기고 나머지 중복을 삭제\n",
    "print(df_freq_T.shape)\n",
    "df_course = df_freq_T.drop_duplicates([\"course_find\", \"freq\"], keep=\"first\")\n",
    "print(df_course.shape)"
   ]
  },
  {
   "cell_type": "code",
   "execution_count": 35,
   "metadata": {},
   "outputs": [
    {
     "data": {
      "text/html": [
       "<div>\n",
       "<style scoped>\n",
       "    .dataframe tbody tr th:only-of-type {\n",
       "        vertical-align: middle;\n",
       "    }\n",
       "\n",
       "    .dataframe tbody tr th {\n",
       "        vertical-align: top;\n",
       "    }\n",
       "\n",
       "    .dataframe thead th {\n",
       "        text-align: right;\n",
       "    }\n",
       "</style>\n",
       "<table border=\"1\" class=\"dataframe\">\n",
       "  <thead>\n",
       "    <tr style=\"text-align: right;\">\n",
       "      <th></th>\n",
       "      <th>course</th>\n",
       "      <th>freq</th>\n",
       "      <th>course_find</th>\n",
       "    </tr>\n",
       "  </thead>\n",
       "  <tbody>\n",
       "    <tr>\n",
       "      <th>1965</th>\n",
       "      <td>홍정모의 따라하며 배우는</td>\n",
       "      <td>100</td>\n",
       "      <td>따라하며 배우는</td>\n",
       "    </tr>\n",
       "    <tr>\n",
       "      <th>1077</th>\n",
       "      <td>스프링 데이터 jpa</td>\n",
       "      <td>60</td>\n",
       "      <td>스프링 데이터 jpa</td>\n",
       "    </tr>\n",
       "    <tr>\n",
       "      <th>320</th>\n",
       "      <td>nodebird sns 만들기</td>\n",
       "      <td>59</td>\n",
       "      <td>nodebird sns 만들기</td>\n",
       "    </tr>\n",
       "    <tr>\n",
       "      <th>925</th>\n",
       "      <td>머신러닝 완벽 가이드</td>\n",
       "      <td>49</td>\n",
       "      <td>머신러닝 완벽 가이드</td>\n",
       "    </tr>\n",
       "    <tr>\n",
       "      <th>1738</th>\n",
       "      <td>파이썬 머신러닝 완벽</td>\n",
       "      <td>49</td>\n",
       "      <td>파이썬 머신러닝 완벽</td>\n",
       "    </tr>\n",
       "    <tr>\n",
       "      <th>1868</th>\n",
       "      <td>프로그래밍과 자바스크립트 es6</td>\n",
       "      <td>48</td>\n",
       "      <td>프로그래밍과 자바스크립트 es6</td>\n",
       "    </tr>\n",
       "    <tr>\n",
       "      <th>904</th>\n",
       "      <td>리액트로 nodebird sns 만들기</td>\n",
       "      <td>48</td>\n",
       "      <td>리액트로 nodebird sns 만들기</td>\n",
       "    </tr>\n",
       "    <tr>\n",
       "      <th>1739</th>\n",
       "      <td>파이썬 머신러닝 완벽 가이드</td>\n",
       "      <td>48</td>\n",
       "      <td>파이썬 머신러닝 완벽 가이드</td>\n",
       "    </tr>\n",
       "    <tr>\n",
       "      <th>903</th>\n",
       "      <td>리액트로 nodebird sns</td>\n",
       "      <td>48</td>\n",
       "      <td>리액트로 nodebird sns</td>\n",
       "    </tr>\n",
       "    <tr>\n",
       "      <th>11</th>\n",
       "      <td>2020년 공부 목표</td>\n",
       "      <td>47</td>\n",
       "      <td>2020년 공부 목표</td>\n",
       "    </tr>\n",
       "    <tr>\n",
       "      <th>1917</th>\n",
       "      <td>함수형 프로그래밍과 자바스크립트</td>\n",
       "      <td>47</td>\n",
       "      <td>함수형 프로그래밍과 자바스크립트</td>\n",
       "    </tr>\n",
       "    <tr>\n",
       "      <th>1918</th>\n",
       "      <td>함수형 프로그래밍과 자바스크립트 es6</td>\n",
       "      <td>47</td>\n",
       "      <td>함수형 프로그래밍과 자바스크립트 es6</td>\n",
       "    </tr>\n",
       "    <tr>\n",
       "      <th>1090</th>\n",
       "      <td>스프링 부트와 jpa</td>\n",
       "      <td>40</td>\n",
       "      <td>스프링 부트와 jpa</td>\n",
       "    </tr>\n",
       "    <tr>\n",
       "      <th>710</th>\n",
       "      <td>관심있는 인프런 강의명</td>\n",
       "      <td>39</td>\n",
       "      <td>관심있는 인프런 강의명</td>\n",
       "    </tr>\n",
       "    <tr>\n",
       "      <th>1175</th>\n",
       "      <td>실전 스프링 부트와</td>\n",
       "      <td>39</td>\n",
       "      <td>실전 스프링 부트와</td>\n",
       "    </tr>\n",
       "    <tr>\n",
       "      <th>1176</th>\n",
       "      <td>실전 스프링 부트와 jpa</td>\n",
       "      <td>39</td>\n",
       "      <td>실전 스프링 부트와 jpa</td>\n",
       "    </tr>\n",
       "    <tr>\n",
       "      <th>1007</th>\n",
       "      <td>부트 개념과 활용</td>\n",
       "      <td>36</td>\n",
       "      <td>부트 개념과 활용</td>\n",
       "    </tr>\n",
       "    <tr>\n",
       "      <th>1086</th>\n",
       "      <td>스프링 부트 개념과</td>\n",
       "      <td>35</td>\n",
       "      <td>스프링 부트 개념과</td>\n",
       "    </tr>\n",
       "    <tr>\n",
       "      <th>339</th>\n",
       "      <td>orm 표준 jpa</td>\n",
       "      <td>34</td>\n",
       "      <td>orm 표준 jpa</td>\n",
       "    </tr>\n",
       "    <tr>\n",
       "      <th>340</th>\n",
       "      <td>orm 표준 jpa 프로그래밍</td>\n",
       "      <td>34</td>\n",
       "      <td>orm 표준 jpa 프로그래밍</td>\n",
       "    </tr>\n",
       "  </tbody>\n",
       "</table>\n",
       "</div>"
      ],
      "text/plain": [
       "                     course  freq            course_find\n",
       "1965          홍정모의 따라하며 배우는   100               따라하며 배우는\n",
       "1077            스프링 데이터 jpa    60            스프링 데이터 jpa\n",
       "320        nodebird sns 만들기    59       nodebird sns 만들기\n",
       "925             머신러닝 완벽 가이드    49            머신러닝 완벽 가이드\n",
       "1738            파이썬 머신러닝 완벽    49            파이썬 머신러닝 완벽\n",
       "1868      프로그래밍과 자바스크립트 es6    48      프로그래밍과 자바스크립트 es6\n",
       "904   리액트로 nodebird sns 만들기    48  리액트로 nodebird sns 만들기\n",
       "1739        파이썬 머신러닝 완벽 가이드    48        파이썬 머신러닝 완벽 가이드\n",
       "903       리액트로 nodebird sns    48      리액트로 nodebird sns\n",
       "11              2020년 공부 목표    47            2020년 공부 목표\n",
       "1917      함수형 프로그래밍과 자바스크립트    47      함수형 프로그래밍과 자바스크립트\n",
       "1918  함수형 프로그래밍과 자바스크립트 es6    47  함수형 프로그래밍과 자바스크립트 es6\n",
       "1090            스프링 부트와 jpa    40            스프링 부트와 jpa\n",
       "710            관심있는 인프런 강의명    39           관심있는 인프런 강의명\n",
       "1175             실전 스프링 부트와    39             실전 스프링 부트와\n",
       "1176         실전 스프링 부트와 jpa    39         실전 스프링 부트와 jpa\n",
       "1007              부트 개념과 활용    36              부트 개념과 활용\n",
       "1086             스프링 부트 개념과    35             스프링 부트 개념과\n",
       "339              orm 표준 jpa    34             orm 표준 jpa\n",
       "340        orm 표준 jpa 프로그래밍    34       orm 표준 jpa 프로그래밍"
      ]
     },
     "execution_count": 35,
     "metadata": {},
     "output_type": "execute_result"
    }
   ],
   "source": [
    "df_course = df_course.sort_values(by=\"freq\", ascending=False)\n",
    "df_course.head(20)"
   ]
  },
  {
   "cell_type": "code",
   "execution_count": 36,
   "metadata": {},
   "outputs": [],
   "source": [
    "df_course.to_csv(\"D:\\\\★2020_ML_DL_Project\\\\Alchemy\\\\ML_Area\\\\data_source\\\\event-course-name-freq.csv\")"
   ]
  },
  {
   "cell_type": "markdown",
   "metadata": {},
   "source": [
    "#### 위에까지가 bag-of-word 영역이라면, 밑에서부터, TF-IDF 영역인데, TF-IDF에서 위에서 만들었던, bag-of-world matrix를 활용(파라미터)로 받는다\n",
    "#### 이론적 조사가 좀더 필요하다."
   ]
  },
  {
   "cell_type": "markdown",
   "metadata": {},
   "source": [
    "## TF-IDF 로 가중치를 주어 벡터화\n",
    "### TfidfTransformer()\n",
    "* norm='l2' 각 문서의 피처 벡터를 어떻게 벡터 정규화 할지 정합니다.\n",
    "    - L2 : 벡터의 각 원소의 제곱의 합이 1이 되도록 만드는 것이고 기본 값(유클리디안거리)\n",
    "    - L1 : 벡터의 각 원소의 절댓값의 합이 1이 되도록 크기를 조절(맨하탄거리)\n",
    "* smooth_idf=False\n",
    "    - 피처를 만들 때 0으로 나오는 항목에 대해 작은 값을 더해서(스무딩을 해서) 피처를 만들지 아니면 그냥 생성할지를 결정\n",
    "* sublinear_tf=False\n",
    "* use_idf=True\n",
    "    - TF-IDF를 사용해 피처를 만들 것인지 아니면 단어 빈도 자체를 사용할 것인지 여부"
   ]
  },
  {
   "cell_type": "markdown",
   "metadata": {},
   "source": [
    "#### 원전자는 tf-idf 의 가중치를 더 줘서, 묶었다고 표현한다."
   ]
  },
  {
   "cell_type": "code",
   "execution_count": 37,
   "metadata": {},
   "outputs": [
    {
     "data": {
      "text/plain": [
       "TfidfTransformer(norm='l2', smooth_idf=False, sublinear_tf=False,\n",
       "         use_idf=True)"
      ]
     },
     "execution_count": 37,
     "metadata": {},
     "output_type": "execute_result"
    }
   ],
   "source": [
    "from sklearn.feature_extraction.text import TfidfTransformer\n",
    "transformer = TfidfTransformer(smooth_idf=False)\n",
    "transformer"
   ]
  },
  {
   "cell_type": "code",
   "execution_count": 38,
   "metadata": {},
   "outputs": [
    {
     "data": {
      "text/plain": [
       "<2398x2000 sparse matrix of type '<class 'numpy.int64'>'\n",
       "\twith 11565 stored elements in Compressed Sparse Row format>"
      ]
     },
     "execution_count": 38,
     "metadata": {},
     "output_type": "execute_result"
    }
   ],
   "source": [
    "feature_vector"
   ]
  },
  {
   "cell_type": "code",
   "execution_count": 39,
   "metadata": {},
   "outputs": [
    {
     "name": "stdout",
     "output_type": "stream",
     "text": [
      "Wall time: 973 µs\n"
     ]
    },
    {
     "data": {
      "text/plain": [
       "(2398, 2000)"
      ]
     },
     "execution_count": 39,
     "metadata": {},
     "output_type": "execute_result"
    }
   ],
   "source": [
    "%%time \n",
    "feature_tfidf = transformer.fit_transform(feature_vector)\n",
    "feature_tfidf.shape"
   ]
  },
  {
   "cell_type": "code",
   "execution_count": 40,
   "metadata": {},
   "outputs": [
    {
     "data": {
      "text/plain": [
       "<2398x2000 sparse matrix of type '<class 'numpy.float64'>'\n",
       "\twith 11565 stored elements in Compressed Sparse Row format>"
      ]
     },
     "execution_count": 40,
     "metadata": {},
     "output_type": "execute_result"
    }
   ],
   "source": [
    "feature_tfidf"
   ]
  },
  {
   "cell_type": "code",
   "execution_count": 41,
   "metadata": {},
   "outputs": [
    {
     "data": {
      "text/html": [
       "<div>\n",
       "<style scoped>\n",
       "    .dataframe tbody tr th:only-of-type {\n",
       "        vertical-align: middle;\n",
       "    }\n",
       "\n",
       "    .dataframe tbody tr th {\n",
       "        vertical-align: top;\n",
       "    }\n",
       "\n",
       "    .dataframe thead th {\n",
       "        text-align: right;\n",
       "    }\n",
       "</style>\n",
       "<table border=\"1\" class=\"dataframe\">\n",
       "  <thead>\n",
       "    <tr style=\"text-align: right;\">\n",
       "      <th></th>\n",
       "      <th>12개 만들면서 배우는</th>\n",
       "      <th>12개 만들면서 배우는 ios</th>\n",
       "      <th>12개 만들면서 배우는 ios 아이폰</th>\n",
       "      <th>12개 만들면서 배우는 ios 아이폰 개발</th>\n",
       "      <th>12개를 만들며 배우는</th>\n",
       "      <th>12개를 만들며 배우는 swift4</th>\n",
       "      <th>12개를 만들며 배우는 swift4 ios11</th>\n",
       "      <th>12개를 만들며 배우는 swift4 ios11 아이폰</th>\n",
       "      <th>2018 do it</th>\n",
       "      <th>2018 do it 안드로이드</th>\n",
       "      <th>...</th>\n",
       "      <th>활용2 api 개발과 성능 최적화</th>\n",
       "      <th>활용한 다양한 자동화</th>\n",
       "      <th>활용한 다양한 자동화 어플리케이션</th>\n",
       "      <th>활용한 다양한 자동화 어플리케이션 제작하기</th>\n",
       "      <th>활용한 데이터분석과 it보안</th>\n",
       "      <th>활용한 리액트 native</th>\n",
       "      <th>활용한 리액트 native 개발</th>\n",
       "      <th>활용한 메신져 만들기</th>\n",
       "      <th>활용한 메신져 만들기 android</th>\n",
       "      <th>활용한 파이썬 프로그래밍</th>\n",
       "    </tr>\n",
       "  </thead>\n",
       "  <tbody>\n",
       "    <tr>\n",
       "      <th>0</th>\n",
       "      <td>0.0</td>\n",
       "      <td>0.0</td>\n",
       "      <td>0.0</td>\n",
       "      <td>0.0</td>\n",
       "      <td>0.0</td>\n",
       "      <td>0.0</td>\n",
       "      <td>0.0</td>\n",
       "      <td>0.0</td>\n",
       "      <td>0.0</td>\n",
       "      <td>0.0</td>\n",
       "      <td>...</td>\n",
       "      <td>0.0</td>\n",
       "      <td>0.0</td>\n",
       "      <td>0.0</td>\n",
       "      <td>0.0</td>\n",
       "      <td>0.0</td>\n",
       "      <td>0.0</td>\n",
       "      <td>0.0</td>\n",
       "      <td>0.0</td>\n",
       "      <td>0.0</td>\n",
       "      <td>0.0</td>\n",
       "    </tr>\n",
       "    <tr>\n",
       "      <th>1</th>\n",
       "      <td>0.0</td>\n",
       "      <td>0.0</td>\n",
       "      <td>0.0</td>\n",
       "      <td>0.0</td>\n",
       "      <td>0.0</td>\n",
       "      <td>0.0</td>\n",
       "      <td>0.0</td>\n",
       "      <td>0.0</td>\n",
       "      <td>0.0</td>\n",
       "      <td>0.0</td>\n",
       "      <td>...</td>\n",
       "      <td>0.0</td>\n",
       "      <td>0.0</td>\n",
       "      <td>0.0</td>\n",
       "      <td>0.0</td>\n",
       "      <td>0.0</td>\n",
       "      <td>0.0</td>\n",
       "      <td>0.0</td>\n",
       "      <td>0.0</td>\n",
       "      <td>0.0</td>\n",
       "      <td>0.0</td>\n",
       "    </tr>\n",
       "    <tr>\n",
       "      <th>2</th>\n",
       "      <td>0.0</td>\n",
       "      <td>0.0</td>\n",
       "      <td>0.0</td>\n",
       "      <td>0.0</td>\n",
       "      <td>0.0</td>\n",
       "      <td>0.0</td>\n",
       "      <td>0.0</td>\n",
       "      <td>0.0</td>\n",
       "      <td>0.0</td>\n",
       "      <td>0.0</td>\n",
       "      <td>...</td>\n",
       "      <td>0.0</td>\n",
       "      <td>0.0</td>\n",
       "      <td>0.0</td>\n",
       "      <td>0.0</td>\n",
       "      <td>0.0</td>\n",
       "      <td>0.0</td>\n",
       "      <td>0.0</td>\n",
       "      <td>0.0</td>\n",
       "      <td>0.0</td>\n",
       "      <td>0.0</td>\n",
       "    </tr>\n",
       "    <tr>\n",
       "      <th>3</th>\n",
       "      <td>0.0</td>\n",
       "      <td>0.0</td>\n",
       "      <td>0.0</td>\n",
       "      <td>0.0</td>\n",
       "      <td>0.0</td>\n",
       "      <td>0.0</td>\n",
       "      <td>0.0</td>\n",
       "      <td>0.0</td>\n",
       "      <td>0.0</td>\n",
       "      <td>0.0</td>\n",
       "      <td>...</td>\n",
       "      <td>0.0</td>\n",
       "      <td>0.0</td>\n",
       "      <td>0.0</td>\n",
       "      <td>0.0</td>\n",
       "      <td>0.0</td>\n",
       "      <td>0.0</td>\n",
       "      <td>0.0</td>\n",
       "      <td>0.0</td>\n",
       "      <td>0.0</td>\n",
       "      <td>0.0</td>\n",
       "    </tr>\n",
       "    <tr>\n",
       "      <th>4</th>\n",
       "      <td>0.0</td>\n",
       "      <td>0.0</td>\n",
       "      <td>0.0</td>\n",
       "      <td>0.0</td>\n",
       "      <td>0.0</td>\n",
       "      <td>0.0</td>\n",
       "      <td>0.0</td>\n",
       "      <td>0.0</td>\n",
       "      <td>0.0</td>\n",
       "      <td>0.0</td>\n",
       "      <td>...</td>\n",
       "      <td>0.0</td>\n",
       "      <td>0.0</td>\n",
       "      <td>0.0</td>\n",
       "      <td>0.0</td>\n",
       "      <td>0.0</td>\n",
       "      <td>0.0</td>\n",
       "      <td>0.0</td>\n",
       "      <td>0.0</td>\n",
       "      <td>0.0</td>\n",
       "      <td>0.0</td>\n",
       "    </tr>\n",
       "  </tbody>\n",
       "</table>\n",
       "<p>5 rows × 2000 columns</p>\n",
       "</div>"
      ],
      "text/plain": [
       "   12개 만들면서 배우는  12개 만들면서 배우는 ios  12개 만들면서 배우는 ios 아이폰  \\\n",
       "0           0.0               0.0                   0.0   \n",
       "1           0.0               0.0                   0.0   \n",
       "2           0.0               0.0                   0.0   \n",
       "3           0.0               0.0                   0.0   \n",
       "4           0.0               0.0                   0.0   \n",
       "\n",
       "   12개 만들면서 배우는 ios 아이폰 개발  12개를 만들며 배우는  12개를 만들며 배우는 swift4  \\\n",
       "0                      0.0           0.0                  0.0   \n",
       "1                      0.0           0.0                  0.0   \n",
       "2                      0.0           0.0                  0.0   \n",
       "3                      0.0           0.0                  0.0   \n",
       "4                      0.0           0.0                  0.0   \n",
       "\n",
       "   12개를 만들며 배우는 swift4 ios11  12개를 만들며 배우는 swift4 ios11 아이폰  2018 do it  \\\n",
       "0                        0.0                            0.0         0.0   \n",
       "1                        0.0                            0.0         0.0   \n",
       "2                        0.0                            0.0         0.0   \n",
       "3                        0.0                            0.0         0.0   \n",
       "4                        0.0                            0.0         0.0   \n",
       "\n",
       "   2018 do it 안드로이드  ...  활용2 api 개발과 성능 최적화  활용한 다양한 자동화  활용한 다양한 자동화 어플리케이션  \\\n",
       "0               0.0  ...                 0.0          0.0                 0.0   \n",
       "1               0.0  ...                 0.0          0.0                 0.0   \n",
       "2               0.0  ...                 0.0          0.0                 0.0   \n",
       "3               0.0  ...                 0.0          0.0                 0.0   \n",
       "4               0.0  ...                 0.0          0.0                 0.0   \n",
       "\n",
       "   활용한 다양한 자동화 어플리케이션 제작하기  활용한 데이터분석과 it보안  활용한 리액트 native  \\\n",
       "0                      0.0              0.0             0.0   \n",
       "1                      0.0              0.0             0.0   \n",
       "2                      0.0              0.0             0.0   \n",
       "3                      0.0              0.0             0.0   \n",
       "4                      0.0              0.0             0.0   \n",
       "\n",
       "   활용한 리액트 native 개발  활용한 메신져 만들기  활용한 메신져 만들기 android  활용한 파이썬 프로그래밍  \n",
       "0                0.0          0.0                  0.0            0.0  \n",
       "1                0.0          0.0                  0.0            0.0  \n",
       "2                0.0          0.0                  0.0            0.0  \n",
       "3                0.0          0.0                  0.0            0.0  \n",
       "4                0.0          0.0                  0.0            0.0  \n",
       "\n",
       "[5 rows x 2000 columns]"
      ]
     },
     "execution_count": 41,
     "metadata": {},
     "output_type": "execute_result"
    }
   ],
   "source": [
    "# 각 row에서 전체 단어가방에 있는 어휘에서 등장하는 단어에 대한 one-hot-vector에 TF-IDF 가중치 반영\n",
    "tfidf_freq = pd.DataFrame(feature_tfidf.toarray(), columns=vocab)\n",
    "tfidf_freq.head() "
   ]
  },
  {
   "cell_type": "code",
   "execution_count": 42,
   "metadata": {},
   "outputs": [
    {
     "data": {
      "text/html": [
       "<div>\n",
       "<style scoped>\n",
       "    .dataframe tbody tr th:only-of-type {\n",
       "        vertical-align: middle;\n",
       "    }\n",
       "\n",
       "    .dataframe tbody tr th {\n",
       "        vertical-align: top;\n",
       "    }\n",
       "\n",
       "    .dataframe thead th {\n",
       "        text-align: right;\n",
       "    }\n",
       "</style>\n",
       "<table border=\"1\" class=\"dataframe\">\n",
       "  <thead>\n",
       "    <tr style=\"text-align: right;\">\n",
       "      <th></th>\n",
       "      <th>0</th>\n",
       "    </tr>\n",
       "  </thead>\n",
       "  <tbody>\n",
       "    <tr>\n",
       "      <th>홍정모의 따라하며 배우는</th>\n",
       "      <td>66.597110</td>\n",
       "    </tr>\n",
       "    <tr>\n",
       "      <th>스프링 데이터 jpa</th>\n",
       "      <td>35.549412</td>\n",
       "    </tr>\n",
       "    <tr>\n",
       "      <th>nodebird sns 만들기</th>\n",
       "      <td>26.418976</td>\n",
       "    </tr>\n",
       "    <tr>\n",
       "      <th>파이썬 머신러닝 완벽</th>\n",
       "      <td>24.811553</td>\n",
       "    </tr>\n",
       "    <tr>\n",
       "      <th>머신러닝 완벽 가이드</th>\n",
       "      <td>24.563876</td>\n",
       "    </tr>\n",
       "    <tr>\n",
       "      <th>파이썬 머신러닝 완벽 가이드</th>\n",
       "      <td>23.911946</td>\n",
       "    </tr>\n",
       "    <tr>\n",
       "      <th>리액트로 nodebird sns</th>\n",
       "      <td>23.776826</td>\n",
       "    </tr>\n",
       "    <tr>\n",
       "      <th>리액트로 nodebird sns 만들기</th>\n",
       "      <td>23.776826</td>\n",
       "    </tr>\n",
       "    <tr>\n",
       "      <th>프로그래밍과 자바스크립트 es6</th>\n",
       "      <td>19.510529</td>\n",
       "    </tr>\n",
       "    <tr>\n",
       "      <th>함수형 프로그래밍과 자바스크립트 es6</th>\n",
       "      <td>18.595669</td>\n",
       "    </tr>\n",
       "  </tbody>\n",
       "</table>\n",
       "</div>"
      ],
      "text/plain": [
       "                               0\n",
       "홍정모의 따라하며 배우는          66.597110\n",
       "스프링 데이터 jpa            35.549412\n",
       "nodebird sns 만들기       26.418976\n",
       "파이썬 머신러닝 완벽            24.811553\n",
       "머신러닝 완벽 가이드            24.563876\n",
       "파이썬 머신러닝 완벽 가이드        23.911946\n",
       "리액트로 nodebird sns      23.776826\n",
       "리액트로 nodebird sns 만들기  23.776826\n",
       "프로그래밍과 자바스크립트 es6      19.510529\n",
       "함수형 프로그래밍과 자바스크립트 es6  18.595669"
      ]
     },
     "execution_count": 42,
     "metadata": {},
     "output_type": "execute_result"
    }
   ],
   "source": [
    "df_tfidf = pd.DataFrame(tfidf_freq.sum())\n",
    "df_tfidf_top = df_tfidf.sort_values(by=0, ascending=False)\n",
    "df_tfidf_top.head(10)"
   ]
  },
  {
   "cell_type": "code",
   "execution_count": 43,
   "metadata": {},
   "outputs": [
    {
     "name": "stdout",
     "output_type": "stream",
     "text": [
      "홍정모의 따라하며 배우는\n",
      "스프링 데이터 jpa\n",
      "nodebird sns 만들기\n",
      "파이썬 머신러닝 완벽\n",
      "머신러닝 완벽 가이드\n",
      "파이썬 머신러닝 완벽 가이드\n",
      "리액트로 nodebird sns\n",
      "리액트로 nodebird sns 만들기\n",
      "프로그래밍과 자바스크립트 es6\n",
      "함수형 프로그래밍과 자바스크립트 es6\n",
      "함수형 프로그래밍과 자바스크립트\n",
      "부트 개념과 활용\n",
      "스프링 부트 개념과\n",
      "스프링 부트 개념과 활용\n",
      "2020년 공부 목표\n",
      "실전 스프링 데이터\n",
      "실전 스프링 데이터 jpa\n",
      "파이썬 실전 100 활용\n",
      "파이썬 실전 100\n",
      "남박사의 파이썬 실전 100 활용\n",
      "남박사의 파이썬 실전 100\n",
      "남박사의 파이썬 실전\n",
      "실전 100 활용\n",
      "관심있는 인프런 강의명\n",
      "파이썬 머신러닝 완벽가이드\n",
      "따라하며 배우는 c언어\n",
      "홍정모의 따라하며 배우는 c언어\n",
      "rest api 개발\n",
      "대세는 쿠버네티스 기초편\n",
      "스프링부트 개념과 활용\n"
     ]
    }
   ],
   "source": [
    "# 중간에 생략되는 단어를 자세히 보고자 할 때\n",
    "for t in df_tfidf_top.index[:30]:\n",
    "    print(t)"
   ]
  },
  {
   "cell_type": "markdown",
   "metadata": {},
   "source": [
    "## 군집화 \n",
    "* [Comparison of the K-Means and MiniBatchKMeans clustering algorithms — scikit-learn 0.22.1 documentation](https://scikit-learn.org/stable/auto_examples/cluster/plot_mini_batch_kmeans.html)\n",
    "* cluster - MiniBatchKMeans"
   ]
  },
  {
   "cell_type": "markdown",
   "metadata": {},
   "source": [
    "#### class sklearn.cluster.KMeans(n_clusters=8, init='k-means++', n_init=10, max_iter=300, tol=0.0001, precompute_distances='auto', verbose=0, random_state=None, copy_x=True, n_jobs=None, algorithm='auto')"
   ]
  },
  {
   "cell_type": "markdown",
   "metadata": {},
   "source": [
    "#### kcluster 객체에 fit 할 때는 기본적으로, 숫자형 값들만, 가능한다. "
   ]
  },
  {
   "cell_type": "code",
   "execution_count": 44,
   "metadata": {},
   "outputs": [
    {
     "data": {
      "text/plain": [
       "array([[0., 0., 0., 0., 0.],\n",
       "       [0., 0., 0., 0., 0.],\n",
       "       [0., 0., 0., 0., 0.],\n",
       "       [0., 0., 0., 0., 0.],\n",
       "       [0., 0., 0., 0., 0.],\n",
       "       [0., 0., 0., 0., 0.],\n",
       "       [0., 0., 0., 0., 0.],\n",
       "       [0., 0., 0., 0., 0.],\n",
       "       [0., 0., 0., 0., 0.],\n",
       "       [0., 0., 0., 0., 0.]])"
      ]
     },
     "execution_count": 44,
     "metadata": {},
     "output_type": "execute_result"
    }
   ],
   "source": [
    "## vocab \n",
    "feature_tfidf.toarray()[0:10,0:5]## feature_tfidf 이건 matrix"
   ]
  },
  {
   "cell_type": "code",
   "execution_count": 45,
   "metadata": {},
   "outputs": [
    {
     "name": "stderr",
     "output_type": "stream",
     "text": [
      "100%|██████████████████████████████████████████████████████████████████████████████████████████████████████████████████████| 120/120 [02:41<00:00,  1.35s/it]\n"
     ]
    }
   ],
   "source": [
    "from sklearn.cluster import KMeans\n",
    "from tqdm import trange\n",
    "inertia = []\n",
    "\n",
    "start = 30\n",
    "end = 150\n",
    "\n",
    "# 적절한 클러스터의 갯수를 알기 위해 inertia 값을 구함\n",
    "for i in trange(start, end):\n",
    "    cls = KMeans(n_clusters=i, random_state=42)\n",
    "    cls.fit(feature_tfidf)\n",
    "    inertia.append(cls.inertia_)"
   ]
  },
  {
   "cell_type": "raw",
   "metadata": {},
   "source": [
    "inertia_ :Sum of squared distances of samples to their closest cluster center.\n",
    "inertia_ :쉽게이야기 하면, 각 cluster center 와 cluster 내부에 속하는 점들끼리의 총 disctance 를 구한 값들로, 전체적으로 이값이 작다면, cluster 가 적절하게 잘 되었다고 볼 수 있다.\n",
    "\n",
    "But cluster center 를 많이 잡으면, 잡을수록, inertia_ 값은 작아지는데...이론적으로는 이 값이 수렴되는 값으로 찾아야 한다.\n",
    "이른바 ellbow 처럼..."
   ]
  },
  {
   "cell_type": "raw",
   "metadata": {},
   "source": [
    "*부연설명*\n",
    "클러스터링의 품질을 수량화하기 위해서는 내재 측정 기준을 사용해서 (군집 내 SSE(왜도)와 같은것) 여러가지 K-mean 클러스터링 성능을 비교해야 한다. 여기서 \"군집 내 SSE = inertia_\" 이다.  이거에 기초하여, ellbow method 라 불리는 그림으로 찾아내는 것이다."
   ]
  },
  {
   "cell_type": "code",
   "execution_count": 46,
   "metadata": {},
   "outputs": [
    {
     "data": {
      "text/plain": [
       "Text(0.5, 1.0, 'KMeans Ellbow Method')"
      ]
     },
     "execution_count": 46,
     "metadata": {},
     "output_type": "execute_result"
    },
    {
     "name": "stderr",
     "output_type": "stream",
     "text": [
      "c:\\programdata\\anaconda3\\envs\\test\\lib\\site-packages\\matplotlib\\font_manager.py:1241: UserWarning: findfont: Font family ['AppleGothic'] not found. Falling back to DejaVu Sans.\n",
      "  (prop.get_family(), self.defaultFamily[fontext]))\n"
     ]
    },
    {
     "data": {
      "image/png": "[encoded data removed]",
      "text/plain": [
       "<Figure size 432x288 with 1 Axes>"
      ]
     },
     "metadata": {
      "image/png": {
       "height": 263,
       "width": 377
      },
      "needs_background": "light"
     },
     "output_type": "display_data"
    }
   ],
   "source": [
    "plt.plot(range(start, end), inertia)\n",
    "plt.title(\"KMeans Ellbow Method\")"
   ]
  },
  {
   "cell_type": "markdown",
   "metadata": {},
   "source": [
    "####  하기 그림이 이론적으로 이상적인 Ellbow Method 인데...역시 실전은 다르다는 것을 느낀다."
   ]
  },
  {
   "attachments": {
    "Ellbow%20Method.png": {
     "image/png": "[encoded data removed]"
    }
   },
   "cell_type": "markdown",
   "metadata": {},
   "source": [
    "![Ellbow%20Method.png](attachment:Ellbow%20Method.png)"
   ]
  },
  {
   "cell_type": "code",
   "execution_count": 47,
   "metadata": {},
   "outputs": [
    {
     "data": {
      "text/plain": [
       "(2398, 20)"
      ]
     },
     "execution_count": 47,
     "metadata": {},
     "output_type": "execute_result"
    }
   ],
   "source": [
    "df.shape ## 원본 dataset 에서, dup 된것을 제거한 것."
   ]
  },
  {
   "cell_type": "code",
   "execution_count": 48,
   "metadata": {},
   "outputs": [],
   "source": [
    "## 대략적인 강좌수를 알고 있으니, 50으로 정했다. \n",
    "## feature_tfidf 이건 matrix\n",
    "n_clusters = 50\n",
    "cls = KMeans(n_clusters=n_clusters, random_state=42)\n",
    "cls.fit(feature_tfidf)\n",
    "prediction = cls.predict(feature_tfidf)\n",
    "df[\"cluster\"] = prediction"
   ]
  },
  {
   "cell_type": "code",
   "execution_count": 49,
   "metadata": {},
   "outputs": [
    {
     "data": {
      "text/plain": [
       "1     1645\n",
       "6       54\n",
       "4       43\n",
       "7       40\n",
       "19      37\n",
       "17      32\n",
       "16      29\n",
       "12      28\n",
       "10      27\n",
       "8       25\n",
       "Name: cluster, dtype: int64"
      ]
     },
     "execution_count": 49,
     "metadata": {},
     "output_type": "execute_result"
    }
   ],
   "source": [
    "df[\"cluster\"].value_counts().head(10)"
   ]
  },
  {
   "cell_type": "code",
   "execution_count": 50,
   "metadata": {},
   "outputs": [
    {
     "name": "stderr",
     "output_type": "stream",
     "text": [
      "100%|██████████████████████████████████████████████████████████████████████████████████████████████████████████████████████| 120/120 [00:23<00:00,  5.12it/s]\n"
     ]
    }
   ],
   "source": [
    "# batch_size 를 쓸 수 있는 MiniBatchKMeans 로 군집화\n",
    "from sklearn.cluster import MiniBatchKMeans\n",
    "b_inertia = []\n",
    "\n",
    "# 적절한 클러스터의 갯수를 알기 위해 inertia 값을 구함\n",
    "for i in trange(start, end):\n",
    "    cls = MiniBatchKMeans(n_clusters=i, random_state=42)\n",
    "    cls.fit(feature_tfidf)\n",
    "    b_inertia.append(cls.inertia_)"
   ]
  },
  {
   "cell_type": "code",
   "execution_count": 51,
   "metadata": {},
   "outputs": [],
   "source": [
    "import seaborn as sns\n",
    "%matplotlib inline\n",
    "\n",
    "sns.set_style(\"whitegrid\")"
   ]
  },
  {
   "cell_type": "code",
   "execution_count": 52,
   "metadata": {},
   "outputs": [
    {
     "data": {
      "text/plain": [
       "Text(0.5, 1.0, 'MiniBatchKMeans Ellbow graph')"
      ]
     },
     "execution_count": 52,
     "metadata": {},
     "output_type": "execute_result"
    },
    {
     "data": {
      "image/png": "[encoded data removed]",
      "text/plain": [
       "<Figure size 1080x432 with 1 Axes>"
      ]
     },
     "metadata": {
      "image/png": {
       "height": 372,
       "width": 882
      }
     },
     "output_type": "display_data"
    }
   ],
   "source": [
    "plt.figure(figsize=(15,6))\n",
    "sns.lineplot(range(start, end), b_inertia)\n",
    "plt.title(\"MiniBatchKMeans Ellbow graph\")"
   ]
  },
  {
   "cell_type": "code",
   "execution_count": 53,
   "metadata": {},
   "outputs": [
    {
     "name": "stdout",
     "output_type": "stream",
     "text": [
      "50\n"
     ]
    }
   ],
   "source": [
    "## miniBatchKMean 에서는 나름 50 이 의미 있어 보인다.\n",
    "print(n_clusters)"
   ]
  },
  {
   "cell_type": "code",
   "execution_count": 54,
   "metadata": {},
   "outputs": [],
   "source": [
    "cls = MiniBatchKMeans(n_clusters=n_clusters, random_state=42)\n",
    "cls.fit(feature_tfidf)\n",
    "prediction = cls.predict(feature_tfidf)\n",
    "df[\"bcluster\"] = prediction"
   ]
  },
  {
   "cell_type": "code",
   "execution_count": 55,
   "metadata": {},
   "outputs": [
    {
     "data": {
      "text/plain": [
       "14    1137\n",
       "0      433\n",
       "6       59\n",
       "21      57\n",
       "25      54\n",
       "2       42\n",
       "19      41\n",
       "4       38\n",
       "17      33\n",
       "27      32\n",
       "Name: bcluster, dtype: int64"
      ]
     },
     "execution_count": 55,
     "metadata": {},
     "output_type": "execute_result"
    }
   ],
   "source": [
    "df[\"bcluster\"].value_counts().head(10)"
   ]
  },
  {
   "cell_type": "code",
   "execution_count": 56,
   "metadata": {},
   "outputs": [
    {
     "data": {
      "text/plain": [
       "  '파이썬 기본부터 인공지능 머신러닝까지' 학습 로드맵    3\n",
       "Name: course, dtype: int64"
      ]
     },
     "execution_count": 56,
     "metadata": {},
     "output_type": "execute_result"
    }
   ],
   "source": [
    "df.loc[df[\"bcluster\"] == 21, \"course\"].value_counts().head(1)"
   ]
  },
  {
   "cell_type": "code",
   "execution_count": 57,
   "metadata": {},
   "outputs": [
    {
     "data": {
      "text/html": [
       "<div>\n",
       "<style scoped>\n",
       "    .dataframe tbody tr th:only-of-type {\n",
       "        vertical-align: middle;\n",
       "    }\n",
       "\n",
       "    .dataframe tbody tr th {\n",
       "        vertical-align: top;\n",
       "    }\n",
       "\n",
       "    .dataframe thead th {\n",
       "        text-align: right;\n",
       "    }\n",
       "</style>\n",
       "<table border=\"1\" class=\"dataframe\">\n",
       "  <thead>\n",
       "    <tr style=\"text-align: right;\">\n",
       "      <th></th>\n",
       "      <th>bcluster</th>\n",
       "      <th>cluster</th>\n",
       "      <th>course</th>\n",
       "    </tr>\n",
       "  </thead>\n",
       "  <tbody>\n",
       "    <tr>\n",
       "      <th>29</th>\n",
       "      <td>21</td>\n",
       "      <td>22</td>\n",
       "      <td>스프링 프레임워크 핵심 기술, 실전! 스프링부트와 jpa 활용2 - api 개발...</td>\n",
       "    </tr>\n",
       "    <tr>\n",
       "      <th>33</th>\n",
       "      <td>21</td>\n",
       "      <td>22</td>\n",
       "      <td>스프링 데이터 jpa, 실전! 스프링 부트와 jpa 활용2 - api 개발과 성...</td>\n",
       "    </tr>\n",
       "    <tr>\n",
       "      <th>36</th>\n",
       "      <td>21</td>\n",
       "      <td>22</td>\n",
       "      <td>실전! 스프링 부트와 jpa 활용2 - api 개발과 성능 최적화</td>\n",
       "    </tr>\n",
       "    <tr>\n",
       "      <th>71</th>\n",
       "      <td>21</td>\n",
       "      <td>1</td>\n",
       "      <td>자바스크립트 es6+ 제대로 알아보기 - 초급</td>\n",
       "    </tr>\n",
       "    <tr>\n",
       "      <th>227</th>\n",
       "      <td>21</td>\n",
       "      <td>3</td>\n",
       "      <td>예민한 ux 디자인</td>\n",
       "    </tr>\n",
       "    <tr>\n",
       "      <th>316</th>\n",
       "      <td>21</td>\n",
       "      <td>1</td>\n",
       "      <td>마인크래프트 게임을 활용한 파이썬 프로그래밍 완벽 이해</td>\n",
       "    </tr>\n",
       "    <tr>\n",
       "      <th>356</th>\n",
       "      <td>21</td>\n",
       "      <td>1</td>\n",
       "      <td>자바 스프링 프레임워크(renew ver.) - 신입 프로그래머를 위한 강좌</td>\n",
       "    </tr>\n",
       "    <tr>\n",
       "      <th>364</th>\n",
       "      <td>21</td>\n",
       "      <td>1</td>\n",
       "      <td>자바 프로그래밍 공부를 하고싶어요!\\n#자바 스프링 프레임워크(renew ver.)</td>\n",
       "    </tr>\n",
       "    <tr>\n",
       "      <th>406</th>\n",
       "      <td>21</td>\n",
       "      <td>1</td>\n",
       "      <td>c로 배우는 자료구조 및 여러가지 예제 실습</td>\n",
       "    </tr>\n",
       "    <tr>\n",
       "      <th>416</th>\n",
       "      <td>21</td>\n",
       "      <td>1</td>\n",
       "      <td>코딩테스트를 대비하기 위한 공부를 하고 싶습니다.</td>\n",
       "    </tr>\n",
       "    <tr>\n",
       "      <th>428</th>\n",
       "      <td>21</td>\n",
       "      <td>1</td>\n",
       "      <td>'파이썬 기본부터 인공지능 머신러닝까지' 학습 로드맵</td>\n",
       "    </tr>\n",
       "    <tr>\n",
       "      <th>434</th>\n",
       "      <td>21</td>\n",
       "      <td>1</td>\n",
       "      <td>자바 스프링 프레임워크(renew ver.) - 신입 프로그래머를 위한 강좌</td>\n",
       "    </tr>\n",
       "    <tr>\n",
       "      <th>436</th>\n",
       "      <td>21</td>\n",
       "      <td>1</td>\n",
       "      <td>'파이썬 기본부터 인공지능 머신러닝까지' 학습 로드맵</td>\n",
       "    </tr>\n",
       "    <tr>\n",
       "      <th>454</th>\n",
       "      <td>21</td>\n",
       "      <td>1</td>\n",
       "      <td>리액트 native로 웹앱 모바일 프로젝트 만들기</td>\n",
       "    </tr>\n",
       "    <tr>\n",
       "      <th>455</th>\n",
       "      <td>21</td>\n",
       "      <td>1</td>\n",
       "      <td>자바스크립트 es6+ 제대로 알아보기 - 중급</td>\n",
       "    </tr>\n",
       "    <tr>\n",
       "      <th>456</th>\n",
       "      <td>21</td>\n",
       "      <td>22</td>\n",
       "      <td>올 상반기에는 jpa 제대로 배워 개인프로젝트이든 회사 프로젝트인듯\\n일취월장하는 ...</td>\n",
       "    </tr>\n",
       "    <tr>\n",
       "      <th>471</th>\n",
       "      <td>21</td>\n",
       "      <td>1</td>\n",
       "      <td>견고한 js 소프트웨어 만들기, 자바스크립트 es6+ 제대로 알아보기 - 중급,...</td>\n",
       "    </tr>\n",
       "    <tr>\n",
       "      <th>504</th>\n",
       "      <td>21</td>\n",
       "      <td>1</td>\n",
       "      <td>파이썬을 이용한 웹 크롤링(web crawling) 어플리케이션 만들기</td>\n",
       "    </tr>\n",
       "    <tr>\n",
       "      <th>563</th>\n",
       "      <td>21</td>\n",
       "      <td>1</td>\n",
       "      <td>자바 스프링 프레임워크 - 신입프로그래머를 위한 강좌</td>\n",
       "    </tr>\n",
       "    <tr>\n",
       "      <th>654</th>\n",
       "      <td>21</td>\n",
       "      <td>1</td>\n",
       "      <td>마인크래프트 게임을 활용한 파이썬 프로그래밍 완벽 이해</td>\n",
       "    </tr>\n",
       "    <tr>\n",
       "      <th>732</th>\n",
       "      <td>21</td>\n",
       "      <td>1</td>\n",
       "      <td>'파이썬 기본부터 인공지능 머신러닝까지' 학습 로드맵</td>\n",
       "    </tr>\n",
       "    <tr>\n",
       "      <th>845</th>\n",
       "      <td>21</td>\n",
       "      <td>1</td>\n",
       "      <td>자바스크립트 es6+ 제대로 알아보기 - 초급\\n자바스크립트 es6+ 제대로 알...</td>\n",
       "    </tr>\n",
       "    <tr>\n",
       "      <th>964</th>\n",
       "      <td>21</td>\n",
       "      <td>1</td>\n",
       "      <td>개념을 복습하기 위해 공부하려합니다 \\n\\n자바 스프링 프레임워크(renew ver...</td>\n",
       "    </tr>\n",
       "    <tr>\n",
       "      <th>983</th>\n",
       "      <td>21</td>\n",
       "      <td>22</td>\n",
       "      <td>실전! 스프링 부트와 jpa 활용2 - api 개발과 성능 최적화</td>\n",
       "    </tr>\n",
       "    <tr>\n",
       "      <th>1139</th>\n",
       "      <td>21</td>\n",
       "      <td>36</td>\n",
       "      <td>비전공 취준생입니다! 리액트, node, javscript 마스터하여 프론트엔드 개...</td>\n",
       "    </tr>\n",
       "    <tr>\n",
       "      <th>1174</th>\n",
       "      <td>21</td>\n",
       "      <td>37</td>\n",
       "      <td>백기선의 spring 완전 정복 로드맵</td>\n",
       "    </tr>\n",
       "    <tr>\n",
       "      <th>1251</th>\n",
       "      <td>21</td>\n",
       "      <td>3</td>\n",
       "      <td>예민한 ux 디자인</td>\n",
       "    </tr>\n",
       "    <tr>\n",
       "      <th>1277</th>\n",
       "      <td>21</td>\n",
       "      <td>1</td>\n",
       "      <td>파이썬과 자바스크립트, pwa에 대한 공부를 더 하고 싶습니다.</td>\n",
       "    </tr>\n",
       "    <tr>\n",
       "      <th>1288</th>\n",
       "      <td>21</td>\n",
       "      <td>1</td>\n",
       "      <td>\\n모던 자바스크립트(자바스크립트) 개발을 위한 es6 강좌\\n자바스크립트 es...</td>\n",
       "    </tr>\n",
       "    <tr>\n",
       "      <th>1307</th>\n",
       "      <td>21</td>\n",
       "      <td>22</td>\n",
       "      <td># 실전! 스프링 부트와 jpa 활용2 - api 개발과 성능 최적화</td>\n",
       "    </tr>\n",
       "    <tr>\n",
       "      <th>1347</th>\n",
       "      <td>21</td>\n",
       "      <td>22</td>\n",
       "      <td>실전! 스프링 부트와 jpa 활용2 - api 개발과 성능 최적화</td>\n",
       "    </tr>\n",
       "    <tr>\n",
       "      <th>1361</th>\n",
       "      <td>21</td>\n",
       "      <td>1</td>\n",
       "      <td>리버스쿨 level3 - 안드로이드 모바일 리버싱</td>\n",
       "    </tr>\n",
       "    <tr>\n",
       "      <th>1456</th>\n",
       "      <td>21</td>\n",
       "      <td>3</td>\n",
       "      <td>작년에 졸업하고 잠시 계약직으로 일하고 있는데, 올해 인프런으로 공부하면서 꼭 좋은...</td>\n",
       "    </tr>\n",
       "    <tr>\n",
       "      <th>1479</th>\n",
       "      <td>21</td>\n",
       "      <td>3</td>\n",
       "      <td>예민한 ux 디자인</td>\n",
       "    </tr>\n",
       "    <tr>\n",
       "      <th>1496</th>\n",
       "      <td>21</td>\n",
       "      <td>1</td>\n",
       "      <td>pbr 리얼타임 캐릭터 제작</td>\n",
       "    </tr>\n",
       "    <tr>\n",
       "      <th>1528</th>\n",
       "      <td>21</td>\n",
       "      <td>22</td>\n",
       "      <td># 2020년 공부 목표 \\n- 현 백엔드 실무에 좋은 코드를 심기 위해 여기저기서...</td>\n",
       "    </tr>\n",
       "    <tr>\n",
       "      <th>1563</th>\n",
       "      <td>21</td>\n",
       "      <td>22</td>\n",
       "      <td>현직 개발자 입니다.\\n올해는 더 열심히 공부해서 내년 이직하는게 목표입니다 )\\n...</td>\n",
       "    </tr>\n",
       "    <tr>\n",
       "      <th>1579</th>\n",
       "      <td>21</td>\n",
       "      <td>1</td>\n",
       "      <td>자바스크립트 es6+ 제대로 알아보기</td>\n",
       "    </tr>\n",
       "    <tr>\n",
       "      <th>1693</th>\n",
       "      <td>21</td>\n",
       "      <td>1</td>\n",
       "      <td>iot 에 관심이 있어서 등륵하게 되었는데요\\n바쁜일정 때문에 손을 못대고 있네요\\...</td>\n",
       "    </tr>\n",
       "    <tr>\n",
       "      <th>1718</th>\n",
       "      <td>21</td>\n",
       "      <td>22</td>\n",
       "      <td>실전! 스프링 부트와 jpa 활용2 - api 개발과 성능 최적화</td>\n",
       "    </tr>\n",
       "    <tr>\n",
       "      <th>1724</th>\n",
       "      <td>21</td>\n",
       "      <td>1</td>\n",
       "      <td>데이터 분석 공부를 더 하고 싶습니다!</td>\n",
       "    </tr>\n",
       "    <tr>\n",
       "      <th>1726</th>\n",
       "      <td>21</td>\n",
       "      <td>1</td>\n",
       "      <td>자바 스프링 프레임워크</td>\n",
       "    </tr>\n",
       "    <tr>\n",
       "      <th>1768</th>\n",
       "      <td>21</td>\n",
       "      <td>1</td>\n",
       "      <td>이번해에는 모바일 모의해킹쪽 배우고 싶습니다\\n관심있는 강의  안드로이드 모바일 앱...</td>\n",
       "    </tr>\n",
       "    <tr>\n",
       "      <th>1879</th>\n",
       "      <td>21</td>\n",
       "      <td>1</td>\n",
       "      <td>제대 후 복학 준비를 위해 프로그래밍 강의를 찾다가 발견한 인프런 싸이트인데요. 무...</td>\n",
       "    </tr>\n",
       "    <tr>\n",
       "      <th>1889</th>\n",
       "      <td>21</td>\n",
       "      <td>1</td>\n",
       "      <td>자바스크립트 es6+ 제대로 알아보기 - 초급</td>\n",
       "    </tr>\n",
       "    <tr>\n",
       "      <th>2056</th>\n",
       "      <td>21</td>\n",
       "      <td>1</td>\n",
       "      <td>는 김영한 선생님의 '스프링 부트와 jpa 활용'입니다.</td>\n",
       "    </tr>\n",
       "    <tr>\n",
       "      <th>2060</th>\n",
       "      <td>21</td>\n",
       "      <td>22</td>\n",
       "      <td>실전! 스프링 부트와 jpa 활용2 - api 개발과 성능 최적화</td>\n",
       "    </tr>\n",
       "    <tr>\n",
       "      <th>2073</th>\n",
       "      <td>21</td>\n",
       "      <td>1</td>\n",
       "      <td>파이썬을 이용한 웹 크롤링(web crawling) 어플리케이션 만들기</td>\n",
       "    </tr>\n",
       "    <tr>\n",
       "      <th>2095</th>\n",
       "      <td>21</td>\n",
       "      <td>1</td>\n",
       "      <td>새해복 많이 받으세요\\n올해는 머신러닝 알고리즘을 꼭 배울거에요</td>\n",
       "    </tr>\n",
       "    <tr>\n",
       "      <th>2114</th>\n",
       "      <td>21</td>\n",
       "      <td>3</td>\n",
       "      <td>예민한 ux 디자인</td>\n",
       "    </tr>\n",
       "    <tr>\n",
       "      <th>2126</th>\n",
       "      <td>21</td>\n",
       "      <td>1</td>\n",
       "      <td>자바스크립트 es6+ 제대로 알아보기 - 초급</td>\n",
       "    </tr>\n",
       "    <tr>\n",
       "      <th>2151</th>\n",
       "      <td>21</td>\n",
       "      <td>37</td>\n",
       "      <td>- 백기선의 spring 완전 정복 로드맵</td>\n",
       "    </tr>\n",
       "    <tr>\n",
       "      <th>2156</th>\n",
       "      <td>21</td>\n",
       "      <td>37</td>\n",
       "      <td>백기선의 spring 완전 정복 로드맵</td>\n",
       "    </tr>\n",
       "    <tr>\n",
       "      <th>2175</th>\n",
       "      <td>21</td>\n",
       "      <td>1</td>\n",
       "      <td>자바스크립트 es6+ 제대로 알아보기 - 초급/중급</td>\n",
       "    </tr>\n",
       "    <tr>\n",
       "      <th>2281</th>\n",
       "      <td>21</td>\n",
       "      <td>3</td>\n",
       "      <td>예민한 ux 디자인</td>\n",
       "    </tr>\n",
       "    <tr>\n",
       "      <th>2313</th>\n",
       "      <td>21</td>\n",
       "      <td>1</td>\n",
       "      <td>pbr 리얼타임 캐릭터 제작</td>\n",
       "    </tr>\n",
       "    <tr>\n",
       "      <th>2338</th>\n",
       "      <td>21</td>\n",
       "      <td>22</td>\n",
       "      <td>실전! 스프링 부트와 jpa 활용2 - api 개발과 성능 최적화</td>\n",
       "    </tr>\n",
       "  </tbody>\n",
       "</table>\n",
       "</div>"
      ],
      "text/plain": [
       "      bcluster  cluster                                             course\n",
       "29          21       22    스프링 프레임워크 핵심 기술, 실전! 스프링부트와 jpa 활용2 - api 개발...\n",
       "33          21       22    스프링 데이터 jpa, 실전! 스프링 부트와 jpa 활용2 - api 개발과 성...\n",
       "36          21       22               실전! 스프링 부트와 jpa 활용2 - api 개발과 성능 최적화\n",
       "71          21        1                          자바스크립트 es6+ 제대로 알아보기 - 초급\n",
       "227         21        3                                         예민한 ux 디자인\n",
       "316         21        1                     마인크래프트 게임을 활용한 파이썬 프로그래밍 완벽 이해\n",
       "356         21        1         자바 스프링 프레임워크(renew ver.) - 신입 프로그래머를 위한 강좌\n",
       "364         21        1     자바 프로그래밍 공부를 하고싶어요!\\n#자바 스프링 프레임워크(renew ver.)\n",
       "406         21        1                           c로 배우는 자료구조 및 여러가지 예제 실습\n",
       "416         21        1                        코딩테스트를 대비하기 위한 공부를 하고 싶습니다.\n",
       "428         21        1                      '파이썬 기본부터 인공지능 머신러닝까지' 학습 로드맵\n",
       "434         21        1         자바 스프링 프레임워크(renew ver.) - 신입 프로그래머를 위한 강좌\n",
       "436         21        1                      '파이썬 기본부터 인공지능 머신러닝까지' 학습 로드맵\n",
       "454         21        1                        리액트 native로 웹앱 모바일 프로젝트 만들기\n",
       "455         21        1                          자바스크립트 es6+ 제대로 알아보기 - 중급\n",
       "456         21       22  올 상반기에는 jpa 제대로 배워 개인프로젝트이든 회사 프로젝트인듯\\n일취월장하는 ...\n",
       "471         21        1    견고한 js 소프트웨어 만들기, 자바스크립트 es6+ 제대로 알아보기 - 중급,...\n",
       "504         21        1            파이썬을 이용한 웹 크롤링(web crawling) 어플리케이션 만들기\n",
       "563         21        1                      자바 스프링 프레임워크 - 신입프로그래머를 위한 강좌\n",
       "654         21        1                     마인크래프트 게임을 활용한 파이썬 프로그래밍 완벽 이해\n",
       "732         21        1                      '파이썬 기본부터 인공지능 머신러닝까지' 학습 로드맵\n",
       "845         21        1    자바스크립트 es6+ 제대로 알아보기 - 초급\\n자바스크립트 es6+ 제대로 알...\n",
       "964         21        1  개념을 복습하기 위해 공부하려합니다 \\n\\n자바 스프링 프레임워크(renew ver...\n",
       "983         21       22               실전! 스프링 부트와 jpa 활용2 - api 개발과 성능 최적화\n",
       "1139        21       36  비전공 취준생입니다! 리액트, node, javscript 마스터하여 프론트엔드 개...\n",
       "1174        21       37                              백기선의 spring 완전 정복 로드맵\n",
       "1251        21        3                                         예민한 ux 디자인\n",
       "1277        21        1                파이썬과 자바스크립트, pwa에 대한 공부를 더 하고 싶습니다.\n",
       "1288        21        1    \\n모던 자바스크립트(자바스크립트) 개발을 위한 es6 강좌\\n자바스크립트 es...\n",
       "1307        21       22             # 실전! 스프링 부트와 jpa 활용2 - api 개발과 성능 최적화\n",
       "1347        21       22               실전! 스프링 부트와 jpa 활용2 - api 개발과 성능 최적화\n",
       "1361        21        1                        리버스쿨 level3 - 안드로이드 모바일 리버싱\n",
       "1456        21        3  작년에 졸업하고 잠시 계약직으로 일하고 있는데, 올해 인프런으로 공부하면서 꼭 좋은...\n",
       "1479        21        3                                         예민한 ux 디자인\n",
       "1496        21        1                                    pbr 리얼타임 캐릭터 제작\n",
       "1528        21       22  # 2020년 공부 목표 \\n- 현 백엔드 실무에 좋은 코드를 심기 위해 여기저기서...\n",
       "1563        21       22  현직 개발자 입니다.\\n올해는 더 열심히 공부해서 내년 이직하는게 목표입니다 )\\n...\n",
       "1579        21        1                               자바스크립트 es6+ 제대로 알아보기\n",
       "1693        21        1  iot 에 관심이 있어서 등륵하게 되었는데요\\n바쁜일정 때문에 손을 못대고 있네요\\...\n",
       "1718        21       22               실전! 스프링 부트와 jpa 활용2 - api 개발과 성능 최적화\n",
       "1724        21        1                              데이터 분석 공부를 더 하고 싶습니다!\n",
       "1726        21        1                                       자바 스프링 프레임워크\n",
       "1768        21        1  이번해에는 모바일 모의해킹쪽 배우고 싶습니다\\n관심있는 강의  안드로이드 모바일 앱...\n",
       "1879        21        1  제대 후 복학 준비를 위해 프로그래밍 강의를 찾다가 발견한 인프런 싸이트인데요. 무...\n",
       "1889        21        1                          자바스크립트 es6+ 제대로 알아보기 - 초급\n",
       "2056        21        1                    는 김영한 선생님의 '스프링 부트와 jpa 활용'입니다.\n",
       "2060        21       22               실전! 스프링 부트와 jpa 활용2 - api 개발과 성능 최적화\n",
       "2073        21        1            파이썬을 이용한 웹 크롤링(web crawling) 어플리케이션 만들기\n",
       "2095        21        1                새해복 많이 받으세요\\n올해는 머신러닝 알고리즘을 꼭 배울거에요\n",
       "2114        21        3                                         예민한 ux 디자인\n",
       "2126        21        1                          자바스크립트 es6+ 제대로 알아보기 - 초급\n",
       "2151        21       37                            - 백기선의 spring 완전 정복 로드맵\n",
       "2156        21       37                              백기선의 spring 완전 정복 로드맵\n",
       "2175        21        1                       자바스크립트 es6+ 제대로 알아보기 - 초급/중급\n",
       "2281        21        3                                         예민한 ux 디자인\n",
       "2313        21        1                                    pbr 리얼타임 캐릭터 제작\n",
       "2338        21       22               실전! 스프링 부트와 jpa 활용2 - api 개발과 성능 최적화"
      ]
     },
     "execution_count": 57,
     "metadata": {},
     "output_type": "execute_result"
    }
   ],
   "source": [
    "df.loc[df[\"bcluster\"] == 21, [\"bcluster\", \"cluster\", \"course\"]]"
   ]
  },
  {
   "cell_type": "code",
   "execution_count": 58,
   "metadata": {},
   "outputs": [
    {
     "data": {
      "text/html": [
       "<div>\n",
       "<style scoped>\n",
       "    .dataframe tbody tr th:only-of-type {\n",
       "        vertical-align: middle;\n",
       "    }\n",
       "\n",
       "    .dataframe tbody tr th {\n",
       "        vertical-align: top;\n",
       "    }\n",
       "\n",
       "    .dataframe thead th {\n",
       "        text-align: right;\n",
       "    }\n",
       "</style>\n",
       "<table border=\"1\" class=\"dataframe\">\n",
       "  <thead>\n",
       "    <tr style=\"text-align: right;\">\n",
       "      <th></th>\n",
       "      <th>bcluster</th>\n",
       "      <th>cluster</th>\n",
       "      <th>origin_text</th>\n",
       "      <th>course</th>\n",
       "    </tr>\n",
       "  </thead>\n",
       "  <tbody>\n",
       "    <tr>\n",
       "      <th>94</th>\n",
       "      <td>24</td>\n",
       "      <td>45</td>\n",
       "      <td>딥러닝을 공부하여 인공지능에 한걸음 다가가고 싶습니다~~!!\\n#관심강의 : [Op...</td>\n",
       "      <td>[opencv] 파이썬 딥러닝 영상처리 프로젝트 - 손흥민을 찾아라!</td>\n",
       "    </tr>\n",
       "    <tr>\n",
       "      <th>515</th>\n",
       "      <td>24</td>\n",
       "      <td>45</td>\n",
       "      <td>바빠서 밀어 두었던 인공지능과 데이터 사이언스를 다시 제대로 공부를 하려 합니다.\\...</td>\n",
       "      <td>바빠서 밀어 두었던 인공지능과 데이터 사이언스를 다시 제대로 공부를 하려 합니다.\\...</td>\n",
       "    </tr>\n",
       "    <tr>\n",
       "      <th>573</th>\n",
       "      <td>24</td>\n",
       "      <td>45</td>\n",
       "      <td>파이썬 로드맵에 따라 열심히 공부해서 데이터 사이언스 skill up 하려고 합니다...</td>\n",
       "      <td>파이썬 로드맵에 따라 열심히 공부해서 데이터 사이언스 skill up 하려고 합니다...</td>\n",
       "    </tr>\n",
       "    <tr>\n",
       "      <th>1245</th>\n",
       "      <td>24</td>\n",
       "      <td>45</td>\n",
       "      <td>내년에 졸업을 앞둔 비전공 개발자지망생 입니다.  최근에 finance machin...</td>\n",
       "      <td>[opencv] 파이썬 딥러닝 영상처리 프로젝트 - 손흥민을 찾아라!</td>\n",
       "    </tr>\n",
       "    <tr>\n",
       "      <th>1413</th>\n",
       "      <td>24</td>\n",
       "      <td>45</td>\n",
       "      <td>현재 현업에서 일하고 있습니다.\\n머신러닝을 마스터하기 위해서 인프런에서 열심히 공...</td>\n",
       "      <td>파이썬 데이터시각화 분석 실전 프로젝트,  파이썬을 활용한 데이터분석과 it보안...</td>\n",
       "    </tr>\n",
       "    <tr>\n",
       "      <th>2384</th>\n",
       "      <td>24</td>\n",
       "      <td>45</td>\n",
       "      <td>2020년 공부목표:\\n컴퓨터 공학을 전공하지 않았지만 소프트웨어 개발자로 일하고 ...</td>\n",
       "      <td>2020년 공부목표\\n컴퓨터 공학을 전공하지 않았지만 소프트웨어 개발자로 일하고 있...</td>\n",
       "    </tr>\n",
       "    <tr>\n",
       "      <th>2405</th>\n",
       "      <td>24</td>\n",
       "      <td>45</td>\n",
       "      <td>2020년 공부목표: \\n학교를 졸업한지 벌써 3년입니다. 졸업 할 때 만해도 무엇...</td>\n",
       "      <td>2020년 공부목표 \\n학교를 졸업한지 벌써 3년입니다. 졸업 할 때 만해도 무엇이...</td>\n",
       "    </tr>\n",
       "  </tbody>\n",
       "</table>\n",
       "</div>"
      ],
      "text/plain": [
       "      bcluster  cluster                                        origin_text  \\\n",
       "94          24       45  딥러닝을 공부하여 인공지능에 한걸음 다가가고 싶습니다~~!!\\n#관심강의 : [Op...   \n",
       "515         24       45  바빠서 밀어 두었던 인공지능과 데이터 사이언스를 다시 제대로 공부를 하려 합니다.\\...   \n",
       "573         24       45  파이썬 로드맵에 따라 열심히 공부해서 데이터 사이언스 skill up 하려고 합니다...   \n",
       "1245        24       45  내년에 졸업을 앞둔 비전공 개발자지망생 입니다.  최근에 finance machin...   \n",
       "1413        24       45  현재 현업에서 일하고 있습니다.\\n머신러닝을 마스터하기 위해서 인프런에서 열심히 공...   \n",
       "2384        24       45  2020년 공부목표:\\n컴퓨터 공학을 전공하지 않았지만 소프트웨어 개발자로 일하고 ...   \n",
       "2405        24       45  2020년 공부목표: \\n학교를 졸업한지 벌써 3년입니다. 졸업 할 때 만해도 무엇...   \n",
       "\n",
       "                                                 course  \n",
       "94               [opencv] 파이썬 딥러닝 영상처리 프로젝트 - 손흥민을 찾아라!  \n",
       "515   바빠서 밀어 두었던 인공지능과 데이터 사이언스를 다시 제대로 공부를 하려 합니다.\\...  \n",
       "573   파이썬 로드맵에 따라 열심히 공부해서 데이터 사이언스 skill up 하려고 합니다...  \n",
       "1245             [opencv] 파이썬 딥러닝 영상처리 프로젝트 - 손흥민을 찾아라!  \n",
       "1413    파이썬 데이터시각화 분석 실전 프로젝트,  파이썬을 활용한 데이터분석과 it보안...  \n",
       "2384  2020년 공부목표\\n컴퓨터 공학을 전공하지 않았지만 소프트웨어 개발자로 일하고 있...  \n",
       "2405  2020년 공부목표 \\n학교를 졸업한지 벌써 3년입니다. 졸업 할 때 만해도 무엇이...  "
      ]
     },
     "execution_count": 58,
     "metadata": {},
     "output_type": "execute_result"
    }
   ],
   "source": [
    "df.loc[df[\"bcluster\"] == 24, [\"bcluster\", \"cluster\", \"origin_text\", \"course\"]].tail(10)"
   ]
  },
  {
   "cell_type": "markdown",
   "metadata": {},
   "source": [
    "### 클러스터 예측 정확도 확인하기"
   ]
  },
  {
   "cell_type": "code",
   "execution_count": 59,
   "metadata": {},
   "outputs": [
    {
     "data": {
      "text/plain": [
       "45"
      ]
     },
     "execution_count": 59,
     "metadata": {},
     "output_type": "execute_result"
    }
   ],
   "source": [
    "len(np.unique(prediction))"
   ]
  },
  {
   "cell_type": "code",
   "execution_count": 60,
   "metadata": {},
   "outputs": [
    {
     "name": "stdout",
     "output_type": "stream",
     "text": [
      "<class 'numpy.ndarray'>\n",
      "(2398,) 1\n"
     ]
    }
   ],
   "source": [
    "print(type(prediction))\n",
    "print(prediction.shape,prediction.ndim)"
   ]
  },
  {
   "cell_type": "code",
   "execution_count": 61,
   "metadata": {},
   "outputs": [
    {
     "name": "stdout",
     "output_type": "stream",
     "text": [
      "(array([3, 9], dtype=int64),)\n",
      "(array([ 4, 10], dtype=int64),)\n"
     ]
    }
   ],
   "source": [
    "a = np.array([0,1,2,3,4,5,0,1,2,3,4,5])\n",
    "# ta = np.unique(a)\n",
    "ta = np.array([3,4])\n",
    "for t in ta:\n",
    "    print(np.where(a==t))"
   ]
  },
  {
   "cell_type": "code",
   "execution_count": 64,
   "metadata": {},
   "outputs": [
    {
     "data": {
      "text/plain": [
       "array([11,  5, 10,  4,  9,  3,  8,  2,  7,  1,  6,  0], dtype=int64)"
      ]
     },
     "execution_count": 64,
     "metadata": {},
     "output_type": "execute_result"
    }
   ],
   "source": [
    "np.argsort(a)[::-1]"
   ]
  },
  {
   "cell_type": "raw",
   "metadata": {},
   "source": [
    "numpy.argsort(a, axis=-1, kind=None, order=None)[source]\n",
    "Returns the indices(원소의 index값) that would sort an array.\n",
    "값이 큰 값부터 순서데로 배열하고, 그 원소값의 index 값을 불러온다"
   ]
  },
  {
   "cell_type": "code",
   "execution_count": 66,
   "metadata": {},
   "outputs": [],
   "source": [
    "# n_clusters 위에서 정의한 클러스터 수를 사용\n",
    "feature_array = feature_vector.toarray()\n",
    "# 예측한 클러스터의 유니크 값\n",
    "labels = np.unique(prediction)\n",
    "df_cluster_score = []\n",
    "df_cluster = []\n",
    "# print(len(labels))\n",
    "for label in labels:\n",
    "    id_temp = np.where(prediction==label) # 예측한 값이 클러스터 번호와 매치 되는 것의 idx 값을 가져옴\n",
    "    ## 1개씩이 아니라, 모두 가져옴. id_temp 는 여러개의 값을 가지는 prediction 의 idx 모음임\n",
    "#     print(id_temp)\n",
    "    x_means = np.mean(feature_array[id_temp], axis = 0) # 클러스터의 평균 값을 구함\n",
    "#     print(x_means)\n",
    "    sorted_means = np.argsort(x_means)[::-1][:n_clusters] # 값을 역순으로 정렬해서 클러스터 수 만큼 가져옴 여기선 50개 \n",
    "    ## 평균값이 큰 값부터 가져온다\n",
    "    features = vectorizer.get_feature_names()\n",
    "    best_features = [(features[i], x_means[i]) for i in sorted_means] \n",
    "    # 클러스터별 전체 스코어\n",
    "    df_score = pd.DataFrame(best_features, columns = ['features', 'score'])\n",
    "#     print(df_score)\n",
    "    df_cluster_score.append(df_score)\n",
    "    # 클러스터 대표 키워드\n",
    "    df_cluster.append(best_features[0])"
   ]
  },
  {
   "cell_type": "code",
   "execution_count": 67,
   "metadata": {},
   "outputs": [
    {
     "data": {
      "text/plain": [
       "(50, 2)"
      ]
     },
     "execution_count": 67,
     "metadata": {},
     "output_type": "execute_result"
    }
   ],
   "source": [
    "df_score.shape"
   ]
  },
  {
   "cell_type": "code",
   "execution_count": 68,
   "metadata": {},
   "outputs": [
    {
     "data": {
      "text/plain": [
       "array([[0, 0, 0, ..., 0, 0, 0],\n",
       "       [0, 0, 0, ..., 0, 0, 0],\n",
       "       [0, 0, 0, ..., 0, 0, 0],\n",
       "       [0, 0, 0, ..., 0, 0, 0]], dtype=int64)"
      ]
     },
     "execution_count": 68,
     "metadata": {},
     "output_type": "execute_result"
    }
   ],
   "source": [
    "feature_array[[3,1000,6,16]]"
   ]
  },
  {
   "cell_type": "code",
   "execution_count": 71,
   "metadata": {},
   "outputs": [
    {
     "data": {
      "text/plain": [
       "('초심자를 위한 리액트', 0.046189376443418015)"
      ]
     },
     "execution_count": 71,
     "metadata": {},
     "output_type": "execute_result"
    }
   ],
   "source": [
    "type(df_cluster[0])\n",
    "df_cluster[0]"
   ]
  },
  {
   "cell_type": "code",
   "execution_count": 77,
   "metadata": {},
   "outputs": [
    {
     "data": {
      "text/html": [
       "<div>\n",
       "<style scoped>\n",
       "    .dataframe tbody tr th:only-of-type {\n",
       "        vertical-align: middle;\n",
       "    }\n",
       "\n",
       "    .dataframe tbody tr th {\n",
       "        vertical-align: top;\n",
       "    }\n",
       "\n",
       "    .dataframe thead th {\n",
       "        text-align: right;\n",
       "    }\n",
       "</style>\n",
       "<table border=\"1\" class=\"dataframe\">\n",
       "  <thead>\n",
       "    <tr style=\"text-align: right;\">\n",
       "      <th></th>\n",
       "      <th>features</th>\n",
       "      <th>score</th>\n",
       "    </tr>\n",
       "  </thead>\n",
       "  <tbody>\n",
       "    <tr>\n",
       "      <th>41</th>\n",
       "      <td>홍정모의 따라하며 배우는 c언어</td>\n",
       "      <td>1.000000</td>\n",
       "    </tr>\n",
       "    <tr>\n",
       "      <th>28</th>\n",
       "      <td>홍정모의 따라하며 배우는</td>\n",
       "      <td>2.000000</td>\n",
       "    </tr>\n",
       "    <tr>\n",
       "      <th>24</th>\n",
       "      <td>홍정모의 따라하며 배우는</td>\n",
       "      <td>1.000000</td>\n",
       "    </tr>\n",
       "    <tr>\n",
       "      <th>29</th>\n",
       "      <td>홍정모의 따라하며 배우는</td>\n",
       "      <td>0.473684</td>\n",
       "    </tr>\n",
       "    <tr>\n",
       "      <th>12</th>\n",
       "      <td>함수형 프로그래밍과 자바스크립트</td>\n",
       "      <td>1.000000</td>\n",
       "    </tr>\n",
       "    <tr>\n",
       "      <th>32</th>\n",
       "      <td>프로그래밍과 자바스크립트 es6</td>\n",
       "      <td>1.285714</td>\n",
       "    </tr>\n",
       "    <tr>\n",
       "      <th>26</th>\n",
       "      <td>표준 jpa 프로그래밍</td>\n",
       "      <td>1.000000</td>\n",
       "    </tr>\n",
       "    <tr>\n",
       "      <th>38</th>\n",
       "      <td>파이썬 입문 inflearn</td>\n",
       "      <td>1.000000</td>\n",
       "    </tr>\n",
       "    <tr>\n",
       "      <th>2</th>\n",
       "      <td>파이썬 머신러닝 완벽</td>\n",
       "      <td>1.000000</td>\n",
       "    </tr>\n",
       "    <tr>\n",
       "      <th>19</th>\n",
       "      <td>파이썬 데이터 분석</td>\n",
       "      <td>0.292683</td>\n",
       "    </tr>\n",
       "    <tr>\n",
       "      <th>39</th>\n",
       "      <td>케라스 인공지능의 공용어</td>\n",
       "      <td>1.000000</td>\n",
       "    </tr>\n",
       "    <tr>\n",
       "      <th>0</th>\n",
       "      <td>초심자를 위한 리액트</td>\n",
       "      <td>0.046189</td>\n",
       "    </tr>\n",
       "    <tr>\n",
       "      <th>43</th>\n",
       "      <td>처음 시작하는 파이썬</td>\n",
       "      <td>1.000000</td>\n",
       "    </tr>\n",
       "    <tr>\n",
       "      <th>20</th>\n",
       "      <td>자바스크립트의 근본적인 핵심</td>\n",
       "      <td>1.000000</td>\n",
       "    </tr>\n",
       "    <tr>\n",
       "      <th>18</th>\n",
       "      <td>인스타그램 클론 강의</td>\n",
       "      <td>0.384615</td>\n",
       "    </tr>\n",
       "    <tr>\n",
       "      <th>27</th>\n",
       "      <td>위한 알고리즘 입문 with 창의적 문제해결</td>\n",
       "      <td>1.000000</td>\n",
       "    </tr>\n",
       "    <tr>\n",
       "      <th>10</th>\n",
       "      <td>위한 swift5 완벽</td>\n",
       "      <td>1.000000</td>\n",
       "    </tr>\n",
       "    <tr>\n",
       "      <th>9</th>\n",
       "      <td>야곰의 ios 프로그래밍</td>\n",
       "      <td>0.461538</td>\n",
       "    </tr>\n",
       "    <tr>\n",
       "      <th>6</th>\n",
       "      <td>애플리케이션을 테스트하는 다양한</td>\n",
       "      <td>0.474576</td>\n",
       "    </tr>\n",
       "    <tr>\n",
       "      <th>44</th>\n",
       "      <td>실험을 통해 성장하는 서비스를</td>\n",
       "      <td>1.000000</td>\n",
       "    </tr>\n",
       "    <tr>\n",
       "      <th>7</th>\n",
       "      <td>실전 스프링 데이터 jpa</td>\n",
       "      <td>1.000000</td>\n",
       "    </tr>\n",
       "    <tr>\n",
       "      <th>33</th>\n",
       "      <td>시작하기 파이썬 입문</td>\n",
       "      <td>1.000000</td>\n",
       "    </tr>\n",
       "    <tr>\n",
       "      <th>15</th>\n",
       "      <td>스프링 부트와 jpa</td>\n",
       "      <td>1.125000</td>\n",
       "    </tr>\n",
       "    <tr>\n",
       "      <th>25</th>\n",
       "      <td>스프링 부트 개념과 활용</td>\n",
       "      <td>1.000000</td>\n",
       "    </tr>\n",
       "    <tr>\n",
       "      <th>35</th>\n",
       "      <td>스프링 부트 개념과</td>\n",
       "      <td>0.571429</td>\n",
       "    </tr>\n",
       "    <tr>\n",
       "      <th>1</th>\n",
       "      <td>스프링 데이터 jpa</td>\n",
       "      <td>1.000000</td>\n",
       "    </tr>\n",
       "    <tr>\n",
       "      <th>36</th>\n",
       "      <td>스프링 기반 rest api</td>\n",
       "      <td>1.000000</td>\n",
       "    </tr>\n",
       "    <tr>\n",
       "      <th>34</th>\n",
       "      <td>부트 개념과 활용</td>\n",
       "      <td>1.000000</td>\n",
       "    </tr>\n",
       "    <tr>\n",
       "      <th>40</th>\n",
       "      <td>모두를 위한 딥러닝</td>\n",
       "      <td>1.000000</td>\n",
       "    </tr>\n",
       "    <tr>\n",
       "      <th>31</th>\n",
       "      <td>모두를 위한 딥러닝</td>\n",
       "      <td>0.666667</td>\n",
       "    </tr>\n",
       "    <tr>\n",
       "      <th>4</th>\n",
       "      <td>리액트로 nodebird sns 만들기</td>\n",
       "      <td>1.000000</td>\n",
       "    </tr>\n",
       "    <tr>\n",
       "      <th>30</th>\n",
       "      <td>리눅스 시스템 프로그래밍</td>\n",
       "      <td>0.258065</td>\n",
       "    </tr>\n",
       "    <tr>\n",
       "      <th>11</th>\n",
       "      <td>데이터시각화 분석 실전</td>\n",
       "      <td>1.000000</td>\n",
       "    </tr>\n",
       "    <tr>\n",
       "      <th>13</th>\n",
       "      <td>남박사의 파이썬 실전 100 활용</td>\n",
       "      <td>1.000000</td>\n",
       "    </tr>\n",
       "    <tr>\n",
       "      <th>5</th>\n",
       "      <td>그로스해킹 데이터와 실험을 통해 성장하는</td>\n",
       "      <td>1.000000</td>\n",
       "    </tr>\n",
       "    <tr>\n",
       "      <th>14</th>\n",
       "      <td>게임을 만들며 배우는 자바스크립트</td>\n",
       "      <td>0.005277</td>\n",
       "    </tr>\n",
       "    <tr>\n",
       "      <th>17</th>\n",
       "      <td>게임 프로그래밍 에센스</td>\n",
       "      <td>0.393939</td>\n",
       "    </tr>\n",
       "    <tr>\n",
       "      <th>42</th>\n",
       "      <td>개발을 위한 swift5</td>\n",
       "      <td>1.000000</td>\n",
       "    </tr>\n",
       "    <tr>\n",
       "      <th>21</th>\n",
       "      <td>개발과 성능 최적화</td>\n",
       "      <td>0.210526</td>\n",
       "    </tr>\n",
       "    <tr>\n",
       "      <th>8</th>\n",
       "      <td>강의명 홍정모의 따라하며</td>\n",
       "      <td>1.000000</td>\n",
       "    </tr>\n",
       "    <tr>\n",
       "      <th>16</th>\n",
       "      <td>vue js 완벽 가이드</td>\n",
       "      <td>1.000000</td>\n",
       "    </tr>\n",
       "    <tr>\n",
       "      <th>22</th>\n",
       "      <td>spring data jpa</td>\n",
       "      <td>1.000000</td>\n",
       "    </tr>\n",
       "    <tr>\n",
       "      <th>23</th>\n",
       "      <td>opencv 파이썬 딥러닝 영상처리 프로젝트 손흥민을</td>\n",
       "      <td>1.000000</td>\n",
       "    </tr>\n",
       "    <tr>\n",
       "      <th>37</th>\n",
       "      <td>nodebird sns 만들기</td>\n",
       "      <td>0.875000</td>\n",
       "    </tr>\n",
       "    <tr>\n",
       "      <th>3</th>\n",
       "      <td>2020년 공부 목표</td>\n",
       "      <td>0.923077</td>\n",
       "    </tr>\n",
       "  </tbody>\n",
       "</table>\n",
       "</div>"
      ],
      "text/plain": [
       "                         features     score\n",
       "41              홍정모의 따라하며 배우는 c언어  1.000000\n",
       "28                  홍정모의 따라하며 배우는  2.000000\n",
       "24                  홍정모의 따라하며 배우는  1.000000\n",
       "29                  홍정모의 따라하며 배우는  0.473684\n",
       "12              함수형 프로그래밍과 자바스크립트  1.000000\n",
       "32              프로그래밍과 자바스크립트 es6  1.285714\n",
       "26                   표준 jpa 프로그래밍  1.000000\n",
       "38                파이썬 입문 inflearn  1.000000\n",
       "2                     파이썬 머신러닝 완벽  1.000000\n",
       "19                     파이썬 데이터 분석  0.292683\n",
       "39                  케라스 인공지능의 공용어  1.000000\n",
       "0                     초심자를 위한 리액트  0.046189\n",
       "43                    처음 시작하는 파이썬  1.000000\n",
       "20                자바스크립트의 근본적인 핵심  1.000000\n",
       "18                    인스타그램 클론 강의  0.384615\n",
       "27       위한 알고리즘 입문 with 창의적 문제해결  1.000000\n",
       "10                   위한 swift5 완벽  1.000000\n",
       "9                   야곰의 ios 프로그래밍  0.461538\n",
       "6               애플리케이션을 테스트하는 다양한  0.474576\n",
       "44               실험을 통해 성장하는 서비스를  1.000000\n",
       "7                  실전 스프링 데이터 jpa  1.000000\n",
       "33                    시작하기 파이썬 입문  1.000000\n",
       "15                    스프링 부트와 jpa  1.125000\n",
       "25                  스프링 부트 개념과 활용  1.000000\n",
       "35                     스프링 부트 개념과  0.571429\n",
       "1                     스프링 데이터 jpa  1.000000\n",
       "36                스프링 기반 rest api  1.000000\n",
       "34                      부트 개념과 활용  1.000000\n",
       "40                     모두를 위한 딥러닝  1.000000\n",
       "31                     모두를 위한 딥러닝  0.666667\n",
       "4           리액트로 nodebird sns 만들기  1.000000\n",
       "30                  리눅스 시스템 프로그래밍  0.258065\n",
       "11                   데이터시각화 분석 실전  1.000000\n",
       "13             남박사의 파이썬 실전 100 활용  1.000000\n",
       "5          그로스해킹 데이터와 실험을 통해 성장하는  1.000000\n",
       "14             게임을 만들며 배우는 자바스크립트  0.005277\n",
       "17                   게임 프로그래밍 에센스  0.393939\n",
       "42                  개발을 위한 swift5  1.000000\n",
       "21                     개발과 성능 최적화  0.210526\n",
       "8                   강의명 홍정모의 따라하며  1.000000\n",
       "16                  vue js 완벽 가이드  1.000000\n",
       "22                spring data jpa  1.000000\n",
       "23  opencv 파이썬 딥러닝 영상처리 프로젝트 손흥민을  1.000000\n",
       "37               nodebird sns 만들기  0.875000\n",
       "3                     2020년 공부 목표  0.923077"
      ]
     },
     "execution_count": 77,
     "metadata": {},
     "output_type": "execute_result"
    }
   ],
   "source": [
    "# 개별 클러스터에서 점수가 가장 높은 단어를 추출 아래 점수가 클수록 예측 정확도가 높음\n",
    "# MiniBatchKMeans 로 예측한 값 기준\n",
    "pd.DataFrame(df_cluster, columns = ['features', 'score']).sort_values(by=[\"features\", \"score\"], ascending=False)"
   ]
  },
  {
   "cell_type": "code",
   "execution_count": 80,
   "metadata": {},
   "outputs": [
    {
     "data": {
      "text/html": [
       "<div>\n",
       "<style scoped>\n",
       "    .dataframe tbody tr th:only-of-type {\n",
       "        vertical-align: middle;\n",
       "    }\n",
       "\n",
       "    .dataframe tbody tr th {\n",
       "        vertical-align: top;\n",
       "    }\n",
       "\n",
       "    .dataframe thead th {\n",
       "        text-align: right;\n",
       "    }\n",
       "</style>\n",
       "<table border=\"1\" class=\"dataframe\">\n",
       "  <thead>\n",
       "    <tr style=\"text-align: right;\">\n",
       "      <th></th>\n",
       "      <th>bcluster</th>\n",
       "      <th>cluster</th>\n",
       "      <th>origin_text</th>\n",
       "      <th>course</th>\n",
       "    </tr>\n",
       "  </thead>\n",
       "  <tbody>\n",
       "    <tr>\n",
       "      <th>94</th>\n",
       "      <td>24</td>\n",
       "      <td>45</td>\n",
       "      <td>딥러닝을 공부하여 인공지능에 한걸음 다가가고 싶습니다~~!!\\n#관심강의 : [Op...</td>\n",
       "      <td>[opencv] 파이썬 딥러닝 영상처리 프로젝트 - 손흥민을 찾아라!</td>\n",
       "    </tr>\n",
       "    <tr>\n",
       "      <th>515</th>\n",
       "      <td>24</td>\n",
       "      <td>45</td>\n",
       "      <td>바빠서 밀어 두었던 인공지능과 데이터 사이언스를 다시 제대로 공부를 하려 합니다.\\...</td>\n",
       "      <td>바빠서 밀어 두었던 인공지능과 데이터 사이언스를 다시 제대로 공부를 하려 합니다.\\...</td>\n",
       "    </tr>\n",
       "    <tr>\n",
       "      <th>573</th>\n",
       "      <td>24</td>\n",
       "      <td>45</td>\n",
       "      <td>파이썬 로드맵에 따라 열심히 공부해서 데이터 사이언스 skill up 하려고 합니다...</td>\n",
       "      <td>파이썬 로드맵에 따라 열심히 공부해서 데이터 사이언스 skill up 하려고 합니다...</td>\n",
       "    </tr>\n",
       "    <tr>\n",
       "      <th>1245</th>\n",
       "      <td>24</td>\n",
       "      <td>45</td>\n",
       "      <td>내년에 졸업을 앞둔 비전공 개발자지망생 입니다.  최근에 finance machin...</td>\n",
       "      <td>[opencv] 파이썬 딥러닝 영상처리 프로젝트 - 손흥민을 찾아라!</td>\n",
       "    </tr>\n",
       "    <tr>\n",
       "      <th>1413</th>\n",
       "      <td>24</td>\n",
       "      <td>45</td>\n",
       "      <td>현재 현업에서 일하고 있습니다.\\n머신러닝을 마스터하기 위해서 인프런에서 열심히 공...</td>\n",
       "      <td>파이썬 데이터시각화 분석 실전 프로젝트,  파이썬을 활용한 데이터분석과 it보안...</td>\n",
       "    </tr>\n",
       "    <tr>\n",
       "      <th>2384</th>\n",
       "      <td>24</td>\n",
       "      <td>45</td>\n",
       "      <td>2020년 공부목표:\\n컴퓨터 공학을 전공하지 않았지만 소프트웨어 개발자로 일하고 ...</td>\n",
       "      <td>2020년 공부목표\\n컴퓨터 공학을 전공하지 않았지만 소프트웨어 개발자로 일하고 있...</td>\n",
       "    </tr>\n",
       "    <tr>\n",
       "      <th>2405</th>\n",
       "      <td>24</td>\n",
       "      <td>45</td>\n",
       "      <td>2020년 공부목표: \\n학교를 졸업한지 벌써 3년입니다. 졸업 할 때 만해도 무엇...</td>\n",
       "      <td>2020년 공부목표 \\n학교를 졸업한지 벌써 3년입니다. 졸업 할 때 만해도 무엇이...</td>\n",
       "    </tr>\n",
       "  </tbody>\n",
       "</table>\n",
       "</div>"
      ],
      "text/plain": [
       "      bcluster  cluster                                        origin_text  \\\n",
       "94          24       45  딥러닝을 공부하여 인공지능에 한걸음 다가가고 싶습니다~~!!\\n#관심강의 : [Op...   \n",
       "515         24       45  바빠서 밀어 두었던 인공지능과 데이터 사이언스를 다시 제대로 공부를 하려 합니다.\\...   \n",
       "573         24       45  파이썬 로드맵에 따라 열심히 공부해서 데이터 사이언스 skill up 하려고 합니다...   \n",
       "1245        24       45  내년에 졸업을 앞둔 비전공 개발자지망생 입니다.  최근에 finance machin...   \n",
       "1413        24       45  현재 현업에서 일하고 있습니다.\\n머신러닝을 마스터하기 위해서 인프런에서 열심히 공...   \n",
       "2384        24       45  2020년 공부목표:\\n컴퓨터 공학을 전공하지 않았지만 소프트웨어 개발자로 일하고 ...   \n",
       "2405        24       45  2020년 공부목표: \\n학교를 졸업한지 벌써 3년입니다. 졸업 할 때 만해도 무엇...   \n",
       "\n",
       "                                                 course  \n",
       "94               [opencv] 파이썬 딥러닝 영상처리 프로젝트 - 손흥민을 찾아라!  \n",
       "515   바빠서 밀어 두었던 인공지능과 데이터 사이언스를 다시 제대로 공부를 하려 합니다.\\...  \n",
       "573   파이썬 로드맵에 따라 열심히 공부해서 데이터 사이언스 skill up 하려고 합니다...  \n",
       "1245             [opencv] 파이썬 딥러닝 영상처리 프로젝트 - 손흥민을 찾아라!  \n",
       "1413    파이썬 데이터시각화 분석 실전 프로젝트,  파이썬을 활용한 데이터분석과 it보안...  \n",
       "2384  2020년 공부목표\\n컴퓨터 공학을 전공하지 않았지만 소프트웨어 개발자로 일하고 있...  \n",
       "2405  2020년 공부목표 \\n학교를 졸업한지 벌써 3년입니다. 졸업 할 때 만해도 무엇이...  "
      ]
     },
     "execution_count": 80,
     "metadata": {},
     "output_type": "execute_result"
    }
   ],
   "source": [
    "# 정확도가 1이 나온 클러스터를 찾아봄 - 같은 강좌끼리 묶였는지 확인 함\n",
    "df.loc[df[\"bcluster\"] == 24, [\"bcluster\", \"cluster\", \"origin_text\", \"course\"]]"
   ]
  },
  {
   "cell_type": "markdown",
   "metadata": {},
   "source": [
    "## WordCloud\n",
    "* [amueller/word_cloud: A little word cloud generator in Python](https://github.com/amueller/word_cloud)\n",
    "* 설치 방법 : [Wordcloud :: Anaconda Cloud](https://anaconda.org/conda-forge/wordcloud)"
   ]
  },
  {
   "cell_type": "code",
   "execution_count": 81,
   "metadata": {},
   "outputs": [
    {
     "name": "stdout",
     "output_type": "stream",
     "text": [
      "Collecting wordcloud\n",
      "  Downloading https://files.pythonhosted.org/packages/96/36/f712ec19c6e253d27c5cae0d45a4a465ebb5ccf0cb26887a6a3127d13769/wordcloud-1.6.0-cp37-cp37m-win_amd64.whl (153kB)\n",
      "Requirement already satisfied: matplotlib in c:\\programdata\\anaconda3\\envs\\test\\lib\\site-packages (from wordcloud) (3.0.3)\n",
      "Requirement already satisfied: numpy>=1.6.1 in c:\\programdata\\anaconda3\\envs\\test\\lib\\site-packages (from wordcloud) (1.16.2)\n",
      "Collecting pillow (from wordcloud)\n",
      "  Downloading https://files.pythonhosted.org/packages/88/6b/66f502b5ea615f69433ae1e23ec786b2cdadbe41a5cfb1e1fabb4f9c6ce9/Pillow-7.0.0-cp37-cp37m-win_amd64.whl (2.0MB)\n",
      "Requirement already satisfied: cycler>=0.10 in c:\\programdata\\anaconda3\\envs\\test\\lib\\site-packages (from matplotlib->wordcloud) (0.10.0)\n",
      "Requirement already satisfied: kiwisolver>=1.0.1 in c:\\programdata\\anaconda3\\envs\\test\\lib\\site-packages (from matplotlib->wordcloud) (1.0.1)\n",
      "Requirement already satisfied: pyparsing!=2.0.4,!=2.1.2,!=2.1.6,>=2.0.1 in c:\\programdata\\anaconda3\\envs\\test\\lib\\site-packages (from matplotlib->wordcloud) (2.4.0)\n",
      "Requirement already satisfied: python-dateutil>=2.1 in c:\\programdata\\anaconda3\\envs\\test\\lib\\site-packages (from matplotlib->wordcloud) (2.8.0)\n",
      "Requirement already satisfied: six in c:\\programdata\\anaconda3\\envs\\test\\lib\\site-packages (from cycler>=0.10->matplotlib->wordcloud) (1.12.0)\n",
      "Requirement already satisfied: setuptools in c:\\programdata\\anaconda3\\envs\\test\\lib\\site-packages (from kiwisolver>=1.0.1->matplotlib->wordcloud) (41.0.0)\n",
      "Installing collected packages: pillow, wordcloud\n",
      "Successfully installed pillow-7.0.0 wordcloud-1.6.0\n"
     ]
    }
   ],
   "source": [
    "!pip install wordcloud"
   ]
  },
  {
   "cell_type": "code",
   "execution_count": 82,
   "metadata": {},
   "outputs": [],
   "source": [
    "from wordcloud import WordCloud\n",
    "\n",
    "# 불용어 - 자주 등장하지만 의미가 크지 않아 제외하고 싶은 텍스트\n",
    "stopwords = [\"관심 강의\", \"관심강의\", \"관심\", \"강의\", \"강좌\", \"강의를\",\n",
    "             \"올해\", \"올해는\", \"열심히\", \"공부를\", \"합니다\", \"하고\", \"싶어요\", \n",
    "             \"있는\", \"있습니다\", \"싶습니다\", \"2020년\"]\n",
    "# 불용어를 제거하지 않고 그리려면 아래 주석을 풀어서 stopword 변수에 덮어쓰기를 합니다.\n",
    "# stopwords = []\n",
    "def displayWordCloud(data = None, backgroundcolor = 'black', width=1280, height=768):\n",
    "    wordcloud = WordCloud(\n",
    "                        font_path = '/Library/Fonts/NanumBarunGothic.ttf', \n",
    "                        stopwords = stopwords, \n",
    "                        background_color = backgroundcolor, \n",
    "                        width = width, height = height, \n",
    "                        random_state=42).generate(data)\n",
    "    plt.figure(figsize = (15 , 10))\n",
    "    plt.imshow(wordcloud)\n",
    "    plt.axis(\"off\")\n",
    "    plt.show() "
   ]
  },
  {
   "cell_type": "code",
   "execution_count": 83,
   "metadata": {},
   "outputs": [
    {
     "data": {
      "image/png": "[encoded data removed]",
      "text/plain": [
       "<Figure size 1080x720 with 1 Axes>"
      ]
     },
     "metadata": {
      "image/png": {
       "height": 536,
       "width": 875
      }
     },
     "output_type": "display_data"
    }
   ],
   "source": [
    "course_text = \" \".join(df[\"course\"])\n",
    "displayWordCloud(course_text)"
   ]
  },
  {
   "cell_type": "code",
   "execution_count": null,
   "metadata": {},
   "outputs": [],
   "source": []
  }
 ],
 "metadata": {
  "kernelspec": {
   "display_name": "Python 3",
   "language": "python",
   "name": "python3"
  },
  "language_info": {
   "codemirror_mode": {
    "name": "ipython",
    "version": 3
   },
   "file_extension": ".py",
   "mimetype": "text/x-python",
   "name": "python",
   "nbconvert_exporter": "python",
   "pygments_lexer": "ipython3",
   "version": "3.7.3"
  },
  "varInspector": {
   "cols": {
    "lenName": 16,
    "lenType": 16,
    "lenVar": 40
   },
   "kernels_config": {
    "python": {
     "delete_cmd_postfix": "",
     "delete_cmd_prefix": "del ",
     "library": "var_list.py",
     "varRefreshCmd": "print(var_dic_list())"
    },
    "r": {
     "delete_cmd_postfix": ") ",
     "delete_cmd_prefix": "rm(",
     "library": "var_list.r",
     "varRefreshCmd": "cat(var_dic_list()) "
    }
   },
   "types_to_exclude": [
    "module",
    "function",
    "builtin_function_or_method",
    "instance",
    "_Feature"
   ],
   "window_display": false
  }
 },
 "nbformat": 4,
 "nbformat_minor": 4
}
