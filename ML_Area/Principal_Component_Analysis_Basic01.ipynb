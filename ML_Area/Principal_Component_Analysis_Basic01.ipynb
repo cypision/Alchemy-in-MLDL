{
 "cells": [
  {
   "cell_type": "markdown",
   "metadata": {},
   "source": [
    "---\n",
    "title:  \"Principal Component Analysis Using Python\"\n",
    "excerpt: \"python 으로 하는 주성분 분석(PCA)\"\n",
    "\n",
    "categories:\n",
    "  - Machine-Learning\n",
    "tags:\n",
    "  - PCA\n",
    "  - EigenDecomposition\n",
    "  - Dimension reduction\n",
    "  - Feature extraction\n",
    "last_modified_at: 2020-04-26T21:15:00-05:00\n",
    "---"
   ]
  },
  {
   "cell_type": "markdown",
   "metadata": {},
   "source": [
    "## Principal component analysis  \n",
    "### reference  \n",
    "- PCA 개념관련_01 : https://ratsgo.github.io/from%20frequency%20to%20semantics/2017/04/06/pcasvdlsa/\n",
    "- PCA 개념관련_02 : https://darkpgmr.tistory.com/104\n",
    "- 코드관련 : StatQuest youtube - \"PCA in Python\" 을 참고하여 진행했다\n",
    "- 포아송분포관련 blog : https://blog.naver.com/PostView.nhn?blogId=mykepzzang&logNo=220840724901"
   ]
  },
  {
   "cell_type": "markdown",
   "metadata": {},
   "source": [
    "## Loding Library"
   ]
  },
  {
   "cell_type": "code",
   "execution_count": 2,
   "metadata": {},
   "outputs": [],
   "source": [
    "import pandas as pd\n",
    "import numpy as np\n",
    "import random as rd\n",
    "from sklearn.decomposition import PCA\n",
    "from sklearn import preprocessing\n",
    "import matplotlib.pyplot as plt # NOTE: This was tested with matplotlib v. 2.1.0"
   ]
  },
  {
   "cell_type": "markdown",
   "metadata": {},
   "source": [
    "## Data Generation Code"
   ]
  },
  {
   "cell_type": "code",
   "execution_count": 4,
   "metadata": {},
   "outputs": [],
   "source": [
    "## In this example, the data is in a data frame called data.\n",
    "## Columns are individual samples (i.e. cells)\n",
    "## Rows are measurements taken for all the samples (i.e. genes)\n",
    "## Just for the sake of the example, we'll use made up data...\n",
    "genes = ['gene' + str(i) for i in range(1,101)]\n",
    " \n",
    "wt = ['wt' + str(i) for i in range(1,6)]\n",
    "ko = ['ko' + str(i) for i in range(1,6)]\n",
    " \n",
    "data = pd.DataFrame(columns=[*wt, *ko], index=genes)\n",
    " \n",
    "for gene in data.index:\n",
    "    data.loc[gene,'wt1':'wt5'] = np.random.poisson(lam=rd.randrange(10,1000), size=5)\n",
    "    data.loc[gene,'ko1':'ko5'] = np.random.poisson(lam=rd.randrange(10,1000), size=5)"
   ]
  },
  {
   "cell_type": "markdown",
   "metadata": {},
   "source": [
    "## Special Poisson Distribution\n",
    "random.poisson 은 lam 다 값을 통하여, 랜덤하게 값을 뽑는데, 이때 lambda의 범위를 10 ~ 1000 으로 한다.  \n",
    "이걸 활용하여, 이 lambda 값을 활용하여, 포아송 분포에서, 랜덤하게 5(size=5)개를 추출한다. "
   ]
  },
  {
   "cell_type": "code",
   "execution_count": 5,
   "metadata": {},
   "outputs": [],
   "source": [
    "# ![img](../dataset/PCA/1280px-Poisson_pmf.svg.PNG)"
   ]
  },
  {
   "cell_type": "code",
   "execution_count": 6,
   "metadata": {},
   "outputs": [],
   "source": [
    "import seaborn as sns\n",
    "sns.set(style=\"darkgrid\", palette=\"muted\", color_codes=True)\n",
    "%matplotlib inline"
   ]
  },
  {
   "cell_type": "markdown",
   "metadata": {},
   "source": [
    "#### 포아송분포 정의  \n",
    "1) 모수 : 모집단의 특성을 나타내는 수치  ex> 한 시간동안 사무실에 걸려온 전화의 수, 일주일동안 기병들이 낙마하는 횟수  \n",
    "2) 포아송분포의 모수 : \"단위시간 또는 단위공간에서 평균발생횟수\"  \n",
    "\n",
    "정의하면, __\"단위 시간, 단위 공간에 어떤 사건이 몇 번 발생할 것인가를 표현하는 이산 확률분포\"__"
   ]
  },
  {
   "cell_type": "code",
   "execution_count": 7,
   "metadata": {},
   "outputs": [
    {
     "data": {
      "image/png": "[encoded data removed]",
      "text/plain": [
       "<Figure size 504x360 with 4 Axes>"
      ]
     },
     "metadata": {
      "needs_background": "light"
     },
     "output_type": "display_data"
    }
   ],
   "source": [
    "# Set up the matplotlib figure\n",
    "f, axes = plt.subplots(2, 2, figsize=(7, 5), sharex=True)\n",
    "sns.despine(left=True)\n",
    "\n",
    "ax1=sns.distplot(np.random.poisson(lam=1, size=100), color=\"b\", kde=True, ax=axes[0, 0],label=\"lambda:1\")\n",
    "ax1.legend()\n",
    "ax2=sns.distplot(np.random.poisson(lam=5, size=100), color=\"r\", kde=True, ax=axes[0, 1],label=\"lambda:5\")\n",
    "ax2.legend()\n",
    "ax3=sns.distplot(np.random.poisson(lam=10, size=100), color=\"g\", kde=True, ax=axes[1, 0],label=\"lambda:10\")\n",
    "ax3.legend()\n",
    "ax4=sns.distplot(np.random.poisson(lam=20, size=100), color=\"m\", kde=True, ax=axes[1, 1],label=\"lambda:20\")\n",
    "ax4.legend()\n",
    "\n",
    "plt.setp(axes, yticks=[])\n",
    "plt.tight_layout()"
   ]
  },
  {
   "cell_type": "code",
   "execution_count": 8,
   "metadata": {},
   "outputs": [
    {
     "name": "stdout",
     "output_type": "stream",
     "text": [
      "       wt1  wt2  wt3  wt4  wt5  ko1  ko2  ko3  ko4  ko5\n",
      "gene1  439  446  452  436  425  200  207  184  197  191\n",
      "gene2  125  152  130  114  118  883  885  898  887  882\n",
      "gene3  432  466  452  484  469  382  434  414  428  437\n",
      "gene4  252  269  247  246  238  596  596  579  608  619\n",
      "gene5  709  659  671  663  678   53   67   49   53   50\n",
      "\n",
      "(100, 10)\n"
     ]
    }
   ],
   "source": [
    "print(data.head()) ## gene 이 feature고, wt1~5,ko1~5 가 sample이다.\n",
    "print()\n",
    "print(data.shape)"
   ]
  },
  {
   "cell_type": "code",
   "execution_count": 9,
   "metadata": {},
   "outputs": [
    {
     "name": "stdout",
     "output_type": "stream",
     "text": [
      "(10, 100)\n"
     ]
    }
   ],
   "source": [
    "## 데이터 형식을 익숙하게 row * feature 구조로 바꾼다\n",
    "data01 = data.T\n",
    "print(data01.shape)"
   ]
  },
  {
   "cell_type": "code",
   "execution_count": 10,
   "metadata": {},
   "outputs": [
    {
     "data": {
      "text/html": [
       "<div>\n",
       "<style scoped>\n",
       "    .dataframe tbody tr th:only-of-type {\n",
       "        vertical-align: middle;\n",
       "    }\n",
       "\n",
       "    .dataframe tbody tr th {\n",
       "        vertical-align: top;\n",
       "    }\n",
       "\n",
       "    .dataframe thead th {\n",
       "        text-align: right;\n",
       "    }\n",
       "</style>\n",
       "<table border=\"1\" class=\"dataframe\">\n",
       "  <thead>\n",
       "    <tr style=\"text-align: right;\">\n",
       "      <th></th>\n",
       "      <th>gene1</th>\n",
       "      <th>gene2</th>\n",
       "      <th>gene3</th>\n",
       "      <th>gene4</th>\n",
       "      <th>gene5</th>\n",
       "      <th>gene6</th>\n",
       "      <th>gene7</th>\n",
       "      <th>gene8</th>\n",
       "      <th>gene9</th>\n",
       "      <th>gene10</th>\n",
       "      <th>...</th>\n",
       "      <th>gene91</th>\n",
       "      <th>gene92</th>\n",
       "      <th>gene93</th>\n",
       "      <th>gene94</th>\n",
       "      <th>gene95</th>\n",
       "      <th>gene96</th>\n",
       "      <th>gene97</th>\n",
       "      <th>gene98</th>\n",
       "      <th>gene99</th>\n",
       "      <th>gene100</th>\n",
       "    </tr>\n",
       "  </thead>\n",
       "  <tbody>\n",
       "    <tr>\n",
       "      <th>wt1</th>\n",
       "      <td>439</td>\n",
       "      <td>125</td>\n",
       "      <td>432</td>\n",
       "      <td>252</td>\n",
       "      <td>709</td>\n",
       "      <td>806</td>\n",
       "      <td>360</td>\n",
       "      <td>12</td>\n",
       "      <td>244</td>\n",
       "      <td>120</td>\n",
       "      <td>...</td>\n",
       "      <td>213</td>\n",
       "      <td>121</td>\n",
       "      <td>131</td>\n",
       "      <td>524</td>\n",
       "      <td>883</td>\n",
       "      <td>483</td>\n",
       "      <td>580</td>\n",
       "      <td>283</td>\n",
       "      <td>157</td>\n",
       "      <td>124</td>\n",
       "    </tr>\n",
       "    <tr>\n",
       "      <th>wt2</th>\n",
       "      <td>446</td>\n",
       "      <td>152</td>\n",
       "      <td>466</td>\n",
       "      <td>269</td>\n",
       "      <td>659</td>\n",
       "      <td>846</td>\n",
       "      <td>354</td>\n",
       "      <td>19</td>\n",
       "      <td>236</td>\n",
       "      <td>89</td>\n",
       "      <td>...</td>\n",
       "      <td>212</td>\n",
       "      <td>118</td>\n",
       "      <td>138</td>\n",
       "      <td>525</td>\n",
       "      <td>896</td>\n",
       "      <td>457</td>\n",
       "      <td>539</td>\n",
       "      <td>265</td>\n",
       "      <td>154</td>\n",
       "      <td>127</td>\n",
       "    </tr>\n",
       "    <tr>\n",
       "      <th>wt3</th>\n",
       "      <td>452</td>\n",
       "      <td>130</td>\n",
       "      <td>452</td>\n",
       "      <td>247</td>\n",
       "      <td>671</td>\n",
       "      <td>873</td>\n",
       "      <td>349</td>\n",
       "      <td>16</td>\n",
       "      <td>232</td>\n",
       "      <td>102</td>\n",
       "      <td>...</td>\n",
       "      <td>205</td>\n",
       "      <td>106</td>\n",
       "      <td>126</td>\n",
       "      <td>519</td>\n",
       "      <td>854</td>\n",
       "      <td>476</td>\n",
       "      <td>549</td>\n",
       "      <td>271</td>\n",
       "      <td>168</td>\n",
       "      <td>143</td>\n",
       "    </tr>\n",
       "    <tr>\n",
       "      <th>wt4</th>\n",
       "      <td>436</td>\n",
       "      <td>114</td>\n",
       "      <td>484</td>\n",
       "      <td>246</td>\n",
       "      <td>663</td>\n",
       "      <td>902</td>\n",
       "      <td>352</td>\n",
       "      <td>14</td>\n",
       "      <td>231</td>\n",
       "      <td>135</td>\n",
       "      <td>...</td>\n",
       "      <td>192</td>\n",
       "      <td>104</td>\n",
       "      <td>113</td>\n",
       "      <td>531</td>\n",
       "      <td>885</td>\n",
       "      <td>469</td>\n",
       "      <td>565</td>\n",
       "      <td>277</td>\n",
       "      <td>153</td>\n",
       "      <td>147</td>\n",
       "    </tr>\n",
       "    <tr>\n",
       "      <th>wt5</th>\n",
       "      <td>425</td>\n",
       "      <td>118</td>\n",
       "      <td>469</td>\n",
       "      <td>238</td>\n",
       "      <td>678</td>\n",
       "      <td>899</td>\n",
       "      <td>349</td>\n",
       "      <td>21</td>\n",
       "      <td>234</td>\n",
       "      <td>102</td>\n",
       "      <td>...</td>\n",
       "      <td>214</td>\n",
       "      <td>139</td>\n",
       "      <td>139</td>\n",
       "      <td>562</td>\n",
       "      <td>872</td>\n",
       "      <td>479</td>\n",
       "      <td>551</td>\n",
       "      <td>242</td>\n",
       "      <td>146</td>\n",
       "      <td>138</td>\n",
       "    </tr>\n",
       "  </tbody>\n",
       "</table>\n",
       "<p>5 rows × 100 columns</p>\n",
       "</div>"
      ],
      "text/plain": [
       "    gene1 gene2 gene3 gene4 gene5 gene6 gene7 gene8 gene9 gene10  ... gene91  \\\n",
       "wt1   439   125   432   252   709   806   360    12   244    120  ...    213   \n",
       "wt2   446   152   466   269   659   846   354    19   236     89  ...    212   \n",
       "wt3   452   130   452   247   671   873   349    16   232    102  ...    205   \n",
       "wt4   436   114   484   246   663   902   352    14   231    135  ...    192   \n",
       "wt5   425   118   469   238   678   899   349    21   234    102  ...    214   \n",
       "\n",
       "    gene92 gene93 gene94 gene95 gene96 gene97 gene98 gene99 gene100  \n",
       "wt1    121    131    524    883    483    580    283    157     124  \n",
       "wt2    118    138    525    896    457    539    265    154     127  \n",
       "wt3    106    126    519    854    476    549    271    168     143  \n",
       "wt4    104    113    531    885    469    565    277    153     147  \n",
       "wt5    139    139    562    872    479    551    242    146     138  \n",
       "\n",
       "[5 rows x 100 columns]"
      ]
     },
     "execution_count": 10,
     "metadata": {},
     "output_type": "execute_result"
    }
   ],
   "source": [
    "data01.head()"
   ]
  },
  {
   "cell_type": "code",
   "execution_count": 11,
   "metadata": {},
   "outputs": [],
   "source": [
    "import warnings\n",
    "warnings.filterwarnings(action='ignore')"
   ]
  },
  {
   "cell_type": "markdown",
   "metadata": {},
   "source": [
    "#### 토막상식\n",
    "[공분산행렬 유도 상세](https://ratsgo.github.io/linear%20algebra/2017/03/14/operations/)\n",
    "\n",
    "## 공분산(Covariance) 와 상관계수(Correlation) 관계  \n",
    "변수가 여러개인 다변량데이터에선 변수 간 관련성, 즉 상관성(correlation) 이 매우 중요하다.  \n",
    "확률변수X의 값이 X의 평균보다 클때, Y의 값도  Y의 평균보다 커지고, X의 값이 X의 평균보다 작을때에는 Y의 값도 Y의 평균보다 작아지는 경향이 있으면 표준화된 X와Y의 곱인 상관계수(correlation coefficietnt)는 양의 값을 가질 가능성이 크다. 쉽게 표현하면, 두 확률변수의 직선관계가 얼마나 강하고, 어떤방향인지를 나타내는 값이라고 볼 수 있다.  \n",
    "\n",
    "확률변수 X와 Y의 상관계수와 공분산은 다음과 같이 정의되는데  **공분산을 X,Y의 표준편차로 나누어 표준화한 값이 X와 Y의 상관관게라 할 수 있다.**  \n",
    "(N=데이터 개수, u1=X의 평균, u2=Y의 평균, s1=X의 표준편차, s2=Y의 표준편차)"
   ]
  },
  {
   "attachments": {
    "image.png": {
     "image/png": "[encoded data removed]"
    }
   },
   "cell_type": "markdown",
   "metadata": {},
   "source": [
    "![image.png](attachment:image.png)"
   ]
  },
  {
   "attachments": {
    "image.png": {
     "image/png": "[encoded data removed]"
    }
   },
   "cell_type": "markdown",
   "metadata": {},
   "source": [
    "![image.png](attachment:image.png)"
   ]
  },
  {
   "cell_type": "markdown",
   "metadata": {},
   "source": [
    "## Perform PCA on the data"
   ]
  },
  {
   "cell_type": "markdown",
   "metadata": {},
   "source": [
    "센터화 + scaling 하는 부분은 어떤 library를 사용해도 상관없다."
   ]
  },
  {
   "cell_type": "code",
   "execution_count": 12,
   "metadata": {},
   "outputs": [],
   "source": [
    "# First center and scale the data\n",
    "sc = preprocessing.StandardScaler()\n",
    "scaled_data00 = preprocessing.scale(data01)\n",
    "scaled_data01 = sc.fit_transform(data01)"
   ]
  },
  {
   "cell_type": "code",
   "execution_count": 13,
   "metadata": {},
   "outputs": [
    {
     "data": {
      "text/plain": [
       "array([[ 0.99264932, -1.00700908, -0.27769439, -0.98851978],\n",
       "       [ 1.04993328, -0.9359075 ,  0.93276834, -0.891382  ]])"
      ]
     },
     "execution_count": 13,
     "metadata": {},
     "output_type": "execute_result"
    }
   ],
   "source": [
    "scaled_data00[0:2,0:4]"
   ]
  },
  {
   "cell_type": "code",
   "execution_count": 14,
   "metadata": {},
   "outputs": [
    {
     "data": {
      "text/plain": [
       "array([[ 0.99264932, -1.00700908, -0.27769439, -0.98851978],\n",
       "       [ 1.04993328, -0.9359075 ,  0.93276834, -0.891382  ]])"
      ]
     },
     "execution_count": 14,
     "metadata": {},
     "output_type": "execute_result"
    }
   ],
   "source": [
    "scaled_data01[0:2,0:4]"
   ]
  },
  {
   "cell_type": "markdown",
   "metadata": {},
   "source": [
    "sklearn.decomposition.PCA(n_components=None, copy=True, whiten=False, svd_solver='auto', tol=0.0, iterated_power='auto', random_state=None)  \n",
    "- n_components : None일경우, min(n_samples, n_features) 이며, n_components 라이브러기가 자동으로 min(n_samples, n_features) 골라서, 수행하게 된다. 저 조건은 변경불가하다  \n",
    "- svd_solver  \n",
    ">default `auto`: The solver is selected by a default policy based on X.shape and n_components: if the input data is larger than 500x500 and the number of components to extract is lower than 80% of the smallest dimension of the data, then the more efficient ‘randomized’ method is enabled. Otherwise the exact full SVD is computed and optionally truncated afterwards.  \n",
    ">`full`: run exact full SVD calling the standard LAPACK solver via scipy.linalg.svd and select the components by postprocessing  \n",
    ">`arpack`: run SVD truncated to n_components calling ARPACK solver via scipy.sparse.linalg.svds. It requires strictly 0 < n_components < min(X.shape)  \n",
    ">`randomized` : run randomized SVD by the method of Halko et al."
   ]
  },
  {
   "cell_type": "code",
   "execution_count": 15,
   "metadata": {},
   "outputs": [],
   "source": [
    "pca = PCA(n_components=None,svd_solver='full') # create a PCA object ## n_components == min(n_samples, n_features)\n",
    "pca.fit(scaled_data01) # do the math => eigen decomposition 이 이루어진다.\n",
    "pca_data = pca.transform(scaled_data01) # get PCA coordinates for scaled_data"
   ]
  },
  {
   "cell_type": "markdown",
   "metadata": {},
   "source": [
    "#### columns(=feature) 에 대해서, 공분산행렬을 구하기 때무에, pca.get_covariance().shape 가 100 by 100 이다."
   ]
  },
  {
   "cell_type": "code",
   "execution_count": 16,
   "metadata": {},
   "outputs": [
    {
     "name": "stdout",
     "output_type": "stream",
     "text": [
      "origin scaled_data01:  (10, 100)\n",
      "covariance:  (100, 100)\n",
      "transformed_pca_data: (10, 10)\n"
     ]
    }
   ],
   "source": [
    "print(\"origin scaled_data01: \",scaled_data01.shape)\n",
    "print(\"covariance: \",pca.get_covariance().shape) \n",
    "print(\"transformed_pca_data: {}\".format(pca_data.shape))"
   ]
  },
  {
   "cell_type": "code",
   "execution_count": 16,
   "metadata": {},
   "outputs": [
    {
     "data": {
      "text/plain": [
       "array([ 1.11111111,  1.09710108, -1.09696515,  1.10636168, -0.43113679])"
      ]
     },
     "execution_count": 16,
     "metadata": {},
     "output_type": "execute_result"
    }
   ],
   "source": [
    "pca.get_covariance()[0][0:5]"
   ]
  },
  {
   "cell_type": "code",
   "execution_count": 17,
   "metadata": {},
   "outputs": [
    {
     "name": "stdout",
     "output_type": "stream",
     "text": [
      "(100, 100)\n",
      "[ 1.11111111  1.09710108 -1.09696515  1.10636168 -0.43113679]\n"
     ]
    }
   ],
   "source": [
    "np_cov = np.cov(scaled_data00,rowvar=False)\n",
    "print(np_cov.shape)\n",
    "print(np_cov[0][0:5])"
   ]
  },
  {
   "cell_type": "code",
   "execution_count": 18,
   "metadata": {},
   "outputs": [
    {
     "data": {
      "text/plain": [
       "10"
      ]
     },
     "execution_count": 18,
     "metadata": {},
     "output_type": "execute_result"
    }
   ],
   "source": [
    "pca.n_components_"
   ]
  },
  {
   "cell_type": "code",
   "execution_count": 19,
   "metadata": {},
   "outputs": [
    {
     "data": {
      "text/plain": [
       "(10, 100)"
      ]
     },
     "execution_count": 19,
     "metadata": {},
     "output_type": "execute_result"
    }
   ],
   "source": [
    "pca.components_.shape ## return n_components, n_features"
   ]
  },
  {
   "cell_type": "code",
   "execution_count": 20,
   "metadata": {},
   "outputs": [
    {
     "data": {
      "text/plain": [
       "(10,)"
      ]
     },
     "execution_count": 20,
     "metadata": {},
     "output_type": "execute_result"
    }
   ],
   "source": [
    "pca.explained_variance_.shape"
   ]
  },
  {
   "cell_type": "code",
   "execution_count": 26,
   "metadata": {},
   "outputs": [
    {
     "data": {
      "text/plain": [
       "(10, 10)"
      ]
     },
     "execution_count": 26,
     "metadata": {},
     "output_type": "execute_result"
    }
   ],
   "source": [
    "np.diag(pca.explained_variance_).shape"
   ]
  },
  {
   "cell_type": "code",
   "execution_count": 39,
   "metadata": {},
   "outputs": [
    {
     "name": "stdout",
     "output_type": "stream",
     "text": [
      "(10, 100)\n",
      "(100, 10)\n"
     ]
    }
   ],
   "source": [
    "print(scaled_data01.shape)\n",
    "print(pca.components_.T.shape)"
   ]
  },
  {
   "cell_type": "code",
   "execution_count": 52,
   "metadata": {},
   "outputs": [
    {
     "name": "stdout",
     "output_type": "stream",
     "text": [
      "100\n"
     ]
    },
    {
     "data": {
      "text/plain": [
       "array([ 0.10517707, -0.1053353 ,  0.07807005, -0.10511974,  0.10526787,\n",
       "        0.10174562, -0.10499361, -0.10515787,  0.10420382,  0.09989089,\n",
       "       -0.10480312,  0.10417483,  0.10210302, -0.10509173, -0.05229928,\n",
       "        0.10520354, -0.10470959, -0.10285261,  0.09955759,  0.10204285,\n",
       "       -0.1053555 ,  0.10240202, -0.10518406,  0.10194675,  0.10413774,\n",
       "        0.10459923,  0.1050895 ,  0.08840467, -0.10431386,  0.04062704,\n",
       "       -0.10470514, -0.10402665,  0.03245605,  0.10414164,  0.10523324,\n",
       "       -0.10519854,  0.09039167, -0.1012566 ,  0.10475594, -0.10526705,\n",
       "        0.07962781,  0.104411  ,  0.10170702, -0.06995814, -0.10517074,\n",
       "       -0.10485935, -0.10463511,  0.08646689,  0.10467528,  0.104817  ,\n",
       "        0.0985334 ,  0.10286331,  0.10456347, -0.10534329,  0.10526675,\n",
       "       -0.10363594, -0.10454192,  0.10414633, -0.10514162,  0.10217623,\n",
       "        0.1047548 , -0.10515004,  0.10531137, -0.05757229, -0.10497616,\n",
       "       -0.10484183,  0.10517106, -0.10512343,  0.09341379, -0.1050462 ,\n",
       "       -0.10466723,  0.10526068, -0.09979197,  0.10494096, -0.10377474,\n",
       "       -0.10528225,  0.10497286, -0.05593211, -0.10299393, -0.10502162,\n",
       "        0.10418594,  0.10400635, -0.10445421, -0.04304287, -0.10530917,\n",
       "        0.10484036, -0.10533412, -0.09298179,  0.08846383,  0.10522693,\n",
       "       -0.10521055, -0.10519723, -0.10532589, -0.09257281,  0.10535612,\n",
       "       -0.1051135 ,  0.09659575,  0.10492211, -0.10509957, -0.10524106])"
      ]
     },
     "execution_count": 52,
     "metadata": {},
     "output_type": "execute_result"
    }
   ],
   "source": [
    "## 선형변환시, origin data 에 eigen_vector 를 곱하는 것이 맞다. 현재는 `full svd`로 설정되어 있다.\n",
    "print(len(pca.components_.T[:,0]))\n",
    "pca.components_.T[:,0] ## origin data 에 곱해지는, 0번째 열 이며, 이른바, pca_data로 선형변환시, 영향을 주는 컬럼"
   ]
  },
  {
   "cell_type": "markdown",
   "metadata": {},
   "source": [
    "**여기서 얻어지는 pca_data 는 각각의 fit으로 구한 eigen_vector를 타겟행렬에 곱하여, 선형변환 시키는 것이다.**  "
   ]
  },
  {
   "cell_type": "code",
   "execution_count": 47,
   "metadata": {},
   "outputs": [
    {
     "data": {
      "text/plain": [
       "array([[-9.73879040e+00, -1.11662365e+00,  2.09136372e+00,\n",
       "         6.45740004e-01,  1.80784892e+00,  7.08029734e-01,\n",
       "        -9.45370848e-01,  9.05965818e-02,  2.12183923e-02,\n",
       "         2.41473508e-15],\n",
       "       [-9.33835329e+00, -3.34182984e-01, -1.73974871e+00,\n",
       "        -2.67985414e-01,  4.97019231e-01, -1.33967533e+00,\n",
       "        -6.85860843e-01, -1.01947085e+00,  3.91207410e-01,\n",
       "         4.44089210e-16]])"
      ]
     },
     "execution_count": 47,
     "metadata": {},
     "output_type": "execute_result"
    }
   ],
   "source": [
    "np.dot(scaled_data01,pca.components_.T)[0:2,:]"
   ]
  },
  {
   "cell_type": "code",
   "execution_count": 49,
   "metadata": {},
   "outputs": [
    {
     "data": {
      "text/plain": [
       "array([[-9.73879040e+00, -1.11662365e+00,  2.09136372e+00,\n",
       "         6.45740004e-01,  1.80784892e+00,  7.08029734e-01,\n",
       "        -9.45370848e-01,  9.05965818e-02,  2.12183923e-02,\n",
       "         2.47024623e-15],\n",
       "       [-9.33835329e+00, -3.34182984e-01, -1.73974871e+00,\n",
       "        -2.67985414e-01,  4.97019231e-01, -1.33967533e+00,\n",
       "        -6.85860843e-01, -1.01947085e+00,  3.91207410e-01,\n",
       "         7.21644966e-16]])"
      ]
     },
     "execution_count": 49,
     "metadata": {},
     "output_type": "execute_result"
    }
   ],
   "source": [
    "pca_data[0:2,:]"
   ]
  },
  {
   "attachments": {
    "image.png": {
     "image/png": "[encoded data removed]"
    }
   },
   "cell_type": "markdown",
   "metadata": {},
   "source": [
    "![image.png](attachment:image.png)"
   ]
  },
  {
   "attachments": {
    "image.png": {
     "image/png": "[encoded data removed]"
    }
   },
   "cell_type": "markdown",
   "metadata": {},
   "source": [
    "![image.png](attachment:image.png)"
   ]
  },
  {
   "cell_type": "markdown",
   "metadata": {},
   "source": [
    "상기 식처럼 표현하면,  \n",
    "`feature들의 공분산행렬`: __pca.get_covariance()__  \n",
    "`공분산행렬의 eigen vector`: __pca.components___    \n",
    "`공분산행렬의 eigen value`: __pca.explained_variance___    "
   ]
  },
  {
   "cell_type": "code",
   "execution_count": 34,
   "metadata": {},
   "outputs": [
    {
     "name": "stdout",
     "output_type": "stream",
     "text": [
      "feature 100개를 공분산행렬A이라 할때\n",
      " A Covariance(): shape(100, 100)\n",
      " A행렬의 고유벡터(eigen vactor) 행렬 P: (10, 100)\n",
      " A행렬의 고유치(eigen value) 대각행렬 lambda diag: (10, 10)\n"
     ]
    }
   ],
   "source": [
    "## feature들의 공분산행렬\n",
    "print(\"feature 100개를 공분산행렬A이라 할때\\n A Covariance(): shape{}\".format(pca.get_covariance().shape))\n",
    "print(\" A행렬의 고유벡터(eigen vactor) 행렬 P: {}\".format(pca.components_.shape))\n",
    "print(\" A행렬의 고유치(eigen value) 대각행렬 lambda diag: {}\".format(np.diag(pca.explained_variance_).shape))"
   ]
  },
  {
   "cell_type": "code",
   "execution_count": 18,
   "metadata": {},
   "outputs": [
    {
     "name": "stdout",
     "output_type": "stream",
     "text": [
      "[ 1.11111111 -1.10744082  0.81218567 -1.10384724  1.10750806]\n",
      "[ 1.11111111 -1.10744082  0.81218567 -1.10384724  1.10750806]\n"
     ]
    }
   ],
   "source": [
    "## 실제결과 비교하기\n",
    "print(pca.get_covariance()[0][0:5])\n",
    "\n",
    "tmp = np.dot(pca.components_.T,np.diag(pca.explained_variance_))\n",
    "rslt = np.dot(tmp,pca.components_)\n",
    "\n",
    "print(rslt[0][0:5])"
   ]
  },
  {
   "cell_type": "markdown",
   "metadata": {},
   "source": [
    "## Draw a scree plot and a PCA plot"
   ]
  },
  {
   "cell_type": "markdown",
   "metadata": {},
   "source": [
    "`여기서 얻어지는 pca_data 는 각각의 주성분사용하여, 원래 데이터를 선형변환한 값이다.`"
   ]
  },
  {
   "cell_type": "code",
   "execution_count": 19,
   "metadata": {},
   "outputs": [],
   "source": [
    "#The following code constructs the Scree plot\n",
    "per_var = np.round(pca.explained_variance_ratio_* 100, decimals=1)\n",
    "labels = ['PC' + str(x) for x in range(1, len(per_var)+1)]"
   ]
  },
  {
   "cell_type": "code",
   "execution_count": 32,
   "metadata": {},
   "outputs": [
    {
     "data": {
      "text/plain": [
       "['99.991',\n",
       " '2.829',\n",
       " '2.138',\n",
       " '1.775',\n",
       " '1.449',\n",
       " '0.921',\n",
       " '0.906',\n",
       " '0.646',\n",
       " '0.456',\n",
       " '0.000']"
      ]
     },
     "execution_count": 32,
     "metadata": {},
     "output_type": "execute_result"
    }
   ],
   "source": [
    "[\"{:.3f}\".format(x) for x in list(pca.explained_variance_)]"
   ]
  },
  {
   "cell_type": "code",
   "execution_count": 20,
   "metadata": {},
   "outputs": [
    {
     "data": {
      "text/plain": [
       "array([90. ,  2.5,  1.9,  1.6,  1.3,  0.8,  0.8,  0.6,  0.4,  0. ])"
      ]
     },
     "execution_count": 20,
     "metadata": {},
     "output_type": "execute_result"
    }
   ],
   "source": [
    "per_var"
   ]
  },
  {
   "cell_type": "code",
   "execution_count": 21,
   "metadata": {},
   "outputs": [
    {
     "data": {
      "text/plain": [
       "['PC1', 'PC2', 'PC3', 'PC4', 'PC5', 'PC6', 'PC7', 'PC8', 'PC9', 'PC10']"
      ]
     },
     "execution_count": 21,
     "metadata": {},
     "output_type": "execute_result"
    }
   ],
   "source": [
    "labels"
   ]
  },
  {
   "cell_type": "code",
   "execution_count": 31,
   "metadata": {},
   "outputs": [
    {
     "data": {
      "image/png": "[encoded data removed]",
      "text/plain": [
       "<Figure size 432x288 with 1 Axes>"
      ]
     },
     "metadata": {
      "needs_background": "light"
     },
     "output_type": "display_data"
    }
   ],
   "source": [
    "#the following code makes a fancy looking plot using PC1 and PC2\n",
    "pca_df = pd.DataFrame(pca_data, index=[*wt, *ko], columns=labels)\n",
    " \n",
    "plt.scatter(pca_df.PC1, pca_df.PC2)\n",
    "plt.title('My PCA Graph')\n",
    "plt.xlabel('PC1 - {0}%'.format(per_var[0]))\n",
    "plt.ylabel('PC2 - {0}%'.format(per_var[1]))\n",
    " \n",
    "for sample in pca_df.index:\n",
    "    plt.annotate(sample, (pca_df.PC1.loc[sample], pca_df.PC2.loc[sample]))"
   ]
  },
  {
   "cell_type": "code",
   "execution_count": 32,
   "metadata": {},
   "outputs": [
    {
     "data": {
      "text/html": [
       "<div>\n",
       "<style scoped>\n",
       "    .dataframe tbody tr th:only-of-type {\n",
       "        vertical-align: middle;\n",
       "    }\n",
       "\n",
       "    .dataframe tbody tr th {\n",
       "        vertical-align: top;\n",
       "    }\n",
       "\n",
       "    .dataframe thead th {\n",
       "        text-align: right;\n",
       "    }\n",
       "</style>\n",
       "<table border=\"1\" class=\"dataframe\">\n",
       "  <thead>\n",
       "    <tr style=\"text-align: right;\">\n",
       "      <th></th>\n",
       "      <th>PC1</th>\n",
       "      <th>PC2</th>\n",
       "      <th>PC3</th>\n",
       "      <th>PC4</th>\n",
       "      <th>PC5</th>\n",
       "      <th>PC6</th>\n",
       "      <th>PC7</th>\n",
       "      <th>PC8</th>\n",
       "      <th>PC9</th>\n",
       "      <th>PC10</th>\n",
       "    </tr>\n",
       "  </thead>\n",
       "  <tbody>\n",
       "    <tr>\n",
       "      <th>wt1</th>\n",
       "      <td>-9.738790</td>\n",
       "      <td>-1.116624</td>\n",
       "      <td>2.091364</td>\n",
       "      <td>0.645740</td>\n",
       "      <td>1.807849</td>\n",
       "      <td>0.708030</td>\n",
       "      <td>-0.945371</td>\n",
       "      <td>0.090597</td>\n",
       "      <td>0.021218</td>\n",
       "      <td>2.470246e-15</td>\n",
       "    </tr>\n",
       "    <tr>\n",
       "      <th>wt2</th>\n",
       "      <td>-9.338353</td>\n",
       "      <td>-0.334183</td>\n",
       "      <td>-1.739749</td>\n",
       "      <td>-0.267985</td>\n",
       "      <td>0.497019</td>\n",
       "      <td>-1.339675</td>\n",
       "      <td>-0.685861</td>\n",
       "      <td>-1.019471</td>\n",
       "      <td>0.391207</td>\n",
       "      <td>7.216450e-16</td>\n",
       "    </tr>\n",
       "    <tr>\n",
       "      <th>wt3</th>\n",
       "      <td>-9.372304</td>\n",
       "      <td>-0.121915</td>\n",
       "      <td>0.154065</td>\n",
       "      <td>-1.823736</td>\n",
       "      <td>-1.718320</td>\n",
       "      <td>0.649251</td>\n",
       "      <td>-0.227509</td>\n",
       "      <td>0.615266</td>\n",
       "      <td>0.788255</td>\n",
       "      <td>2.220446e-16</td>\n",
       "    </tr>\n",
       "    <tr>\n",
       "      <th>wt4</th>\n",
       "      <td>-9.561650</td>\n",
       "      <td>1.182604</td>\n",
       "      <td>-0.802338</td>\n",
       "      <td>1.780499</td>\n",
       "      <td>-1.264571</td>\n",
       "      <td>1.220643</td>\n",
       "      <td>0.207324</td>\n",
       "      <td>-0.394909</td>\n",
       "      <td>-0.694637</td>\n",
       "      <td>1.665335e-16</td>\n",
       "    </tr>\n",
       "    <tr>\n",
       "      <th>wt5</th>\n",
       "      <td>-9.596711</td>\n",
       "      <td>0.334801</td>\n",
       "      <td>0.296172</td>\n",
       "      <td>-0.367832</td>\n",
       "      <td>0.622140</td>\n",
       "      <td>-1.255694</td>\n",
       "      <td>1.666176</td>\n",
       "      <td>0.677560</td>\n",
       "      <td>-0.495294</td>\n",
       "      <td>-5.828671e-16</td>\n",
       "    </tr>\n",
       "    <tr>\n",
       "      <th>ko1</th>\n",
       "      <td>9.593789</td>\n",
       "      <td>-1.291382</td>\n",
       "      <td>-0.966927</td>\n",
       "      <td>-0.972139</td>\n",
       "      <td>1.152780</td>\n",
       "      <td>1.424507</td>\n",
       "      <td>1.224002</td>\n",
       "      <td>-0.475515</td>\n",
       "      <td>0.199123</td>\n",
       "      <td>-4.440892e-16</td>\n",
       "    </tr>\n",
       "    <tr>\n",
       "      <th>ko2</th>\n",
       "      <td>9.849577</td>\n",
       "      <td>-2.297817</td>\n",
       "      <td>1.712944</td>\n",
       "      <td>-0.036669</td>\n",
       "      <td>-1.580440</td>\n",
       "      <td>-0.762954</td>\n",
       "      <td>0.060526</td>\n",
       "      <td>-0.607932</td>\n",
       "      <td>-0.387206</td>\n",
       "      <td>-8.881784e-16</td>\n",
       "    </tr>\n",
       "    <tr>\n",
       "      <th>ko3</th>\n",
       "      <td>9.437801</td>\n",
       "      <td>0.834536</td>\n",
       "      <td>0.086649</td>\n",
       "      <td>2.317598</td>\n",
       "      <td>-0.073271</td>\n",
       "      <td>-0.435030</td>\n",
       "      <td>0.347616</td>\n",
       "      <td>0.387848</td>\n",
       "      <td>1.054353</td>\n",
       "      <td>-1.110223e-16</td>\n",
       "    </tr>\n",
       "    <tr>\n",
       "      <th>ko4</th>\n",
       "      <td>9.319239</td>\n",
       "      <td>-1.062816</td>\n",
       "      <td>-1.714125</td>\n",
       "      <td>-0.018751</td>\n",
       "      <td>0.197681</td>\n",
       "      <td>-0.133347</td>\n",
       "      <td>-1.153286</td>\n",
       "      <td>1.027797</td>\n",
       "      <td>-0.632521</td>\n",
       "      <td>7.216450e-16</td>\n",
       "    </tr>\n",
       "    <tr>\n",
       "      <th>ko5</th>\n",
       "      <td>9.407403</td>\n",
       "      <td>3.872795</td>\n",
       "      <td>0.881945</td>\n",
       "      <td>-1.256724</td>\n",
       "      <td>0.359133</td>\n",
       "      <td>-0.075731</td>\n",
       "      <td>-0.493618</td>\n",
       "      <td>-0.301242</td>\n",
       "      <td>-0.244500</td>\n",
       "      <td>1.110223e-16</td>\n",
       "    </tr>\n",
       "  </tbody>\n",
       "</table>\n",
       "</div>"
      ],
      "text/plain": [
       "          PC1       PC2       PC3       PC4       PC5       PC6       PC7  \\\n",
       "wt1 -9.738790 -1.116624  2.091364  0.645740  1.807849  0.708030 -0.945371   \n",
       "wt2 -9.338353 -0.334183 -1.739749 -0.267985  0.497019 -1.339675 -0.685861   \n",
       "wt3 -9.372304 -0.121915  0.154065 -1.823736 -1.718320  0.649251 -0.227509   \n",
       "wt4 -9.561650  1.182604 -0.802338  1.780499 -1.264571  1.220643  0.207324   \n",
       "wt5 -9.596711  0.334801  0.296172 -0.367832  0.622140 -1.255694  1.666176   \n",
       "ko1  9.593789 -1.291382 -0.966927 -0.972139  1.152780  1.424507  1.224002   \n",
       "ko2  9.849577 -2.297817  1.712944 -0.036669 -1.580440 -0.762954  0.060526   \n",
       "ko3  9.437801  0.834536  0.086649  2.317598 -0.073271 -0.435030  0.347616   \n",
       "ko4  9.319239 -1.062816 -1.714125 -0.018751  0.197681 -0.133347 -1.153286   \n",
       "ko5  9.407403  3.872795  0.881945 -1.256724  0.359133 -0.075731 -0.493618   \n",
       "\n",
       "          PC8       PC9          PC10  \n",
       "wt1  0.090597  0.021218  2.470246e-15  \n",
       "wt2 -1.019471  0.391207  7.216450e-16  \n",
       "wt3  0.615266  0.788255  2.220446e-16  \n",
       "wt4 -0.394909 -0.694637  1.665335e-16  \n",
       "wt5  0.677560 -0.495294 -5.828671e-16  \n",
       "ko1 -0.475515  0.199123 -4.440892e-16  \n",
       "ko2 -0.607932 -0.387206 -8.881784e-16  \n",
       "ko3  0.387848  1.054353 -1.110223e-16  \n",
       "ko4  1.027797 -0.632521  7.216450e-16  \n",
       "ko5 -0.301242 -0.244500  1.110223e-16  "
      ]
     },
     "execution_count": 32,
     "metadata": {},
     "output_type": "execute_result"
    }
   ],
   "source": [
    "pca_df"
   ]
  },
  {
   "cell_type": "markdown",
   "metadata": {},
   "source": [
    "## 총분산으로 비율 확인하기"
   ]
  },
  {
   "cell_type": "code",
   "execution_count": 146,
   "metadata": {},
   "outputs": [],
   "source": [
    "per_var = np.round(pca.explained_variance_ratio_* 100, decimals=1)\n",
    "labels = ['PC' + str(x) for x in range(1, len(per_var)+1)]"
   ]
  },
  {
   "cell_type": "code",
   "execution_count": 147,
   "metadata": {},
   "outputs": [
    {
     "name": "stdout",
     "output_type": "stream",
     "text": [
      "100.00000000000001\n"
     ]
    },
    {
     "data": {
      "text/plain": [
       "array([88.9,  2.8,  2.2,  1.7,  1.4,  1.2,  0.8,  0.6,  0.4,  0. ])"
      ]
     },
     "execution_count": 147,
     "metadata": {},
     "output_type": "execute_result"
    }
   ],
   "source": [
    "print(per_var.sum())\n",
    "per_var ## 총분산값을 보여준다.\n",
    "## 순서데로, PC1의 요소의 Var 값이다."
   ]
  },
  {
   "cell_type": "code",
   "execution_count": 148,
   "metadata": {},
   "outputs": [
    {
     "data": {
      "image/png": "[encoded data removed]",
      "text/plain": [
       "<Figure size 432x288 with 1 Axes>"
      ]
     },
     "metadata": {
      "needs_background": "light"
     },
     "output_type": "display_data"
    }
   ],
   "source": [
    "plt.bar(x=range(1,len(per_var)+1), height=per_var, tick_label=labels)\n",
    "plt.ylabel('Percentage of Explained Variance')\n",
    "plt.xlabel('Principal Component')\n",
    "plt.title('Scree Plot')\n",
    "plt.show()\n",
    " "
   ]
  },
  {
   "cell_type": "markdown",
   "metadata": {},
   "source": [
    "## Determine which genes had the biggest influence on PC1"
   ]
  },
  {
   "cell_type": "code",
   "execution_count": 149,
   "metadata": {},
   "outputs": [
    {
     "data": {
      "text/plain": [
       "(10, 100)"
      ]
     },
     "execution_count": 149,
     "metadata": {},
     "output_type": "execute_result"
    }
   ],
   "source": [
    "pca.components_.shape"
   ]
  },
  {
   "cell_type": "code",
   "execution_count": 150,
   "metadata": {},
   "outputs": [
    {
     "name": "stdout",
     "output_type": "stream",
     "text": [
      "gene96   -0.106024\n",
      "gene97    0.106020\n",
      "gene10    0.106018\n",
      "gene79    0.106002\n",
      "gene49   -0.105999\n",
      "gene51    0.105978\n",
      "gene73    0.105965\n",
      "gene18   -0.105957\n",
      "gene59   -0.105953\n",
      "gene38   -0.105941\n",
      "dtype: float64\n"
     ]
    }
   ],
   "source": [
    "## get the name of the top 10 measurements (genes) that contribute\n",
    "## most to pc1.\n",
    "## first, get the loading scores\n",
    "loading_scores = pd.Series(pca.components_[0], index=genes) ## pca.components_[0] 첫번째 고유벡터\n",
    "## now sort the loading scores based on their magnitude\n",
    "sorted_loading_scores = loading_scores.abs().sort_values(ascending=False)\n",
    " \n",
    "# get the names of the top 10 genes\n",
    "top_10_genes = sorted_loading_scores[0:10].index.values\n",
    " \n",
    "## print the gene names and their scores (and +/- sign)\n",
    "print(loading_scores[top_10_genes])"
   ]
  },
  {
   "cell_type": "markdown",
   "metadata": {},
   "source": [
    "위 결과에서 보면, 특정한 cell 이 PC1의 구성에 큰 영향을 주는 상태가 아니라, 모두 일정하게 영향을 주고 있는 것으로 보인다. 즉, 특별한 cell 이 영향을 미친다고 할 수 없다."
   ]
  },
  {
   "cell_type": "markdown",
   "metadata": {},
   "source": [
    "## Special PCA\n",
    "random.poisson 은 lam 다 값을 통하여, 랜덤하게 값을 뽑는데, 이때 lambda의 범위를 10 ~ 1000 으로 한다.  \n",
    "이걸 활용하여, 이 lambda 값을 활용하여, 포아송 분포에서, 랜덤하게 5(size=5)개를 추출한다. "
   ]
  },
  {
   "cell_type": "code",
   "execution_count": 61,
   "metadata": {},
   "outputs": [
    {
     "data": {
      "text/plain": [
       "array([[ 1,  4,  7,  8],\n",
       "       [ 2,  2,  8,  4],\n",
       "       [ 1, 13,  1,  5]])"
      ]
     },
     "execution_count": 61,
     "metadata": {},
     "output_type": "execute_result"
    }
   ],
   "source": [
    "x1=np.array([1,2,1]).reshape(3,1)\n",
    "x2=np.array([4,2,13]).reshape(3,1)\n",
    "x3=np.array([7,8,1]).reshape(3,1)\n",
    "x4=np.array([8,4,5]).reshape(3,1)\n",
    "X=np.c_[x1,x2,x3,x4];X"
   ]
  },
  {
   "cell_type": "markdown",
   "metadata": {},
   "source": [
    "## SVD (sigular Value Decomposition)"
   ]
  },
  {
   "cell_type": "markdown",
   "metadata": {},
   "source": [
    "지금까지의 내용으로 PCA 는 data-feature 들의 공분산을 eigien-decomposition 하는 것을 알았다.  \n",
    "그러나, PCA doc 에서는 svd 옵션이 계속 언급되어 의아하다.  \n",
    "실제로 PCA 파라미터 중 solcer='FULL' 선택시 scipy-linalg 라이브러리의 SVD를 활용한다고 되어 있어서, 실제로 수행비교해본다."
   ]
  },
  {
   "cell_type": "code",
   "execution_count": 134,
   "metadata": {},
   "outputs": [],
   "source": [
    "from scipy import linalg"
   ]
  },
  {
   "cell_type": "markdown",
   "metadata": {},
   "source": [
    "* `U` : Unitary matrix having left singular vectors as columns. Of shape (M, M) or (M, K), depending on full_matrices.\n",
    "\n",
    "* `s` : The singular values, sorted in non-increasing order. Of shape (K,), with K = min(M, N).\n",
    "\n",
    "* `Vh` : Unitary matrix having right singular vectors as rows. Of shape (N, N) or (K, N) depending on full_matrices."
   ]
  },
  {
   "cell_type": "code",
   "execution_count": 135,
   "metadata": {},
   "outputs": [
    {
     "name": "stdout",
     "output_type": "stream",
     "text": [
      "(100, 100)\n"
     ]
    }
   ],
   "source": [
    "print(pca.get_covariance().shape)\n",
    "test_svd = pca.get_covariance()"
   ]
  },
  {
   "cell_type": "code",
   "execution_count": 136,
   "metadata": {},
   "outputs": [
    {
     "data": {
      "text/plain": [
       "((100, 100), (100,), (100, 100))"
      ]
     },
     "execution_count": 136,
     "metadata": {},
     "output_type": "execute_result"
    }
   ],
   "source": [
    "U, s, Vh = linalg.svd(test_svd)\n",
    "U.shape,  s.shape, Vh.shape"
   ]
  },
  {
   "cell_type": "code",
   "execution_count": 176,
   "metadata": {},
   "outputs": [
    {
     "name": "stdout",
     "output_type": "stream",
     "text": [
      "feature 100개를 공분산행렬A이라 할때\n",
      " A Covariance(): shape(100, 100)\n",
      " A행렬의 고유벡터(eigen vactor) 행렬 P: (10, 100)\n",
      " A행렬의 고유치(eigen value) 대각행렬 P: (10, 10)\n"
     ]
    }
   ],
   "source": [
    "print(\"feature 100개를 공분산행렬A이라 할때\\n A Covariance(): shape{}\".format(pca.get_covariance().shape))\n",
    "print(\" A행렬의 고유벡터(eigen vactor) 행렬 P: {}\".format(pca.components_.shape))\n",
    "print(\" A행렬의 고유치(eigen value) 대각행렬 P: {}\".format(np.diag(pca.explained_variance_).shape))"
   ]
  },
  {
   "cell_type": "code",
   "execution_count": 181,
   "metadata": {
    "scrolled": true
   },
   "outputs": [
    {
     "data": {
      "text/plain": [
       "(10, 'vs', 100)"
      ]
     },
     "execution_count": 181,
     "metadata": {},
     "output_type": "execute_result"
    }
   ],
   "source": [
    "len(pca.explained_variance_),'vs',len(s)"
   ]
  },
  {
   "cell_type": "code",
   "execution_count": 187,
   "metadata": {},
   "outputs": [
    {
     "data": {
      "text/plain": [
       "(array([0.416716, 0.      ]),\n",
       " 'vs',\n",
       " array([0.416716, 0.      , 0.      , 0.      , 0.      , 0.      ]))"
      ]
     },
     "execution_count": 187,
     "metadata": {},
     "output_type": "execute_result"
    }
   ],
   "source": [
    "np.round(pca.explained_variance_,6)[8:],'vs',np.round(s,6)[8:14]"
   ]
  },
  {
   "cell_type": "markdown",
   "metadata": {},
   "source": [
    "고유값행렬이 길이가 차이가 난다. -> 이는 PCA 에서, n_component param 값에 10 이 자동으로 들어갔기 때문이다."
   ]
  },
  {
   "cell_type": "code",
   "execution_count": 144,
   "metadata": {},
   "outputs": [
    {
     "data": {
      "text/plain": [
       "array([-0.105073  ,  0.10451952,  0.10492748])"
      ]
     },
     "execution_count": 144,
     "metadata": {},
     "output_type": "execute_result"
    }
   ],
   "source": [
    "pca.components_[0,0:3]"
   ]
  },
  {
   "cell_type": "code",
   "execution_count": 173,
   "metadata": {},
   "outputs": [
    {
     "data": {
      "text/plain": [
       "array([-0.105073  ,  0.10451952,  0.10492748])"
      ]
     },
     "execution_count": 173,
     "metadata": {},
     "output_type": "execute_result"
    }
   ],
   "source": [
    "Vh[0,0:3]"
   ]
  },
  {
   "cell_type": "code",
   "execution_count": 201,
   "metadata": {},
   "outputs": [
    {
     "data": {
      "text/plain": [
       "9989"
      ]
     },
     "execution_count": 201,
     "metadata": {},
     "output_type": "execute_result"
    }
   ],
   "source": [
    "(np.round(U.T,0)==np.round(Vh,0)).sum()\n",
    "## 소숫점차이로 정확하지는 핞으나 100 by 100 10000 개 가 거의 일히한다고 볼 수 있다."
   ]
  },
  {
   "cell_type": "markdown",
   "metadata": {},
   "source": [
    "**SVD와 PCA는 유사점**  \n",
    "- 둘 다, eigen-decomposition 을 기반으로 한다.  \n",
    "- feature 공분산 을 eigen-decomposition 하는 것이 PCA  \n",
    "- singular-value-decomposition 은 컨셉을 따라가면, 결국 PCA 결과와 완전 동일한다. 아래 증명참조!!  \n",
    "[SVD 와 PCA](https://ratsgo.github.io/from%20frequency%20to%20semantics/2017/04/06/pcasvdlsa/)  "
   ]
  },
  {
   "attachments": {
    "image.png": {
     "image/png": "[encoded data removed]"
    }
   },
   "cell_type": "markdown",
   "metadata": {},
   "source": [
    "![image.png](attachment:image.png)"
   ]
  }
 ],
 "metadata": {
  "kernelspec": {
   "display_name": "Python 3",
   "language": "python",
   "name": "python3"
  },
  "language_info": {
   "codemirror_mode": {
    "name": "ipython",
    "version": 3
   },
   "file_extension": ".py",
   "mimetype": "text/x-python",
   "name": "python",
   "nbconvert_exporter": "python",
   "pygments_lexer": "ipython3",
   "version": "3.7.7"
  }
 },
 "nbformat": 4,
 "nbformat_minor": 4
}
