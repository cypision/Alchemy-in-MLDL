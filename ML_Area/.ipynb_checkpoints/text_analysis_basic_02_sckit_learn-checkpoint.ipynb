{
 "cells": [
  {
   "cell_type": "markdown",
   "metadata": {},
   "source": [
    "---\n",
    "title:  \"혼자하는 Text분석_02\"\n",
    "excerpt: \"Sckit-lean library 과 Keras를 사용한 Text 분석 비교\"\n",
    "\n",
    "categories:\n",
    "  - Machine-Learning\n",
    "tags:\n",
    "  - ML\n",
    "  - text anlysis\n",
    "  - 머신러닝\n",
    "last_modified_at: 2020-03-17T16:13:00-05:00\n",
    "---"
   ]
  },
  {
   "cell_type": "markdown",
   "metadata": {},
   "source": [
    "여기서는 우선, TF-IDF 에 대한 내용을 한번 더 상세히 다루고, n-gram , KoNLPy 순서로 진행한다."
   ]
  },
  {
   "cell_type": "markdown",
   "metadata": {},
   "source": [
    "(https://www.kaggle.com/c/word2vec-nlp-tutorial)\n",
    "[참고로 TF-IDF 정리는 wikidocs 의 \"딥 러닝을 이용한 자연어 처리 입문\" 을 참고했다. 텍스트 분석용으로 한국어 책으로 훌륭하다.](https://wikidocs.net/31698)"
   ]
  },
  {
   "cell_type": "code",
   "execution_count": null,
   "metadata": {},
   "outputs": [],
   "source": [
    "## 라이브러리 로드\n",
    "\n",
    "import pandas as pd\n",
    "import numpy as np\n",
    "import re\n",
    "import matplotlib.pyplot as plt\n",
    "\n",
    "%matplotlib inline\n",
    "# 시각화 결과가 선명하게 표시되도록\n",
    "%config InlineBackend.figure_format = 'retina'"
   ]
  },
  {
   "cell_type": "markdown",
   "metadata": {},
   "source": [
    "## 시각화를 위한 한글폰트 설정"
   ]
  },
  {
   "cell_type": "code",
   "execution_count": null,
   "metadata": {},
   "outputs": [],
   "source": [
    "# Window 한글폰트 설정\n",
    "# plt.rc(\"font\", family=\"Malgun Gothic\")\n",
    "# Mac 한글폰트 설정\n",
    "plt.rc(\"font\", family=\"AppleGothic\")\n",
    "plt.rc('axes', unicode_minus=False)"
   ]
  },
  {
   "cell_type": "markdown",
   "metadata": {},
   "source": [
    "## IMDB 데이터 불러와서 활용하기"
   ]
  },
  {
   "cell_type": "markdown",
   "metadata": {},
   "source": [
    "이미, 어느정도 정제되어 있어서....완벽한 예제라고 하기 어렵다....완전히 다시 다운받아서 해본다"
   ]
  },
  {
   "cell_type": "code",
   "execution_count": 7,
   "metadata": {},
   "outputs": [
    {
     "name": "stdout",
     "output_type": "stream",
     "text": [
      "Wall time: 0 ns\n"
     ]
    }
   ],
   "source": [
    "## 다시 인터넷에서 다운 받고나서\n",
    "from sklearn.datasets import load_files\n",
    "reviews_train = load_files(\"D:/★2020_ML_DL_Project/Alchemy/dataset/aclImdb/train/\")\n",
    "text_train,y_train = reviews_train.data,reviews_train.target\n",
    "%time"
   ]
  },
  {
   "cell_type": "code",
   "execution_count": 8,
   "metadata": {},
   "outputs": [
    {
     "name": "stdout",
     "output_type": "stream",
     "text": [
      "<class 'bytes'>\n",
      "b\"Zero Day leads you to think, even re-think why two boys/young men would do what they did - commit mutual suicide via slaughtering their classmates. It captures what must be beyond a bizarre mode of being for two humans who have decided to withdraw from common civility in order to define their own/mutual world via coupled destruction.<br /><br />It is not a perfect movie but given what money/time the filmmaker and actors had - it is a remarkable product. In terms of explaining the motives and actions of the two young suicide/murderers it is better than 'Elephant' - in terms of being a film that gets under our 'rationalistic' skin it is a far, far better film than almost anything you are likely to see. <br /><br />Flawed but honest with a terrible honesty.\"\n"
     ]
    }
   ],
   "source": [
    "print(type(text_train[0]))\n",
    "print(text_train[0])"
   ]
  },
  {
   "cell_type": "code",
   "execution_count": 9,
   "metadata": {},
   "outputs": [
    {
     "name": "stdout",
     "output_type": "stream",
     "text": [
      "Wall time: 0 ns\n"
     ]
    }
   ],
   "source": [
    "reviews_test = load_files(\"D:/★2020_ML_DL_Project/Alchemy/dataset/aclImdb/test/\")\n",
    "text_test,y_test = reviews_test.data,reviews_test.target\n",
    "%time"
   ]
  },
  {
   "cell_type": "code",
   "execution_count": 10,
   "metadata": {},
   "outputs": [],
   "source": [
    "## <br /> tag 제거한다. 데이터 정제과정\n",
    "text_train = [doc.replace(b\"<br />\",b\" \") for doc in text_train]\n",
    "text_test = [doc.replace(b\"<br />\",b\" \") for doc in text_test]"
   ]
  },
  {
   "cell_type": "code",
   "execution_count": 11,
   "metadata": {},
   "outputs": [
    {
     "name": "stdout",
     "output_type": "stream",
     "text": [
      "text_train.shape : 25000\n",
      "text_test.shape : 25000\n"
     ]
    }
   ],
   "source": [
    "print(\"text_train.shape :\",len(text_train))\n",
    "print(\"text_test.shape :\",len(text_test))"
   ]
  },
  {
   "cell_type": "markdown",
   "metadata": {},
   "source": [
    "## TF-IDF 집중 연습하기  \n",
    "> 상단의 wikidocs 책을 바탕으로 했음을 밝힌다.!!"
   ]
  },
  {
   "cell_type": "code",
   "execution_count": null,
   "metadata": {},
   "outputs": [],
   "source": []
  }
 ],
 "metadata": {
  "kernelspec": {
   "display_name": "Python 3",
   "language": "python",
   "name": "python3"
  },
  "language_info": {
   "codemirror_mode": {
    "name": "ipython",
    "version": 3
   },
   "file_extension": ".py",
   "mimetype": "text/x-python",
   "name": "python",
   "nbconvert_exporter": "python",
   "pygments_lexer": "ipython3",
   "version": "3.7.3"
  }
 },
 "nbformat": 4,
 "nbformat_minor": 4
}
